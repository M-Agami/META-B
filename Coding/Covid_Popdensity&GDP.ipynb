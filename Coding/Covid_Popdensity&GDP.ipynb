{
 "cells": [
  {
   "cell_type": "code",
   "execution_count": 1,
   "metadata": {},
   "outputs": [],
   "source": [
    "import os\n",
    "import pandas as pd\n",
    "from scipy.stats import linregress\n",
    "import scipy as sts\n",
    "import scipy.stats as st\n",
    "import seaborn as sns\n",
    "import numpy as np\n",
    "import pylab as pl\n",
    "import plotly.express as px\n",
    "import matplotlib.pyplot as plt\n",
    "import matplotlib.dates as mdates\n",
    "import matplotlib.cbook as cbook\n",
    "from matplotlib.ticker import FuncFormatter\n",
    "import datetime as datetime\n",
    "import gmaps\n",
    "import requests\n",
    "import json\n",
    "%matplotlib notebook"
   ]
  },
  {
   "cell_type": "code",
   "execution_count": 10,
   "metadata": {},
   "outputs": [
    {
     "data": {
      "text/html": [
       "<div>\n",
       "<style scoped>\n",
       "    .dataframe tbody tr th:only-of-type {\n",
       "        vertical-align: middle;\n",
       "    }\n",
       "\n",
       "    .dataframe tbody tr th {\n",
       "        vertical-align: top;\n",
       "    }\n",
       "\n",
       "    .dataframe thead th {\n",
       "        text-align: right;\n",
       "    }\n",
       "</style>\n",
       "<table border=\"1\" class=\"dataframe\">\n",
       "  <thead>\n",
       "    <tr style=\"text-align: right;\">\n",
       "      <th></th>\n",
       "      <th>Continent</th>\n",
       "      <th>Country</th>\n",
       "      <th>Date</th>\n",
       "      <th>Total Cases</th>\n",
       "      <th>New Cases</th>\n",
       "      <th>Total Deaths Per Million</th>\n",
       "      <th>Total Test Per Thousands</th>\n",
       "      <th>Stringency Index</th>\n",
       "      <th>Population Density</th>\n",
       "      <th>Aged 65 or older</th>\n",
       "      <th>GDP Per Capita</th>\n",
       "      <th>Covid Death Rate</th>\n",
       "    </tr>\n",
       "  </thead>\n",
       "  <tbody>\n",
       "    <tr>\n",
       "      <th>0</th>\n",
       "      <td>Asia</td>\n",
       "      <td>Afghanistan</td>\n",
       "      <td>2019-12-31</td>\n",
       "      <td>0.0</td>\n",
       "      <td>0.0</td>\n",
       "      <td>0.0</td>\n",
       "      <td>NaN</td>\n",
       "      <td>NaN</td>\n",
       "      <td>54.422</td>\n",
       "      <td>2.581</td>\n",
       "      <td>1803.987</td>\n",
       "      <td>597.029</td>\n",
       "    </tr>\n",
       "    <tr>\n",
       "      <th>1</th>\n",
       "      <td>Asia</td>\n",
       "      <td>Afghanistan</td>\n",
       "      <td>2020-01-01</td>\n",
       "      <td>0.0</td>\n",
       "      <td>0.0</td>\n",
       "      <td>0.0</td>\n",
       "      <td>NaN</td>\n",
       "      <td>0.0</td>\n",
       "      <td>54.422</td>\n",
       "      <td>2.581</td>\n",
       "      <td>1803.987</td>\n",
       "      <td>597.029</td>\n",
       "    </tr>\n",
       "    <tr>\n",
       "      <th>2</th>\n",
       "      <td>Asia</td>\n",
       "      <td>Afghanistan</td>\n",
       "      <td>2020-01-02</td>\n",
       "      <td>0.0</td>\n",
       "      <td>0.0</td>\n",
       "      <td>0.0</td>\n",
       "      <td>NaN</td>\n",
       "      <td>0.0</td>\n",
       "      <td>54.422</td>\n",
       "      <td>2.581</td>\n",
       "      <td>1803.987</td>\n",
       "      <td>597.029</td>\n",
       "    </tr>\n",
       "    <tr>\n",
       "      <th>3</th>\n",
       "      <td>Asia</td>\n",
       "      <td>Afghanistan</td>\n",
       "      <td>2020-01-03</td>\n",
       "      <td>0.0</td>\n",
       "      <td>0.0</td>\n",
       "      <td>0.0</td>\n",
       "      <td>NaN</td>\n",
       "      <td>0.0</td>\n",
       "      <td>54.422</td>\n",
       "      <td>2.581</td>\n",
       "      <td>1803.987</td>\n",
       "      <td>597.029</td>\n",
       "    </tr>\n",
       "    <tr>\n",
       "      <th>4</th>\n",
       "      <td>Asia</td>\n",
       "      <td>Afghanistan</td>\n",
       "      <td>2020-01-04</td>\n",
       "      <td>0.0</td>\n",
       "      <td>0.0</td>\n",
       "      <td>0.0</td>\n",
       "      <td>NaN</td>\n",
       "      <td>0.0</td>\n",
       "      <td>54.422</td>\n",
       "      <td>2.581</td>\n",
       "      <td>1803.987</td>\n",
       "      <td>597.029</td>\n",
       "    </tr>\n",
       "  </tbody>\n",
       "</table>\n",
       "</div>"
      ],
      "text/plain": [
       "  Continent      Country        Date  Total Cases  New Cases  \\\n",
       "0      Asia  Afghanistan  2019-12-31          0.0        0.0   \n",
       "1      Asia  Afghanistan  2020-01-01          0.0        0.0   \n",
       "2      Asia  Afghanistan  2020-01-02          0.0        0.0   \n",
       "3      Asia  Afghanistan  2020-01-03          0.0        0.0   \n",
       "4      Asia  Afghanistan  2020-01-04          0.0        0.0   \n",
       "\n",
       "   Total Deaths Per Million  Total Test Per Thousands  Stringency Index  \\\n",
       "0                       0.0                       NaN               NaN   \n",
       "1                       0.0                       NaN               0.0   \n",
       "2                       0.0                       NaN               0.0   \n",
       "3                       0.0                       NaN               0.0   \n",
       "4                       0.0                       NaN               0.0   \n",
       "\n",
       "   Population Density  Aged 65 or older  GDP Per Capita  Covid Death Rate  \n",
       "0              54.422             2.581        1803.987           597.029  \n",
       "1              54.422             2.581        1803.987           597.029  \n",
       "2              54.422             2.581        1803.987           597.029  \n",
       "3              54.422             2.581        1803.987           597.029  \n",
       "4              54.422             2.581        1803.987           597.029  "
      ]
     },
     "execution_count": 10,
     "metadata": {},
     "output_type": "execute_result"
    }
   ],
   "source": [
    "world_df= pd.read_csv(\"../Resources/owid-covid-data.csv\")\n",
    "\n",
    "\n",
    "updated_world_df=world_df.drop([\"iso_code\",\"new_deaths_per_million\",\"total_tests\",\"new_tests\",\n",
    "                                \"new_tests_smoothed_per_thousand\",\"population\",\"median_age\",\"aged_70_older\",\n",
    "                                \"extreme_poverty\",\"diabetes_prevalence\",\"female_smokers\",\"male_smokers\",\n",
    "                               \"handwashing_facilities\",\"hospital_beds_per_thousand\",\"life_expectancy\",\n",
    "                               \"new_tests_smoothed\",\"new_tests_per_thousand\",\"tests_units\",\"total_deaths\",\n",
    "                               \"new_deaths\",\"total_cases_per_million\",\"new_cases_per_million\"], axis=1)\n",
    "\n",
    "updated_world_df=updated_world_dfupdated_world_df=updated_world_df.rename(columns={\"location\":\"Country\", \"continent\":\"Continent\",\"date\":\"Date\",\n",
    "                                                                                   \"total_cases\":\"Total Cases\", \"new_cases\":\"New Cases\",\n",
    "                                                                                   \"total_cases_per_million\": \"Total Cases Per Million\",\n",
    "                                                                                   \"total_deaths_per_million\":\"Total Deaths Per Million\",\n",
    "                                                                                   \"total_tests_per_thousand\":\"Total Test Per Thousands\",\n",
    "                                                                                   \"population_density\":\"Population Density\",\"aged_65_older\":\"Aged 65 or older\",\n",
    "                                                                                   \"gdp_per_capita\":\"GDP Per Capita\",\"cvd_death_rate\":\"Covid Death Rate\",\n",
    "                                                                                   \"stringency_index\":\"Stringency Index\"})\n",
    "\n",
    "updated_world_df.head()"
   ]
  },
  {
   "cell_type": "code",
   "execution_count": 11,
   "metadata": {},
   "outputs": [
    {
     "data": {
      "text/html": [
       "<div>\n",
       "<style scoped>\n",
       "    .dataframe tbody tr th:only-of-type {\n",
       "        vertical-align: middle;\n",
       "    }\n",
       "\n",
       "    .dataframe tbody tr th {\n",
       "        vertical-align: top;\n",
       "    }\n",
       "\n",
       "    .dataframe thead th {\n",
       "        text-align: right;\n",
       "    }\n",
       "</style>\n",
       "<table border=\"1\" class=\"dataframe\">\n",
       "  <thead>\n",
       "    <tr style=\"text-align: right;\">\n",
       "      <th></th>\n",
       "      <th>Country</th>\n",
       "      <th>Hospital Beds (per 10K people)</th>\n",
       "    </tr>\n",
       "  </thead>\n",
       "  <tbody>\n",
       "    <tr>\n",
       "      <th>0</th>\n",
       "      <td>Afghanistan</td>\n",
       "      <td>5</td>\n",
       "    </tr>\n",
       "    <tr>\n",
       "      <th>16</th>\n",
       "      <td>Albania</td>\n",
       "      <td>29</td>\n",
       "    </tr>\n",
       "    <tr>\n",
       "      <th>29</th>\n",
       "      <td>Algeria</td>\n",
       "      <td>19</td>\n",
       "    </tr>\n",
       "    <tr>\n",
       "      <th>31</th>\n",
       "      <td>Angola</td>\n",
       "      <td>8</td>\n",
       "    </tr>\n",
       "    <tr>\n",
       "      <th>32</th>\n",
       "      <td>Antigua and Barbuda</td>\n",
       "      <td>38</td>\n",
       "    </tr>\n",
       "  </tbody>\n",
       "</table>\n",
       "</div>"
      ],
      "text/plain": [
       "                Country  Hospital Beds (per 10K people)\n",
       "0           Afghanistan                               5\n",
       "16              Albania                              29\n",
       "29              Algeria                              19\n",
       "31               Angola                               8\n",
       "32  Antigua and Barbuda                              38"
      ]
     },
     "execution_count": 11,
     "metadata": {},
     "output_type": "execute_result"
    }
   ],
   "source": [
    "#Number Hospital Beds is based on the lastest year per Country\n",
    "\n",
    "data = pd.read_csv(\"../Resources/data.csv\")\n",
    "\n",
    "who_df = data.iloc[data.groupby(\"Country\")[\"Year\"].agg(pd.Series.idxmax)]\n",
    "who_df.reset_index(drop=True).set_index(\"Country\")\n",
    "who_df=who_df.rename(columns={\"Hospital beds (per 10 000 population)\":\"Hospital Beds (per 10K people)\"})\n",
    "hospital_beds_df=who_df.drop([\"Year\"], axis=1)\n",
    "\n",
    "hospital_beds_df.head()"
   ]
  },
  {
   "cell_type": "code",
   "execution_count": 12,
   "metadata": {},
   "outputs": [
    {
     "data": {
      "text/html": [
       "<div>\n",
       "<style scoped>\n",
       "    .dataframe tbody tr th:only-of-type {\n",
       "        vertical-align: middle;\n",
       "    }\n",
       "\n",
       "    .dataframe tbody tr th {\n",
       "        vertical-align: top;\n",
       "    }\n",
       "\n",
       "    .dataframe thead th {\n",
       "        text-align: right;\n",
       "    }\n",
       "</style>\n",
       "<table border=\"1\" class=\"dataframe\">\n",
       "  <thead>\n",
       "    <tr style=\"text-align: right;\">\n",
       "      <th></th>\n",
       "      <th>Country</th>\n",
       "      <th>Smoking Percetage</th>\n",
       "    </tr>\n",
       "  </thead>\n",
       "  <tbody>\n",
       "    <tr>\n",
       "      <th>1</th>\n",
       "      <td>Albania</td>\n",
       "      <td>11.20</td>\n",
       "    </tr>\n",
       "    <tr>\n",
       "      <th>7</th>\n",
       "      <td>Algeria</td>\n",
       "      <td>15.20</td>\n",
       "    </tr>\n",
       "    <tr>\n",
       "      <th>13</th>\n",
       "      <td>Andorra</td>\n",
       "      <td>21.40</td>\n",
       "    </tr>\n",
       "    <tr>\n",
       "      <th>19</th>\n",
       "      <td>Argentina</td>\n",
       "      <td>31.40</td>\n",
       "    </tr>\n",
       "    <tr>\n",
       "      <th>25</th>\n",
       "      <td>Armenia</td>\n",
       "      <td>6.00</td>\n",
       "    </tr>\n",
       "  </tbody>\n",
       "</table>\n",
       "</div>"
      ],
      "text/plain": [
       "      Country Smoking Percetage\n",
       "1     Albania            11.20 \n",
       "7     Algeria            15.20 \n",
       "13    Andorra            21.40 \n",
       "19  Argentina            31.40 \n",
       "25    Armenia             6.00 "
      ]
     },
     "execution_count": 12,
     "metadata": {},
     "output_type": "execute_result"
    }
   ],
   "source": [
    "#Smoking Percentage is based on the lastest year per Country\n",
    "\n",
    "smokingdata = pd.read_csv(\"../Resources/smokingdata.csv\")\n",
    "\n",
    "smokingdata_df = smokingdata.iloc[smokingdata.groupby(\"Country\")[\"Year\"].agg(pd.Series.idxmax)]\n",
    "\n",
    "clean_smoking_data = smokingdata_df.drop([\"Estimate of current cigarette smoking prevalence (%).1\", \"Estimate of current cigarette smoking prevalence (%).2\", \n",
    "                                       \"Estimate of current tobacco smoking prevalence (%)\", \"Estimate of current tobacco smoking prevalence (%).1\", \n",
    "                                       \"Estimate of current tobacco smoking prevalence (%).2\", \"Estimate of current tobacco use prevalence (%)\", \n",
    "                                       \"Estimate of current tobacco use prevalence (%).1\", \"Estimate of current tobacco use prevalence (%).2\"], axis=1)\n",
    "\n",
    " \n",
    "clean_smoking_data=clean_smoking_data.rename(columns={\"Estimate of current cigarette smoking prevalence (%)\":\"Smoking Prevalence (%)\"})\n",
    "smoking_data = clean_smoking_data\n",
    "smoking_prevalence=list(smoking_data[\"Smoking Prevalence (%)\"])\n",
    "smoking_percentage=[]\n",
    "\n",
    "for x in smoking_prevalence:\n",
    "    y=x.split(\"[\")\n",
    "    smoking_percentage.append(y[0])\n",
    "    \n",
    "\n",
    "    \n",
    "column_values = pd.Series(smoking_percentage)\n",
    "smoking_data.insert(loc=2, column=\"Smoking Percetage\", value=column_values)\n",
    "smoking_year_df=smoking_data.drop([\"Smoking Prevalence (%)\"], axis=1)\n",
    "\n",
    "smoking_df=smoking_year_df.drop([\"Year\"], axis=1)\n",
    "\n",
    "smoking_df.head()"
   ]
  },
  {
   "cell_type": "code",
   "execution_count": 13,
   "metadata": {},
   "outputs": [
    {
     "data": {
      "text/html": [
       "<div>\n",
       "<style scoped>\n",
       "    .dataframe tbody tr th:only-of-type {\n",
       "        vertical-align: middle;\n",
       "    }\n",
       "\n",
       "    .dataframe tbody tr th {\n",
       "        vertical-align: top;\n",
       "    }\n",
       "\n",
       "    .dataframe thead th {\n",
       "        text-align: right;\n",
       "    }\n",
       "</style>\n",
       "<table border=\"1\" class=\"dataframe\">\n",
       "  <thead>\n",
       "    <tr style=\"text-align: right;\">\n",
       "      <th></th>\n",
       "      <th>Country</th>\n",
       "      <th>School Status</th>\n",
       "      <th>Latitude</th>\n",
       "      <th>Longitude</th>\n",
       "      <th>Income Level</th>\n",
       "    </tr>\n",
       "  </thead>\n",
       "  <tbody>\n",
       "    <tr>\n",
       "      <th>0</th>\n",
       "      <td>Eritrea</td>\n",
       "      <td>Closed</td>\n",
       "      <td>15.9820</td>\n",
       "      <td>38.0200</td>\n",
       "      <td>Low income</td>\n",
       "    </tr>\n",
       "    <tr>\n",
       "      <th>1</th>\n",
       "      <td>Guinea-Bissau</td>\n",
       "      <td>Closed</td>\n",
       "      <td>12.1910</td>\n",
       "      <td>-14.4750</td>\n",
       "      <td>Low income</td>\n",
       "    </tr>\n",
       "    <tr>\n",
       "      <th>2</th>\n",
       "      <td>San Marino</td>\n",
       "      <td>Closed</td>\n",
       "      <td>43.9420</td>\n",
       "      <td>12.4611</td>\n",
       "      <td>High income</td>\n",
       "    </tr>\n",
       "    <tr>\n",
       "      <th>3</th>\n",
       "      <td>Georgia</td>\n",
       "      <td>Closed</td>\n",
       "      <td>42.0500</td>\n",
       "      <td>43.5760</td>\n",
       "      <td>Upper middle income</td>\n",
       "    </tr>\n",
       "    <tr>\n",
       "      <th>4</th>\n",
       "      <td>Italy</td>\n",
       "      <td>Closed</td>\n",
       "      <td>44.3713</td>\n",
       "      <td>11.1084</td>\n",
       "      <td>High income</td>\n",
       "    </tr>\n",
       "  </tbody>\n",
       "</table>\n",
       "</div>"
      ],
      "text/plain": [
       "         Country School Status  Latitude  Longitude         Income Level\n",
       "0        Eritrea        Closed   15.9820    38.0200           Low income\n",
       "1  Guinea-Bissau        Closed   12.1910   -14.4750           Low income\n",
       "2     San Marino        Closed   43.9420    12.4611          High income\n",
       "3        Georgia        Closed   42.0500    43.5760  Upper middle income\n",
       "4          Italy        Closed   44.3713    11.1084          High income"
      ]
     },
     "execution_count": 13,
     "metadata": {},
     "output_type": "execute_result"
    }
   ],
   "source": [
    "world_df=pd.read_csv(\"../Resources/dsh_simple.csv\")\n",
    "\n",
    "world_df=world_df[[\"Countryname\",\"IfclosedduetoCOVID19whend\",\"Statusof Schoolsaresomeall (copy) (group)\",\n",
    "          \"Latitude (generated)\",\"Longitude (generated)\",\"Incomelevelname\"]]\n",
    "\n",
    "income_level_df=world_df.rename(columns={\"Countryname\":\"Country\", \"Latitude (generated)\":\"Latitude\", \n",
    "                      \"Longitude (generated)\": \"Longitude\", \"Incomelevelname\": \"Income Level\",\n",
    "                        \"Statusof Schoolsaresomeall (copy) (group)\":\"School Status\"})\n",
    "income_df=income_level_df.drop([\"IfclosedduetoCOVID19whend\"], axis =1)\n",
    "\n",
    "income_df.head()"
   ]
  },
  {
   "cell_type": "code",
   "execution_count": 14,
   "metadata": {},
   "outputs": [
    {
     "data": {
      "text/html": [
       "<div>\n",
       "<style scoped>\n",
       "    .dataframe tbody tr th:only-of-type {\n",
       "        vertical-align: middle;\n",
       "    }\n",
       "\n",
       "    .dataframe tbody tr th {\n",
       "        vertical-align: top;\n",
       "    }\n",
       "\n",
       "    .dataframe thead th {\n",
       "        text-align: right;\n",
       "    }\n",
       "</style>\n",
       "<table border=\"1\" class=\"dataframe\">\n",
       "  <thead>\n",
       "    <tr style=\"text-align: right;\">\n",
       "      <th></th>\n",
       "      <th>Continent</th>\n",
       "      <th>Country</th>\n",
       "      <th>Date</th>\n",
       "      <th>Total Cases</th>\n",
       "      <th>New Cases</th>\n",
       "      <th>Total Deaths Per Million</th>\n",
       "      <th>Total Test Per Thousands</th>\n",
       "      <th>Stringency Index</th>\n",
       "      <th>Population Density</th>\n",
       "      <th>Aged 65 or older</th>\n",
       "      <th>GDP Per Capita</th>\n",
       "      <th>Covid Death Rate</th>\n",
       "      <th>Hospital Beds (per 10K people)</th>\n",
       "      <th>Smoking Percetage</th>\n",
       "      <th>School Status</th>\n",
       "      <th>Latitude</th>\n",
       "      <th>Longitude</th>\n",
       "      <th>Income Level</th>\n",
       "    </tr>\n",
       "  </thead>\n",
       "  <tbody>\n",
       "    <tr>\n",
       "      <th>0</th>\n",
       "      <td>Asia</td>\n",
       "      <td>Afghanistan</td>\n",
       "      <td>2019-12-31</td>\n",
       "      <td>0.0</td>\n",
       "      <td>0.0</td>\n",
       "      <td>0.0</td>\n",
       "      <td>NaN</td>\n",
       "      <td>NaN</td>\n",
       "      <td>54.422</td>\n",
       "      <td>2.581</td>\n",
       "      <td>1803.987</td>\n",
       "      <td>597.029</td>\n",
       "      <td>5.0</td>\n",
       "      <td>NaN</td>\n",
       "      <td>Closed</td>\n",
       "      <td>34.023</td>\n",
       "      <td>65.5267</td>\n",
       "      <td>Low income</td>\n",
       "    </tr>\n",
       "    <tr>\n",
       "      <th>1</th>\n",
       "      <td>Asia</td>\n",
       "      <td>Afghanistan</td>\n",
       "      <td>2020-01-01</td>\n",
       "      <td>0.0</td>\n",
       "      <td>0.0</td>\n",
       "      <td>0.0</td>\n",
       "      <td>NaN</td>\n",
       "      <td>0.0</td>\n",
       "      <td>54.422</td>\n",
       "      <td>2.581</td>\n",
       "      <td>1803.987</td>\n",
       "      <td>597.029</td>\n",
       "      <td>5.0</td>\n",
       "      <td>NaN</td>\n",
       "      <td>Closed</td>\n",
       "      <td>34.023</td>\n",
       "      <td>65.5267</td>\n",
       "      <td>Low income</td>\n",
       "    </tr>\n",
       "    <tr>\n",
       "      <th>2</th>\n",
       "      <td>Asia</td>\n",
       "      <td>Afghanistan</td>\n",
       "      <td>2020-01-02</td>\n",
       "      <td>0.0</td>\n",
       "      <td>0.0</td>\n",
       "      <td>0.0</td>\n",
       "      <td>NaN</td>\n",
       "      <td>0.0</td>\n",
       "      <td>54.422</td>\n",
       "      <td>2.581</td>\n",
       "      <td>1803.987</td>\n",
       "      <td>597.029</td>\n",
       "      <td>5.0</td>\n",
       "      <td>NaN</td>\n",
       "      <td>Closed</td>\n",
       "      <td>34.023</td>\n",
       "      <td>65.5267</td>\n",
       "      <td>Low income</td>\n",
       "    </tr>\n",
       "    <tr>\n",
       "      <th>3</th>\n",
       "      <td>Asia</td>\n",
       "      <td>Afghanistan</td>\n",
       "      <td>2020-01-03</td>\n",
       "      <td>0.0</td>\n",
       "      <td>0.0</td>\n",
       "      <td>0.0</td>\n",
       "      <td>NaN</td>\n",
       "      <td>0.0</td>\n",
       "      <td>54.422</td>\n",
       "      <td>2.581</td>\n",
       "      <td>1803.987</td>\n",
       "      <td>597.029</td>\n",
       "      <td>5.0</td>\n",
       "      <td>NaN</td>\n",
       "      <td>Closed</td>\n",
       "      <td>34.023</td>\n",
       "      <td>65.5267</td>\n",
       "      <td>Low income</td>\n",
       "    </tr>\n",
       "    <tr>\n",
       "      <th>4</th>\n",
       "      <td>Asia</td>\n",
       "      <td>Afghanistan</td>\n",
       "      <td>2020-01-04</td>\n",
       "      <td>0.0</td>\n",
       "      <td>0.0</td>\n",
       "      <td>0.0</td>\n",
       "      <td>NaN</td>\n",
       "      <td>0.0</td>\n",
       "      <td>54.422</td>\n",
       "      <td>2.581</td>\n",
       "      <td>1803.987</td>\n",
       "      <td>597.029</td>\n",
       "      <td>5.0</td>\n",
       "      <td>NaN</td>\n",
       "      <td>Closed</td>\n",
       "      <td>34.023</td>\n",
       "      <td>65.5267</td>\n",
       "      <td>Low income</td>\n",
       "    </tr>\n",
       "  </tbody>\n",
       "</table>\n",
       "</div>"
      ],
      "text/plain": [
       "  Continent      Country        Date  Total Cases  New Cases  \\\n",
       "0      Asia  Afghanistan  2019-12-31          0.0        0.0   \n",
       "1      Asia  Afghanistan  2020-01-01          0.0        0.0   \n",
       "2      Asia  Afghanistan  2020-01-02          0.0        0.0   \n",
       "3      Asia  Afghanistan  2020-01-03          0.0        0.0   \n",
       "4      Asia  Afghanistan  2020-01-04          0.0        0.0   \n",
       "\n",
       "   Total Deaths Per Million  Total Test Per Thousands  Stringency Index  \\\n",
       "0                       0.0                       NaN               NaN   \n",
       "1                       0.0                       NaN               0.0   \n",
       "2                       0.0                       NaN               0.0   \n",
       "3                       0.0                       NaN               0.0   \n",
       "4                       0.0                       NaN               0.0   \n",
       "\n",
       "   Population Density  Aged 65 or older  GDP Per Capita  Covid Death Rate  \\\n",
       "0              54.422             2.581        1803.987           597.029   \n",
       "1              54.422             2.581        1803.987           597.029   \n",
       "2              54.422             2.581        1803.987           597.029   \n",
       "3              54.422             2.581        1803.987           597.029   \n",
       "4              54.422             2.581        1803.987           597.029   \n",
       "\n",
       "   Hospital Beds (per 10K people) Smoking Percetage School Status  Latitude  \\\n",
       "0                             5.0               NaN        Closed    34.023   \n",
       "1                             5.0               NaN        Closed    34.023   \n",
       "2                             5.0               NaN        Closed    34.023   \n",
       "3                             5.0               NaN        Closed    34.023   \n",
       "4                             5.0               NaN        Closed    34.023   \n",
       "\n",
       "   Longitude Income Level  \n",
       "0    65.5267   Low income  \n",
       "1    65.5267   Low income  \n",
       "2    65.5267   Low income  \n",
       "3    65.5267   Low income  \n",
       "4    65.5267   Low income  "
      ]
     },
     "execution_count": 14,
     "metadata": {},
     "output_type": "execute_result"
    }
   ],
   "source": [
    "combined_df=pd.merge(updated_world_df,hospital_beds_df,on=\"Country\",how=\"left\").merge(smoking_df,on=\"Country\",how=\"left\" ).merge(income_df,on=\"Country\",how=\"left\")\n",
    "\n",
    "combined_df.head()"
   ]
  },
  {
   "cell_type": "code",
   "execution_count": 7,
   "metadata": {
    "scrolled": true
   },
   "outputs": [
    {
     "data": {
      "text/html": [
       "<div>\n",
       "<style scoped>\n",
       "    .dataframe tbody tr th:only-of-type {\n",
       "        vertical-align: middle;\n",
       "    }\n",
       "\n",
       "    .dataframe tbody tr th {\n",
       "        vertical-align: top;\n",
       "    }\n",
       "\n",
       "    .dataframe thead th {\n",
       "        text-align: right;\n",
       "    }\n",
       "</style>\n",
       "<table border=\"1\" class=\"dataframe\">\n",
       "  <thead>\n",
       "    <tr style=\"text-align: right;\">\n",
       "      <th></th>\n",
       "      <th>Country</th>\n",
       "      <th>Total Deaths Per Million</th>\n",
       "      <th>Income Level</th>\n",
       "      <th>Continent</th>\n",
       "      <th>GDP Per Capita</th>\n",
       "      <th>Population Density</th>\n",
       "      <th>Country Income Level</th>\n",
       "    </tr>\n",
       "  </thead>\n",
       "  <tbody>\n",
       "    <tr>\n",
       "      <th>0</th>\n",
       "      <td>Afghanistan</td>\n",
       "      <td>14.925</td>\n",
       "      <td>[Low income]</td>\n",
       "      <td>Asia</td>\n",
       "      <td>1803.987</td>\n",
       "      <td>54.422</td>\n",
       "      <td>Low income</td>\n",
       "    </tr>\n",
       "    <tr>\n",
       "      <th>1</th>\n",
       "      <td>Albania</td>\n",
       "      <td>15.289</td>\n",
       "      <td>[Upper middle income]</td>\n",
       "      <td>Europe</td>\n",
       "      <td>11803.431</td>\n",
       "      <td>104.871</td>\n",
       "      <td>Upper middle income</td>\n",
       "    </tr>\n",
       "    <tr>\n",
       "      <th>2</th>\n",
       "      <td>Algeria</td>\n",
       "      <td>19.270</td>\n",
       "      <td>[Upper middle income]</td>\n",
       "      <td>Africa</td>\n",
       "      <td>13913.839</td>\n",
       "      <td>17.348</td>\n",
       "      <td>Upper middle income</td>\n",
       "    </tr>\n",
       "    <tr>\n",
       "      <th>3</th>\n",
       "      <td>Angola</td>\n",
       "      <td>0.274</td>\n",
       "      <td>[Lower middle income]</td>\n",
       "      <td>Africa</td>\n",
       "      <td>5819.495</td>\n",
       "      <td>23.890</td>\n",
       "      <td>Lower middle income</td>\n",
       "    </tr>\n",
       "    <tr>\n",
       "      <th>4</th>\n",
       "      <td>Antigua and Barbuda</td>\n",
       "      <td>30.635</td>\n",
       "      <td>[High income]</td>\n",
       "      <td>North America</td>\n",
       "      <td>21490.943</td>\n",
       "      <td>231.845</td>\n",
       "      <td>High income</td>\n",
       "    </tr>\n",
       "    <tr>\n",
       "      <th>5</th>\n",
       "      <td>Argentina</td>\n",
       "      <td>22.369</td>\n",
       "      <td>[Upper middle income]</td>\n",
       "      <td>South America</td>\n",
       "      <td>18933.907</td>\n",
       "      <td>16.177</td>\n",
       "      <td>Upper middle income</td>\n",
       "    </tr>\n",
       "    <tr>\n",
       "      <th>6</th>\n",
       "      <td>Armenia</td>\n",
       "      <td>121.489</td>\n",
       "      <td>[Upper middle income]</td>\n",
       "      <td>Asia</td>\n",
       "      <td>8787.580</td>\n",
       "      <td>102.931</td>\n",
       "      <td>Upper middle income</td>\n",
       "    </tr>\n",
       "    <tr>\n",
       "      <th>7</th>\n",
       "      <td>Aruba</td>\n",
       "      <td>28.099</td>\n",
       "      <td>[High income]</td>\n",
       "      <td>North America</td>\n",
       "      <td>35973.781</td>\n",
       "      <td>584.800</td>\n",
       "      <td>High income</td>\n",
       "    </tr>\n",
       "    <tr>\n",
       "      <th>8</th>\n",
       "      <td>Australia</td>\n",
       "      <td>4.000</td>\n",
       "      <td>[High income]</td>\n",
       "      <td>Oceania</td>\n",
       "      <td>44648.710</td>\n",
       "      <td>3.202</td>\n",
       "      <td>High income</td>\n",
       "    </tr>\n",
       "    <tr>\n",
       "      <th>9</th>\n",
       "      <td>Austria</td>\n",
       "      <td>76.612</td>\n",
       "      <td>[High income]</td>\n",
       "      <td>Europe</td>\n",
       "      <td>45436.686</td>\n",
       "      <td>106.749</td>\n",
       "      <td>High income</td>\n",
       "    </tr>\n",
       "    <tr>\n",
       "      <th>10</th>\n",
       "      <td>Azerbaijan</td>\n",
       "      <td>15.189</td>\n",
       "      <td>[Upper middle income]</td>\n",
       "      <td>Asia</td>\n",
       "      <td>15847.419</td>\n",
       "      <td>119.309</td>\n",
       "      <td>Upper middle income</td>\n",
       "    </tr>\n",
       "    <tr>\n",
       "      <th>11</th>\n",
       "      <td>Bahrain</td>\n",
       "      <td>37.024</td>\n",
       "      <td>[High income]</td>\n",
       "      <td>Asia</td>\n",
       "      <td>43290.705</td>\n",
       "      <td>1935.907</td>\n",
       "      <td>High income</td>\n",
       "    </tr>\n",
       "    <tr>\n",
       "      <th>12</th>\n",
       "      <td>Bangladesh</td>\n",
       "      <td>8.889</td>\n",
       "      <td>[Lower middle income]</td>\n",
       "      <td>Asia</td>\n",
       "      <td>3523.984</td>\n",
       "      <td>1265.036</td>\n",
       "      <td>Lower middle income</td>\n",
       "    </tr>\n",
       "    <tr>\n",
       "      <th>13</th>\n",
       "      <td>Barbados</td>\n",
       "      <td>24.359</td>\n",
       "      <td>[High income]</td>\n",
       "      <td>North America</td>\n",
       "      <td>16978.068</td>\n",
       "      <td>664.463</td>\n",
       "      <td>High income</td>\n",
       "    </tr>\n",
       "    <tr>\n",
       "      <th>14</th>\n",
       "      <td>Belarus</td>\n",
       "      <td>36.616</td>\n",
       "      <td>[Upper middle income]</td>\n",
       "      <td>Europe</td>\n",
       "      <td>17167.967</td>\n",
       "      <td>46.858</td>\n",
       "      <td>Upper middle income</td>\n",
       "    </tr>\n",
       "    <tr>\n",
       "      <th>15</th>\n",
       "      <td>Belgium</td>\n",
       "      <td>836.611</td>\n",
       "      <td>[High income]</td>\n",
       "      <td>Europe</td>\n",
       "      <td>42658.576</td>\n",
       "      <td>375.564</td>\n",
       "      <td>High income</td>\n",
       "    </tr>\n",
       "    <tr>\n",
       "      <th>16</th>\n",
       "      <td>Belize</td>\n",
       "      <td>5.030</td>\n",
       "      <td>[Upper middle income]</td>\n",
       "      <td>North America</td>\n",
       "      <td>7824.362</td>\n",
       "      <td>16.426</td>\n",
       "      <td>Upper middle income</td>\n",
       "    </tr>\n",
       "    <tr>\n",
       "      <th>17</th>\n",
       "      <td>Benin</td>\n",
       "      <td>1.072</td>\n",
       "      <td>[Low income]</td>\n",
       "      <td>Africa</td>\n",
       "      <td>2064.236</td>\n",
       "      <td>99.110</td>\n",
       "      <td>Low income</td>\n",
       "    </tr>\n",
       "    <tr>\n",
       "      <th>18</th>\n",
       "      <td>Bermuda</td>\n",
       "      <td>144.525</td>\n",
       "      <td>[High income]</td>\n",
       "      <td>North America</td>\n",
       "      <td>50669.315</td>\n",
       "      <td>1308.820</td>\n",
       "      <td>High income</td>\n",
       "    </tr>\n",
       "    <tr>\n",
       "      <th>19</th>\n",
       "      <td>Bhutan</td>\n",
       "      <td>0.000</td>\n",
       "      <td>[Lower middle income]</td>\n",
       "      <td>Asia</td>\n",
       "      <td>8708.597</td>\n",
       "      <td>21.188</td>\n",
       "      <td>Lower middle income</td>\n",
       "    </tr>\n",
       "  </tbody>\n",
       "</table>\n",
       "</div>"
      ],
      "text/plain": [
       "                Country  Total Deaths Per Million           Income Level  \\\n",
       "0           Afghanistan                    14.925           [Low income]   \n",
       "1               Albania                    15.289  [Upper middle income]   \n",
       "2               Algeria                    19.270  [Upper middle income]   \n",
       "3                Angola                     0.274  [Lower middle income]   \n",
       "4   Antigua and Barbuda                    30.635          [High income]   \n",
       "5             Argentina                    22.369  [Upper middle income]   \n",
       "6               Armenia                   121.489  [Upper middle income]   \n",
       "7                 Aruba                    28.099          [High income]   \n",
       "8             Australia                     4.000          [High income]   \n",
       "9               Austria                    76.612          [High income]   \n",
       "10           Azerbaijan                    15.189  [Upper middle income]   \n",
       "11              Bahrain                    37.024          [High income]   \n",
       "12           Bangladesh                     8.889  [Lower middle income]   \n",
       "13             Barbados                    24.359          [High income]   \n",
       "14              Belarus                    36.616  [Upper middle income]   \n",
       "15              Belgium                   836.611          [High income]   \n",
       "16               Belize                     5.030  [Upper middle income]   \n",
       "17                Benin                     1.072           [Low income]   \n",
       "18              Bermuda                   144.525          [High income]   \n",
       "19               Bhutan                     0.000  [Lower middle income]   \n",
       "\n",
       "        Continent  GDP Per Capita  Population Density Country Income Level  \n",
       "0            Asia        1803.987              54.422           Low income  \n",
       "1          Europe       11803.431             104.871  Upper middle income  \n",
       "2          Africa       13913.839              17.348  Upper middle income  \n",
       "3          Africa        5819.495              23.890  Lower middle income  \n",
       "4   North America       21490.943             231.845          High income  \n",
       "5   South America       18933.907              16.177  Upper middle income  \n",
       "6            Asia        8787.580             102.931  Upper middle income  \n",
       "7   North America       35973.781             584.800          High income  \n",
       "8         Oceania       44648.710               3.202          High income  \n",
       "9          Europe       45436.686             106.749          High income  \n",
       "10           Asia       15847.419             119.309  Upper middle income  \n",
       "11           Asia       43290.705            1935.907          High income  \n",
       "12           Asia        3523.984            1265.036  Lower middle income  \n",
       "13  North America       16978.068             664.463          High income  \n",
       "14         Europe       17167.967              46.858  Upper middle income  \n",
       "15         Europe       42658.576             375.564          High income  \n",
       "16  North America        7824.362              16.426  Upper middle income  \n",
       "17         Africa        2064.236              99.110           Low income  \n",
       "18  North America       50669.315            1308.820          High income  \n",
       "19           Asia        8708.597              21.188  Lower middle income  "
      ]
     },
     "execution_count": 7,
     "metadata": {},
     "output_type": "execute_result"
    }
   ],
   "source": [
    "#get unique country names & get max total deaths per million/gpd/pop. density for each country\n",
    "#cleaning data\n",
    "max_deaths_country=  combined_df.groupby([\"Country\"]).agg({\"Total Deaths Per Million\": \"max\",\"Income Level\":\"unique\", \"Continent\": \"unique\"})\n",
    "max_pop_country=  combined_df.groupby([\"Country\"]).agg({\"Population Density\": \"max\"})\n",
    "max_gdp_country=  combined_df.groupby([\"Country\"]).agg({\"GDP Per Capita\": \"max\" })\n",
    "income=[]\n",
    "continent=[]\n",
    "max_combined_country = pd.merge(max_deaths_country,max_gdp_country, how= \"outer\", on = 'Country')\n",
    "max_combined_country = pd.merge(max_combined_country,max_pop_country, how = 'outer', on = 'Country')\n",
    "for index, row in max_combined_country.iterrows():\n",
    "    x=row[\"Income Level\"][0]\n",
    "    y=row [\"Continent\"][0]\n",
    "    income.append(x)\n",
    "    continent.append(y)\n",
    "max_combined_country[\"Country Income Level\"]=income\n",
    "max_combined_country[\"Continent\"]=continent\n",
    "max_combined_country_clean=max_combined_country.dropna(how = 'any')\n",
    "max_combined_country_clean=max_combined_country_clean.reset_index()\n",
    "#max_combined_country_clean.sort_values(by=['Country Income Level'], kind= '')********\n",
    "max_combined_country_clean.head(20) \n",
    "\n",
    "#sns.set()\n",
    "#with sns.cubehelix_palette(8, start=.5, rot=-.75,reverse=False):\n",
    "    #plt.figure(figsize=(10,5))\n",
    "    #sns.scatterplot(data= max_combined_country_clean, x=\"GDP Per Capita\",y=\"Total Deaths Per Million\",hue= \"Country Income Level\",alpha =1)\n",
    "    #plt.title(\"GDP per Capita vs Total Deaths per million\")\n",
    "    #plt.xlabel(\"GDP Per capita (Country)\")\n",
    "    #plt.ylabel(\"Total deaths per million\")\n",
    "    #plt.ylim(-5,300)"
   ]
  },
  {
   "cell_type": "code",
   "execution_count": 58,
   "metadata": {},
   "outputs": [
    {
     "data": {
      "application/javascript": [
       "/* Put everything inside the global mpl namespace */\n",
       "window.mpl = {};\n",
       "\n",
       "\n",
       "mpl.get_websocket_type = function() {\n",
       "    if (typeof(WebSocket) !== 'undefined') {\n",
       "        return WebSocket;\n",
       "    } else if (typeof(MozWebSocket) !== 'undefined') {\n",
       "        return MozWebSocket;\n",
       "    } else {\n",
       "        alert('Your browser does not have WebSocket support. ' +\n",
       "              'Please try Chrome, Safari or Firefox ≥ 6. ' +\n",
       "              'Firefox 4 and 5 are also supported but you ' +\n",
       "              'have to enable WebSockets in about:config.');\n",
       "    };\n",
       "}\n",
       "\n",
       "mpl.figure = function(figure_id, websocket, ondownload, parent_element) {\n",
       "    this.id = figure_id;\n",
       "\n",
       "    this.ws = websocket;\n",
       "\n",
       "    this.supports_binary = (this.ws.binaryType != undefined);\n",
       "\n",
       "    if (!this.supports_binary) {\n",
       "        var warnings = document.getElementById(\"mpl-warnings\");\n",
       "        if (warnings) {\n",
       "            warnings.style.display = 'block';\n",
       "            warnings.textContent = (\n",
       "                \"This browser does not support binary websocket messages. \" +\n",
       "                    \"Performance may be slow.\");\n",
       "        }\n",
       "    }\n",
       "\n",
       "    this.imageObj = new Image();\n",
       "\n",
       "    this.context = undefined;\n",
       "    this.message = undefined;\n",
       "    this.canvas = undefined;\n",
       "    this.rubberband_canvas = undefined;\n",
       "    this.rubberband_context = undefined;\n",
       "    this.format_dropdown = undefined;\n",
       "\n",
       "    this.image_mode = 'full';\n",
       "\n",
       "    this.root = $('<div/>');\n",
       "    this._root_extra_style(this.root)\n",
       "    this.root.attr('style', 'display: inline-block');\n",
       "\n",
       "    $(parent_element).append(this.root);\n",
       "\n",
       "    this._init_header(this);\n",
       "    this._init_canvas(this);\n",
       "    this._init_toolbar(this);\n",
       "\n",
       "    var fig = this;\n",
       "\n",
       "    this.waiting = false;\n",
       "\n",
       "    this.ws.onopen =  function () {\n",
       "            fig.send_message(\"supports_binary\", {value: fig.supports_binary});\n",
       "            fig.send_message(\"send_image_mode\", {});\n",
       "            if (mpl.ratio != 1) {\n",
       "                fig.send_message(\"set_dpi_ratio\", {'dpi_ratio': mpl.ratio});\n",
       "            }\n",
       "            fig.send_message(\"refresh\", {});\n",
       "        }\n",
       "\n",
       "    this.imageObj.onload = function() {\n",
       "            if (fig.image_mode == 'full') {\n",
       "                // Full images could contain transparency (where diff images\n",
       "                // almost always do), so we need to clear the canvas so that\n",
       "                // there is no ghosting.\n",
       "                fig.context.clearRect(0, 0, fig.canvas.width, fig.canvas.height);\n",
       "            }\n",
       "            fig.context.drawImage(fig.imageObj, 0, 0);\n",
       "        };\n",
       "\n",
       "    this.imageObj.onunload = function() {\n",
       "        fig.ws.close();\n",
       "    }\n",
       "\n",
       "    this.ws.onmessage = this._make_on_message_function(this);\n",
       "\n",
       "    this.ondownload = ondownload;\n",
       "}\n",
       "\n",
       "mpl.figure.prototype._init_header = function() {\n",
       "    var titlebar = $(\n",
       "        '<div class=\"ui-dialog-titlebar ui-widget-header ui-corner-all ' +\n",
       "        'ui-helper-clearfix\"/>');\n",
       "    var titletext = $(\n",
       "        '<div class=\"ui-dialog-title\" style=\"width: 100%; ' +\n",
       "        'text-align: center; padding: 3px;\"/>');\n",
       "    titlebar.append(titletext)\n",
       "    this.root.append(titlebar);\n",
       "    this.header = titletext[0];\n",
       "}\n",
       "\n",
       "\n",
       "\n",
       "mpl.figure.prototype._canvas_extra_style = function(canvas_div) {\n",
       "\n",
       "}\n",
       "\n",
       "\n",
       "mpl.figure.prototype._root_extra_style = function(canvas_div) {\n",
       "\n",
       "}\n",
       "\n",
       "mpl.figure.prototype._init_canvas = function() {\n",
       "    var fig = this;\n",
       "\n",
       "    var canvas_div = $('<div/>');\n",
       "\n",
       "    canvas_div.attr('style', 'position: relative; clear: both; outline: 0');\n",
       "\n",
       "    function canvas_keyboard_event(event) {\n",
       "        return fig.key_event(event, event['data']);\n",
       "    }\n",
       "\n",
       "    canvas_div.keydown('key_press', canvas_keyboard_event);\n",
       "    canvas_div.keyup('key_release', canvas_keyboard_event);\n",
       "    this.canvas_div = canvas_div\n",
       "    this._canvas_extra_style(canvas_div)\n",
       "    this.root.append(canvas_div);\n",
       "\n",
       "    var canvas = $('<canvas/>');\n",
       "    canvas.addClass('mpl-canvas');\n",
       "    canvas.attr('style', \"left: 0; top: 0; z-index: 0; outline: 0\")\n",
       "\n",
       "    this.canvas = canvas[0];\n",
       "    this.context = canvas[0].getContext(\"2d\");\n",
       "\n",
       "    var backingStore = this.context.backingStorePixelRatio ||\n",
       "\tthis.context.webkitBackingStorePixelRatio ||\n",
       "\tthis.context.mozBackingStorePixelRatio ||\n",
       "\tthis.context.msBackingStorePixelRatio ||\n",
       "\tthis.context.oBackingStorePixelRatio ||\n",
       "\tthis.context.backingStorePixelRatio || 1;\n",
       "\n",
       "    mpl.ratio = (window.devicePixelRatio || 1) / backingStore;\n",
       "\n",
       "    var rubberband = $('<canvas/>');\n",
       "    rubberband.attr('style', \"position: absolute; left: 0; top: 0; z-index: 1;\")\n",
       "\n",
       "    var pass_mouse_events = true;\n",
       "\n",
       "    canvas_div.resizable({\n",
       "        start: function(event, ui) {\n",
       "            pass_mouse_events = false;\n",
       "        },\n",
       "        resize: function(event, ui) {\n",
       "            fig.request_resize(ui.size.width, ui.size.height);\n",
       "        },\n",
       "        stop: function(event, ui) {\n",
       "            pass_mouse_events = true;\n",
       "            fig.request_resize(ui.size.width, ui.size.height);\n",
       "        },\n",
       "    });\n",
       "\n",
       "    function mouse_event_fn(event) {\n",
       "        if (pass_mouse_events)\n",
       "            return fig.mouse_event(event, event['data']);\n",
       "    }\n",
       "\n",
       "    rubberband.mousedown('button_press', mouse_event_fn);\n",
       "    rubberband.mouseup('button_release', mouse_event_fn);\n",
       "    // Throttle sequential mouse events to 1 every 20ms.\n",
       "    rubberband.mousemove('motion_notify', mouse_event_fn);\n",
       "\n",
       "    rubberband.mouseenter('figure_enter', mouse_event_fn);\n",
       "    rubberband.mouseleave('figure_leave', mouse_event_fn);\n",
       "\n",
       "    canvas_div.on(\"wheel\", function (event) {\n",
       "        event = event.originalEvent;\n",
       "        event['data'] = 'scroll'\n",
       "        if (event.deltaY < 0) {\n",
       "            event.step = 1;\n",
       "        } else {\n",
       "            event.step = -1;\n",
       "        }\n",
       "        mouse_event_fn(event);\n",
       "    });\n",
       "\n",
       "    canvas_div.append(canvas);\n",
       "    canvas_div.append(rubberband);\n",
       "\n",
       "    this.rubberband = rubberband;\n",
       "    this.rubberband_canvas = rubberband[0];\n",
       "    this.rubberband_context = rubberband[0].getContext(\"2d\");\n",
       "    this.rubberband_context.strokeStyle = \"#000000\";\n",
       "\n",
       "    this._resize_canvas = function(width, height) {\n",
       "        // Keep the size of the canvas, canvas container, and rubber band\n",
       "        // canvas in synch.\n",
       "        canvas_div.css('width', width)\n",
       "        canvas_div.css('height', height)\n",
       "\n",
       "        canvas.attr('width', width * mpl.ratio);\n",
       "        canvas.attr('height', height * mpl.ratio);\n",
       "        canvas.attr('style', 'width: ' + width + 'px; height: ' + height + 'px;');\n",
       "\n",
       "        rubberband.attr('width', width);\n",
       "        rubberband.attr('height', height);\n",
       "    }\n",
       "\n",
       "    // Set the figure to an initial 600x600px, this will subsequently be updated\n",
       "    // upon first draw.\n",
       "    this._resize_canvas(600, 600);\n",
       "\n",
       "    // Disable right mouse context menu.\n",
       "    $(this.rubberband_canvas).bind(\"contextmenu\",function(e){\n",
       "        return false;\n",
       "    });\n",
       "\n",
       "    function set_focus () {\n",
       "        canvas.focus();\n",
       "        canvas_div.focus();\n",
       "    }\n",
       "\n",
       "    window.setTimeout(set_focus, 100);\n",
       "}\n",
       "\n",
       "mpl.figure.prototype._init_toolbar = function() {\n",
       "    var fig = this;\n",
       "\n",
       "    var nav_element = $('<div/>');\n",
       "    nav_element.attr('style', 'width: 100%');\n",
       "    this.root.append(nav_element);\n",
       "\n",
       "    // Define a callback function for later on.\n",
       "    function toolbar_event(event) {\n",
       "        return fig.toolbar_button_onclick(event['data']);\n",
       "    }\n",
       "    function toolbar_mouse_event(event) {\n",
       "        return fig.toolbar_button_onmouseover(event['data']);\n",
       "    }\n",
       "\n",
       "    for(var toolbar_ind in mpl.toolbar_items) {\n",
       "        var name = mpl.toolbar_items[toolbar_ind][0];\n",
       "        var tooltip = mpl.toolbar_items[toolbar_ind][1];\n",
       "        var image = mpl.toolbar_items[toolbar_ind][2];\n",
       "        var method_name = mpl.toolbar_items[toolbar_ind][3];\n",
       "\n",
       "        if (!name) {\n",
       "            // put a spacer in here.\n",
       "            continue;\n",
       "        }\n",
       "        var button = $('<button/>');\n",
       "        button.addClass('ui-button ui-widget ui-state-default ui-corner-all ' +\n",
       "                        'ui-button-icon-only');\n",
       "        button.attr('role', 'button');\n",
       "        button.attr('aria-disabled', 'false');\n",
       "        button.click(method_name, toolbar_event);\n",
       "        button.mouseover(tooltip, toolbar_mouse_event);\n",
       "\n",
       "        var icon_img = $('<span/>');\n",
       "        icon_img.addClass('ui-button-icon-primary ui-icon');\n",
       "        icon_img.addClass(image);\n",
       "        icon_img.addClass('ui-corner-all');\n",
       "\n",
       "        var tooltip_span = $('<span/>');\n",
       "        tooltip_span.addClass('ui-button-text');\n",
       "        tooltip_span.html(tooltip);\n",
       "\n",
       "        button.append(icon_img);\n",
       "        button.append(tooltip_span);\n",
       "\n",
       "        nav_element.append(button);\n",
       "    }\n",
       "\n",
       "    var fmt_picker_span = $('<span/>');\n",
       "\n",
       "    var fmt_picker = $('<select/>');\n",
       "    fmt_picker.addClass('mpl-toolbar-option ui-widget ui-widget-content');\n",
       "    fmt_picker_span.append(fmt_picker);\n",
       "    nav_element.append(fmt_picker_span);\n",
       "    this.format_dropdown = fmt_picker[0];\n",
       "\n",
       "    for (var ind in mpl.extensions) {\n",
       "        var fmt = mpl.extensions[ind];\n",
       "        var option = $(\n",
       "            '<option/>', {selected: fmt === mpl.default_extension}).html(fmt);\n",
       "        fmt_picker.append(option);\n",
       "    }\n",
       "\n",
       "    // Add hover states to the ui-buttons\n",
       "    $( \".ui-button\" ).hover(\n",
       "        function() { $(this).addClass(\"ui-state-hover\");},\n",
       "        function() { $(this).removeClass(\"ui-state-hover\");}\n",
       "    );\n",
       "\n",
       "    var status_bar = $('<span class=\"mpl-message\"/>');\n",
       "    nav_element.append(status_bar);\n",
       "    this.message = status_bar[0];\n",
       "}\n",
       "\n",
       "mpl.figure.prototype.request_resize = function(x_pixels, y_pixels) {\n",
       "    // Request matplotlib to resize the figure. Matplotlib will then trigger a resize in the client,\n",
       "    // which will in turn request a refresh of the image.\n",
       "    this.send_message('resize', {'width': x_pixels, 'height': y_pixels});\n",
       "}\n",
       "\n",
       "mpl.figure.prototype.send_message = function(type, properties) {\n",
       "    properties['type'] = type;\n",
       "    properties['figure_id'] = this.id;\n",
       "    this.ws.send(JSON.stringify(properties));\n",
       "}\n",
       "\n",
       "mpl.figure.prototype.send_draw_message = function() {\n",
       "    if (!this.waiting) {\n",
       "        this.waiting = true;\n",
       "        this.ws.send(JSON.stringify({type: \"draw\", figure_id: this.id}));\n",
       "    }\n",
       "}\n",
       "\n",
       "\n",
       "mpl.figure.prototype.handle_save = function(fig, msg) {\n",
       "    var format_dropdown = fig.format_dropdown;\n",
       "    var format = format_dropdown.options[format_dropdown.selectedIndex].value;\n",
       "    fig.ondownload(fig, format);\n",
       "}\n",
       "\n",
       "\n",
       "mpl.figure.prototype.handle_resize = function(fig, msg) {\n",
       "    var size = msg['size'];\n",
       "    if (size[0] != fig.canvas.width || size[1] != fig.canvas.height) {\n",
       "        fig._resize_canvas(size[0], size[1]);\n",
       "        fig.send_message(\"refresh\", {});\n",
       "    };\n",
       "}\n",
       "\n",
       "mpl.figure.prototype.handle_rubberband = function(fig, msg) {\n",
       "    var x0 = msg['x0'] / mpl.ratio;\n",
       "    var y0 = (fig.canvas.height - msg['y0']) / mpl.ratio;\n",
       "    var x1 = msg['x1'] / mpl.ratio;\n",
       "    var y1 = (fig.canvas.height - msg['y1']) / mpl.ratio;\n",
       "    x0 = Math.floor(x0) + 0.5;\n",
       "    y0 = Math.floor(y0) + 0.5;\n",
       "    x1 = Math.floor(x1) + 0.5;\n",
       "    y1 = Math.floor(y1) + 0.5;\n",
       "    var min_x = Math.min(x0, x1);\n",
       "    var min_y = Math.min(y0, y1);\n",
       "    var width = Math.abs(x1 - x0);\n",
       "    var height = Math.abs(y1 - y0);\n",
       "\n",
       "    fig.rubberband_context.clearRect(\n",
       "        0, 0, fig.canvas.width / mpl.ratio, fig.canvas.height / mpl.ratio);\n",
       "\n",
       "    fig.rubberband_context.strokeRect(min_x, min_y, width, height);\n",
       "}\n",
       "\n",
       "mpl.figure.prototype.handle_figure_label = function(fig, msg) {\n",
       "    // Updates the figure title.\n",
       "    fig.header.textContent = msg['label'];\n",
       "}\n",
       "\n",
       "mpl.figure.prototype.handle_cursor = function(fig, msg) {\n",
       "    var cursor = msg['cursor'];\n",
       "    switch(cursor)\n",
       "    {\n",
       "    case 0:\n",
       "        cursor = 'pointer';\n",
       "        break;\n",
       "    case 1:\n",
       "        cursor = 'default';\n",
       "        break;\n",
       "    case 2:\n",
       "        cursor = 'crosshair';\n",
       "        break;\n",
       "    case 3:\n",
       "        cursor = 'move';\n",
       "        break;\n",
       "    }\n",
       "    fig.rubberband_canvas.style.cursor = cursor;\n",
       "}\n",
       "\n",
       "mpl.figure.prototype.handle_message = function(fig, msg) {\n",
       "    fig.message.textContent = msg['message'];\n",
       "}\n",
       "\n",
       "mpl.figure.prototype.handle_draw = function(fig, msg) {\n",
       "    // Request the server to send over a new figure.\n",
       "    fig.send_draw_message();\n",
       "}\n",
       "\n",
       "mpl.figure.prototype.handle_image_mode = function(fig, msg) {\n",
       "    fig.image_mode = msg['mode'];\n",
       "}\n",
       "\n",
       "mpl.figure.prototype.updated_canvas_event = function() {\n",
       "    // Called whenever the canvas gets updated.\n",
       "    this.send_message(\"ack\", {});\n",
       "}\n",
       "\n",
       "// A function to construct a web socket function for onmessage handling.\n",
       "// Called in the figure constructor.\n",
       "mpl.figure.prototype._make_on_message_function = function(fig) {\n",
       "    return function socket_on_message(evt) {\n",
       "        if (evt.data instanceof Blob) {\n",
       "            /* FIXME: We get \"Resource interpreted as Image but\n",
       "             * transferred with MIME type text/plain:\" errors on\n",
       "             * Chrome.  But how to set the MIME type?  It doesn't seem\n",
       "             * to be part of the websocket stream */\n",
       "            evt.data.type = \"image/png\";\n",
       "\n",
       "            /* Free the memory for the previous frames */\n",
       "            if (fig.imageObj.src) {\n",
       "                (window.URL || window.webkitURL).revokeObjectURL(\n",
       "                    fig.imageObj.src);\n",
       "            }\n",
       "\n",
       "            fig.imageObj.src = (window.URL || window.webkitURL).createObjectURL(\n",
       "                evt.data);\n",
       "            fig.updated_canvas_event();\n",
       "            fig.waiting = false;\n",
       "            return;\n",
       "        }\n",
       "        else if (typeof evt.data === 'string' && evt.data.slice(0, 21) == \"data:image/png;base64\") {\n",
       "            fig.imageObj.src = evt.data;\n",
       "            fig.updated_canvas_event();\n",
       "            fig.waiting = false;\n",
       "            return;\n",
       "        }\n",
       "\n",
       "        var msg = JSON.parse(evt.data);\n",
       "        var msg_type = msg['type'];\n",
       "\n",
       "        // Call the  \"handle_{type}\" callback, which takes\n",
       "        // the figure and JSON message as its only arguments.\n",
       "        try {\n",
       "            var callback = fig[\"handle_\" + msg_type];\n",
       "        } catch (e) {\n",
       "            console.log(\"No handler for the '\" + msg_type + \"' message type: \", msg);\n",
       "            return;\n",
       "        }\n",
       "\n",
       "        if (callback) {\n",
       "            try {\n",
       "                // console.log(\"Handling '\" + msg_type + \"' message: \", msg);\n",
       "                callback(fig, msg);\n",
       "            } catch (e) {\n",
       "                console.log(\"Exception inside the 'handler_\" + msg_type + \"' callback:\", e, e.stack, msg);\n",
       "            }\n",
       "        }\n",
       "    };\n",
       "}\n",
       "\n",
       "// from http://stackoverflow.com/questions/1114465/getting-mouse-location-in-canvas\n",
       "mpl.findpos = function(e) {\n",
       "    //this section is from http://www.quirksmode.org/js/events_properties.html\n",
       "    var targ;\n",
       "    if (!e)\n",
       "        e = window.event;\n",
       "    if (e.target)\n",
       "        targ = e.target;\n",
       "    else if (e.srcElement)\n",
       "        targ = e.srcElement;\n",
       "    if (targ.nodeType == 3) // defeat Safari bug\n",
       "        targ = targ.parentNode;\n",
       "\n",
       "    // jQuery normalizes the pageX and pageY\n",
       "    // pageX,Y are the mouse positions relative to the document\n",
       "    // offset() returns the position of the element relative to the document\n",
       "    var x = e.pageX - $(targ).offset().left;\n",
       "    var y = e.pageY - $(targ).offset().top;\n",
       "\n",
       "    return {\"x\": x, \"y\": y};\n",
       "};\n",
       "\n",
       "/*\n",
       " * return a copy of an object with only non-object keys\n",
       " * we need this to avoid circular references\n",
       " * http://stackoverflow.com/a/24161582/3208463\n",
       " */\n",
       "function simpleKeys (original) {\n",
       "  return Object.keys(original).reduce(function (obj, key) {\n",
       "    if (typeof original[key] !== 'object')\n",
       "        obj[key] = original[key]\n",
       "    return obj;\n",
       "  }, {});\n",
       "}\n",
       "\n",
       "mpl.figure.prototype.mouse_event = function(event, name) {\n",
       "    var canvas_pos = mpl.findpos(event)\n",
       "\n",
       "    if (name === 'button_press')\n",
       "    {\n",
       "        this.canvas.focus();\n",
       "        this.canvas_div.focus();\n",
       "    }\n",
       "\n",
       "    var x = canvas_pos.x * mpl.ratio;\n",
       "    var y = canvas_pos.y * mpl.ratio;\n",
       "\n",
       "    this.send_message(name, {x: x, y: y, button: event.button,\n",
       "                             step: event.step,\n",
       "                             guiEvent: simpleKeys(event)});\n",
       "\n",
       "    /* This prevents the web browser from automatically changing to\n",
       "     * the text insertion cursor when the button is pressed.  We want\n",
       "     * to control all of the cursor setting manually through the\n",
       "     * 'cursor' event from matplotlib */\n",
       "    event.preventDefault();\n",
       "    return false;\n",
       "}\n",
       "\n",
       "mpl.figure.prototype._key_event_extra = function(event, name) {\n",
       "    // Handle any extra behaviour associated with a key event\n",
       "}\n",
       "\n",
       "mpl.figure.prototype.key_event = function(event, name) {\n",
       "\n",
       "    // Prevent repeat events\n",
       "    if (name == 'key_press')\n",
       "    {\n",
       "        if (event.which === this._key)\n",
       "            return;\n",
       "        else\n",
       "            this._key = event.which;\n",
       "    }\n",
       "    if (name == 'key_release')\n",
       "        this._key = null;\n",
       "\n",
       "    var value = '';\n",
       "    if (event.ctrlKey && event.which != 17)\n",
       "        value += \"ctrl+\";\n",
       "    if (event.altKey && event.which != 18)\n",
       "        value += \"alt+\";\n",
       "    if (event.shiftKey && event.which != 16)\n",
       "        value += \"shift+\";\n",
       "\n",
       "    value += 'k';\n",
       "    value += event.which.toString();\n",
       "\n",
       "    this._key_event_extra(event, name);\n",
       "\n",
       "    this.send_message(name, {key: value,\n",
       "                             guiEvent: simpleKeys(event)});\n",
       "    return false;\n",
       "}\n",
       "\n",
       "mpl.figure.prototype.toolbar_button_onclick = function(name) {\n",
       "    if (name == 'download') {\n",
       "        this.handle_save(this, null);\n",
       "    } else {\n",
       "        this.send_message(\"toolbar_button\", {name: name});\n",
       "    }\n",
       "};\n",
       "\n",
       "mpl.figure.prototype.toolbar_button_onmouseover = function(tooltip) {\n",
       "    this.message.textContent = tooltip;\n",
       "};\n",
       "mpl.toolbar_items = [[\"Home\", \"Reset original view\", \"fa fa-home icon-home\", \"home\"], [\"Back\", \"Back to previous view\", \"fa fa-arrow-left icon-arrow-left\", \"back\"], [\"Forward\", \"Forward to next view\", \"fa fa-arrow-right icon-arrow-right\", \"forward\"], [\"\", \"\", \"\", \"\"], [\"Pan\", \"Pan axes with left mouse, zoom with right\", \"fa fa-arrows icon-move\", \"pan\"], [\"Zoom\", \"Zoom to rectangle\", \"fa fa-square-o icon-check-empty\", \"zoom\"], [\"\", \"\", \"\", \"\"], [\"Download\", \"Download plot\", \"fa fa-floppy-o icon-save\", \"download\"]];\n",
       "\n",
       "mpl.extensions = [\"eps\", \"jpeg\", \"pdf\", \"png\", \"ps\", \"raw\", \"svg\", \"tif\"];\n",
       "\n",
       "mpl.default_extension = \"png\";var comm_websocket_adapter = function(comm) {\n",
       "    // Create a \"websocket\"-like object which calls the given IPython comm\n",
       "    // object with the appropriate methods. Currently this is a non binary\n",
       "    // socket, so there is still some room for performance tuning.\n",
       "    var ws = {};\n",
       "\n",
       "    ws.close = function() {\n",
       "        comm.close()\n",
       "    };\n",
       "    ws.send = function(m) {\n",
       "        //console.log('sending', m);\n",
       "        comm.send(m);\n",
       "    };\n",
       "    // Register the callback with on_msg.\n",
       "    comm.on_msg(function(msg) {\n",
       "        //console.log('receiving', msg['content']['data'], msg);\n",
       "        // Pass the mpl event to the overridden (by mpl) onmessage function.\n",
       "        ws.onmessage(msg['content']['data'])\n",
       "    });\n",
       "    return ws;\n",
       "}\n",
       "\n",
       "mpl.mpl_figure_comm = function(comm, msg) {\n",
       "    // This is the function which gets called when the mpl process\n",
       "    // starts-up an IPython Comm through the \"matplotlib\" channel.\n",
       "\n",
       "    var id = msg.content.data.id;\n",
       "    // Get hold of the div created by the display call when the Comm\n",
       "    // socket was opened in Python.\n",
       "    var element = $(\"#\" + id);\n",
       "    var ws_proxy = comm_websocket_adapter(comm)\n",
       "\n",
       "    function ondownload(figure, format) {\n",
       "        window.open(figure.imageObj.src);\n",
       "    }\n",
       "\n",
       "    var fig = new mpl.figure(id, ws_proxy,\n",
       "                           ondownload,\n",
       "                           element.get(0));\n",
       "\n",
       "    // Call onopen now - mpl needs it, as it is assuming we've passed it a real\n",
       "    // web socket which is closed, not our websocket->open comm proxy.\n",
       "    ws_proxy.onopen();\n",
       "\n",
       "    fig.parent_element = element.get(0);\n",
       "    fig.cell_info = mpl.find_output_cell(\"<div id='\" + id + \"'></div>\");\n",
       "    if (!fig.cell_info) {\n",
       "        console.error(\"Failed to find cell for figure\", id, fig);\n",
       "        return;\n",
       "    }\n",
       "\n",
       "    var output_index = fig.cell_info[2]\n",
       "    var cell = fig.cell_info[0];\n",
       "\n",
       "};\n",
       "\n",
       "mpl.figure.prototype.handle_close = function(fig, msg) {\n",
       "    var width = fig.canvas.width/mpl.ratio\n",
       "    fig.root.unbind('remove')\n",
       "\n",
       "    // Update the output cell to use the data from the current canvas.\n",
       "    fig.push_to_output();\n",
       "    var dataURL = fig.canvas.toDataURL();\n",
       "    // Re-enable the keyboard manager in IPython - without this line, in FF,\n",
       "    // the notebook keyboard shortcuts fail.\n",
       "    IPython.keyboard_manager.enable()\n",
       "    $(fig.parent_element).html('<img src=\"' + dataURL + '\" width=\"' + width + '\">');\n",
       "    fig.close_ws(fig, msg);\n",
       "}\n",
       "\n",
       "mpl.figure.prototype.close_ws = function(fig, msg){\n",
       "    fig.send_message('closing', msg);\n",
       "    // fig.ws.close()\n",
       "}\n",
       "\n",
       "mpl.figure.prototype.push_to_output = function(remove_interactive) {\n",
       "    // Turn the data on the canvas into data in the output cell.\n",
       "    var width = this.canvas.width/mpl.ratio\n",
       "    var dataURL = this.canvas.toDataURL();\n",
       "    this.cell_info[1]['text/html'] = '<img src=\"' + dataURL + '\" width=\"' + width + '\">';\n",
       "}\n",
       "\n",
       "mpl.figure.prototype.updated_canvas_event = function() {\n",
       "    // Tell IPython that the notebook contents must change.\n",
       "    IPython.notebook.set_dirty(true);\n",
       "    this.send_message(\"ack\", {});\n",
       "    var fig = this;\n",
       "    // Wait a second, then push the new image to the DOM so\n",
       "    // that it is saved nicely (might be nice to debounce this).\n",
       "    setTimeout(function () { fig.push_to_output() }, 1000);\n",
       "}\n",
       "\n",
       "mpl.figure.prototype._init_toolbar = function() {\n",
       "    var fig = this;\n",
       "\n",
       "    var nav_element = $('<div/>');\n",
       "    nav_element.attr('style', 'width: 100%');\n",
       "    this.root.append(nav_element);\n",
       "\n",
       "    // Define a callback function for later on.\n",
       "    function toolbar_event(event) {\n",
       "        return fig.toolbar_button_onclick(event['data']);\n",
       "    }\n",
       "    function toolbar_mouse_event(event) {\n",
       "        return fig.toolbar_button_onmouseover(event['data']);\n",
       "    }\n",
       "\n",
       "    for(var toolbar_ind in mpl.toolbar_items){\n",
       "        var name = mpl.toolbar_items[toolbar_ind][0];\n",
       "        var tooltip = mpl.toolbar_items[toolbar_ind][1];\n",
       "        var image = mpl.toolbar_items[toolbar_ind][2];\n",
       "        var method_name = mpl.toolbar_items[toolbar_ind][3];\n",
       "\n",
       "        if (!name) { continue; };\n",
       "\n",
       "        var button = $('<button class=\"btn btn-default\" href=\"#\" title=\"' + name + '\"><i class=\"fa ' + image + ' fa-lg\"></i></button>');\n",
       "        button.click(method_name, toolbar_event);\n",
       "        button.mouseover(tooltip, toolbar_mouse_event);\n",
       "        nav_element.append(button);\n",
       "    }\n",
       "\n",
       "    // Add the status bar.\n",
       "    var status_bar = $('<span class=\"mpl-message\" style=\"text-align:right; float: right;\"/>');\n",
       "    nav_element.append(status_bar);\n",
       "    this.message = status_bar[0];\n",
       "\n",
       "    // Add the close button to the window.\n",
       "    var buttongrp = $('<div class=\"btn-group inline pull-right\"></div>');\n",
       "    var button = $('<button class=\"btn btn-mini btn-primary\" href=\"#\" title=\"Stop Interaction\"><i class=\"fa fa-power-off icon-remove icon-large\"></i></button>');\n",
       "    button.click(function (evt) { fig.handle_close(fig, {}); } );\n",
       "    button.mouseover('Stop Interaction', toolbar_mouse_event);\n",
       "    buttongrp.append(button);\n",
       "    var titlebar = this.root.find($('.ui-dialog-titlebar'));\n",
       "    titlebar.prepend(buttongrp);\n",
       "}\n",
       "\n",
       "mpl.figure.prototype._root_extra_style = function(el){\n",
       "    var fig = this\n",
       "    el.on(\"remove\", function(){\n",
       "\tfig.close_ws(fig, {});\n",
       "    });\n",
       "}\n",
       "\n",
       "mpl.figure.prototype._canvas_extra_style = function(el){\n",
       "    // this is important to make the div 'focusable\n",
       "    el.attr('tabindex', 0)\n",
       "    // reach out to IPython and tell the keyboard manager to turn it's self\n",
       "    // off when our div gets focus\n",
       "\n",
       "    // location in version 3\n",
       "    if (IPython.notebook.keyboard_manager) {\n",
       "        IPython.notebook.keyboard_manager.register_events(el);\n",
       "    }\n",
       "    else {\n",
       "        // location in version 2\n",
       "        IPython.keyboard_manager.register_events(el);\n",
       "    }\n",
       "\n",
       "}\n",
       "\n",
       "mpl.figure.prototype._key_event_extra = function(event, name) {\n",
       "    var manager = IPython.notebook.keyboard_manager;\n",
       "    if (!manager)\n",
       "        manager = IPython.keyboard_manager;\n",
       "\n",
       "    // Check for shift+enter\n",
       "    if (event.shiftKey && event.which == 13) {\n",
       "        this.canvas_div.blur();\n",
       "        // select the cell after this one\n",
       "        var index = IPython.notebook.find_cell_index(this.cell_info[0]);\n",
       "        IPython.notebook.select(index + 1);\n",
       "    }\n",
       "}\n",
       "\n",
       "mpl.figure.prototype.handle_save = function(fig, msg) {\n",
       "    fig.ondownload(fig, null);\n",
       "}\n",
       "\n",
       "\n",
       "mpl.find_output_cell = function(html_output) {\n",
       "    // Return the cell and output element which can be found *uniquely* in the notebook.\n",
       "    // Note - this is a bit hacky, but it is done because the \"notebook_saving.Notebook\"\n",
       "    // IPython event is triggered only after the cells have been serialised, which for\n",
       "    // our purposes (turning an active figure into a static one), is too late.\n",
       "    var cells = IPython.notebook.get_cells();\n",
       "    var ncells = cells.length;\n",
       "    for (var i=0; i<ncells; i++) {\n",
       "        var cell = cells[i];\n",
       "        if (cell.cell_type === 'code'){\n",
       "            for (var j=0; j<cell.output_area.outputs.length; j++) {\n",
       "                var data = cell.output_area.outputs[j];\n",
       "                if (data.data) {\n",
       "                    // IPython >= 3 moved mimebundle to data attribute of output\n",
       "                    data = data.data;\n",
       "                }\n",
       "                if (data['text/html'] == html_output) {\n",
       "                    return [cell, data, j];\n",
       "                }\n",
       "            }\n",
       "        }\n",
       "    }\n",
       "}\n",
       "\n",
       "// Register the function which deals with the matplotlib target/channel.\n",
       "// The kernel may be null if the page has been refreshed.\n",
       "if (IPython.notebook.kernel != null) {\n",
       "    IPython.notebook.kernel.comm_manager.register_target('matplotlib', mpl.mpl_figure_comm);\n",
       "}\n"
      ],
      "text/plain": [
       "<IPython.core.display.Javascript object>"
      ]
     },
     "metadata": {},
     "output_type": "display_data"
    },
    {
     "data": {
      "text/html": [
       "<img src=\"data:image/png;base64,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\" width=\"809.4444658873999\">"
      ],
      "text/plain": [
       "<IPython.core.display.HTML object>"
      ]
     },
     "metadata": {},
     "output_type": "display_data"
    },
    {
     "data": {
      "application/vnd.plotly.v1+json": {
       "config": {
        "plotlyServerURL": "https://plot.ly"
       },
       "data": [
        {
         "hovertemplate": "<b>%{hovertext}</b><br><br>Continent=Asia<br>Country Income Level=Low income<br>Population Density=%{x}<br>Total Deaths Per Million=%{y}<extra></extra>",
         "hovertext": [
          "Afghanistan",
          "Nepal",
          "Tajikistan"
         ],
         "legendgroup": "Asia",
         "marker": {
          "color": "#636efa",
          "symbol": "circle"
         },
         "mode": "markers",
         "name": "Asia",
         "orientation": "v",
         "showlegend": true,
         "type": "scatter",
         "x": [
          54.422,
          204.43,
          64.281
         ],
         "xaxis": "x",
         "y": [
          14.925,
          0.789,
          5.452000000000001
         ],
         "yaxis": "y"
        },
        {
         "hovertemplate": "<b>%{hovertext}</b><br><br>Continent=Asia<br>Country Income Level=Upper middle income<br>Population Density=%{x}<br>Total Deaths Per Million=%{y}<extra></extra>",
         "hovertext": [
          "Armenia",
          "Azerbaijan",
          "China",
          "Georgia",
          "Iraq",
          "Jordan",
          "Kazakhstan",
          "Lebanon",
          "Malaysia",
          "Maldives",
          "Sri Lanka",
          "Thailand",
          "Turkey"
         ],
         "legendgroup": "Asia",
         "marker": {
          "color": "#636efa",
          "symbol": "circle"
         },
         "mode": "markers",
         "name": "Asia",
         "orientation": "v",
         "showlegend": false,
         "type": "scatter",
         "x": [
          102.931,
          119.309,
          147.674,
          65.032,
          88.125,
          109.285,
          6.681,
          594.561,
          96.25399999999999,
          1454.433,
          341.955,
          135.132,
          104.914
         ],
         "xaxis": "x2",
         "y": [
          121.48899999999999,
          15.189,
          3.2230000000000003,
          3.509,
          27.348000000000003,
          0.882,
          6.391,
          4.688,
          3.738,
          14.8,
          0.514,
          0.831,
          58.692
         ],
         "yaxis": "y2"
        },
        {
         "hovertemplate": "<b>%{hovertext}</b><br><br>Continent=Asia<br>Country Income Level=Lower middle income<br>Population Density=%{x}<br>Total Deaths Per Million=%{y}<extra></extra>",
         "hovertext": [
          "Bangladesh",
          "Bhutan",
          "Cambodia",
          "India",
          "Indonesia",
          "Mongolia",
          "Myanmar",
          "Pakistan",
          "Philippines",
          "Uzbekistan",
          "Vietnam"
         ],
         "legendgroup": "Asia",
         "marker": {
          "color": "#636efa",
          "symbol": "circle"
         },
         "mode": "markers",
         "name": "Asia",
         "orientation": "v",
         "showlegend": false,
         "type": "scatter",
         "x": [
          1265.036,
          21.188000000000002,
          90.67200000000001,
          450.41900000000004,
          145.725,
          1.98,
          81.721,
          255.57299999999998,
          351.87300000000005,
          76.134,
          308.127
         ],
         "xaxis": "x3",
         "y": [
          8.889,
          0,
          0,
          9.927,
          9.012,
          0,
          0.11,
          16.252,
          10.668,
          0.568,
          0
         ],
         "yaxis": "y3"
        },
        {
         "hovertemplate": "<b>%{hovertext}</b><br><br>Continent=Asia<br>Country Income Level=High income<br>Population Density=%{x}<br>Total Deaths Per Million=%{y}<extra></extra>",
         "hovertext": [
          "Bahrain",
          "Israel",
          "Japan",
          "Kuwait",
          "Oman",
          "Qatar",
          "Saudi Arabia",
          "Singapore",
          "United Arab Emirates"
         ],
         "legendgroup": "Asia",
         "marker": {
          "color": "#636efa",
          "symbol": "circle"
         },
         "mode": "markers",
         "name": "Asia",
         "orientation": "v",
         "showlegend": false,
         "type": "scatter",
         "x": [
          1935.9070000000002,
          402.606,
          347.778,
          232.128,
          14.98,
          227.322,
          15.322000000000001,
          7915.731,
          112.44200000000001
         ],
         "xaxis": "x4",
         "y": [
          37.024,
          35.353,
          7.535,
          76.337,
          25.653000000000002,
          34.015,
          36.394,
          4.444,
          30.535
         ],
         "yaxis": "y4"
        },
        {
         "hovertemplate": "<b>%{hovertext}</b><br><br>Continent=Europe<br>Country Income Level=Upper middle income<br>Population Density=%{x}<br>Total Deaths Per Million=%{y}<extra></extra>",
         "hovertext": [
          "Albania",
          "Belarus",
          "Bosnia and Herzegovina",
          "Bulgaria",
          "Montenegro",
          "Romania",
          "Serbia"
         ],
         "legendgroup": "Europe",
         "marker": {
          "color": "#EF553B",
          "symbol": "circle"
         },
         "mode": "markers",
         "name": "Europe",
         "orientation": "v",
         "showlegend": true,
         "type": "scatter",
         "x": [
          104.87100000000001,
          46.858000000000004,
          68.49600000000001,
          65.18,
          46.28,
          85.12899999999999,
          80.291
         ],
         "xaxis": "x2",
         "y": [
          15.289000000000001,
          36.616,
          51.512,
          28.64,
          14.33,
          78.596,
          38.356
         ],
         "yaxis": "y2"
        },
        {
         "hovertemplate": "<b>%{hovertext}</b><br><br>Continent=Europe<br>Country Income Level=Lower middle income<br>Population Density=%{x}<br>Total Deaths Per Million=%{y}<extra></extra>",
         "hovertext": [
          "Moldova",
          "Ukraine"
         ],
         "legendgroup": "Europe",
         "marker": {
          "color": "#EF553B",
          "symbol": "circle"
         },
         "mode": "markers",
         "name": "Europe",
         "orientation": "v",
         "showlegend": false,
         "type": "scatter",
         "x": [
          123.655,
          77.39
         ],
         "xaxis": "x3",
         "y": [
          117.25399999999999,
          22.910999999999998
         ],
         "yaxis": "y3"
        },
        {
         "hovertemplate": "<b>%{hovertext}</b><br><br>Continent=Europe<br>Country Income Level=High income<br>Population Density=%{x}<br>Total Deaths Per Million=%{y}<extra></extra>",
         "hovertext": [
          "Austria",
          "Belgium",
          "Croatia",
          "Cyprus",
          "Czech Republic",
          "Denmark",
          "Estonia",
          "Finland",
          "France",
          "Germany",
          "Greece",
          "Hungary",
          "Iceland",
          "Ireland",
          "Italy",
          "Latvia",
          "Lithuania",
          "Luxembourg",
          "Malta",
          "Netherlands",
          "Norway",
          "Poland",
          "Portugal",
          "San Marino",
          "Slovenia",
          "Spain",
          "Sweden",
          "Switzerland",
          "United Kingdom"
         ],
         "legendgroup": "Europe",
         "marker": {
          "color": "#EF553B",
          "symbol": "circle"
         },
         "mode": "markers",
         "name": "Europe",
         "orientation": "v",
         "showlegend": false,
         "type": "scatter",
         "x": [
          106.749,
          375.564,
          73.726,
          127.65700000000001,
          137.17600000000002,
          136.52,
          31.033,
          18.136,
          122.57799999999999,
          237.016,
          83.479,
          108.04299999999999,
          3.404,
          69.874,
          205.859,
          31.212,
          45.135,
          231.447,
          1454.037,
          508.54400000000004,
          14.462,
          124.027,
          112.37100000000001,
          556.6669999999999,
          102.619,
          93.105,
          24.718000000000004,
          214.243,
          272.89799999999997
         ],
         "xaxis": "x4",
         "y": [
          76.612,
          836.6110000000001,
          26.064,
          21.691999999999997,
          31.375999999999998,
          103.588,
          52.015,
          58.836999999999996,
          454.089,
          106.04700000000001,
          18.229,
          59.211000000000006,
          29.304000000000002,
          347.32099999999997,
          572.8240000000001,
          15.905,
          27.918000000000003,
          175.726,
          20.383,
          355.416,
          45.008,
          35.829,
          150.048,
          1237.5510000000002,
          52.431000000000004,
          614.953,
          500.333,
          194.11599999999999,
          627.994
         ],
         "yaxis": "y4"
        },
        {
         "hovertemplate": "<b>%{hovertext}</b><br><br>Continent=Africa<br>Country Income Level=Low income<br>Population Density=%{x}<br>Total Deaths Per Million=%{y}<extra></extra>",
         "hovertext": [
          "Benin",
          "Burkina Faso",
          "Burundi",
          "Central African Republic",
          "Chad",
          "Eritrea",
          "Ethiopia",
          "Guinea",
          "Guinea-Bissau",
          "Liberia",
          "Madagascar",
          "Malawi",
          "Mali",
          "Mozambique",
          "Niger",
          "Rwanda",
          "Sierra Leone",
          "Tanzania",
          "Togo",
          "Uganda"
         ],
         "legendgroup": "Africa",
         "marker": {
          "color": "#00cc96",
          "symbol": "circle"
         },
         "mode": "markers",
         "name": "Africa",
         "orientation": "v",
         "showlegend": true,
         "type": "scatter",
         "x": [
          99.11,
          70.15100000000001,
          423.06199999999995,
          7.479,
          11.833,
          44.303999999999995,
          104.95700000000001,
          51.755,
          66.191,
          49.126999999999995,
          43.951,
          197.519,
          15.196,
          37.728,
          16.955,
          494.869,
          104.7,
          64.699,
          143.366,
          213.75900000000001
         ],
         "xaxis": "x",
         "y": [
          1.072,
          2.535,
          0.084,
          4.762,
          4.505,
          0,
          0.644,
          2.056,
          8.638,
          6.722,
          0.506,
          0.575,
          5.481,
          0.16,
          2.7680000000000002,
          0.154,
          6.895,
          0.35200000000000004,
          1.57,
          0
         ],
         "yaxis": "y"
        },
        {
         "hovertemplate": "<b>%{hovertext}</b><br><br>Continent=Africa<br>Country Income Level=Upper middle income<br>Population Density=%{x}<br>Total Deaths Per Million=%{y}<extra></extra>",
         "hovertext": [
          "Algeria",
          "Botswana",
          "Equatorial Guinea",
          "Gabon",
          "Libya",
          "Mauritius",
          "Namibia",
          "South Africa"
         ],
         "legendgroup": "Africa",
         "marker": {
          "color": "#00cc96",
          "symbol": "circle"
         },
         "mode": "markers",
         "name": "Africa",
         "orientation": "v",
         "showlegend": false,
         "type": "scatter",
         "x": [
          17.348,
          4.044,
          45.193999999999996,
          7.859,
          3.623,
          622.962,
          3.0780000000000003,
          46.754
         ],
         "xaxis": "x2",
         "y": [
          19.27,
          0.425,
          22.809,
          15.276,
          1.455,
          7.8629999999999995,
          0,
          32.542
         ],
         "yaxis": "y2"
        },
        {
         "hovertemplate": "<b>%{hovertext}</b><br><br>Continent=Africa<br>Country Income Level=Lower middle income<br>Population Density=%{x}<br>Total Deaths Per Million=%{y}<extra></extra>",
         "hovertext": [
          "Angola",
          "Cameroon",
          "Cote d'Ivoire",
          "Djibouti",
          "Ghana",
          "Kenya",
          "Lesotho",
          "Mauritania",
          "Morocco",
          "Nigeria",
          "Sao Tome and Principe",
          "Senegal",
          "Sudan",
          "Tunisia",
          "Zambia",
          "Zimbabwe"
         ],
         "legendgroup": "Africa",
         "marker": {
          "color": "#00cc96",
          "symbol": "circle"
         },
         "mode": "markers",
         "name": "Africa",
         "orientation": "v",
         "showlegend": false,
         "type": "scatter",
         "x": [
          23.89,
          50.885,
          76.399,
          41.285,
          126.719,
          87.324,
          73.562,
          4.289,
          80.08,
          209.588,
          212.84099999999998,
          82.32799999999999,
          23.258000000000003,
          74.22800000000001,
          22.995,
          42.729
         ],
         "xaxis": "x3",
         "y": [
          0.27399999999999997,
          11.339,
          1.933,
          45.54600000000001,
          2.735,
          2.287,
          0,
          23.228,
          5.797999999999999,
          2.513,
          54.754,
          5.0169999999999995,
          11.882,
          4.231,
          0.598,
          0.40399999999999997
         ],
         "yaxis": "y3"
        },
        {
         "hovertemplate": "<b>%{hovertext}</b><br><br>Continent=Africa<br>Country Income Level=High income<br>Population Density=%{x}<br>Total Deaths Per Million=%{y}<extra></extra>",
         "hovertext": [
          "Seychelles"
         ],
         "legendgroup": "Africa",
         "marker": {
          "color": "#00cc96",
          "symbol": "circle"
         },
         "mode": "markers",
         "name": "Africa",
         "orientation": "v",
         "showlegend": false,
         "type": "scatter",
         "x": [
          208.354
         ],
         "xaxis": "x4",
         "y": [
          0
         ],
         "yaxis": "y4"
        },
        {
         "hovertemplate": "<b>%{hovertext}</b><br><br>Continent=North America<br>Country Income Level=Low income<br>Population Density=%{x}<br>Total Deaths Per Million=%{y}<extra></extra>",
         "hovertext": [
          "Haiti"
         ],
         "legendgroup": "North America",
         "marker": {
          "color": "#ab63fa",
          "symbol": "circle"
         },
         "mode": "markers",
         "name": "North America",
         "orientation": "v",
         "showlegend": true,
         "type": "scatter",
         "x": [
          398.44800000000004
         ],
         "xaxis": "x",
         "y": [
          7.718
         ],
         "yaxis": "y"
        },
        {
         "hovertemplate": "<b>%{hovertext}</b><br><br>Continent=North America<br>Country Income Level=Upper middle income<br>Population Density=%{x}<br>Total Deaths Per Million=%{y}<extra></extra>",
         "hovertext": [
          "Belize",
          "Costa Rica",
          "Dominica",
          "Dominican Republic",
          "Grenada",
          "Guatemala",
          "Jamaica",
          "Mexico"
         ],
         "legendgroup": "North America",
         "marker": {
          "color": "#ab63fa",
          "symbol": "circle"
         },
         "mode": "markers",
         "name": "North America",
         "orientation": "v",
         "showlegend": false,
         "type": "scatter",
         "x": [
          16.426,
          96.079,
          98.56700000000001,
          222.873,
          317.132,
          157.834,
          266.879,
          66.444
         ],
         "xaxis": "x2",
         "y": [
          5.03,
          2.356,
          0,
          61.026,
          0,
          29.639,
          3.377,
          169.274
         ],
         "yaxis": "y2"
        },
        {
         "hovertemplate": "<b>%{hovertext}</b><br><br>Continent=North America<br>Country Income Level=Lower middle income<br>Population Density=%{x}<br>Total Deaths Per Million=%{y}<extra></extra>",
         "hovertext": [
          "El Salvador",
          "Honduras",
          "Nicaragua"
         ],
         "legendgroup": "North America",
         "marker": {
          "color": "#ab63fa",
          "symbol": "circle"
         },
         "mode": "markers",
         "name": "North America",
         "orientation": "v",
         "showlegend": false,
         "type": "scatter",
         "x": [
          307.811,
          82.805,
          51.667
         ],
         "xaxis": "x3",
         "y": [
          16.497,
          36.65,
          9.661
         ],
         "yaxis": "y3"
        },
        {
         "hovertemplate": "<b>%{hovertext}</b><br><br>Continent=North America<br>Country Income Level=High income<br>Population Density=%{x}<br>Total Deaths Per Million=%{y}<extra></extra>",
         "hovertext": [
          "Antigua and Barbuda",
          "Aruba",
          "Barbados",
          "Bermuda",
          "Canada",
          "Cayman Islands",
          "Panama",
          "Puerto Rico",
          "Sint Maarten (Dutch part)",
          "Trinidad and Tobago",
          "United States"
         ],
         "legendgroup": "North America",
         "marker": {
          "color": "#ab63fa",
          "symbol": "circle"
         },
         "mode": "markers",
         "name": "North America",
         "orientation": "v",
         "showlegend": false,
         "type": "scatter",
         "x": [
          231.845,
          584.8,
          664.4630000000001,
          1308.82,
          4.037,
          256.496,
          55.133,
          376.23199999999997,
          1209.088,
          266.88599999999997,
          35.608000000000004
         ],
         "xaxis": "x4",
         "y": [
          30.635,
          28.099,
          24.359,
          144.525,
          223.358,
          15.216,
          116.113,
          52.083,
          349.79699999999997,
          5.716,
          362.459
         ],
         "yaxis": "y4"
        },
        {
         "hovertemplate": "<b>%{hovertext}</b><br><br>Continent=South America<br>Country Income Level=Upper middle income<br>Population Density=%{x}<br>Total Deaths Per Million=%{y}<extra></extra>",
         "hovertext": [
          "Argentina",
          "Brazil",
          "Colombia",
          "Ecuador",
          "Guyana",
          "Paraguay",
          "Peru",
          "Suriname"
         ],
         "legendgroup": "South America",
         "marker": {
          "color": "#FFA15A",
          "symbol": "circle"
         },
         "mode": "markers",
         "name": "South America",
         "orientation": "v",
         "showlegend": true,
         "type": "scatter",
         "x": [
          16.177,
          25.04,
          44.223,
          66.939,
          3.952,
          17.144000000000002,
          25.129,
          3.612
         ],
         "xaxis": "x2",
         "y": [
          22.369,
          238.13099999999997,
          43.964,
          239.358,
          15.255999999999998,
          1.8230000000000002,
          243.99599999999998,
          13.637
         ],
         "yaxis": "y2"
        },
        {
         "hovertemplate": "<b>%{hovertext}</b><br><br>Continent=South America<br>Country Income Level=Lower middle income<br>Population Density=%{x}<br>Total Deaths Per Million=%{y}<extra></extra>",
         "hovertext": [
          "Bolivia"
         ],
         "legendgroup": "South America",
         "marker": {
          "color": "#FFA15A",
          "symbol": "circle"
         },
         "mode": "markers",
         "name": "South America",
         "orientation": "v",
         "showlegend": false,
         "type": "scatter",
         "x": [
          10.202
         ],
         "xaxis": "x3",
         "y": [
          66.221
         ],
         "yaxis": "y3"
        },
        {
         "hovertemplate": "<b>%{hovertext}</b><br><br>Continent=South America<br>Country Income Level=High income<br>Population Density=%{x}<br>Total Deaths Per Million=%{y}<extra></extra>",
         "hovertext": [
          "Chile",
          "Uruguay"
         ],
         "legendgroup": "South America",
         "marker": {
          "color": "#FFA15A",
          "symbol": "circle"
         },
         "mode": "markers",
         "name": "South America",
         "orientation": "v",
         "showlegend": false,
         "type": "scatter",
         "x": [
          24.281999999999996,
          19.750999999999998
         ],
         "xaxis": "x4",
         "y": [
          234.304,
          7.197
         ],
         "yaxis": "y4"
        },
        {
         "hovertemplate": "<b>%{hovertext}</b><br><br>Continent=Oceania<br>Country Income Level=Upper middle income<br>Population Density=%{x}<br>Total Deaths Per Million=%{y}<extra></extra>",
         "hovertext": [
          "Fiji"
         ],
         "legendgroup": "Oceania",
         "marker": {
          "color": "#19d3f3",
          "symbol": "circle"
         },
         "mode": "markers",
         "name": "Oceania",
         "orientation": "v",
         "showlegend": true,
         "type": "scatter",
         "x": [
          49.562
         ],
         "xaxis": "x2",
         "y": [
          0
         ],
         "yaxis": "y2"
        },
        {
         "hovertemplate": "<b>%{hovertext}</b><br><br>Continent=Oceania<br>Country Income Level=Lower middle income<br>Population Density=%{x}<br>Total Deaths Per Million=%{y}<extra></extra>",
         "hovertext": [
          "Papua New Guinea"
         ],
         "legendgroup": "Oceania",
         "marker": {
          "color": "#19d3f3",
          "symbol": "circle"
         },
         "mode": "markers",
         "name": "Oceania",
         "orientation": "v",
         "showlegend": false,
         "type": "scatter",
         "x": [
          18.22
         ],
         "xaxis": "x3",
         "y": [
          0
         ],
         "yaxis": "y3"
        },
        {
         "hovertemplate": "<b>%{hovertext}</b><br><br>Continent=Oceania<br>Country Income Level=High income<br>Population Density=%{x}<br>Total Deaths Per Million=%{y}<extra></extra>",
         "hovertext": [
          "Australia",
          "New Zealand"
         ],
         "legendgroup": "Oceania",
         "marker": {
          "color": "#19d3f3",
          "symbol": "circle"
         },
         "mode": "markers",
         "name": "Oceania",
         "orientation": "v",
         "showlegend": false,
         "type": "scatter",
         "x": [
          3.202,
          18.206
         ],
         "xaxis": "x4",
         "y": [
          4,
          4.562
         ],
         "yaxis": "y4"
        }
       ],
       "layout": {
        "annotations": [
         {
          "font": {},
          "showarrow": false,
          "text": "Country Income Level=Low income",
          "x": 0.1175,
          "xanchor": "center",
          "xref": "paper",
          "y": 1,
          "yanchor": "bottom",
          "yref": "paper"
         },
         {
          "font": {},
          "showarrow": false,
          "text": "Country Income Level=Upper middle income",
          "x": 0.3725,
          "xanchor": "center",
          "xref": "paper",
          "y": 1,
          "yanchor": "bottom",
          "yref": "paper"
         },
         {
          "font": {},
          "showarrow": false,
          "text": "Country Income Level=Lower middle income",
          "x": 0.6275,
          "xanchor": "center",
          "xref": "paper",
          "y": 1,
          "yanchor": "bottom",
          "yref": "paper"
         },
         {
          "font": {},
          "showarrow": false,
          "text": "Country Income Level=High income",
          "x": 0.8824999999999998,
          "xanchor": "center",
          "xref": "paper",
          "y": 1,
          "yanchor": "bottom",
          "yref": "paper"
         }
        ],
        "legend": {
         "title": {
          "text": "Continent"
         },
         "tracegroupgap": 0
        },
        "margin": {
         "t": 60
        },
        "template": {
         "data": {
          "bar": [
           {
            "error_x": {
             "color": "#2a3f5f"
            },
            "error_y": {
             "color": "#2a3f5f"
            },
            "marker": {
             "line": {
              "color": "#E5ECF6",
              "width": 0.5
             }
            },
            "type": "bar"
           }
          ],
          "barpolar": [
           {
            "marker": {
             "line": {
              "color": "#E5ECF6",
              "width": 0.5
             }
            },
            "type": "barpolar"
           }
          ],
          "carpet": [
           {
            "aaxis": {
             "endlinecolor": "#2a3f5f",
             "gridcolor": "white",
             "linecolor": "white",
             "minorgridcolor": "white",
             "startlinecolor": "#2a3f5f"
            },
            "baxis": {
             "endlinecolor": "#2a3f5f",
             "gridcolor": "white",
             "linecolor": "white",
             "minorgridcolor": "white",
             "startlinecolor": "#2a3f5f"
            },
            "type": "carpet"
           }
          ],
          "choropleth": [
           {
            "colorbar": {
             "outlinewidth": 0,
             "ticks": ""
            },
            "type": "choropleth"
           }
          ],
          "contour": [
           {
            "colorbar": {
             "outlinewidth": 0,
             "ticks": ""
            },
            "colorscale": [
             [
              0,
              "#0d0887"
             ],
             [
              0.1111111111111111,
              "#46039f"
             ],
             [
              0.2222222222222222,
              "#7201a8"
             ],
             [
              0.3333333333333333,
              "#9c179e"
             ],
             [
              0.4444444444444444,
              "#bd3786"
             ],
             [
              0.5555555555555556,
              "#d8576b"
             ],
             [
              0.6666666666666666,
              "#ed7953"
             ],
             [
              0.7777777777777778,
              "#fb9f3a"
             ],
             [
              0.8888888888888888,
              "#fdca26"
             ],
             [
              1,
              "#f0f921"
             ]
            ],
            "type": "contour"
           }
          ],
          "contourcarpet": [
           {
            "colorbar": {
             "outlinewidth": 0,
             "ticks": ""
            },
            "type": "contourcarpet"
           }
          ],
          "heatmap": [
           {
            "colorbar": {
             "outlinewidth": 0,
             "ticks": ""
            },
            "colorscale": [
             [
              0,
              "#0d0887"
             ],
             [
              0.1111111111111111,
              "#46039f"
             ],
             [
              0.2222222222222222,
              "#7201a8"
             ],
             [
              0.3333333333333333,
              "#9c179e"
             ],
             [
              0.4444444444444444,
              "#bd3786"
             ],
             [
              0.5555555555555556,
              "#d8576b"
             ],
             [
              0.6666666666666666,
              "#ed7953"
             ],
             [
              0.7777777777777778,
              "#fb9f3a"
             ],
             [
              0.8888888888888888,
              "#fdca26"
             ],
             [
              1,
              "#f0f921"
             ]
            ],
            "type": "heatmap"
           }
          ],
          "heatmapgl": [
           {
            "colorbar": {
             "outlinewidth": 0,
             "ticks": ""
            },
            "colorscale": [
             [
              0,
              "#0d0887"
             ],
             [
              0.1111111111111111,
              "#46039f"
             ],
             [
              0.2222222222222222,
              "#7201a8"
             ],
             [
              0.3333333333333333,
              "#9c179e"
             ],
             [
              0.4444444444444444,
              "#bd3786"
             ],
             [
              0.5555555555555556,
              "#d8576b"
             ],
             [
              0.6666666666666666,
              "#ed7953"
             ],
             [
              0.7777777777777778,
              "#fb9f3a"
             ],
             [
              0.8888888888888888,
              "#fdca26"
             ],
             [
              1,
              "#f0f921"
             ]
            ],
            "type": "heatmapgl"
           }
          ],
          "histogram": [
           {
            "marker": {
             "colorbar": {
              "outlinewidth": 0,
              "ticks": ""
             }
            },
            "type": "histogram"
           }
          ],
          "histogram2d": [
           {
            "colorbar": {
             "outlinewidth": 0,
             "ticks": ""
            },
            "colorscale": [
             [
              0,
              "#0d0887"
             ],
             [
              0.1111111111111111,
              "#46039f"
             ],
             [
              0.2222222222222222,
              "#7201a8"
             ],
             [
              0.3333333333333333,
              "#9c179e"
             ],
             [
              0.4444444444444444,
              "#bd3786"
             ],
             [
              0.5555555555555556,
              "#d8576b"
             ],
             [
              0.6666666666666666,
              "#ed7953"
             ],
             [
              0.7777777777777778,
              "#fb9f3a"
             ],
             [
              0.8888888888888888,
              "#fdca26"
             ],
             [
              1,
              "#f0f921"
             ]
            ],
            "type": "histogram2d"
           }
          ],
          "histogram2dcontour": [
           {
            "colorbar": {
             "outlinewidth": 0,
             "ticks": ""
            },
            "colorscale": [
             [
              0,
              "#0d0887"
             ],
             [
              0.1111111111111111,
              "#46039f"
             ],
             [
              0.2222222222222222,
              "#7201a8"
             ],
             [
              0.3333333333333333,
              "#9c179e"
             ],
             [
              0.4444444444444444,
              "#bd3786"
             ],
             [
              0.5555555555555556,
              "#d8576b"
             ],
             [
              0.6666666666666666,
              "#ed7953"
             ],
             [
              0.7777777777777778,
              "#fb9f3a"
             ],
             [
              0.8888888888888888,
              "#fdca26"
             ],
             [
              1,
              "#f0f921"
             ]
            ],
            "type": "histogram2dcontour"
           }
          ],
          "mesh3d": [
           {
            "colorbar": {
             "outlinewidth": 0,
             "ticks": ""
            },
            "type": "mesh3d"
           }
          ],
          "parcoords": [
           {
            "line": {
             "colorbar": {
              "outlinewidth": 0,
              "ticks": ""
             }
            },
            "type": "parcoords"
           }
          ],
          "pie": [
           {
            "automargin": true,
            "type": "pie"
           }
          ],
          "scatter": [
           {
            "marker": {
             "colorbar": {
              "outlinewidth": 0,
              "ticks": ""
             }
            },
            "type": "scatter"
           }
          ],
          "scatter3d": [
           {
            "line": {
             "colorbar": {
              "outlinewidth": 0,
              "ticks": ""
             }
            },
            "marker": {
             "colorbar": {
              "outlinewidth": 0,
              "ticks": ""
             }
            },
            "type": "scatter3d"
           }
          ],
          "scattercarpet": [
           {
            "marker": {
             "colorbar": {
              "outlinewidth": 0,
              "ticks": ""
             }
            },
            "type": "scattercarpet"
           }
          ],
          "scattergeo": [
           {
            "marker": {
             "colorbar": {
              "outlinewidth": 0,
              "ticks": ""
             }
            },
            "type": "scattergeo"
           }
          ],
          "scattergl": [
           {
            "marker": {
             "colorbar": {
              "outlinewidth": 0,
              "ticks": ""
             }
            },
            "type": "scattergl"
           }
          ],
          "scattermapbox": [
           {
            "marker": {
             "colorbar": {
              "outlinewidth": 0,
              "ticks": ""
             }
            },
            "type": "scattermapbox"
           }
          ],
          "scatterpolar": [
           {
            "marker": {
             "colorbar": {
              "outlinewidth": 0,
              "ticks": ""
             }
            },
            "type": "scatterpolar"
           }
          ],
          "scatterpolargl": [
           {
            "marker": {
             "colorbar": {
              "outlinewidth": 0,
              "ticks": ""
             }
            },
            "type": "scatterpolargl"
           }
          ],
          "scatterternary": [
           {
            "marker": {
             "colorbar": {
              "outlinewidth": 0,
              "ticks": ""
             }
            },
            "type": "scatterternary"
           }
          ],
          "surface": [
           {
            "colorbar": {
             "outlinewidth": 0,
             "ticks": ""
            },
            "colorscale": [
             [
              0,
              "#0d0887"
             ],
             [
              0.1111111111111111,
              "#46039f"
             ],
             [
              0.2222222222222222,
              "#7201a8"
             ],
             [
              0.3333333333333333,
              "#9c179e"
             ],
             [
              0.4444444444444444,
              "#bd3786"
             ],
             [
              0.5555555555555556,
              "#d8576b"
             ],
             [
              0.6666666666666666,
              "#ed7953"
             ],
             [
              0.7777777777777778,
              "#fb9f3a"
             ],
             [
              0.8888888888888888,
              "#fdca26"
             ],
             [
              1,
              "#f0f921"
             ]
            ],
            "type": "surface"
           }
          ],
          "table": [
           {
            "cells": {
             "fill": {
              "color": "#EBF0F8"
             },
             "line": {
              "color": "white"
             }
            },
            "header": {
             "fill": {
              "color": "#C8D4E3"
             },
             "line": {
              "color": "white"
             }
            },
            "type": "table"
           }
          ]
         },
         "layout": {
          "annotationdefaults": {
           "arrowcolor": "#2a3f5f",
           "arrowhead": 0,
           "arrowwidth": 1
          },
          "coloraxis": {
           "colorbar": {
            "outlinewidth": 0,
            "ticks": ""
           }
          },
          "colorscale": {
           "diverging": [
            [
             0,
             "#8e0152"
            ],
            [
             0.1,
             "#c51b7d"
            ],
            [
             0.2,
             "#de77ae"
            ],
            [
             0.3,
             "#f1b6da"
            ],
            [
             0.4,
             "#fde0ef"
            ],
            [
             0.5,
             "#f7f7f7"
            ],
            [
             0.6,
             "#e6f5d0"
            ],
            [
             0.7,
             "#b8e186"
            ],
            [
             0.8,
             "#7fbc41"
            ],
            [
             0.9,
             "#4d9221"
            ],
            [
             1,
             "#276419"
            ]
           ],
           "sequential": [
            [
             0,
             "#0d0887"
            ],
            [
             0.1111111111111111,
             "#46039f"
            ],
            [
             0.2222222222222222,
             "#7201a8"
            ],
            [
             0.3333333333333333,
             "#9c179e"
            ],
            [
             0.4444444444444444,
             "#bd3786"
            ],
            [
             0.5555555555555556,
             "#d8576b"
            ],
            [
             0.6666666666666666,
             "#ed7953"
            ],
            [
             0.7777777777777778,
             "#fb9f3a"
            ],
            [
             0.8888888888888888,
             "#fdca26"
            ],
            [
             1,
             "#f0f921"
            ]
           ],
           "sequentialminus": [
            [
             0,
             "#0d0887"
            ],
            [
             0.1111111111111111,
             "#46039f"
            ],
            [
             0.2222222222222222,
             "#7201a8"
            ],
            [
             0.3333333333333333,
             "#9c179e"
            ],
            [
             0.4444444444444444,
             "#bd3786"
            ],
            [
             0.5555555555555556,
             "#d8576b"
            ],
            [
             0.6666666666666666,
             "#ed7953"
            ],
            [
             0.7777777777777778,
             "#fb9f3a"
            ],
            [
             0.8888888888888888,
             "#fdca26"
            ],
            [
             1,
             "#f0f921"
            ]
           ]
          },
          "colorway": [
           "#636efa",
           "#EF553B",
           "#00cc96",
           "#ab63fa",
           "#FFA15A",
           "#19d3f3",
           "#FF6692",
           "#B6E880",
           "#FF97FF",
           "#FECB52"
          ],
          "font": {
           "color": "#2a3f5f"
          },
          "geo": {
           "bgcolor": "white",
           "lakecolor": "white",
           "landcolor": "#E5ECF6",
           "showlakes": true,
           "showland": true,
           "subunitcolor": "white"
          },
          "hoverlabel": {
           "align": "left"
          },
          "hovermode": "closest",
          "mapbox": {
           "style": "light"
          },
          "paper_bgcolor": "white",
          "plot_bgcolor": "#E5ECF6",
          "polar": {
           "angularaxis": {
            "gridcolor": "white",
            "linecolor": "white",
            "ticks": ""
           },
           "bgcolor": "#E5ECF6",
           "radialaxis": {
            "gridcolor": "white",
            "linecolor": "white",
            "ticks": ""
           }
          },
          "scene": {
           "xaxis": {
            "backgroundcolor": "#E5ECF6",
            "gridcolor": "white",
            "gridwidth": 2,
            "linecolor": "white",
            "showbackground": true,
            "ticks": "",
            "zerolinecolor": "white"
           },
           "yaxis": {
            "backgroundcolor": "#E5ECF6",
            "gridcolor": "white",
            "gridwidth": 2,
            "linecolor": "white",
            "showbackground": true,
            "ticks": "",
            "zerolinecolor": "white"
           },
           "zaxis": {
            "backgroundcolor": "#E5ECF6",
            "gridcolor": "white",
            "gridwidth": 2,
            "linecolor": "white",
            "showbackground": true,
            "ticks": "",
            "zerolinecolor": "white"
           }
          },
          "shapedefaults": {
           "line": {
            "color": "#2a3f5f"
           }
          },
          "ternary": {
           "aaxis": {
            "gridcolor": "white",
            "linecolor": "white",
            "ticks": ""
           },
           "baxis": {
            "gridcolor": "white",
            "linecolor": "white",
            "ticks": ""
           },
           "bgcolor": "#E5ECF6",
           "caxis": {
            "gridcolor": "white",
            "linecolor": "white",
            "ticks": ""
           }
          },
          "title": {
           "x": 0.05
          },
          "xaxis": {
           "automargin": true,
           "gridcolor": "white",
           "linecolor": "white",
           "ticks": "",
           "title": {
            "standoff": 15
           },
           "zerolinecolor": "white",
           "zerolinewidth": 2
          },
          "yaxis": {
           "automargin": true,
           "gridcolor": "white",
           "linecolor": "white",
           "ticks": "",
           "title": {
            "standoff": 15
           },
           "zerolinecolor": "white",
           "zerolinewidth": 2
          }
         }
        },
        "title": {
         "text": "Population Density vs. Total deaths per million"
        },
        "width": 1500,
        "xaxis": {
         "anchor": "y",
         "domain": [
          0,
          0.235
         ],
         "range": [
          -50,
          2000
         ],
         "title": {
          "text": "Population Density"
         }
        },
        "xaxis2": {
         "anchor": "y2",
         "domain": [
          0.255,
          0.49
         ],
         "matches": "x",
         "range": [
          -50,
          2000
         ],
         "title": {
          "text": "Population Density"
         }
        },
        "xaxis3": {
         "anchor": "y3",
         "domain": [
          0.51,
          0.745
         ],
         "matches": "x",
         "range": [
          -50,
          2000
         ],
         "title": {
          "text": "Population Density"
         }
        },
        "xaxis4": {
         "anchor": "y4",
         "domain": [
          0.7649999999999999,
          0.9999999999999999
         ],
         "matches": "x",
         "range": [
          -50,
          2000
         ],
         "title": {
          "text": "Population Density"
         }
        },
        "yaxis": {
         "anchor": "x",
         "domain": [
          0,
          1
         ],
         "range": [
          -2,
          700
         ],
         "title": {
          "text": "Total Deaths Per Million"
         }
        },
        "yaxis2": {
         "anchor": "x2",
         "domain": [
          0,
          1
         ],
         "matches": "y",
         "range": [
          -2,
          700
         ],
         "showticklabels": false
        },
        "yaxis3": {
         "anchor": "x3",
         "domain": [
          0,
          1
         ],
         "matches": "y",
         "range": [
          -2,
          700
         ],
         "showticklabels": false
        },
        "yaxis4": {
         "anchor": "x4",
         "domain": [
          0,
          1
         ],
         "matches": "y",
         "range": [
          -2,
          700
         ],
         "showticklabels": false
        }
       }
      },
      "text/html": [
       "<div>\n",
       "        \n",
       "        \n",
       "            <div id=\"49f59742-1a5a-4720-a1a3-8713deb2f379\" class=\"plotly-graph-div\" style=\"height:525px; width:1500px;\"></div>\n",
       "            <script type=\"text/javascript\">\n",
       "                require([\"plotly\"], function(Plotly) {\n",
       "                    window.PLOTLYENV=window.PLOTLYENV || {};\n",
       "                    \n",
       "                if (document.getElementById(\"49f59742-1a5a-4720-a1a3-8713deb2f379\")) {\n",
       "                    Plotly.newPlot(\n",
       "                        '49f59742-1a5a-4720-a1a3-8713deb2f379',\n",
       "                        [{\"hovertemplate\": \"<b>%{hovertext}</b><br><br>Continent=Asia<br>Country Income Level=Low income<br>Population Density=%{x}<br>Total Deaths Per Million=%{y}<extra></extra>\", \"hovertext\": [\"Afghanistan\", \"Nepal\", \"Tajikistan\"], \"legendgroup\": \"Asia\", \"marker\": {\"color\": \"#636efa\", \"symbol\": \"circle\"}, \"mode\": \"markers\", \"name\": \"Asia\", \"orientation\": \"v\", \"showlegend\": true, \"type\": \"scatter\", \"x\": [54.422, 204.43, 64.281], \"xaxis\": \"x\", \"y\": [14.925, 0.789, 5.452000000000001], \"yaxis\": \"y\"}, {\"hovertemplate\": \"<b>%{hovertext}</b><br><br>Continent=Asia<br>Country Income Level=Upper middle income<br>Population Density=%{x}<br>Total Deaths Per Million=%{y}<extra></extra>\", \"hovertext\": [\"Armenia\", \"Azerbaijan\", \"China\", \"Georgia\", \"Iraq\", \"Jordan\", \"Kazakhstan\", \"Lebanon\", \"Malaysia\", \"Maldives\", \"Sri Lanka\", \"Thailand\", \"Turkey\"], \"legendgroup\": \"Asia\", \"marker\": {\"color\": \"#636efa\", \"symbol\": \"circle\"}, \"mode\": \"markers\", \"name\": \"Asia\", \"orientation\": \"v\", \"showlegend\": false, \"type\": \"scatter\", \"x\": [102.931, 119.309, 147.674, 65.032, 88.125, 109.285, 6.681, 594.561, 96.25399999999999, 1454.433, 341.955, 135.132, 104.914], \"xaxis\": \"x2\", \"y\": [121.48899999999999, 15.189, 3.2230000000000003, 3.509, 27.348000000000003, 0.882, 6.391, 4.688, 3.738, 14.8, 0.514, 0.831, 58.692], \"yaxis\": \"y2\"}, {\"hovertemplate\": \"<b>%{hovertext}</b><br><br>Continent=Asia<br>Country Income Level=Lower middle income<br>Population Density=%{x}<br>Total Deaths Per Million=%{y}<extra></extra>\", \"hovertext\": [\"Bangladesh\", \"Bhutan\", \"Cambodia\", \"India\", \"Indonesia\", \"Mongolia\", \"Myanmar\", \"Pakistan\", \"Philippines\", \"Uzbekistan\", \"Vietnam\"], \"legendgroup\": \"Asia\", \"marker\": {\"color\": \"#636efa\", \"symbol\": \"circle\"}, \"mode\": \"markers\", \"name\": \"Asia\", \"orientation\": \"v\", \"showlegend\": false, \"type\": \"scatter\", \"x\": [1265.036, 21.188000000000002, 90.67200000000001, 450.41900000000004, 145.725, 1.98, 81.721, 255.57299999999998, 351.87300000000005, 76.134, 308.127], \"xaxis\": \"x3\", \"y\": [8.889, 0.0, 0.0, 9.927, 9.012, 0.0, 0.11, 16.252, 10.668, 0.568, 0.0], \"yaxis\": \"y3\"}, {\"hovertemplate\": \"<b>%{hovertext}</b><br><br>Continent=Asia<br>Country Income Level=High income<br>Population Density=%{x}<br>Total Deaths Per Million=%{y}<extra></extra>\", \"hovertext\": [\"Bahrain\", \"Israel\", \"Japan\", \"Kuwait\", \"Oman\", \"Qatar\", \"Saudi Arabia\", \"Singapore\", \"United Arab Emirates\"], \"legendgroup\": \"Asia\", \"marker\": {\"color\": \"#636efa\", \"symbol\": \"circle\"}, \"mode\": \"markers\", \"name\": \"Asia\", \"orientation\": \"v\", \"showlegend\": false, \"type\": \"scatter\", \"x\": [1935.9070000000002, 402.606, 347.778, 232.128, 14.98, 227.322, 15.322000000000001, 7915.731, 112.44200000000001], \"xaxis\": \"x4\", \"y\": [37.024, 35.353, 7.535, 76.337, 25.653000000000002, 34.015, 36.394, 4.444, 30.535], \"yaxis\": \"y4\"}, {\"hovertemplate\": \"<b>%{hovertext}</b><br><br>Continent=Europe<br>Country Income Level=Upper middle income<br>Population Density=%{x}<br>Total Deaths Per Million=%{y}<extra></extra>\", \"hovertext\": [\"Albania\", \"Belarus\", \"Bosnia and Herzegovina\", \"Bulgaria\", \"Montenegro\", \"Romania\", \"Serbia\"], \"legendgroup\": \"Europe\", \"marker\": {\"color\": \"#EF553B\", \"symbol\": \"circle\"}, \"mode\": \"markers\", \"name\": \"Europe\", \"orientation\": \"v\", \"showlegend\": true, \"type\": \"scatter\", \"x\": [104.87100000000001, 46.858000000000004, 68.49600000000001, 65.18, 46.28, 85.12899999999999, 80.291], \"xaxis\": \"x2\", \"y\": [15.289000000000001, 36.616, 51.512, 28.64, 14.33, 78.596, 38.356], \"yaxis\": \"y2\"}, {\"hovertemplate\": \"<b>%{hovertext}</b><br><br>Continent=Europe<br>Country Income Level=Lower middle income<br>Population Density=%{x}<br>Total Deaths Per Million=%{y}<extra></extra>\", \"hovertext\": [\"Moldova\", \"Ukraine\"], \"legendgroup\": \"Europe\", \"marker\": {\"color\": \"#EF553B\", \"symbol\": \"circle\"}, \"mode\": \"markers\", \"name\": \"Europe\", \"orientation\": \"v\", \"showlegend\": false, \"type\": \"scatter\", \"x\": [123.655, 77.39], \"xaxis\": \"x3\", \"y\": [117.25399999999999, 22.910999999999998], \"yaxis\": \"y3\"}, {\"hovertemplate\": \"<b>%{hovertext}</b><br><br>Continent=Europe<br>Country Income Level=High income<br>Population Density=%{x}<br>Total Deaths Per Million=%{y}<extra></extra>\", \"hovertext\": [\"Austria\", \"Belgium\", \"Croatia\", \"Cyprus\", \"Czech Republic\", \"Denmark\", \"Estonia\", \"Finland\", \"France\", \"Germany\", \"Greece\", \"Hungary\", \"Iceland\", \"Ireland\", \"Italy\", \"Latvia\", \"Lithuania\", \"Luxembourg\", \"Malta\", \"Netherlands\", \"Norway\", \"Poland\", \"Portugal\", \"San Marino\", \"Slovenia\", \"Spain\", \"Sweden\", \"Switzerland\", \"United Kingdom\"], \"legendgroup\": \"Europe\", \"marker\": {\"color\": \"#EF553B\", \"symbol\": \"circle\"}, \"mode\": \"markers\", \"name\": \"Europe\", \"orientation\": \"v\", \"showlegend\": false, \"type\": \"scatter\", \"x\": [106.749, 375.564, 73.726, 127.65700000000001, 137.17600000000002, 136.52, 31.033, 18.136, 122.57799999999999, 237.016, 83.479, 108.04299999999999, 3.404, 69.874, 205.859, 31.212, 45.135, 231.447, 1454.037, 508.54400000000004, 14.462, 124.027, 112.37100000000001, 556.6669999999999, 102.619, 93.105, 24.718000000000004, 214.243, 272.89799999999997], \"xaxis\": \"x4\", \"y\": [76.612, 836.6110000000001, 26.064, 21.691999999999997, 31.375999999999998, 103.588, 52.015, 58.836999999999996, 454.089, 106.04700000000001, 18.229, 59.211000000000006, 29.304000000000002, 347.32099999999997, 572.8240000000001, 15.905, 27.918000000000003, 175.726, 20.383, 355.416, 45.008, 35.829, 150.048, 1237.5510000000002, 52.431000000000004, 614.953, 500.333, 194.11599999999999, 627.994], \"yaxis\": \"y4\"}, {\"hovertemplate\": \"<b>%{hovertext}</b><br><br>Continent=Africa<br>Country Income Level=Low income<br>Population Density=%{x}<br>Total Deaths Per Million=%{y}<extra></extra>\", \"hovertext\": [\"Benin\", \"Burkina Faso\", \"Burundi\", \"Central African Republic\", \"Chad\", \"Eritrea\", \"Ethiopia\", \"Guinea\", \"Guinea-Bissau\", \"Liberia\", \"Madagascar\", \"Malawi\", \"Mali\", \"Mozambique\", \"Niger\", \"Rwanda\", \"Sierra Leone\", \"Tanzania\", \"Togo\", \"Uganda\"], \"legendgroup\": \"Africa\", \"marker\": {\"color\": \"#00cc96\", \"symbol\": \"circle\"}, \"mode\": \"markers\", \"name\": \"Africa\", \"orientation\": \"v\", \"showlegend\": true, \"type\": \"scatter\", \"x\": [99.11, 70.15100000000001, 423.06199999999995, 7.479, 11.833, 44.303999999999995, 104.95700000000001, 51.755, 66.191, 49.126999999999995, 43.951, 197.519, 15.196, 37.728, 16.955, 494.869, 104.7, 64.699, 143.366, 213.75900000000001], \"xaxis\": \"x\", \"y\": [1.072, 2.535, 0.084, 4.762, 4.505, 0.0, 0.644, 2.056, 8.638, 6.722, 0.506, 0.575, 5.481, 0.16, 2.7680000000000002, 0.154, 6.895, 0.35200000000000004, 1.57, 0.0], \"yaxis\": \"y\"}, {\"hovertemplate\": \"<b>%{hovertext}</b><br><br>Continent=Africa<br>Country Income Level=Upper middle income<br>Population Density=%{x}<br>Total Deaths Per Million=%{y}<extra></extra>\", \"hovertext\": [\"Algeria\", \"Botswana\", \"Equatorial Guinea\", \"Gabon\", \"Libya\", \"Mauritius\", \"Namibia\", \"South Africa\"], \"legendgroup\": \"Africa\", \"marker\": {\"color\": \"#00cc96\", \"symbol\": \"circle\"}, \"mode\": \"markers\", \"name\": \"Africa\", \"orientation\": \"v\", \"showlegend\": false, \"type\": \"scatter\", \"x\": [17.348, 4.044, 45.193999999999996, 7.859, 3.623, 622.962, 3.0780000000000003, 46.754], \"xaxis\": \"x2\", \"y\": [19.27, 0.425, 22.809, 15.276, 1.455, 7.8629999999999995, 0.0, 32.542], \"yaxis\": \"y2\"}, {\"hovertemplate\": \"<b>%{hovertext}</b><br><br>Continent=Africa<br>Country Income Level=Lower middle income<br>Population Density=%{x}<br>Total Deaths Per Million=%{y}<extra></extra>\", \"hovertext\": [\"Angola\", \"Cameroon\", \"Cote d'Ivoire\", \"Djibouti\", \"Ghana\", \"Kenya\", \"Lesotho\", \"Mauritania\", \"Morocco\", \"Nigeria\", \"Sao Tome and Principe\", \"Senegal\", \"Sudan\", \"Tunisia\", \"Zambia\", \"Zimbabwe\"], \"legendgroup\": \"Africa\", \"marker\": {\"color\": \"#00cc96\", \"symbol\": \"circle\"}, \"mode\": \"markers\", \"name\": \"Africa\", \"orientation\": \"v\", \"showlegend\": false, \"type\": \"scatter\", \"x\": [23.89, 50.885, 76.399, 41.285, 126.719, 87.324, 73.562, 4.289, 80.08, 209.588, 212.84099999999998, 82.32799999999999, 23.258000000000003, 74.22800000000001, 22.995, 42.729], \"xaxis\": \"x3\", \"y\": [0.27399999999999997, 11.339, 1.933, 45.54600000000001, 2.735, 2.287, 0.0, 23.228, 5.797999999999999, 2.513, 54.754, 5.0169999999999995, 11.882, 4.231, 0.598, 0.40399999999999997], \"yaxis\": \"y3\"}, {\"hovertemplate\": \"<b>%{hovertext}</b><br><br>Continent=Africa<br>Country Income Level=High income<br>Population Density=%{x}<br>Total Deaths Per Million=%{y}<extra></extra>\", \"hovertext\": [\"Seychelles\"], \"legendgroup\": \"Africa\", \"marker\": {\"color\": \"#00cc96\", \"symbol\": \"circle\"}, \"mode\": \"markers\", \"name\": \"Africa\", \"orientation\": \"v\", \"showlegend\": false, \"type\": \"scatter\", \"x\": [208.354], \"xaxis\": \"x4\", \"y\": [0.0], \"yaxis\": \"y4\"}, {\"hovertemplate\": \"<b>%{hovertext}</b><br><br>Continent=North America<br>Country Income Level=Low income<br>Population Density=%{x}<br>Total Deaths Per Million=%{y}<extra></extra>\", \"hovertext\": [\"Haiti\"], \"legendgroup\": \"North America\", \"marker\": {\"color\": \"#ab63fa\", \"symbol\": \"circle\"}, \"mode\": \"markers\", \"name\": \"North America\", \"orientation\": \"v\", \"showlegend\": true, \"type\": \"scatter\", \"x\": [398.44800000000004], \"xaxis\": \"x\", \"y\": [7.718], \"yaxis\": \"y\"}, {\"hovertemplate\": \"<b>%{hovertext}</b><br><br>Continent=North America<br>Country Income Level=Upper middle income<br>Population Density=%{x}<br>Total Deaths Per Million=%{y}<extra></extra>\", \"hovertext\": [\"Belize\", \"Costa Rica\", \"Dominica\", \"Dominican Republic\", \"Grenada\", \"Guatemala\", \"Jamaica\", \"Mexico\"], \"legendgroup\": \"North America\", \"marker\": {\"color\": \"#ab63fa\", \"symbol\": \"circle\"}, \"mode\": \"markers\", \"name\": \"North America\", \"orientation\": \"v\", \"showlegend\": false, \"type\": \"scatter\", \"x\": [16.426, 96.079, 98.56700000000001, 222.873, 317.132, 157.834, 266.879, 66.444], \"xaxis\": \"x2\", \"y\": [5.03, 2.356, 0.0, 61.026, 0.0, 29.639, 3.377, 169.274], \"yaxis\": \"y2\"}, {\"hovertemplate\": \"<b>%{hovertext}</b><br><br>Continent=North America<br>Country Income Level=Lower middle income<br>Population Density=%{x}<br>Total Deaths Per Million=%{y}<extra></extra>\", \"hovertext\": [\"El Salvador\", \"Honduras\", \"Nicaragua\"], \"legendgroup\": \"North America\", \"marker\": {\"color\": \"#ab63fa\", \"symbol\": \"circle\"}, \"mode\": \"markers\", \"name\": \"North America\", \"orientation\": \"v\", \"showlegend\": false, \"type\": \"scatter\", \"x\": [307.811, 82.805, 51.667], \"xaxis\": \"x3\", \"y\": [16.497, 36.65, 9.661], \"yaxis\": \"y3\"}, {\"hovertemplate\": \"<b>%{hovertext}</b><br><br>Continent=North America<br>Country Income Level=High income<br>Population Density=%{x}<br>Total Deaths Per Million=%{y}<extra></extra>\", \"hovertext\": [\"Antigua and Barbuda\", \"Aruba\", \"Barbados\", \"Bermuda\", \"Canada\", \"Cayman Islands\", \"Panama\", \"Puerto Rico\", \"Sint Maarten (Dutch part)\", \"Trinidad and Tobago\", \"United States\"], \"legendgroup\": \"North America\", \"marker\": {\"color\": \"#ab63fa\", \"symbol\": \"circle\"}, \"mode\": \"markers\", \"name\": \"North America\", \"orientation\": \"v\", \"showlegend\": false, \"type\": \"scatter\", \"x\": [231.845, 584.8, 664.4630000000001, 1308.82, 4.037, 256.496, 55.133, 376.23199999999997, 1209.088, 266.88599999999997, 35.608000000000004], \"xaxis\": \"x4\", \"y\": [30.635, 28.099, 24.359, 144.525, 223.358, 15.216, 116.113, 52.083, 349.79699999999997, 5.716, 362.459], \"yaxis\": \"y4\"}, {\"hovertemplate\": \"<b>%{hovertext}</b><br><br>Continent=South America<br>Country Income Level=Upper middle income<br>Population Density=%{x}<br>Total Deaths Per Million=%{y}<extra></extra>\", \"hovertext\": [\"Argentina\", \"Brazil\", \"Colombia\", \"Ecuador\", \"Guyana\", \"Paraguay\", \"Peru\", \"Suriname\"], \"legendgroup\": \"South America\", \"marker\": {\"color\": \"#FFA15A\", \"symbol\": \"circle\"}, \"mode\": \"markers\", \"name\": \"South America\", \"orientation\": \"v\", \"showlegend\": true, \"type\": \"scatter\", \"x\": [16.177, 25.04, 44.223, 66.939, 3.952, 17.144000000000002, 25.129, 3.612], \"xaxis\": \"x2\", \"y\": [22.369, 238.13099999999997, 43.964, 239.358, 15.255999999999998, 1.8230000000000002, 243.99599999999998, 13.637], \"yaxis\": \"y2\"}, {\"hovertemplate\": \"<b>%{hovertext}</b><br><br>Continent=South America<br>Country Income Level=Lower middle income<br>Population Density=%{x}<br>Total Deaths Per Million=%{y}<extra></extra>\", \"hovertext\": [\"Bolivia\"], \"legendgroup\": \"South America\", \"marker\": {\"color\": \"#FFA15A\", \"symbol\": \"circle\"}, \"mode\": \"markers\", \"name\": \"South America\", \"orientation\": \"v\", \"showlegend\": false, \"type\": \"scatter\", \"x\": [10.202], \"xaxis\": \"x3\", \"y\": [66.221], \"yaxis\": \"y3\"}, {\"hovertemplate\": \"<b>%{hovertext}</b><br><br>Continent=South America<br>Country Income Level=High income<br>Population Density=%{x}<br>Total Deaths Per Million=%{y}<extra></extra>\", \"hovertext\": [\"Chile\", \"Uruguay\"], \"legendgroup\": \"South America\", \"marker\": {\"color\": \"#FFA15A\", \"symbol\": \"circle\"}, \"mode\": \"markers\", \"name\": \"South America\", \"orientation\": \"v\", \"showlegend\": false, \"type\": \"scatter\", \"x\": [24.281999999999996, 19.750999999999998], \"xaxis\": \"x4\", \"y\": [234.304, 7.197], \"yaxis\": \"y4\"}, {\"hovertemplate\": \"<b>%{hovertext}</b><br><br>Continent=Oceania<br>Country Income Level=Upper middle income<br>Population Density=%{x}<br>Total Deaths Per Million=%{y}<extra></extra>\", \"hovertext\": [\"Fiji\"], \"legendgroup\": \"Oceania\", \"marker\": {\"color\": \"#19d3f3\", \"symbol\": \"circle\"}, \"mode\": \"markers\", \"name\": \"Oceania\", \"orientation\": \"v\", \"showlegend\": true, \"type\": \"scatter\", \"x\": [49.562], \"xaxis\": \"x2\", \"y\": [0.0], \"yaxis\": \"y2\"}, {\"hovertemplate\": \"<b>%{hovertext}</b><br><br>Continent=Oceania<br>Country Income Level=Lower middle income<br>Population Density=%{x}<br>Total Deaths Per Million=%{y}<extra></extra>\", \"hovertext\": [\"Papua New Guinea\"], \"legendgroup\": \"Oceania\", \"marker\": {\"color\": \"#19d3f3\", \"symbol\": \"circle\"}, \"mode\": \"markers\", \"name\": \"Oceania\", \"orientation\": \"v\", \"showlegend\": false, \"type\": \"scatter\", \"x\": [18.22], \"xaxis\": \"x3\", \"y\": [0.0], \"yaxis\": \"y3\"}, {\"hovertemplate\": \"<b>%{hovertext}</b><br><br>Continent=Oceania<br>Country Income Level=High income<br>Population Density=%{x}<br>Total Deaths Per Million=%{y}<extra></extra>\", \"hovertext\": [\"Australia\", \"New Zealand\"], \"legendgroup\": \"Oceania\", \"marker\": {\"color\": \"#19d3f3\", \"symbol\": \"circle\"}, \"mode\": \"markers\", \"name\": \"Oceania\", \"orientation\": \"v\", \"showlegend\": false, \"type\": \"scatter\", \"x\": [3.202, 18.206], \"xaxis\": \"x4\", \"y\": [4.0, 4.562], \"yaxis\": \"y4\"}],\n",
       "                        {\"annotations\": [{\"font\": {}, \"showarrow\": false, \"text\": \"Country Income Level=Low income\", \"x\": 0.1175, \"xanchor\": \"center\", \"xref\": \"paper\", \"y\": 1.0, \"yanchor\": \"bottom\", \"yref\": \"paper\"}, {\"font\": {}, \"showarrow\": false, \"text\": \"Country Income Level=Upper middle income\", \"x\": 0.3725, \"xanchor\": \"center\", \"xref\": \"paper\", \"y\": 1.0, \"yanchor\": \"bottom\", \"yref\": \"paper\"}, {\"font\": {}, \"showarrow\": false, \"text\": \"Country Income Level=Lower middle income\", \"x\": 0.6275, \"xanchor\": \"center\", \"xref\": \"paper\", \"y\": 1.0, \"yanchor\": \"bottom\", \"yref\": \"paper\"}, {\"font\": {}, \"showarrow\": false, \"text\": \"Country Income Level=High income\", \"x\": 0.8824999999999998, \"xanchor\": \"center\", \"xref\": \"paper\", \"y\": 1.0, \"yanchor\": \"bottom\", \"yref\": \"paper\"}], \"legend\": {\"title\": {\"text\": \"Continent\"}, \"tracegroupgap\": 0}, \"margin\": {\"t\": 60}, \"template\": {\"data\": {\"bar\": [{\"error_x\": {\"color\": \"#2a3f5f\"}, \"error_y\": {\"color\": \"#2a3f5f\"}, \"marker\": {\"line\": {\"color\": \"#E5ECF6\", \"width\": 0.5}}, \"type\": \"bar\"}], \"barpolar\": [{\"marker\": {\"line\": {\"color\": \"#E5ECF6\", \"width\": 0.5}}, \"type\": \"barpolar\"}], \"carpet\": [{\"aaxis\": {\"endlinecolor\": \"#2a3f5f\", \"gridcolor\": \"white\", \"linecolor\": \"white\", \"minorgridcolor\": \"white\", \"startlinecolor\": \"#2a3f5f\"}, \"baxis\": {\"endlinecolor\": \"#2a3f5f\", \"gridcolor\": \"white\", \"linecolor\": \"white\", \"minorgridcolor\": \"white\", \"startlinecolor\": \"#2a3f5f\"}, \"type\": \"carpet\"}], \"choropleth\": [{\"colorbar\": {\"outlinewidth\": 0, \"ticks\": \"\"}, \"type\": \"choropleth\"}], \"contour\": [{\"colorbar\": {\"outlinewidth\": 0, \"ticks\": \"\"}, \"colorscale\": [[0.0, \"#0d0887\"], [0.1111111111111111, \"#46039f\"], [0.2222222222222222, \"#7201a8\"], [0.3333333333333333, \"#9c179e\"], [0.4444444444444444, \"#bd3786\"], [0.5555555555555556, \"#d8576b\"], [0.6666666666666666, \"#ed7953\"], [0.7777777777777778, \"#fb9f3a\"], [0.8888888888888888, \"#fdca26\"], [1.0, \"#f0f921\"]], \"type\": \"contour\"}], \"contourcarpet\": [{\"colorbar\": {\"outlinewidth\": 0, \"ticks\": \"\"}, \"type\": \"contourcarpet\"}], \"heatmap\": [{\"colorbar\": {\"outlinewidth\": 0, \"ticks\": \"\"}, \"colorscale\": [[0.0, \"#0d0887\"], [0.1111111111111111, \"#46039f\"], [0.2222222222222222, \"#7201a8\"], [0.3333333333333333, \"#9c179e\"], [0.4444444444444444, \"#bd3786\"], [0.5555555555555556, \"#d8576b\"], [0.6666666666666666, \"#ed7953\"], [0.7777777777777778, \"#fb9f3a\"], [0.8888888888888888, \"#fdca26\"], [1.0, \"#f0f921\"]], \"type\": \"heatmap\"}], \"heatmapgl\": [{\"colorbar\": {\"outlinewidth\": 0, \"ticks\": \"\"}, \"colorscale\": [[0.0, \"#0d0887\"], [0.1111111111111111, \"#46039f\"], [0.2222222222222222, \"#7201a8\"], [0.3333333333333333, \"#9c179e\"], [0.4444444444444444, \"#bd3786\"], [0.5555555555555556, \"#d8576b\"], [0.6666666666666666, \"#ed7953\"], [0.7777777777777778, \"#fb9f3a\"], [0.8888888888888888, \"#fdca26\"], [1.0, \"#f0f921\"]], \"type\": \"heatmapgl\"}], \"histogram\": [{\"marker\": {\"colorbar\": {\"outlinewidth\": 0, \"ticks\": \"\"}}, \"type\": \"histogram\"}], \"histogram2d\": [{\"colorbar\": {\"outlinewidth\": 0, \"ticks\": \"\"}, \"colorscale\": [[0.0, \"#0d0887\"], [0.1111111111111111, \"#46039f\"], [0.2222222222222222, \"#7201a8\"], [0.3333333333333333, \"#9c179e\"], [0.4444444444444444, \"#bd3786\"], [0.5555555555555556, \"#d8576b\"], [0.6666666666666666, \"#ed7953\"], [0.7777777777777778, \"#fb9f3a\"], [0.8888888888888888, \"#fdca26\"], [1.0, \"#f0f921\"]], \"type\": \"histogram2d\"}], \"histogram2dcontour\": [{\"colorbar\": {\"outlinewidth\": 0, \"ticks\": \"\"}, \"colorscale\": [[0.0, \"#0d0887\"], [0.1111111111111111, \"#46039f\"], [0.2222222222222222, \"#7201a8\"], [0.3333333333333333, \"#9c179e\"], [0.4444444444444444, \"#bd3786\"], [0.5555555555555556, \"#d8576b\"], [0.6666666666666666, \"#ed7953\"], [0.7777777777777778, \"#fb9f3a\"], [0.8888888888888888, \"#fdca26\"], [1.0, \"#f0f921\"]], \"type\": \"histogram2dcontour\"}], \"mesh3d\": [{\"colorbar\": {\"outlinewidth\": 0, \"ticks\": \"\"}, \"type\": \"mesh3d\"}], \"parcoords\": [{\"line\": {\"colorbar\": {\"outlinewidth\": 0, \"ticks\": \"\"}}, \"type\": \"parcoords\"}], \"pie\": [{\"automargin\": true, \"type\": \"pie\"}], \"scatter\": [{\"marker\": {\"colorbar\": {\"outlinewidth\": 0, \"ticks\": \"\"}}, \"type\": \"scatter\"}], \"scatter3d\": [{\"line\": {\"colorbar\": {\"outlinewidth\": 0, \"ticks\": \"\"}}, \"marker\": {\"colorbar\": {\"outlinewidth\": 0, \"ticks\": \"\"}}, \"type\": \"scatter3d\"}], \"scattercarpet\": [{\"marker\": {\"colorbar\": {\"outlinewidth\": 0, \"ticks\": \"\"}}, \"type\": \"scattercarpet\"}], \"scattergeo\": [{\"marker\": {\"colorbar\": {\"outlinewidth\": 0, \"ticks\": \"\"}}, \"type\": \"scattergeo\"}], \"scattergl\": [{\"marker\": {\"colorbar\": {\"outlinewidth\": 0, \"ticks\": \"\"}}, \"type\": \"scattergl\"}], \"scattermapbox\": [{\"marker\": {\"colorbar\": {\"outlinewidth\": 0, \"ticks\": \"\"}}, \"type\": \"scattermapbox\"}], \"scatterpolar\": [{\"marker\": {\"colorbar\": {\"outlinewidth\": 0, \"ticks\": \"\"}}, \"type\": \"scatterpolar\"}], \"scatterpolargl\": [{\"marker\": {\"colorbar\": {\"outlinewidth\": 0, \"ticks\": \"\"}}, \"type\": \"scatterpolargl\"}], \"scatterternary\": [{\"marker\": {\"colorbar\": {\"outlinewidth\": 0, \"ticks\": \"\"}}, \"type\": \"scatterternary\"}], \"surface\": [{\"colorbar\": {\"outlinewidth\": 0, \"ticks\": \"\"}, \"colorscale\": [[0.0, \"#0d0887\"], [0.1111111111111111, \"#46039f\"], [0.2222222222222222, \"#7201a8\"], [0.3333333333333333, \"#9c179e\"], [0.4444444444444444, \"#bd3786\"], [0.5555555555555556, \"#d8576b\"], [0.6666666666666666, \"#ed7953\"], [0.7777777777777778, \"#fb9f3a\"], [0.8888888888888888, \"#fdca26\"], [1.0, \"#f0f921\"]], \"type\": \"surface\"}], \"table\": [{\"cells\": {\"fill\": {\"color\": \"#EBF0F8\"}, \"line\": {\"color\": \"white\"}}, \"header\": {\"fill\": {\"color\": \"#C8D4E3\"}, \"line\": {\"color\": \"white\"}}, \"type\": \"table\"}]}, \"layout\": {\"annotationdefaults\": {\"arrowcolor\": \"#2a3f5f\", \"arrowhead\": 0, \"arrowwidth\": 1}, \"coloraxis\": {\"colorbar\": {\"outlinewidth\": 0, \"ticks\": \"\"}}, \"colorscale\": {\"diverging\": [[0, \"#8e0152\"], [0.1, \"#c51b7d\"], [0.2, \"#de77ae\"], [0.3, \"#f1b6da\"], [0.4, \"#fde0ef\"], [0.5, \"#f7f7f7\"], [0.6, \"#e6f5d0\"], [0.7, \"#b8e186\"], [0.8, \"#7fbc41\"], [0.9, \"#4d9221\"], [1, \"#276419\"]], \"sequential\": [[0.0, \"#0d0887\"], [0.1111111111111111, \"#46039f\"], [0.2222222222222222, \"#7201a8\"], [0.3333333333333333, \"#9c179e\"], [0.4444444444444444, \"#bd3786\"], [0.5555555555555556, \"#d8576b\"], [0.6666666666666666, \"#ed7953\"], [0.7777777777777778, \"#fb9f3a\"], [0.8888888888888888, \"#fdca26\"], [1.0, \"#f0f921\"]], \"sequentialminus\": [[0.0, \"#0d0887\"], [0.1111111111111111, \"#46039f\"], [0.2222222222222222, \"#7201a8\"], [0.3333333333333333, \"#9c179e\"], [0.4444444444444444, \"#bd3786\"], [0.5555555555555556, \"#d8576b\"], [0.6666666666666666, \"#ed7953\"], [0.7777777777777778, \"#fb9f3a\"], [0.8888888888888888, \"#fdca26\"], [1.0, \"#f0f921\"]]}, \"colorway\": [\"#636efa\", \"#EF553B\", \"#00cc96\", \"#ab63fa\", \"#FFA15A\", \"#19d3f3\", \"#FF6692\", \"#B6E880\", \"#FF97FF\", \"#FECB52\"], \"font\": {\"color\": \"#2a3f5f\"}, \"geo\": {\"bgcolor\": \"white\", \"lakecolor\": \"white\", \"landcolor\": \"#E5ECF6\", \"showlakes\": true, \"showland\": true, \"subunitcolor\": \"white\"}, \"hoverlabel\": {\"align\": \"left\"}, \"hovermode\": \"closest\", \"mapbox\": {\"style\": \"light\"}, \"paper_bgcolor\": \"white\", \"plot_bgcolor\": \"#E5ECF6\", \"polar\": {\"angularaxis\": {\"gridcolor\": \"white\", \"linecolor\": \"white\", \"ticks\": \"\"}, \"bgcolor\": \"#E5ECF6\", \"radialaxis\": {\"gridcolor\": \"white\", \"linecolor\": \"white\", \"ticks\": \"\"}}, \"scene\": {\"xaxis\": {\"backgroundcolor\": \"#E5ECF6\", \"gridcolor\": \"white\", \"gridwidth\": 2, \"linecolor\": \"white\", \"showbackground\": true, \"ticks\": \"\", \"zerolinecolor\": \"white\"}, \"yaxis\": {\"backgroundcolor\": \"#E5ECF6\", \"gridcolor\": \"white\", \"gridwidth\": 2, \"linecolor\": \"white\", \"showbackground\": true, \"ticks\": \"\", \"zerolinecolor\": \"white\"}, \"zaxis\": {\"backgroundcolor\": \"#E5ECF6\", \"gridcolor\": \"white\", \"gridwidth\": 2, \"linecolor\": \"white\", \"showbackground\": true, \"ticks\": \"\", \"zerolinecolor\": \"white\"}}, \"shapedefaults\": {\"line\": {\"color\": \"#2a3f5f\"}}, \"ternary\": {\"aaxis\": {\"gridcolor\": \"white\", \"linecolor\": \"white\", \"ticks\": \"\"}, \"baxis\": {\"gridcolor\": \"white\", \"linecolor\": \"white\", \"ticks\": \"\"}, \"bgcolor\": \"#E5ECF6\", \"caxis\": {\"gridcolor\": \"white\", \"linecolor\": \"white\", \"ticks\": \"\"}}, \"title\": {\"x\": 0.05}, \"xaxis\": {\"automargin\": true, \"gridcolor\": \"white\", \"linecolor\": \"white\", \"ticks\": \"\", \"title\": {\"standoff\": 15}, \"zerolinecolor\": \"white\", \"zerolinewidth\": 2}, \"yaxis\": {\"automargin\": true, \"gridcolor\": \"white\", \"linecolor\": \"white\", \"ticks\": \"\", \"title\": {\"standoff\": 15}, \"zerolinecolor\": \"white\", \"zerolinewidth\": 2}}}, \"title\": {\"text\": \"Population Density vs. Total deaths per million\"}, \"width\": 1500, \"xaxis\": {\"anchor\": \"y\", \"domain\": [0.0, 0.235], \"range\": [-50, 2000], \"title\": {\"text\": \"Population Density\"}}, \"xaxis2\": {\"anchor\": \"y2\", \"domain\": [0.255, 0.49], \"matches\": \"x\", \"range\": [-50, 2000], \"title\": {\"text\": \"Population Density\"}}, \"xaxis3\": {\"anchor\": \"y3\", \"domain\": [0.51, 0.745], \"matches\": \"x\", \"range\": [-50, 2000], \"title\": {\"text\": \"Population Density\"}}, \"xaxis4\": {\"anchor\": \"y4\", \"domain\": [0.7649999999999999, 0.9999999999999999], \"matches\": \"x\", \"range\": [-50, 2000], \"title\": {\"text\": \"Population Density\"}}, \"yaxis\": {\"anchor\": \"x\", \"domain\": [0.0, 1.0], \"range\": [-2, 700], \"title\": {\"text\": \"Total Deaths Per Million\"}}, \"yaxis2\": {\"anchor\": \"x2\", \"domain\": [0.0, 1.0], \"matches\": \"y\", \"range\": [-2, 700], \"showticklabels\": false}, \"yaxis3\": {\"anchor\": \"x3\", \"domain\": [0.0, 1.0], \"matches\": \"y\", \"range\": [-2, 700], \"showticklabels\": false}, \"yaxis4\": {\"anchor\": \"x4\", \"domain\": [0.0, 1.0], \"matches\": \"y\", \"range\": [-2, 700], \"showticklabels\": false}},\n",
       "                        {\"responsive\": true}\n",
       "                    ).then(function(){\n",
       "                            \n",
       "var gd = document.getElementById('49f59742-1a5a-4720-a1a3-8713deb2f379');\n",
       "var x = new MutationObserver(function (mutations, observer) {{\n",
       "        var display = window.getComputedStyle(gd).display;\n",
       "        if (!display || display === 'none') {{\n",
       "            console.log([gd, 'removed!']);\n",
       "            Plotly.purge(gd);\n",
       "            observer.disconnect();\n",
       "        }}\n",
       "}});\n",
       "\n",
       "// Listen for the removal of the full notebook cells\n",
       "var notebookContainer = gd.closest('#notebook-container');\n",
       "if (notebookContainer) {{\n",
       "    x.observe(notebookContainer, {childList: true});\n",
       "}}\n",
       "\n",
       "// Listen for the clearing of the current output cell\n",
       "var outputEl = gd.closest('.output');\n",
       "if (outputEl) {{\n",
       "    x.observe(outputEl, {childList: true});\n",
       "}}\n",
       "\n",
       "                        })\n",
       "                };\n",
       "                });\n",
       "            </script>\n",
       "        </div>"
      ]
     },
     "metadata": {},
     "output_type": "display_data"
    },
    {
     "data": {
      "application/vnd.plotly.v1+json": {
       "config": {
        "plotlyServerURL": "https://plot.ly"
       },
       "data": [
        {
         "hovertemplate": "<b>%{hovertext}</b><br><br>GDP Per Capita=%{x}<br>Total Deaths Per Million=%{y}<extra></extra>",
         "hovertext": [
          "Afghanistan",
          "Albania",
          "Algeria",
          "Angola",
          "Antigua and Barbuda",
          "Argentina",
          "Armenia",
          "Aruba",
          "Australia",
          "Austria",
          "Azerbaijan",
          "Bahrain",
          "Bangladesh",
          "Barbados",
          "Belarus",
          "Belgium",
          "Belize",
          "Benin",
          "Bermuda",
          "Bhutan",
          "Bolivia",
          "Bosnia and Herzegovina",
          "Botswana",
          "Brazil",
          "Bulgaria",
          "Burkina Faso",
          "Burundi",
          "Cambodia",
          "Cameroon",
          "Canada",
          "Cayman Islands",
          "Central African Republic",
          "Chad",
          "Chile",
          "China",
          "Colombia",
          "Costa Rica",
          "Cote d'Ivoire",
          "Croatia",
          "Cyprus",
          "Czech Republic",
          "Denmark",
          "Djibouti",
          "Dominica",
          "Dominican Republic",
          "Ecuador",
          "El Salvador",
          "Equatorial Guinea",
          "Eritrea",
          "Estonia",
          "Ethiopia",
          "Fiji",
          "Finland",
          "France",
          "Gabon",
          "Georgia",
          "Germany",
          "Ghana",
          "Greece",
          "Grenada",
          "Guatemala",
          "Guinea",
          "Guinea-Bissau",
          "Guyana",
          "Haiti",
          "Honduras",
          "Hungary",
          "Iceland",
          "India",
          "Indonesia",
          "Iraq",
          "Ireland",
          "Israel",
          "Italy",
          "Jamaica",
          "Japan",
          "Jordan",
          "Kazakhstan",
          "Kenya",
          "Kuwait",
          "Latvia",
          "Lebanon",
          "Lesotho",
          "Liberia",
          "Libya",
          "Lithuania",
          "Luxembourg",
          "Madagascar",
          "Malawi",
          "Malaysia",
          "Maldives",
          "Mali",
          "Malta",
          "Mauritania",
          "Mauritius",
          "Mexico",
          "Moldova",
          "Mongolia",
          "Montenegro",
          "Morocco",
          "Mozambique",
          "Myanmar",
          "Namibia",
          "Nepal",
          "Netherlands",
          "New Zealand",
          "Nicaragua",
          "Niger",
          "Nigeria",
          "Norway",
          "Oman",
          "Pakistan",
          "Panama",
          "Papua New Guinea",
          "Paraguay",
          "Peru",
          "Philippines",
          "Poland",
          "Portugal",
          "Puerto Rico",
          "Qatar",
          "Romania",
          "Rwanda",
          "San Marino",
          "Sao Tome and Principe",
          "Saudi Arabia",
          "Senegal",
          "Serbia",
          "Seychelles",
          "Sierra Leone",
          "Singapore",
          "Sint Maarten (Dutch part)",
          "Slovenia",
          "South Africa",
          "Spain",
          "Sri Lanka",
          "Sudan",
          "Suriname",
          "Sweden",
          "Switzerland",
          "Tajikistan",
          "Tanzania",
          "Thailand",
          "Togo",
          "Trinidad and Tobago",
          "Tunisia",
          "Turkey",
          "Uganda",
          "Ukraine",
          "United Arab Emirates",
          "United Kingdom",
          "United States",
          "Uruguay",
          "Uzbekistan",
          "Vietnam",
          "Zambia",
          "Zimbabwe"
         ],
         "legendgroup": "",
         "marker": {
          "color": "#636efa",
          "symbol": "circle"
         },
         "mode": "markers",
         "name": "",
         "orientation": "v",
         "showlegend": false,
         "type": "scatter",
         "x": [
          1803.987,
          11803.431,
          13913.839,
          5819.495,
          21490.943,
          18933.907,
          8787.58,
          35973.781,
          44648.71,
          45436.685999999994,
          15847.419,
          43290.705,
          3523.9840000000004,
          16978.068,
          17167.967,
          42658.575999999994,
          7824.361999999999,
          2064.236,
          50669.315,
          8708.597,
          6885.829000000001,
          11713.895,
          15807.374,
          14103.452,
          18563.307,
          1703.102,
          702.225,
          3645.07,
          3364.926,
          44017.59099999999,
          49903.029,
          661.24,
          1768.1529999999998,
          22767.037,
          15308.712,
          13254.948999999999,
          15524.995,
          3601.006,
          22669.797000000002,
          32415.132,
          32605.906000000003,
          46682.515,
          2705.406,
          9673.367,
          14600.861,
          10581.936000000002,
          7292.4580000000005,
          22604.873,
          1510.4589999999998,
          29481.252,
          1729.9270000000001,
          8702.975,
          40585.721,
          38605.671,
          16562.413,
          9745.079,
          45229.245,
          4227.63,
          24574.382,
          13593.877,
          7423.808000000001,
          1998.9260000000002,
          1548.675,
          7435.047,
          1653.1729999999998,
          4541.795,
          26777.561,
          46482.958,
          6426.674,
          11188.743999999999,
          15663.986,
          67335.293,
          33132.32,
          35220.084,
          8193.571,
          39002.223,
          8337.49,
          24055.588,
          2993.028,
          65530.537000000004,
          25063.846,
          13367.565,
          2851.153,
          752.788,
          17881.509,
          29524.265,
          94277.965,
          1416.44,
          1095.042,
          26808.164,
          15183.616000000002,
          2014.306,
          36513.323,
          3597.633,
          20292.745,
          17336.468999999997,
          5189.972,
          11840.846000000001,
          16409.288,
          7485.013000000001,
          1136.103,
          5591.597,
          9541.808,
          2442.804,
          48472.545,
          36085.843,
          5321.444,
          926,
          5338.454000000001,
          64800.057,
          37960.709,
          5034.708,
          22267.037,
          3823.1940000000004,
          8827.01,
          12236.706,
          7599.188,
          27216.445,
          27936.896,
          35044.67,
          116935.6,
          23313.199,
          1854.211,
          56861.47,
          3052.7140000000004,
          49045.41099999999,
          2470.58,
          14048.881000000001,
          26382.287,
          1390.3,
          85535.383,
          36327.232,
          31400.84,
          12294.876,
          34272.36,
          11669.077,
          4466.5070000000005,
          13767.118999999999,
          46949.282999999996,
          57410.166,
          2896.913,
          2683.304,
          16277.671,
          1429.8129999999999,
          28763.071,
          10849.296999999999,
          25129.341,
          1697.707,
          7894.393,
          67293.483,
          39753.244,
          54225.445999999996,
          20551.409,
          6253.104,
          6171.884,
          3689.2509999999997,
          1899.775
         ],
         "xaxis": "x",
         "y": [
          14.925,
          15.289000000000001,
          19.27,
          0.27399999999999997,
          30.635,
          22.369,
          121.48899999999999,
          28.099,
          4,
          76.612,
          15.189,
          37.024,
          8.889,
          24.359,
          36.616,
          836.6110000000001,
          5.03,
          1.072,
          144.525,
          0,
          66.221,
          51.512,
          0.425,
          238.13099999999997,
          28.64,
          2.535,
          0.084,
          0,
          11.339,
          223.358,
          15.216,
          4.762,
          4.505,
          234.304,
          3.2230000000000003,
          43.964,
          2.356,
          1.933,
          26.064,
          21.691999999999997,
          31.375999999999998,
          103.588,
          45.54600000000001,
          0,
          61.026,
          239.358,
          16.497,
          22.809,
          0,
          52.015,
          0.644,
          0,
          58.836999999999996,
          454.089,
          15.276,
          3.509,
          106.04700000000001,
          2.735,
          18.229,
          0,
          29.639,
          2.056,
          8.638,
          15.255999999999998,
          7.718,
          36.65,
          59.211000000000006,
          29.304000000000002,
          9.927,
          9.012,
          27.348000000000003,
          347.32099999999997,
          35.353,
          572.8240000000001,
          3.377,
          7.535,
          0.882,
          6.391,
          2.287,
          76.337,
          15.905,
          4.688,
          0,
          6.722,
          1.455,
          27.918000000000003,
          175.726,
          0.506,
          0.575,
          3.738,
          14.8,
          5.481,
          20.383,
          23.228,
          7.8629999999999995,
          169.274,
          117.25399999999999,
          0,
          14.33,
          5.797999999999999,
          0.16,
          0.11,
          0,
          0.789,
          355.416,
          4.562,
          9.661,
          2.7680000000000002,
          2.513,
          45.008,
          25.653000000000002,
          16.252,
          116.113,
          0,
          1.8230000000000002,
          243.99599999999998,
          10.668,
          35.829,
          150.048,
          52.083,
          34.015,
          78.596,
          0.154,
          1237.5510000000002,
          54.754,
          36.394,
          5.0169999999999995,
          38.356,
          0,
          6.895,
          4.444,
          349.79699999999997,
          52.431000000000004,
          32.542,
          614.953,
          0.514,
          11.882,
          13.637,
          500.333,
          194.11599999999999,
          5.452000000000001,
          0.35200000000000004,
          0.831,
          1.57,
          5.716,
          4.231,
          58.692,
          0,
          22.910999999999998,
          30.535,
          627.994,
          362.459,
          7.197,
          0.568,
          0,
          0.598,
          0.40399999999999997
         ],
         "yaxis": "y"
        },
        {
         "hovertemplate": "<b>OLS trendline</b><br>Total Deaths Per Million = 0.00317249 * GDP Per Capita + 6.46983<br>R<sup>2</sup>=0.156579<br><br>GDP Per Capita=%{x}<br>Total Deaths Per Million=%{y} <b>(trend)</b><extra></extra>",
         "legendgroup": "",
         "marker": {
          "color": "#636efa",
          "symbol": "circle"
         },
         "mode": "lines",
         "name": "",
         "showlegend": false,
         "type": "scatter",
         "x": [
          661.24,
          702.225,
          752.788,
          926,
          1095.042,
          1136.103,
          1390.3,
          1416.44,
          1429.8129999999999,
          1510.4589999999998,
          1548.675,
          1653.1729999999998,
          1697.707,
          1703.102,
          1729.9270000000001,
          1768.1529999999998,
          1803.987,
          1854.211,
          1899.775,
          1998.9260000000002,
          2014.306,
          2064.236,
          2442.804,
          2470.58,
          2683.304,
          2705.406,
          2851.153,
          2896.913,
          2993.028,
          3052.7140000000004,
          3364.926,
          3523.9840000000004,
          3597.633,
          3601.006,
          3645.07,
          3689.2509999999997,
          3823.1940000000004,
          4227.63,
          4466.5070000000005,
          4541.795,
          5034.708,
          5189.972,
          5321.444,
          5338.454000000001,
          5591.597,
          5819.495,
          6171.884,
          6253.104,
          6426.674,
          6885.829000000001,
          7292.4580000000005,
          7423.808000000001,
          7435.047,
          7485.013000000001,
          7599.188,
          7824.361999999999,
          7894.393,
          8193.571,
          8337.49,
          8702.975,
          8708.597,
          8787.58,
          8827.01,
          9541.808,
          9673.367,
          9745.079,
          10581.936000000002,
          10849.296999999999,
          11188.743999999999,
          11669.077,
          11713.895,
          11803.431,
          11840.846000000001,
          12236.706,
          12294.876,
          13254.948999999999,
          13367.565,
          13593.877,
          13767.118999999999,
          13913.839,
          14048.881000000001,
          14103.452,
          14600.861,
          15183.616000000002,
          15308.712,
          15524.995,
          15663.986,
          15807.374,
          15847.419,
          16277.671,
          16409.288,
          16562.413,
          16978.068,
          17167.967,
          17336.468999999997,
          17881.509,
          18563.307,
          18933.907,
          20292.745,
          20551.409,
          21490.943,
          22267.037,
          22604.873,
          22669.797000000002,
          22767.037,
          23313.199,
          24055.588,
          24574.382,
          25063.846,
          25129.341,
          26382.287,
          26777.561,
          26808.164,
          27216.445,
          27936.896,
          28763.071,
          29481.252,
          29524.265,
          31400.84,
          32415.132,
          32605.906000000003,
          33132.32,
          34272.36,
          35044.67,
          35220.084,
          35973.781,
          36085.843,
          36327.232,
          36513.323,
          37960.709,
          38605.671,
          39002.223,
          39753.244,
          40585.721,
          42658.575999999994,
          43290.705,
          44017.59099999999,
          44648.71,
          45229.245,
          45436.685999999994,
          46482.958,
          46682.515,
          46949.282999999996,
          48472.545,
          49045.41099999999,
          49903.029,
          50669.315,
          54225.445999999996,
          56861.47,
          57410.166,
          64800.057,
          65530.537000000004,
          67293.483,
          67335.293,
          85535.383,
          94277.965,
          116935.6
         ],
         "xaxis": "x",
         "y": [
          8.567609349373805,
          8.697634037290843,
          8.858044877723907,
          9.407558998584854,
          9.943843817295889,
          10.074109614796473,
          10.880548204388937,
          10.9634772111512,
          11.005902980372001,
          11.261751973461116,
          11.382992024051273,
          11.714511356440061,
          11.855795227409864,
          11.872910835347216,
          11.958013000855928,
          12.079284776391287,
          12.192967945033939,
          12.3523033098246,
          12.496854850150376,
          12.81141085433879,
          12.860203820061958,
          13.018606471463633,
          14.219611377048041,
          14.307730584845617,
          14.982596309195106,
          15.052714783084147,
          15.51509634194335,
          15.660269691195117,
          15.965194002019711,
          16.15454750996204,
          17.145038369153305,
          17.64964900257305,
          17.883300051503188,
          17.89400087552037,
          18.033793674065603,
          18.173957654469717,
          18.598891088010568,
          19.881962081847696,
          20.63979805538822,
          20.87864882283723,
          22.442412614352435,
          22.93498680356192,
          23.352081003142956,
          23.406045134934317,
          24.209139915302316,
          24.932145071503776,
          26.05009724303963,
          26.307767247983435,
          26.858417121882667,
          28.31508384337949,
          29.605112117699775,
          30.02181927294933,
          30.057474938863677,
          30.21599180006809,
          30.57821136193042,
          31.29257464305841,
          31.514747606813884,
          32.463888172426756,
          32.92047041130274,
          34.07996957107725,
          34.09780533527072,
          34.348378469972474,
          34.47346992891035,
          36.74116266707608,
          37.158532873680386,
          37.386038800724585,
          40.04096304755119,
          40.88916435500968,
          41.96605810246301,
          43.48991191291206,
          43.63209677232565,
          43.916149241700786,
          44.03484812418013,
          45.29071180501064,
          45.47525581126009,
          48.52108214290761,
          48.87835578581271,
          49.596329365704875,
          50.14593866140142,
          50.61140705742894,
          51.03982706244768,
          51.21295326091835,
          52.7909805877971,
          54.639767632010674,
          55.03663400652987,
          55.722790638877335,
          56.16373882475697,
          56.618636469042634,
          56.745679012110536,
          58.11065112448533,
          58.52820533577182,
          59.013993559202255,
          60.33265676906333,
          60.93511030598555,
          61.46968197765558,
          63.198818391033704,
          65.3618188100275,
          66.53754527927366,
          70.84845138833333,
          71.66906151094825,
          74.64972797764206,
          77.1118819399279,
          78.18366479870892,
          78.38963583294891,
          78.69812920010891,
          80.43082515233887,
          82.7860501868159,
          84.43192130901261,
          85.98474316692707,
          86.19252569553818,
          90.16749001484769,
          91.42149461388927,
          91.5185824636959,
          92.81385169896383,
          95.09947854865317,
          97.72051420901326,
          99.99893949614136,
          100.13539800294569,
          106.08882190749405,
          109.30665771954108,
          109.91188718916864,
          111.58193271961048,
          115.19870337260399,
          117.64885261562478,
          118.20535256941956,
          120.59645217193285,
          120.95196825287366,
          121.71777353264933,
          122.308146210438,
          126.89997036428672,
          128.94610877512847,
          130.20416782216705,
          132.58677782934384,
          135.22780655017124,
          141.80392767917624,
          143.80935346783818,
          146.115395319766,
          148.1176168889624,
          149.95936099534077,
          150.61746643113915,
          153.9367586179474,
          154.56985210694728,
          155.41617212515519,
          160.24871247323088,
          162.06612671913257,
          164.78691512469643,
          167.21795326072657,
          178.49975937191604,
          186.86253106745883,
          188.60326612080337,
          212.04765482437597,
          214.36509862161003,
          219.95803514630413,
          220.0906771422005,
          277.830362937296,
          305.5661564261116,
          377.44737930797424
         ],
         "yaxis": "y"
        }
       ],
       "layout": {
        "legend": {
         "tracegroupgap": 0
        },
        "margin": {
         "t": 60
        },
        "template": {
         "data": {
          "bar": [
           {
            "error_x": {
             "color": "#2a3f5f"
            },
            "error_y": {
             "color": "#2a3f5f"
            },
            "marker": {
             "line": {
              "color": "#E5ECF6",
              "width": 0.5
             }
            },
            "type": "bar"
           }
          ],
          "barpolar": [
           {
            "marker": {
             "line": {
              "color": "#E5ECF6",
              "width": 0.5
             }
            },
            "type": "barpolar"
           }
          ],
          "carpet": [
           {
            "aaxis": {
             "endlinecolor": "#2a3f5f",
             "gridcolor": "white",
             "linecolor": "white",
             "minorgridcolor": "white",
             "startlinecolor": "#2a3f5f"
            },
            "baxis": {
             "endlinecolor": "#2a3f5f",
             "gridcolor": "white",
             "linecolor": "white",
             "minorgridcolor": "white",
             "startlinecolor": "#2a3f5f"
            },
            "type": "carpet"
           }
          ],
          "choropleth": [
           {
            "colorbar": {
             "outlinewidth": 0,
             "ticks": ""
            },
            "type": "choropleth"
           }
          ],
          "contour": [
           {
            "colorbar": {
             "outlinewidth": 0,
             "ticks": ""
            },
            "colorscale": [
             [
              0,
              "#0d0887"
             ],
             [
              0.1111111111111111,
              "#46039f"
             ],
             [
              0.2222222222222222,
              "#7201a8"
             ],
             [
              0.3333333333333333,
              "#9c179e"
             ],
             [
              0.4444444444444444,
              "#bd3786"
             ],
             [
              0.5555555555555556,
              "#d8576b"
             ],
             [
              0.6666666666666666,
              "#ed7953"
             ],
             [
              0.7777777777777778,
              "#fb9f3a"
             ],
             [
              0.8888888888888888,
              "#fdca26"
             ],
             [
              1,
              "#f0f921"
             ]
            ],
            "type": "contour"
           }
          ],
          "contourcarpet": [
           {
            "colorbar": {
             "outlinewidth": 0,
             "ticks": ""
            },
            "type": "contourcarpet"
           }
          ],
          "heatmap": [
           {
            "colorbar": {
             "outlinewidth": 0,
             "ticks": ""
            },
            "colorscale": [
             [
              0,
              "#0d0887"
             ],
             [
              0.1111111111111111,
              "#46039f"
             ],
             [
              0.2222222222222222,
              "#7201a8"
             ],
             [
              0.3333333333333333,
              "#9c179e"
             ],
             [
              0.4444444444444444,
              "#bd3786"
             ],
             [
              0.5555555555555556,
              "#d8576b"
             ],
             [
              0.6666666666666666,
              "#ed7953"
             ],
             [
              0.7777777777777778,
              "#fb9f3a"
             ],
             [
              0.8888888888888888,
              "#fdca26"
             ],
             [
              1,
              "#f0f921"
             ]
            ],
            "type": "heatmap"
           }
          ],
          "heatmapgl": [
           {
            "colorbar": {
             "outlinewidth": 0,
             "ticks": ""
            },
            "colorscale": [
             [
              0,
              "#0d0887"
             ],
             [
              0.1111111111111111,
              "#46039f"
             ],
             [
              0.2222222222222222,
              "#7201a8"
             ],
             [
              0.3333333333333333,
              "#9c179e"
             ],
             [
              0.4444444444444444,
              "#bd3786"
             ],
             [
              0.5555555555555556,
              "#d8576b"
             ],
             [
              0.6666666666666666,
              "#ed7953"
             ],
             [
              0.7777777777777778,
              "#fb9f3a"
             ],
             [
              0.8888888888888888,
              "#fdca26"
             ],
             [
              1,
              "#f0f921"
             ]
            ],
            "type": "heatmapgl"
           }
          ],
          "histogram": [
           {
            "marker": {
             "colorbar": {
              "outlinewidth": 0,
              "ticks": ""
             }
            },
            "type": "histogram"
           }
          ],
          "histogram2d": [
           {
            "colorbar": {
             "outlinewidth": 0,
             "ticks": ""
            },
            "colorscale": [
             [
              0,
              "#0d0887"
             ],
             [
              0.1111111111111111,
              "#46039f"
             ],
             [
              0.2222222222222222,
              "#7201a8"
             ],
             [
              0.3333333333333333,
              "#9c179e"
             ],
             [
              0.4444444444444444,
              "#bd3786"
             ],
             [
              0.5555555555555556,
              "#d8576b"
             ],
             [
              0.6666666666666666,
              "#ed7953"
             ],
             [
              0.7777777777777778,
              "#fb9f3a"
             ],
             [
              0.8888888888888888,
              "#fdca26"
             ],
             [
              1,
              "#f0f921"
             ]
            ],
            "type": "histogram2d"
           }
          ],
          "histogram2dcontour": [
           {
            "colorbar": {
             "outlinewidth": 0,
             "ticks": ""
            },
            "colorscale": [
             [
              0,
              "#0d0887"
             ],
             [
              0.1111111111111111,
              "#46039f"
             ],
             [
              0.2222222222222222,
              "#7201a8"
             ],
             [
              0.3333333333333333,
              "#9c179e"
             ],
             [
              0.4444444444444444,
              "#bd3786"
             ],
             [
              0.5555555555555556,
              "#d8576b"
             ],
             [
              0.6666666666666666,
              "#ed7953"
             ],
             [
              0.7777777777777778,
              "#fb9f3a"
             ],
             [
              0.8888888888888888,
              "#fdca26"
             ],
             [
              1,
              "#f0f921"
             ]
            ],
            "type": "histogram2dcontour"
           }
          ],
          "mesh3d": [
           {
            "colorbar": {
             "outlinewidth": 0,
             "ticks": ""
            },
            "type": "mesh3d"
           }
          ],
          "parcoords": [
           {
            "line": {
             "colorbar": {
              "outlinewidth": 0,
              "ticks": ""
             }
            },
            "type": "parcoords"
           }
          ],
          "pie": [
           {
            "automargin": true,
            "type": "pie"
           }
          ],
          "scatter": [
           {
            "marker": {
             "colorbar": {
              "outlinewidth": 0,
              "ticks": ""
             }
            },
            "type": "scatter"
           }
          ],
          "scatter3d": [
           {
            "line": {
             "colorbar": {
              "outlinewidth": 0,
              "ticks": ""
             }
            },
            "marker": {
             "colorbar": {
              "outlinewidth": 0,
              "ticks": ""
             }
            },
            "type": "scatter3d"
           }
          ],
          "scattercarpet": [
           {
            "marker": {
             "colorbar": {
              "outlinewidth": 0,
              "ticks": ""
             }
            },
            "type": "scattercarpet"
           }
          ],
          "scattergeo": [
           {
            "marker": {
             "colorbar": {
              "outlinewidth": 0,
              "ticks": ""
             }
            },
            "type": "scattergeo"
           }
          ],
          "scattergl": [
           {
            "marker": {
             "colorbar": {
              "outlinewidth": 0,
              "ticks": ""
             }
            },
            "type": "scattergl"
           }
          ],
          "scattermapbox": [
           {
            "marker": {
             "colorbar": {
              "outlinewidth": 0,
              "ticks": ""
             }
            },
            "type": "scattermapbox"
           }
          ],
          "scatterpolar": [
           {
            "marker": {
             "colorbar": {
              "outlinewidth": 0,
              "ticks": ""
             }
            },
            "type": "scatterpolar"
           }
          ],
          "scatterpolargl": [
           {
            "marker": {
             "colorbar": {
              "outlinewidth": 0,
              "ticks": ""
             }
            },
            "type": "scatterpolargl"
           }
          ],
          "scatterternary": [
           {
            "marker": {
             "colorbar": {
              "outlinewidth": 0,
              "ticks": ""
             }
            },
            "type": "scatterternary"
           }
          ],
          "surface": [
           {
            "colorbar": {
             "outlinewidth": 0,
             "ticks": ""
            },
            "colorscale": [
             [
              0,
              "#0d0887"
             ],
             [
              0.1111111111111111,
              "#46039f"
             ],
             [
              0.2222222222222222,
              "#7201a8"
             ],
             [
              0.3333333333333333,
              "#9c179e"
             ],
             [
              0.4444444444444444,
              "#bd3786"
             ],
             [
              0.5555555555555556,
              "#d8576b"
             ],
             [
              0.6666666666666666,
              "#ed7953"
             ],
             [
              0.7777777777777778,
              "#fb9f3a"
             ],
             [
              0.8888888888888888,
              "#fdca26"
             ],
             [
              1,
              "#f0f921"
             ]
            ],
            "type": "surface"
           }
          ],
          "table": [
           {
            "cells": {
             "fill": {
              "color": "#EBF0F8"
             },
             "line": {
              "color": "white"
             }
            },
            "header": {
             "fill": {
              "color": "#C8D4E3"
             },
             "line": {
              "color": "white"
             }
            },
            "type": "table"
           }
          ]
         },
         "layout": {
          "annotationdefaults": {
           "arrowcolor": "#2a3f5f",
           "arrowhead": 0,
           "arrowwidth": 1
          },
          "coloraxis": {
           "colorbar": {
            "outlinewidth": 0,
            "ticks": ""
           }
          },
          "colorscale": {
           "diverging": [
            [
             0,
             "#8e0152"
            ],
            [
             0.1,
             "#c51b7d"
            ],
            [
             0.2,
             "#de77ae"
            ],
            [
             0.3,
             "#f1b6da"
            ],
            [
             0.4,
             "#fde0ef"
            ],
            [
             0.5,
             "#f7f7f7"
            ],
            [
             0.6,
             "#e6f5d0"
            ],
            [
             0.7,
             "#b8e186"
            ],
            [
             0.8,
             "#7fbc41"
            ],
            [
             0.9,
             "#4d9221"
            ],
            [
             1,
             "#276419"
            ]
           ],
           "sequential": [
            [
             0,
             "#0d0887"
            ],
            [
             0.1111111111111111,
             "#46039f"
            ],
            [
             0.2222222222222222,
             "#7201a8"
            ],
            [
             0.3333333333333333,
             "#9c179e"
            ],
            [
             0.4444444444444444,
             "#bd3786"
            ],
            [
             0.5555555555555556,
             "#d8576b"
            ],
            [
             0.6666666666666666,
             "#ed7953"
            ],
            [
             0.7777777777777778,
             "#fb9f3a"
            ],
            [
             0.8888888888888888,
             "#fdca26"
            ],
            [
             1,
             "#f0f921"
            ]
           ],
           "sequentialminus": [
            [
             0,
             "#0d0887"
            ],
            [
             0.1111111111111111,
             "#46039f"
            ],
            [
             0.2222222222222222,
             "#7201a8"
            ],
            [
             0.3333333333333333,
             "#9c179e"
            ],
            [
             0.4444444444444444,
             "#bd3786"
            ],
            [
             0.5555555555555556,
             "#d8576b"
            ],
            [
             0.6666666666666666,
             "#ed7953"
            ],
            [
             0.7777777777777778,
             "#fb9f3a"
            ],
            [
             0.8888888888888888,
             "#fdca26"
            ],
            [
             1,
             "#f0f921"
            ]
           ]
          },
          "colorway": [
           "#636efa",
           "#EF553B",
           "#00cc96",
           "#ab63fa",
           "#FFA15A",
           "#19d3f3",
           "#FF6692",
           "#B6E880",
           "#FF97FF",
           "#FECB52"
          ],
          "font": {
           "color": "#2a3f5f"
          },
          "geo": {
           "bgcolor": "white",
           "lakecolor": "white",
           "landcolor": "#E5ECF6",
           "showlakes": true,
           "showland": true,
           "subunitcolor": "white"
          },
          "hoverlabel": {
           "align": "left"
          },
          "hovermode": "closest",
          "mapbox": {
           "style": "light"
          },
          "paper_bgcolor": "white",
          "plot_bgcolor": "#E5ECF6",
          "polar": {
           "angularaxis": {
            "gridcolor": "white",
            "linecolor": "white",
            "ticks": ""
           },
           "bgcolor": "#E5ECF6",
           "radialaxis": {
            "gridcolor": "white",
            "linecolor": "white",
            "ticks": ""
           }
          },
          "scene": {
           "xaxis": {
            "backgroundcolor": "#E5ECF6",
            "gridcolor": "white",
            "gridwidth": 2,
            "linecolor": "white",
            "showbackground": true,
            "ticks": "",
            "zerolinecolor": "white"
           },
           "yaxis": {
            "backgroundcolor": "#E5ECF6",
            "gridcolor": "white",
            "gridwidth": 2,
            "linecolor": "white",
            "showbackground": true,
            "ticks": "",
            "zerolinecolor": "white"
           },
           "zaxis": {
            "backgroundcolor": "#E5ECF6",
            "gridcolor": "white",
            "gridwidth": 2,
            "linecolor": "white",
            "showbackground": true,
            "ticks": "",
            "zerolinecolor": "white"
           }
          },
          "shapedefaults": {
           "line": {
            "color": "#2a3f5f"
           }
          },
          "ternary": {
           "aaxis": {
            "gridcolor": "white",
            "linecolor": "white",
            "ticks": ""
           },
           "baxis": {
            "gridcolor": "white",
            "linecolor": "white",
            "ticks": ""
           },
           "bgcolor": "#E5ECF6",
           "caxis": {
            "gridcolor": "white",
            "linecolor": "white",
            "ticks": ""
           }
          },
          "title": {
           "x": 0.05
          },
          "xaxis": {
           "automargin": true,
           "gridcolor": "white",
           "linecolor": "white",
           "ticks": "",
           "title": {
            "standoff": 15
           },
           "zerolinecolor": "white",
           "zerolinewidth": 2
          },
          "yaxis": {
           "automargin": true,
           "gridcolor": "white",
           "linecolor": "white",
           "ticks": "",
           "title": {
            "standoff": 15
           },
           "zerolinecolor": "white",
           "zerolinewidth": 2
          }
         }
        },
        "title": {
         "text": "GDP Per Capita vs. Total deaths per million"
        },
        "width": 1500,
        "xaxis": {
         "anchor": "y",
         "domain": [
          0,
          1
         ],
         "range": [
          -50,
          120000
         ],
         "title": {
          "text": "GDP Per Capita"
         }
        },
        "yaxis": {
         "anchor": "x",
         "domain": [
          0,
          1
         ],
         "title": {
          "text": "Total Deaths Per Million"
         }
        }
       }
      },
      "text/html": [
       "<div>\n",
       "        \n",
       "        \n",
       "            <div id=\"1c043508-3745-4c8d-a265-0377a32794e3\" class=\"plotly-graph-div\" style=\"height:525px; width:1500px;\"></div>\n",
       "            <script type=\"text/javascript\">\n",
       "                require([\"plotly\"], function(Plotly) {\n",
       "                    window.PLOTLYENV=window.PLOTLYENV || {};\n",
       "                    \n",
       "                if (document.getElementById(\"1c043508-3745-4c8d-a265-0377a32794e3\")) {\n",
       "                    Plotly.newPlot(\n",
       "                        '1c043508-3745-4c8d-a265-0377a32794e3',\n",
       "                        [{\"hovertemplate\": \"<b>%{hovertext}</b><br><br>GDP Per Capita=%{x}<br>Total Deaths Per Million=%{y}<extra></extra>\", \"hovertext\": [\"Afghanistan\", \"Albania\", \"Algeria\", \"Angola\", \"Antigua and Barbuda\", \"Argentina\", \"Armenia\", \"Aruba\", \"Australia\", \"Austria\", \"Azerbaijan\", \"Bahrain\", \"Bangladesh\", \"Barbados\", \"Belarus\", \"Belgium\", \"Belize\", \"Benin\", \"Bermuda\", \"Bhutan\", \"Bolivia\", \"Bosnia and Herzegovina\", \"Botswana\", \"Brazil\", \"Bulgaria\", \"Burkina Faso\", \"Burundi\", \"Cambodia\", \"Cameroon\", \"Canada\", \"Cayman Islands\", \"Central African Republic\", \"Chad\", \"Chile\", \"China\", \"Colombia\", \"Costa Rica\", \"Cote d'Ivoire\", \"Croatia\", \"Cyprus\", \"Czech Republic\", \"Denmark\", \"Djibouti\", \"Dominica\", \"Dominican Republic\", \"Ecuador\", \"El Salvador\", \"Equatorial Guinea\", \"Eritrea\", \"Estonia\", \"Ethiopia\", \"Fiji\", \"Finland\", \"France\", \"Gabon\", \"Georgia\", \"Germany\", \"Ghana\", \"Greece\", \"Grenada\", \"Guatemala\", \"Guinea\", \"Guinea-Bissau\", \"Guyana\", \"Haiti\", \"Honduras\", \"Hungary\", \"Iceland\", \"India\", \"Indonesia\", \"Iraq\", \"Ireland\", \"Israel\", \"Italy\", \"Jamaica\", \"Japan\", \"Jordan\", \"Kazakhstan\", \"Kenya\", \"Kuwait\", \"Latvia\", \"Lebanon\", \"Lesotho\", \"Liberia\", \"Libya\", \"Lithuania\", \"Luxembourg\", \"Madagascar\", \"Malawi\", \"Malaysia\", \"Maldives\", \"Mali\", \"Malta\", \"Mauritania\", \"Mauritius\", \"Mexico\", \"Moldova\", \"Mongolia\", \"Montenegro\", \"Morocco\", \"Mozambique\", \"Myanmar\", \"Namibia\", \"Nepal\", \"Netherlands\", \"New Zealand\", \"Nicaragua\", \"Niger\", \"Nigeria\", \"Norway\", \"Oman\", \"Pakistan\", \"Panama\", \"Papua New Guinea\", \"Paraguay\", \"Peru\", \"Philippines\", \"Poland\", \"Portugal\", \"Puerto Rico\", \"Qatar\", \"Romania\", \"Rwanda\", \"San Marino\", \"Sao Tome and Principe\", \"Saudi Arabia\", \"Senegal\", \"Serbia\", \"Seychelles\", \"Sierra Leone\", \"Singapore\", \"Sint Maarten (Dutch part)\", \"Slovenia\", \"South Africa\", \"Spain\", \"Sri Lanka\", \"Sudan\", \"Suriname\", \"Sweden\", \"Switzerland\", \"Tajikistan\", \"Tanzania\", \"Thailand\", \"Togo\", \"Trinidad and Tobago\", \"Tunisia\", \"Turkey\", \"Uganda\", \"Ukraine\", \"United Arab Emirates\", \"United Kingdom\", \"United States\", \"Uruguay\", \"Uzbekistan\", \"Vietnam\", \"Zambia\", \"Zimbabwe\"], \"legendgroup\": \"\", \"marker\": {\"color\": \"#636efa\", \"symbol\": \"circle\"}, \"mode\": \"markers\", \"name\": \"\", \"orientation\": \"v\", \"showlegend\": false, \"type\": \"scatter\", \"x\": [1803.987, 11803.431, 13913.839, 5819.495, 21490.943, 18933.907, 8787.58, 35973.781, 44648.71, 45436.685999999994, 15847.419, 43290.705, 3523.9840000000004, 16978.068, 17167.967, 42658.575999999994, 7824.361999999999, 2064.236, 50669.315, 8708.597, 6885.829000000001, 11713.895, 15807.374, 14103.452, 18563.307, 1703.102, 702.225, 3645.07, 3364.926, 44017.59099999999, 49903.029, 661.24, 1768.1529999999998, 22767.037, 15308.712, 13254.948999999999, 15524.995, 3601.006, 22669.797000000002, 32415.132, 32605.906000000003, 46682.515, 2705.406, 9673.367, 14600.861, 10581.936000000002, 7292.4580000000005, 22604.873, 1510.4589999999998, 29481.252, 1729.9270000000001, 8702.975, 40585.721, 38605.671, 16562.413, 9745.079, 45229.245, 4227.63, 24574.382, 13593.877, 7423.808000000001, 1998.9260000000002, 1548.675, 7435.047, 1653.1729999999998, 4541.795, 26777.561, 46482.958, 6426.674, 11188.743999999999, 15663.986, 67335.293, 33132.32, 35220.084, 8193.571, 39002.223, 8337.49, 24055.588, 2993.028, 65530.537000000004, 25063.846, 13367.565, 2851.153, 752.788, 17881.509, 29524.265, 94277.965, 1416.44, 1095.042, 26808.164, 15183.616000000002, 2014.306, 36513.323, 3597.633, 20292.745, 17336.468999999997, 5189.972, 11840.846000000001, 16409.288, 7485.013000000001, 1136.103, 5591.597, 9541.808, 2442.804, 48472.545, 36085.843, 5321.444, 926.0, 5338.454000000001, 64800.057, 37960.709, 5034.708, 22267.037, 3823.1940000000004, 8827.01, 12236.706, 7599.188, 27216.445, 27936.896, 35044.67, 116935.6, 23313.199, 1854.211, 56861.47, 3052.7140000000004, 49045.41099999999, 2470.58, 14048.881000000001, 26382.287, 1390.3, 85535.383, 36327.232, 31400.84, 12294.876, 34272.36, 11669.077, 4466.5070000000005, 13767.118999999999, 46949.282999999996, 57410.166, 2896.913, 2683.304, 16277.671, 1429.8129999999999, 28763.071, 10849.296999999999, 25129.341, 1697.707, 7894.393, 67293.483, 39753.244, 54225.445999999996, 20551.409, 6253.104, 6171.884, 3689.2509999999997, 1899.775], \"xaxis\": \"x\", \"y\": [14.925, 15.289000000000001, 19.27, 0.27399999999999997, 30.635, 22.369, 121.48899999999999, 28.099, 4.0, 76.612, 15.189, 37.024, 8.889, 24.359, 36.616, 836.6110000000001, 5.03, 1.072, 144.525, 0.0, 66.221, 51.512, 0.425, 238.13099999999997, 28.64, 2.535, 0.084, 0.0, 11.339, 223.358, 15.216, 4.762, 4.505, 234.304, 3.2230000000000003, 43.964, 2.356, 1.933, 26.064, 21.691999999999997, 31.375999999999998, 103.588, 45.54600000000001, 0.0, 61.026, 239.358, 16.497, 22.809, 0.0, 52.015, 0.644, 0.0, 58.836999999999996, 454.089, 15.276, 3.509, 106.04700000000001, 2.735, 18.229, 0.0, 29.639, 2.056, 8.638, 15.255999999999998, 7.718, 36.65, 59.211000000000006, 29.304000000000002, 9.927, 9.012, 27.348000000000003, 347.32099999999997, 35.353, 572.8240000000001, 3.377, 7.535, 0.882, 6.391, 2.287, 76.337, 15.905, 4.688, 0.0, 6.722, 1.455, 27.918000000000003, 175.726, 0.506, 0.575, 3.738, 14.8, 5.481, 20.383, 23.228, 7.8629999999999995, 169.274, 117.25399999999999, 0.0, 14.33, 5.797999999999999, 0.16, 0.11, 0.0, 0.789, 355.416, 4.562, 9.661, 2.7680000000000002, 2.513, 45.008, 25.653000000000002, 16.252, 116.113, 0.0, 1.8230000000000002, 243.99599999999998, 10.668, 35.829, 150.048, 52.083, 34.015, 78.596, 0.154, 1237.5510000000002, 54.754, 36.394, 5.0169999999999995, 38.356, 0.0, 6.895, 4.444, 349.79699999999997, 52.431000000000004, 32.542, 614.953, 0.514, 11.882, 13.637, 500.333, 194.11599999999999, 5.452000000000001, 0.35200000000000004, 0.831, 1.57, 5.716, 4.231, 58.692, 0.0, 22.910999999999998, 30.535, 627.994, 362.459, 7.197, 0.568, 0.0, 0.598, 0.40399999999999997], \"yaxis\": \"y\"}, {\"hovertemplate\": \"<b>OLS trendline</b><br>Total Deaths Per Million = 0.00317249 * GDP Per Capita + 6.46983<br>R<sup>2</sup>=0.156579<br><br>GDP Per Capita=%{x}<br>Total Deaths Per Million=%{y} <b>(trend)</b><extra></extra>\", \"legendgroup\": \"\", \"marker\": {\"color\": \"#636efa\", \"symbol\": \"circle\"}, \"mode\": \"lines\", \"name\": \"\", \"showlegend\": false, \"type\": \"scatter\", \"x\": [661.24, 702.225, 752.788, 926.0, 1095.042, 1136.103, 1390.3, 1416.44, 1429.8129999999999, 1510.4589999999998, 1548.675, 1653.1729999999998, 1697.707, 1703.102, 1729.9270000000001, 1768.1529999999998, 1803.987, 1854.211, 1899.775, 1998.9260000000002, 2014.306, 2064.236, 2442.804, 2470.58, 2683.304, 2705.406, 2851.153, 2896.913, 2993.028, 3052.7140000000004, 3364.926, 3523.9840000000004, 3597.633, 3601.006, 3645.07, 3689.2509999999997, 3823.1940000000004, 4227.63, 4466.5070000000005, 4541.795, 5034.708, 5189.972, 5321.444, 5338.454000000001, 5591.597, 5819.495, 6171.884, 6253.104, 6426.674, 6885.829000000001, 7292.4580000000005, 7423.808000000001, 7435.047, 7485.013000000001, 7599.188, 7824.361999999999, 7894.393, 8193.571, 8337.49, 8702.975, 8708.597, 8787.58, 8827.01, 9541.808, 9673.367, 9745.079, 10581.936000000002, 10849.296999999999, 11188.743999999999, 11669.077, 11713.895, 11803.431, 11840.846000000001, 12236.706, 12294.876, 13254.948999999999, 13367.565, 13593.877, 13767.118999999999, 13913.839, 14048.881000000001, 14103.452, 14600.861, 15183.616000000002, 15308.712, 15524.995, 15663.986, 15807.374, 15847.419, 16277.671, 16409.288, 16562.413, 16978.068, 17167.967, 17336.468999999997, 17881.509, 18563.307, 18933.907, 20292.745, 20551.409, 21490.943, 22267.037, 22604.873, 22669.797000000002, 22767.037, 23313.199, 24055.588, 24574.382, 25063.846, 25129.341, 26382.287, 26777.561, 26808.164, 27216.445, 27936.896, 28763.071, 29481.252, 29524.265, 31400.84, 32415.132, 32605.906000000003, 33132.32, 34272.36, 35044.67, 35220.084, 35973.781, 36085.843, 36327.232, 36513.323, 37960.709, 38605.671, 39002.223, 39753.244, 40585.721, 42658.575999999994, 43290.705, 44017.59099999999, 44648.71, 45229.245, 45436.685999999994, 46482.958, 46682.515, 46949.282999999996, 48472.545, 49045.41099999999, 49903.029, 50669.315, 54225.445999999996, 56861.47, 57410.166, 64800.057, 65530.537000000004, 67293.483, 67335.293, 85535.383, 94277.965, 116935.6], \"xaxis\": \"x\", \"y\": [8.567609349373805, 8.697634037290843, 8.858044877723907, 9.407558998584854, 9.943843817295889, 10.074109614796473, 10.880548204388937, 10.9634772111512, 11.005902980372001, 11.261751973461116, 11.382992024051273, 11.714511356440061, 11.855795227409864, 11.872910835347216, 11.958013000855928, 12.079284776391287, 12.192967945033939, 12.3523033098246, 12.496854850150376, 12.81141085433879, 12.860203820061958, 13.018606471463633, 14.219611377048041, 14.307730584845617, 14.982596309195106, 15.052714783084147, 15.51509634194335, 15.660269691195117, 15.965194002019711, 16.15454750996204, 17.145038369153305, 17.64964900257305, 17.883300051503188, 17.89400087552037, 18.033793674065603, 18.173957654469717, 18.598891088010568, 19.881962081847696, 20.63979805538822, 20.87864882283723, 22.442412614352435, 22.93498680356192, 23.352081003142956, 23.406045134934317, 24.209139915302316, 24.932145071503776, 26.05009724303963, 26.307767247983435, 26.858417121882667, 28.31508384337949, 29.605112117699775, 30.02181927294933, 30.057474938863677, 30.21599180006809, 30.57821136193042, 31.29257464305841, 31.514747606813884, 32.463888172426756, 32.92047041130274, 34.07996957107725, 34.09780533527072, 34.348378469972474, 34.47346992891035, 36.74116266707608, 37.158532873680386, 37.386038800724585, 40.04096304755119, 40.88916435500968, 41.96605810246301, 43.48991191291206, 43.63209677232565, 43.916149241700786, 44.03484812418013, 45.29071180501064, 45.47525581126009, 48.52108214290761, 48.87835578581271, 49.596329365704875, 50.14593866140142, 50.61140705742894, 51.03982706244768, 51.21295326091835, 52.7909805877971, 54.639767632010674, 55.03663400652987, 55.722790638877335, 56.16373882475697, 56.618636469042634, 56.745679012110536, 58.11065112448533, 58.52820533577182, 59.013993559202255, 60.33265676906333, 60.93511030598555, 61.46968197765558, 63.198818391033704, 65.3618188100275, 66.53754527927366, 70.84845138833333, 71.66906151094825, 74.64972797764206, 77.1118819399279, 78.18366479870892, 78.38963583294891, 78.69812920010891, 80.43082515233887, 82.7860501868159, 84.43192130901261, 85.98474316692707, 86.19252569553818, 90.16749001484769, 91.42149461388927, 91.5185824636959, 92.81385169896383, 95.09947854865317, 97.72051420901326, 99.99893949614136, 100.13539800294569, 106.08882190749405, 109.30665771954108, 109.91188718916864, 111.58193271961048, 115.19870337260399, 117.64885261562478, 118.20535256941956, 120.59645217193285, 120.95196825287366, 121.71777353264933, 122.308146210438, 126.89997036428672, 128.94610877512847, 130.20416782216705, 132.58677782934384, 135.22780655017124, 141.80392767917624, 143.80935346783818, 146.115395319766, 148.1176168889624, 149.95936099534077, 150.61746643113915, 153.9367586179474, 154.56985210694728, 155.41617212515519, 160.24871247323088, 162.06612671913257, 164.78691512469643, 167.21795326072657, 178.49975937191604, 186.86253106745883, 188.60326612080337, 212.04765482437597, 214.36509862161003, 219.95803514630413, 220.0906771422005, 277.830362937296, 305.5661564261116, 377.44737930797424], \"yaxis\": \"y\"}],\n",
       "                        {\"legend\": {\"tracegroupgap\": 0}, \"margin\": {\"t\": 60}, \"template\": {\"data\": {\"bar\": [{\"error_x\": {\"color\": \"#2a3f5f\"}, \"error_y\": {\"color\": \"#2a3f5f\"}, \"marker\": {\"line\": {\"color\": \"#E5ECF6\", \"width\": 0.5}}, \"type\": \"bar\"}], \"barpolar\": [{\"marker\": {\"line\": {\"color\": \"#E5ECF6\", \"width\": 0.5}}, \"type\": \"barpolar\"}], \"carpet\": [{\"aaxis\": {\"endlinecolor\": \"#2a3f5f\", \"gridcolor\": \"white\", \"linecolor\": \"white\", \"minorgridcolor\": \"white\", \"startlinecolor\": \"#2a3f5f\"}, \"baxis\": {\"endlinecolor\": \"#2a3f5f\", \"gridcolor\": \"white\", \"linecolor\": \"white\", \"minorgridcolor\": \"white\", \"startlinecolor\": \"#2a3f5f\"}, \"type\": \"carpet\"}], \"choropleth\": [{\"colorbar\": {\"outlinewidth\": 0, \"ticks\": \"\"}, \"type\": \"choropleth\"}], \"contour\": [{\"colorbar\": {\"outlinewidth\": 0, \"ticks\": \"\"}, \"colorscale\": [[0.0, \"#0d0887\"], [0.1111111111111111, \"#46039f\"], [0.2222222222222222, \"#7201a8\"], [0.3333333333333333, \"#9c179e\"], [0.4444444444444444, \"#bd3786\"], [0.5555555555555556, \"#d8576b\"], [0.6666666666666666, \"#ed7953\"], [0.7777777777777778, \"#fb9f3a\"], [0.8888888888888888, \"#fdca26\"], [1.0, \"#f0f921\"]], \"type\": \"contour\"}], \"contourcarpet\": [{\"colorbar\": {\"outlinewidth\": 0, \"ticks\": \"\"}, \"type\": \"contourcarpet\"}], \"heatmap\": [{\"colorbar\": {\"outlinewidth\": 0, \"ticks\": \"\"}, \"colorscale\": [[0.0, \"#0d0887\"], [0.1111111111111111, \"#46039f\"], [0.2222222222222222, \"#7201a8\"], [0.3333333333333333, \"#9c179e\"], [0.4444444444444444, \"#bd3786\"], [0.5555555555555556, \"#d8576b\"], [0.6666666666666666, \"#ed7953\"], [0.7777777777777778, \"#fb9f3a\"], [0.8888888888888888, \"#fdca26\"], [1.0, \"#f0f921\"]], \"type\": \"heatmap\"}], \"heatmapgl\": [{\"colorbar\": {\"outlinewidth\": 0, \"ticks\": \"\"}, \"colorscale\": [[0.0, \"#0d0887\"], [0.1111111111111111, \"#46039f\"], [0.2222222222222222, \"#7201a8\"], [0.3333333333333333, \"#9c179e\"], [0.4444444444444444, \"#bd3786\"], [0.5555555555555556, \"#d8576b\"], [0.6666666666666666, \"#ed7953\"], [0.7777777777777778, \"#fb9f3a\"], [0.8888888888888888, \"#fdca26\"], [1.0, \"#f0f921\"]], \"type\": \"heatmapgl\"}], \"histogram\": [{\"marker\": {\"colorbar\": {\"outlinewidth\": 0, \"ticks\": \"\"}}, \"type\": \"histogram\"}], \"histogram2d\": [{\"colorbar\": {\"outlinewidth\": 0, \"ticks\": \"\"}, \"colorscale\": [[0.0, \"#0d0887\"], [0.1111111111111111, \"#46039f\"], [0.2222222222222222, \"#7201a8\"], [0.3333333333333333, \"#9c179e\"], [0.4444444444444444, \"#bd3786\"], [0.5555555555555556, \"#d8576b\"], [0.6666666666666666, \"#ed7953\"], [0.7777777777777778, \"#fb9f3a\"], [0.8888888888888888, \"#fdca26\"], [1.0, \"#f0f921\"]], \"type\": \"histogram2d\"}], \"histogram2dcontour\": [{\"colorbar\": {\"outlinewidth\": 0, \"ticks\": \"\"}, \"colorscale\": [[0.0, \"#0d0887\"], [0.1111111111111111, \"#46039f\"], [0.2222222222222222, \"#7201a8\"], [0.3333333333333333, \"#9c179e\"], [0.4444444444444444, \"#bd3786\"], [0.5555555555555556, \"#d8576b\"], [0.6666666666666666, \"#ed7953\"], [0.7777777777777778, \"#fb9f3a\"], [0.8888888888888888, \"#fdca26\"], [1.0, \"#f0f921\"]], \"type\": \"histogram2dcontour\"}], \"mesh3d\": [{\"colorbar\": {\"outlinewidth\": 0, \"ticks\": \"\"}, \"type\": \"mesh3d\"}], \"parcoords\": [{\"line\": {\"colorbar\": {\"outlinewidth\": 0, \"ticks\": \"\"}}, \"type\": \"parcoords\"}], \"pie\": [{\"automargin\": true, \"type\": \"pie\"}], \"scatter\": [{\"marker\": {\"colorbar\": {\"outlinewidth\": 0, \"ticks\": \"\"}}, \"type\": \"scatter\"}], \"scatter3d\": [{\"line\": {\"colorbar\": {\"outlinewidth\": 0, \"ticks\": \"\"}}, \"marker\": {\"colorbar\": {\"outlinewidth\": 0, \"ticks\": \"\"}}, \"type\": \"scatter3d\"}], \"scattercarpet\": [{\"marker\": {\"colorbar\": {\"outlinewidth\": 0, \"ticks\": \"\"}}, \"type\": \"scattercarpet\"}], \"scattergeo\": [{\"marker\": {\"colorbar\": {\"outlinewidth\": 0, \"ticks\": \"\"}}, \"type\": \"scattergeo\"}], \"scattergl\": [{\"marker\": {\"colorbar\": {\"outlinewidth\": 0, \"ticks\": \"\"}}, \"type\": \"scattergl\"}], \"scattermapbox\": [{\"marker\": {\"colorbar\": {\"outlinewidth\": 0, \"ticks\": \"\"}}, \"type\": \"scattermapbox\"}], \"scatterpolar\": [{\"marker\": {\"colorbar\": {\"outlinewidth\": 0, \"ticks\": \"\"}}, \"type\": \"scatterpolar\"}], \"scatterpolargl\": [{\"marker\": {\"colorbar\": {\"outlinewidth\": 0, \"ticks\": \"\"}}, \"type\": \"scatterpolargl\"}], \"scatterternary\": [{\"marker\": {\"colorbar\": {\"outlinewidth\": 0, \"ticks\": \"\"}}, \"type\": \"scatterternary\"}], \"surface\": [{\"colorbar\": {\"outlinewidth\": 0, \"ticks\": \"\"}, \"colorscale\": [[0.0, \"#0d0887\"], [0.1111111111111111, \"#46039f\"], [0.2222222222222222, \"#7201a8\"], [0.3333333333333333, \"#9c179e\"], [0.4444444444444444, \"#bd3786\"], [0.5555555555555556, \"#d8576b\"], [0.6666666666666666, \"#ed7953\"], [0.7777777777777778, \"#fb9f3a\"], [0.8888888888888888, \"#fdca26\"], [1.0, \"#f0f921\"]], \"type\": \"surface\"}], \"table\": [{\"cells\": {\"fill\": {\"color\": \"#EBF0F8\"}, \"line\": {\"color\": \"white\"}}, \"header\": {\"fill\": {\"color\": \"#C8D4E3\"}, \"line\": {\"color\": \"white\"}}, \"type\": \"table\"}]}, \"layout\": {\"annotationdefaults\": {\"arrowcolor\": \"#2a3f5f\", \"arrowhead\": 0, \"arrowwidth\": 1}, \"coloraxis\": {\"colorbar\": {\"outlinewidth\": 0, \"ticks\": \"\"}}, \"colorscale\": {\"diverging\": [[0, \"#8e0152\"], [0.1, \"#c51b7d\"], [0.2, \"#de77ae\"], [0.3, \"#f1b6da\"], [0.4, \"#fde0ef\"], [0.5, \"#f7f7f7\"], [0.6, \"#e6f5d0\"], [0.7, \"#b8e186\"], [0.8, \"#7fbc41\"], [0.9, \"#4d9221\"], [1, \"#276419\"]], \"sequential\": [[0.0, \"#0d0887\"], [0.1111111111111111, \"#46039f\"], [0.2222222222222222, \"#7201a8\"], [0.3333333333333333, \"#9c179e\"], [0.4444444444444444, \"#bd3786\"], [0.5555555555555556, \"#d8576b\"], [0.6666666666666666, \"#ed7953\"], [0.7777777777777778, \"#fb9f3a\"], [0.8888888888888888, \"#fdca26\"], [1.0, \"#f0f921\"]], \"sequentialminus\": [[0.0, \"#0d0887\"], [0.1111111111111111, \"#46039f\"], [0.2222222222222222, \"#7201a8\"], [0.3333333333333333, \"#9c179e\"], [0.4444444444444444, \"#bd3786\"], [0.5555555555555556, \"#d8576b\"], [0.6666666666666666, \"#ed7953\"], [0.7777777777777778, \"#fb9f3a\"], [0.8888888888888888, \"#fdca26\"], [1.0, \"#f0f921\"]]}, \"colorway\": [\"#636efa\", \"#EF553B\", \"#00cc96\", \"#ab63fa\", \"#FFA15A\", \"#19d3f3\", \"#FF6692\", \"#B6E880\", \"#FF97FF\", \"#FECB52\"], \"font\": {\"color\": \"#2a3f5f\"}, \"geo\": {\"bgcolor\": \"white\", \"lakecolor\": \"white\", \"landcolor\": \"#E5ECF6\", \"showlakes\": true, \"showland\": true, \"subunitcolor\": \"white\"}, \"hoverlabel\": {\"align\": \"left\"}, \"hovermode\": \"closest\", \"mapbox\": {\"style\": \"light\"}, \"paper_bgcolor\": \"white\", \"plot_bgcolor\": \"#E5ECF6\", \"polar\": {\"angularaxis\": {\"gridcolor\": \"white\", \"linecolor\": \"white\", \"ticks\": \"\"}, \"bgcolor\": \"#E5ECF6\", \"radialaxis\": {\"gridcolor\": \"white\", \"linecolor\": \"white\", \"ticks\": \"\"}}, \"scene\": {\"xaxis\": {\"backgroundcolor\": \"#E5ECF6\", \"gridcolor\": \"white\", \"gridwidth\": 2, \"linecolor\": \"white\", \"showbackground\": true, \"ticks\": \"\", \"zerolinecolor\": \"white\"}, \"yaxis\": {\"backgroundcolor\": \"#E5ECF6\", \"gridcolor\": \"white\", \"gridwidth\": 2, \"linecolor\": \"white\", \"showbackground\": true, \"ticks\": \"\", \"zerolinecolor\": \"white\"}, \"zaxis\": {\"backgroundcolor\": \"#E5ECF6\", \"gridcolor\": \"white\", \"gridwidth\": 2, \"linecolor\": \"white\", \"showbackground\": true, \"ticks\": \"\", \"zerolinecolor\": \"white\"}}, \"shapedefaults\": {\"line\": {\"color\": \"#2a3f5f\"}}, \"ternary\": {\"aaxis\": {\"gridcolor\": \"white\", \"linecolor\": \"white\", \"ticks\": \"\"}, \"baxis\": {\"gridcolor\": \"white\", \"linecolor\": \"white\", \"ticks\": \"\"}, \"bgcolor\": \"#E5ECF6\", \"caxis\": {\"gridcolor\": \"white\", \"linecolor\": \"white\", \"ticks\": \"\"}}, \"title\": {\"x\": 0.05}, \"xaxis\": {\"automargin\": true, \"gridcolor\": \"white\", \"linecolor\": \"white\", \"ticks\": \"\", \"title\": {\"standoff\": 15}, \"zerolinecolor\": \"white\", \"zerolinewidth\": 2}, \"yaxis\": {\"automargin\": true, \"gridcolor\": \"white\", \"linecolor\": \"white\", \"ticks\": \"\", \"title\": {\"standoff\": 15}, \"zerolinecolor\": \"white\", \"zerolinewidth\": 2}}}, \"title\": {\"text\": \"GDP Per Capita vs. Total deaths per million\"}, \"width\": 1500, \"xaxis\": {\"anchor\": \"y\", \"domain\": [0.0, 1.0], \"range\": [-50, 120000], \"title\": {\"text\": \"GDP Per Capita\"}}, \"yaxis\": {\"anchor\": \"x\", \"domain\": [0.0, 1.0], \"title\": {\"text\": \"Total Deaths Per Million\"}}},\n",
       "                        {\"responsive\": true}\n",
       "                    ).then(function(){\n",
       "                            \n",
       "var gd = document.getElementById('1c043508-3745-4c8d-a265-0377a32794e3');\n",
       "var x = new MutationObserver(function (mutations, observer) {{\n",
       "        var display = window.getComputedStyle(gd).display;\n",
       "        if (!display || display === 'none') {{\n",
       "            console.log([gd, 'removed!']);\n",
       "            Plotly.purge(gd);\n",
       "            observer.disconnect();\n",
       "        }}\n",
       "}});\n",
       "\n",
       "// Listen for the removal of the full notebook cells\n",
       "var notebookContainer = gd.closest('#notebook-container');\n",
       "if (notebookContainer) {{\n",
       "    x.observe(notebookContainer, {childList: true});\n",
       "}}\n",
       "\n",
       "// Listen for the clearing of the current output cell\n",
       "var outputEl = gd.closest('.output');\n",
       "if (outputEl) {{\n",
       "    x.observe(outputEl, {childList: true});\n",
       "}}\n",
       "\n",
       "                        })\n",
       "                };\n",
       "                });\n",
       "            </script>\n",
       "        </div>"
      ]
     },
     "metadata": {},
     "output_type": "display_data"
    },
    {
     "data": {
      "application/vnd.plotly.v1+json": {
       "config": {
        "plotlyServerURL": "https://plot.ly"
       },
       "data": [
        {
         "alignmentgroup": "True",
         "boxpoints": "all",
         "hovertemplate": "<b>%{hovertext}</b><br><br>Continent=%{x}<br>Total Deaths Per Million=%{y}<extra></extra>",
         "hovertext": [
          "Afghanistan",
          "Albania",
          "Algeria",
          "Angola",
          "Antigua and Barbuda",
          "Argentina",
          "Armenia",
          "Aruba",
          "Australia",
          "Austria",
          "Azerbaijan",
          "Bahrain",
          "Bangladesh",
          "Barbados",
          "Belarus",
          "Belgium",
          "Belize",
          "Benin",
          "Bermuda",
          "Bhutan",
          "Bolivia",
          "Bosnia and Herzegovina",
          "Botswana",
          "Brazil",
          "Bulgaria",
          "Burkina Faso",
          "Burundi",
          "Cambodia",
          "Cameroon",
          "Canada",
          "Cayman Islands",
          "Central African Republic",
          "Chad",
          "Chile",
          "China",
          "Colombia",
          "Costa Rica",
          "Cote d'Ivoire",
          "Croatia",
          "Cyprus",
          "Czech Republic",
          "Denmark",
          "Djibouti",
          "Dominica",
          "Dominican Republic",
          "Ecuador",
          "El Salvador",
          "Equatorial Guinea",
          "Eritrea",
          "Estonia",
          "Ethiopia",
          "Fiji",
          "Finland",
          "France",
          "Gabon",
          "Georgia",
          "Germany",
          "Ghana",
          "Greece",
          "Grenada",
          "Guatemala",
          "Guinea",
          "Guinea-Bissau",
          "Guyana",
          "Haiti",
          "Honduras",
          "Hungary",
          "Iceland",
          "India",
          "Indonesia",
          "Iraq",
          "Ireland",
          "Israel",
          "Italy",
          "Jamaica",
          "Japan",
          "Jordan",
          "Kazakhstan",
          "Kenya",
          "Kuwait",
          "Latvia",
          "Lebanon",
          "Lesotho",
          "Liberia",
          "Libya",
          "Lithuania",
          "Luxembourg",
          "Madagascar",
          "Malawi",
          "Malaysia",
          "Maldives",
          "Mali",
          "Malta",
          "Mauritania",
          "Mauritius",
          "Mexico",
          "Moldova",
          "Mongolia",
          "Montenegro",
          "Morocco",
          "Mozambique",
          "Myanmar",
          "Namibia",
          "Nepal",
          "Netherlands",
          "New Zealand",
          "Nicaragua",
          "Niger",
          "Nigeria",
          "Norway",
          "Oman",
          "Pakistan",
          "Panama",
          "Papua New Guinea",
          "Paraguay",
          "Peru",
          "Philippines",
          "Poland",
          "Portugal",
          "Puerto Rico",
          "Qatar",
          "Romania",
          "Rwanda",
          "San Marino",
          "Sao Tome and Principe",
          "Saudi Arabia",
          "Senegal",
          "Serbia",
          "Seychelles",
          "Sierra Leone",
          "Singapore",
          "Sint Maarten (Dutch part)",
          "Slovenia",
          "South Africa",
          "Spain",
          "Sri Lanka",
          "Sudan",
          "Suriname",
          "Sweden",
          "Switzerland",
          "Tajikistan",
          "Tanzania",
          "Thailand",
          "Togo",
          "Trinidad and Tobago",
          "Tunisia",
          "Turkey",
          "Uganda",
          "Ukraine",
          "United Arab Emirates",
          "United Kingdom",
          "United States",
          "Uruguay",
          "Uzbekistan",
          "Vietnam",
          "Zambia",
          "Zimbabwe"
         ],
         "legendgroup": "",
         "marker": {
          "color": "#636efa"
         },
         "name": "",
         "notched": false,
         "offsetgroup": "",
         "orientation": "v",
         "showlegend": false,
         "type": "box",
         "x": [
          "Asia",
          "Europe",
          "Africa",
          "Africa",
          "North America",
          "South America",
          "Asia",
          "North America",
          "Oceania",
          "Europe",
          "Asia",
          "Asia",
          "Asia",
          "North America",
          "Europe",
          "Europe",
          "North America",
          "Africa",
          "North America",
          "Asia",
          "South America",
          "Europe",
          "Africa",
          "South America",
          "Europe",
          "Africa",
          "Africa",
          "Asia",
          "Africa",
          "North America",
          "North America",
          "Africa",
          "Africa",
          "South America",
          "Asia",
          "South America",
          "North America",
          "Africa",
          "Europe",
          "Europe",
          "Europe",
          "Europe",
          "Africa",
          "North America",
          "North America",
          "South America",
          "North America",
          "Africa",
          "Africa",
          "Europe",
          "Africa",
          "Oceania",
          "Europe",
          "Europe",
          "Africa",
          "Asia",
          "Europe",
          "Africa",
          "Europe",
          "North America",
          "North America",
          "Africa",
          "Africa",
          "South America",
          "North America",
          "North America",
          "Europe",
          "Europe",
          "Asia",
          "Asia",
          "Asia",
          "Europe",
          "Asia",
          "Europe",
          "North America",
          "Asia",
          "Asia",
          "Asia",
          "Africa",
          "Asia",
          "Europe",
          "Asia",
          "Africa",
          "Africa",
          "Africa",
          "Europe",
          "Europe",
          "Africa",
          "Africa",
          "Asia",
          "Asia",
          "Africa",
          "Europe",
          "Africa",
          "Africa",
          "North America",
          "Europe",
          "Asia",
          "Europe",
          "Africa",
          "Africa",
          "Asia",
          "Africa",
          "Asia",
          "Europe",
          "Oceania",
          "North America",
          "Africa",
          "Africa",
          "Europe",
          "Asia",
          "Asia",
          "North America",
          "Oceania",
          "South America",
          "South America",
          "Asia",
          "Europe",
          "Europe",
          "North America",
          "Asia",
          "Europe",
          "Africa",
          "Europe",
          "Africa",
          "Asia",
          "Africa",
          "Europe",
          "Africa",
          "Africa",
          "Asia",
          "North America",
          "Europe",
          "Africa",
          "Europe",
          "Asia",
          "Africa",
          "South America",
          "Europe",
          "Europe",
          "Asia",
          "Africa",
          "Asia",
          "Africa",
          "North America",
          "Africa",
          "Asia",
          "Africa",
          "Europe",
          "Asia",
          "Europe",
          "North America",
          "South America",
          "Asia",
          "Asia",
          "Africa",
          "Africa"
         ],
         "x0": " ",
         "xaxis": "x",
         "y": [
          14.925,
          15.289000000000001,
          19.27,
          0.27399999999999997,
          30.635,
          22.369,
          121.48899999999999,
          28.099,
          4,
          76.612,
          15.189,
          37.024,
          8.889,
          24.359,
          36.616,
          836.6110000000001,
          5.03,
          1.072,
          144.525,
          0,
          66.221,
          51.512,
          0.425,
          238.13099999999997,
          28.64,
          2.535,
          0.084,
          0,
          11.339,
          223.358,
          15.216,
          4.762,
          4.505,
          234.304,
          3.2230000000000003,
          43.964,
          2.356,
          1.933,
          26.064,
          21.691999999999997,
          31.375999999999998,
          103.588,
          45.54600000000001,
          0,
          61.026,
          239.358,
          16.497,
          22.809,
          0,
          52.015,
          0.644,
          0,
          58.836999999999996,
          454.089,
          15.276,
          3.509,
          106.04700000000001,
          2.735,
          18.229,
          0,
          29.639,
          2.056,
          8.638,
          15.255999999999998,
          7.718,
          36.65,
          59.211000000000006,
          29.304000000000002,
          9.927,
          9.012,
          27.348000000000003,
          347.32099999999997,
          35.353,
          572.8240000000001,
          3.377,
          7.535,
          0.882,
          6.391,
          2.287,
          76.337,
          15.905,
          4.688,
          0,
          6.722,
          1.455,
          27.918000000000003,
          175.726,
          0.506,
          0.575,
          3.738,
          14.8,
          5.481,
          20.383,
          23.228,
          7.8629999999999995,
          169.274,
          117.25399999999999,
          0,
          14.33,
          5.797999999999999,
          0.16,
          0.11,
          0,
          0.789,
          355.416,
          4.562,
          9.661,
          2.7680000000000002,
          2.513,
          45.008,
          25.653000000000002,
          16.252,
          116.113,
          0,
          1.8230000000000002,
          243.99599999999998,
          10.668,
          35.829,
          150.048,
          52.083,
          34.015,
          78.596,
          0.154,
          1237.5510000000002,
          54.754,
          36.394,
          5.0169999999999995,
          38.356,
          0,
          6.895,
          4.444,
          349.79699999999997,
          52.431000000000004,
          32.542,
          614.953,
          0.514,
          11.882,
          13.637,
          500.333,
          194.11599999999999,
          5.452000000000001,
          0.35200000000000004,
          0.831,
          1.57,
          5.716,
          4.231,
          58.692,
          0,
          22.910999999999998,
          30.535,
          627.994,
          362.459,
          7.197,
          0.568,
          0,
          0.598,
          0.40399999999999997
         ],
         "y0": " ",
         "yaxis": "y"
        }
       ],
       "layout": {
        "boxmode": "group",
        "legend": {
         "tracegroupgap": 0
        },
        "margin": {
         "t": 60
        },
        "template": {
         "data": {
          "bar": [
           {
            "error_x": {
             "color": "#2a3f5f"
            },
            "error_y": {
             "color": "#2a3f5f"
            },
            "marker": {
             "line": {
              "color": "#E5ECF6",
              "width": 0.5
             }
            },
            "type": "bar"
           }
          ],
          "barpolar": [
           {
            "marker": {
             "line": {
              "color": "#E5ECF6",
              "width": 0.5
             }
            },
            "type": "barpolar"
           }
          ],
          "carpet": [
           {
            "aaxis": {
             "endlinecolor": "#2a3f5f",
             "gridcolor": "white",
             "linecolor": "white",
             "minorgridcolor": "white",
             "startlinecolor": "#2a3f5f"
            },
            "baxis": {
             "endlinecolor": "#2a3f5f",
             "gridcolor": "white",
             "linecolor": "white",
             "minorgridcolor": "white",
             "startlinecolor": "#2a3f5f"
            },
            "type": "carpet"
           }
          ],
          "choropleth": [
           {
            "colorbar": {
             "outlinewidth": 0,
             "ticks": ""
            },
            "type": "choropleth"
           }
          ],
          "contour": [
           {
            "colorbar": {
             "outlinewidth": 0,
             "ticks": ""
            },
            "colorscale": [
             [
              0,
              "#0d0887"
             ],
             [
              0.1111111111111111,
              "#46039f"
             ],
             [
              0.2222222222222222,
              "#7201a8"
             ],
             [
              0.3333333333333333,
              "#9c179e"
             ],
             [
              0.4444444444444444,
              "#bd3786"
             ],
             [
              0.5555555555555556,
              "#d8576b"
             ],
             [
              0.6666666666666666,
              "#ed7953"
             ],
             [
              0.7777777777777778,
              "#fb9f3a"
             ],
             [
              0.8888888888888888,
              "#fdca26"
             ],
             [
              1,
              "#f0f921"
             ]
            ],
            "type": "contour"
           }
          ],
          "contourcarpet": [
           {
            "colorbar": {
             "outlinewidth": 0,
             "ticks": ""
            },
            "type": "contourcarpet"
           }
          ],
          "heatmap": [
           {
            "colorbar": {
             "outlinewidth": 0,
             "ticks": ""
            },
            "colorscale": [
             [
              0,
              "#0d0887"
             ],
             [
              0.1111111111111111,
              "#46039f"
             ],
             [
              0.2222222222222222,
              "#7201a8"
             ],
             [
              0.3333333333333333,
              "#9c179e"
             ],
             [
              0.4444444444444444,
              "#bd3786"
             ],
             [
              0.5555555555555556,
              "#d8576b"
             ],
             [
              0.6666666666666666,
              "#ed7953"
             ],
             [
              0.7777777777777778,
              "#fb9f3a"
             ],
             [
              0.8888888888888888,
              "#fdca26"
             ],
             [
              1,
              "#f0f921"
             ]
            ],
            "type": "heatmap"
           }
          ],
          "heatmapgl": [
           {
            "colorbar": {
             "outlinewidth": 0,
             "ticks": ""
            },
            "colorscale": [
             [
              0,
              "#0d0887"
             ],
             [
              0.1111111111111111,
              "#46039f"
             ],
             [
              0.2222222222222222,
              "#7201a8"
             ],
             [
              0.3333333333333333,
              "#9c179e"
             ],
             [
              0.4444444444444444,
              "#bd3786"
             ],
             [
              0.5555555555555556,
              "#d8576b"
             ],
             [
              0.6666666666666666,
              "#ed7953"
             ],
             [
              0.7777777777777778,
              "#fb9f3a"
             ],
             [
              0.8888888888888888,
              "#fdca26"
             ],
             [
              1,
              "#f0f921"
             ]
            ],
            "type": "heatmapgl"
           }
          ],
          "histogram": [
           {
            "marker": {
             "colorbar": {
              "outlinewidth": 0,
              "ticks": ""
             }
            },
            "type": "histogram"
           }
          ],
          "histogram2d": [
           {
            "colorbar": {
             "outlinewidth": 0,
             "ticks": ""
            },
            "colorscale": [
             [
              0,
              "#0d0887"
             ],
             [
              0.1111111111111111,
              "#46039f"
             ],
             [
              0.2222222222222222,
              "#7201a8"
             ],
             [
              0.3333333333333333,
              "#9c179e"
             ],
             [
              0.4444444444444444,
              "#bd3786"
             ],
             [
              0.5555555555555556,
              "#d8576b"
             ],
             [
              0.6666666666666666,
              "#ed7953"
             ],
             [
              0.7777777777777778,
              "#fb9f3a"
             ],
             [
              0.8888888888888888,
              "#fdca26"
             ],
             [
              1,
              "#f0f921"
             ]
            ],
            "type": "histogram2d"
           }
          ],
          "histogram2dcontour": [
           {
            "colorbar": {
             "outlinewidth": 0,
             "ticks": ""
            },
            "colorscale": [
             [
              0,
              "#0d0887"
             ],
             [
              0.1111111111111111,
              "#46039f"
             ],
             [
              0.2222222222222222,
              "#7201a8"
             ],
             [
              0.3333333333333333,
              "#9c179e"
             ],
             [
              0.4444444444444444,
              "#bd3786"
             ],
             [
              0.5555555555555556,
              "#d8576b"
             ],
             [
              0.6666666666666666,
              "#ed7953"
             ],
             [
              0.7777777777777778,
              "#fb9f3a"
             ],
             [
              0.8888888888888888,
              "#fdca26"
             ],
             [
              1,
              "#f0f921"
             ]
            ],
            "type": "histogram2dcontour"
           }
          ],
          "mesh3d": [
           {
            "colorbar": {
             "outlinewidth": 0,
             "ticks": ""
            },
            "type": "mesh3d"
           }
          ],
          "parcoords": [
           {
            "line": {
             "colorbar": {
              "outlinewidth": 0,
              "ticks": ""
             }
            },
            "type": "parcoords"
           }
          ],
          "pie": [
           {
            "automargin": true,
            "type": "pie"
           }
          ],
          "scatter": [
           {
            "marker": {
             "colorbar": {
              "outlinewidth": 0,
              "ticks": ""
             }
            },
            "type": "scatter"
           }
          ],
          "scatter3d": [
           {
            "line": {
             "colorbar": {
              "outlinewidth": 0,
              "ticks": ""
             }
            },
            "marker": {
             "colorbar": {
              "outlinewidth": 0,
              "ticks": ""
             }
            },
            "type": "scatter3d"
           }
          ],
          "scattercarpet": [
           {
            "marker": {
             "colorbar": {
              "outlinewidth": 0,
              "ticks": ""
             }
            },
            "type": "scattercarpet"
           }
          ],
          "scattergeo": [
           {
            "marker": {
             "colorbar": {
              "outlinewidth": 0,
              "ticks": ""
             }
            },
            "type": "scattergeo"
           }
          ],
          "scattergl": [
           {
            "marker": {
             "colorbar": {
              "outlinewidth": 0,
              "ticks": ""
             }
            },
            "type": "scattergl"
           }
          ],
          "scattermapbox": [
           {
            "marker": {
             "colorbar": {
              "outlinewidth": 0,
              "ticks": ""
             }
            },
            "type": "scattermapbox"
           }
          ],
          "scatterpolar": [
           {
            "marker": {
             "colorbar": {
              "outlinewidth": 0,
              "ticks": ""
             }
            },
            "type": "scatterpolar"
           }
          ],
          "scatterpolargl": [
           {
            "marker": {
             "colorbar": {
              "outlinewidth": 0,
              "ticks": ""
             }
            },
            "type": "scatterpolargl"
           }
          ],
          "scatterternary": [
           {
            "marker": {
             "colorbar": {
              "outlinewidth": 0,
              "ticks": ""
             }
            },
            "type": "scatterternary"
           }
          ],
          "surface": [
           {
            "colorbar": {
             "outlinewidth": 0,
             "ticks": ""
            },
            "colorscale": [
             [
              0,
              "#0d0887"
             ],
             [
              0.1111111111111111,
              "#46039f"
             ],
             [
              0.2222222222222222,
              "#7201a8"
             ],
             [
              0.3333333333333333,
              "#9c179e"
             ],
             [
              0.4444444444444444,
              "#bd3786"
             ],
             [
              0.5555555555555556,
              "#d8576b"
             ],
             [
              0.6666666666666666,
              "#ed7953"
             ],
             [
              0.7777777777777778,
              "#fb9f3a"
             ],
             [
              0.8888888888888888,
              "#fdca26"
             ],
             [
              1,
              "#f0f921"
             ]
            ],
            "type": "surface"
           }
          ],
          "table": [
           {
            "cells": {
             "fill": {
              "color": "#EBF0F8"
             },
             "line": {
              "color": "white"
             }
            },
            "header": {
             "fill": {
              "color": "#C8D4E3"
             },
             "line": {
              "color": "white"
             }
            },
            "type": "table"
           }
          ]
         },
         "layout": {
          "annotationdefaults": {
           "arrowcolor": "#2a3f5f",
           "arrowhead": 0,
           "arrowwidth": 1
          },
          "coloraxis": {
           "colorbar": {
            "outlinewidth": 0,
            "ticks": ""
           }
          },
          "colorscale": {
           "diverging": [
            [
             0,
             "#8e0152"
            ],
            [
             0.1,
             "#c51b7d"
            ],
            [
             0.2,
             "#de77ae"
            ],
            [
             0.3,
             "#f1b6da"
            ],
            [
             0.4,
             "#fde0ef"
            ],
            [
             0.5,
             "#f7f7f7"
            ],
            [
             0.6,
             "#e6f5d0"
            ],
            [
             0.7,
             "#b8e186"
            ],
            [
             0.8,
             "#7fbc41"
            ],
            [
             0.9,
             "#4d9221"
            ],
            [
             1,
             "#276419"
            ]
           ],
           "sequential": [
            [
             0,
             "#0d0887"
            ],
            [
             0.1111111111111111,
             "#46039f"
            ],
            [
             0.2222222222222222,
             "#7201a8"
            ],
            [
             0.3333333333333333,
             "#9c179e"
            ],
            [
             0.4444444444444444,
             "#bd3786"
            ],
            [
             0.5555555555555556,
             "#d8576b"
            ],
            [
             0.6666666666666666,
             "#ed7953"
            ],
            [
             0.7777777777777778,
             "#fb9f3a"
            ],
            [
             0.8888888888888888,
             "#fdca26"
            ],
            [
             1,
             "#f0f921"
            ]
           ],
           "sequentialminus": [
            [
             0,
             "#0d0887"
            ],
            [
             0.1111111111111111,
             "#46039f"
            ],
            [
             0.2222222222222222,
             "#7201a8"
            ],
            [
             0.3333333333333333,
             "#9c179e"
            ],
            [
             0.4444444444444444,
             "#bd3786"
            ],
            [
             0.5555555555555556,
             "#d8576b"
            ],
            [
             0.6666666666666666,
             "#ed7953"
            ],
            [
             0.7777777777777778,
             "#fb9f3a"
            ],
            [
             0.8888888888888888,
             "#fdca26"
            ],
            [
             1,
             "#f0f921"
            ]
           ]
          },
          "colorway": [
           "#636efa",
           "#EF553B",
           "#00cc96",
           "#ab63fa",
           "#FFA15A",
           "#19d3f3",
           "#FF6692",
           "#B6E880",
           "#FF97FF",
           "#FECB52"
          ],
          "font": {
           "color": "#2a3f5f"
          },
          "geo": {
           "bgcolor": "white",
           "lakecolor": "white",
           "landcolor": "#E5ECF6",
           "showlakes": true,
           "showland": true,
           "subunitcolor": "white"
          },
          "hoverlabel": {
           "align": "left"
          },
          "hovermode": "closest",
          "mapbox": {
           "style": "light"
          },
          "paper_bgcolor": "white",
          "plot_bgcolor": "#E5ECF6",
          "polar": {
           "angularaxis": {
            "gridcolor": "white",
            "linecolor": "white",
            "ticks": ""
           },
           "bgcolor": "#E5ECF6",
           "radialaxis": {
            "gridcolor": "white",
            "linecolor": "white",
            "ticks": ""
           }
          },
          "scene": {
           "xaxis": {
            "backgroundcolor": "#E5ECF6",
            "gridcolor": "white",
            "gridwidth": 2,
            "linecolor": "white",
            "showbackground": true,
            "ticks": "",
            "zerolinecolor": "white"
           },
           "yaxis": {
            "backgroundcolor": "#E5ECF6",
            "gridcolor": "white",
            "gridwidth": 2,
            "linecolor": "white",
            "showbackground": true,
            "ticks": "",
            "zerolinecolor": "white"
           },
           "zaxis": {
            "backgroundcolor": "#E5ECF6",
            "gridcolor": "white",
            "gridwidth": 2,
            "linecolor": "white",
            "showbackground": true,
            "ticks": "",
            "zerolinecolor": "white"
           }
          },
          "shapedefaults": {
           "line": {
            "color": "#2a3f5f"
           }
          },
          "ternary": {
           "aaxis": {
            "gridcolor": "white",
            "linecolor": "white",
            "ticks": ""
           },
           "baxis": {
            "gridcolor": "white",
            "linecolor": "white",
            "ticks": ""
           },
           "bgcolor": "#E5ECF6",
           "caxis": {
            "gridcolor": "white",
            "linecolor": "white",
            "ticks": ""
           }
          },
          "title": {
           "x": 0.05
          },
          "xaxis": {
           "automargin": true,
           "gridcolor": "white",
           "linecolor": "white",
           "ticks": "",
           "title": {
            "standoff": 15
           },
           "zerolinecolor": "white",
           "zerolinewidth": 2
          },
          "yaxis": {
           "automargin": true,
           "gridcolor": "white",
           "linecolor": "white",
           "ticks": "",
           "title": {
            "standoff": 15
           },
           "zerolinecolor": "white",
           "zerolinewidth": 2
          }
         }
        },
        "xaxis": {
         "anchor": "y",
         "domain": [
          0,
          1
         ],
         "title": {
          "text": "Continent"
         }
        },
        "yaxis": {
         "anchor": "x",
         "domain": [
          0,
          1
         ],
         "title": {
          "text": "Total Deaths Per Million"
         }
        }
       }
      },
      "text/html": [
       "<div>\n",
       "        \n",
       "        \n",
       "            <div id=\"ce6c87c6-97cb-412b-a71f-4da031ed3490\" class=\"plotly-graph-div\" style=\"height:525px; width:100%;\"></div>\n",
       "            <script type=\"text/javascript\">\n",
       "                require([\"plotly\"], function(Plotly) {\n",
       "                    window.PLOTLYENV=window.PLOTLYENV || {};\n",
       "                    \n",
       "                if (document.getElementById(\"ce6c87c6-97cb-412b-a71f-4da031ed3490\")) {\n",
       "                    Plotly.newPlot(\n",
       "                        'ce6c87c6-97cb-412b-a71f-4da031ed3490',\n",
       "                        [{\"alignmentgroup\": \"True\", \"boxpoints\": \"all\", \"hovertemplate\": \"<b>%{hovertext}</b><br><br>Continent=%{x}<br>Total Deaths Per Million=%{y}<extra></extra>\", \"hovertext\": [\"Afghanistan\", \"Albania\", \"Algeria\", \"Angola\", \"Antigua and Barbuda\", \"Argentina\", \"Armenia\", \"Aruba\", \"Australia\", \"Austria\", \"Azerbaijan\", \"Bahrain\", \"Bangladesh\", \"Barbados\", \"Belarus\", \"Belgium\", \"Belize\", \"Benin\", \"Bermuda\", \"Bhutan\", \"Bolivia\", \"Bosnia and Herzegovina\", \"Botswana\", \"Brazil\", \"Bulgaria\", \"Burkina Faso\", \"Burundi\", \"Cambodia\", \"Cameroon\", \"Canada\", \"Cayman Islands\", \"Central African Republic\", \"Chad\", \"Chile\", \"China\", \"Colombia\", \"Costa Rica\", \"Cote d'Ivoire\", \"Croatia\", \"Cyprus\", \"Czech Republic\", \"Denmark\", \"Djibouti\", \"Dominica\", \"Dominican Republic\", \"Ecuador\", \"El Salvador\", \"Equatorial Guinea\", \"Eritrea\", \"Estonia\", \"Ethiopia\", \"Fiji\", \"Finland\", \"France\", \"Gabon\", \"Georgia\", \"Germany\", \"Ghana\", \"Greece\", \"Grenada\", \"Guatemala\", \"Guinea\", \"Guinea-Bissau\", \"Guyana\", \"Haiti\", \"Honduras\", \"Hungary\", \"Iceland\", \"India\", \"Indonesia\", \"Iraq\", \"Ireland\", \"Israel\", \"Italy\", \"Jamaica\", \"Japan\", \"Jordan\", \"Kazakhstan\", \"Kenya\", \"Kuwait\", \"Latvia\", \"Lebanon\", \"Lesotho\", \"Liberia\", \"Libya\", \"Lithuania\", \"Luxembourg\", \"Madagascar\", \"Malawi\", \"Malaysia\", \"Maldives\", \"Mali\", \"Malta\", \"Mauritania\", \"Mauritius\", \"Mexico\", \"Moldova\", \"Mongolia\", \"Montenegro\", \"Morocco\", \"Mozambique\", \"Myanmar\", \"Namibia\", \"Nepal\", \"Netherlands\", \"New Zealand\", \"Nicaragua\", \"Niger\", \"Nigeria\", \"Norway\", \"Oman\", \"Pakistan\", \"Panama\", \"Papua New Guinea\", \"Paraguay\", \"Peru\", \"Philippines\", \"Poland\", \"Portugal\", \"Puerto Rico\", \"Qatar\", \"Romania\", \"Rwanda\", \"San Marino\", \"Sao Tome and Principe\", \"Saudi Arabia\", \"Senegal\", \"Serbia\", \"Seychelles\", \"Sierra Leone\", \"Singapore\", \"Sint Maarten (Dutch part)\", \"Slovenia\", \"South Africa\", \"Spain\", \"Sri Lanka\", \"Sudan\", \"Suriname\", \"Sweden\", \"Switzerland\", \"Tajikistan\", \"Tanzania\", \"Thailand\", \"Togo\", \"Trinidad and Tobago\", \"Tunisia\", \"Turkey\", \"Uganda\", \"Ukraine\", \"United Arab Emirates\", \"United Kingdom\", \"United States\", \"Uruguay\", \"Uzbekistan\", \"Vietnam\", \"Zambia\", \"Zimbabwe\"], \"legendgroup\": \"\", \"marker\": {\"color\": \"#636efa\"}, \"name\": \"\", \"notched\": false, \"offsetgroup\": \"\", \"orientation\": \"v\", \"showlegend\": false, \"type\": \"box\", \"x\": [\"Asia\", \"Europe\", \"Africa\", \"Africa\", \"North America\", \"South America\", \"Asia\", \"North America\", \"Oceania\", \"Europe\", \"Asia\", \"Asia\", \"Asia\", \"North America\", \"Europe\", \"Europe\", \"North America\", \"Africa\", \"North America\", \"Asia\", \"South America\", \"Europe\", \"Africa\", \"South America\", \"Europe\", \"Africa\", \"Africa\", \"Asia\", \"Africa\", \"North America\", \"North America\", \"Africa\", \"Africa\", \"South America\", \"Asia\", \"South America\", \"North America\", \"Africa\", \"Europe\", \"Europe\", \"Europe\", \"Europe\", \"Africa\", \"North America\", \"North America\", \"South America\", \"North America\", \"Africa\", \"Africa\", \"Europe\", \"Africa\", \"Oceania\", \"Europe\", \"Europe\", \"Africa\", \"Asia\", \"Europe\", \"Africa\", \"Europe\", \"North America\", \"North America\", \"Africa\", \"Africa\", \"South America\", \"North America\", \"North America\", \"Europe\", \"Europe\", \"Asia\", \"Asia\", \"Asia\", \"Europe\", \"Asia\", \"Europe\", \"North America\", \"Asia\", \"Asia\", \"Asia\", \"Africa\", \"Asia\", \"Europe\", \"Asia\", \"Africa\", \"Africa\", \"Africa\", \"Europe\", \"Europe\", \"Africa\", \"Africa\", \"Asia\", \"Asia\", \"Africa\", \"Europe\", \"Africa\", \"Africa\", \"North America\", \"Europe\", \"Asia\", \"Europe\", \"Africa\", \"Africa\", \"Asia\", \"Africa\", \"Asia\", \"Europe\", \"Oceania\", \"North America\", \"Africa\", \"Africa\", \"Europe\", \"Asia\", \"Asia\", \"North America\", \"Oceania\", \"South America\", \"South America\", \"Asia\", \"Europe\", \"Europe\", \"North America\", \"Asia\", \"Europe\", \"Africa\", \"Europe\", \"Africa\", \"Asia\", \"Africa\", \"Europe\", \"Africa\", \"Africa\", \"Asia\", \"North America\", \"Europe\", \"Africa\", \"Europe\", \"Asia\", \"Africa\", \"South America\", \"Europe\", \"Europe\", \"Asia\", \"Africa\", \"Asia\", \"Africa\", \"North America\", \"Africa\", \"Asia\", \"Africa\", \"Europe\", \"Asia\", \"Europe\", \"North America\", \"South America\", \"Asia\", \"Asia\", \"Africa\", \"Africa\"], \"x0\": \" \", \"xaxis\": \"x\", \"y\": [14.925, 15.289000000000001, 19.27, 0.27399999999999997, 30.635, 22.369, 121.48899999999999, 28.099, 4.0, 76.612, 15.189, 37.024, 8.889, 24.359, 36.616, 836.6110000000001, 5.03, 1.072, 144.525, 0.0, 66.221, 51.512, 0.425, 238.13099999999997, 28.64, 2.535, 0.084, 0.0, 11.339, 223.358, 15.216, 4.762, 4.505, 234.304, 3.2230000000000003, 43.964, 2.356, 1.933, 26.064, 21.691999999999997, 31.375999999999998, 103.588, 45.54600000000001, 0.0, 61.026, 239.358, 16.497, 22.809, 0.0, 52.015, 0.644, 0.0, 58.836999999999996, 454.089, 15.276, 3.509, 106.04700000000001, 2.735, 18.229, 0.0, 29.639, 2.056, 8.638, 15.255999999999998, 7.718, 36.65, 59.211000000000006, 29.304000000000002, 9.927, 9.012, 27.348000000000003, 347.32099999999997, 35.353, 572.8240000000001, 3.377, 7.535, 0.882, 6.391, 2.287, 76.337, 15.905, 4.688, 0.0, 6.722, 1.455, 27.918000000000003, 175.726, 0.506, 0.575, 3.738, 14.8, 5.481, 20.383, 23.228, 7.8629999999999995, 169.274, 117.25399999999999, 0.0, 14.33, 5.797999999999999, 0.16, 0.11, 0.0, 0.789, 355.416, 4.562, 9.661, 2.7680000000000002, 2.513, 45.008, 25.653000000000002, 16.252, 116.113, 0.0, 1.8230000000000002, 243.99599999999998, 10.668, 35.829, 150.048, 52.083, 34.015, 78.596, 0.154, 1237.5510000000002, 54.754, 36.394, 5.0169999999999995, 38.356, 0.0, 6.895, 4.444, 349.79699999999997, 52.431000000000004, 32.542, 614.953, 0.514, 11.882, 13.637, 500.333, 194.11599999999999, 5.452000000000001, 0.35200000000000004, 0.831, 1.57, 5.716, 4.231, 58.692, 0.0, 22.910999999999998, 30.535, 627.994, 362.459, 7.197, 0.568, 0.0, 0.598, 0.40399999999999997], \"y0\": \" \", \"yaxis\": \"y\"}],\n",
       "                        {\"boxmode\": \"group\", \"legend\": {\"tracegroupgap\": 0}, \"margin\": {\"t\": 60}, \"template\": {\"data\": {\"bar\": [{\"error_x\": {\"color\": \"#2a3f5f\"}, \"error_y\": {\"color\": \"#2a3f5f\"}, \"marker\": {\"line\": {\"color\": \"#E5ECF6\", \"width\": 0.5}}, \"type\": \"bar\"}], \"barpolar\": [{\"marker\": {\"line\": {\"color\": \"#E5ECF6\", \"width\": 0.5}}, \"type\": \"barpolar\"}], \"carpet\": [{\"aaxis\": {\"endlinecolor\": \"#2a3f5f\", \"gridcolor\": \"white\", \"linecolor\": \"white\", \"minorgridcolor\": \"white\", \"startlinecolor\": \"#2a3f5f\"}, \"baxis\": {\"endlinecolor\": \"#2a3f5f\", \"gridcolor\": \"white\", \"linecolor\": \"white\", \"minorgridcolor\": \"white\", \"startlinecolor\": \"#2a3f5f\"}, \"type\": \"carpet\"}], \"choropleth\": [{\"colorbar\": {\"outlinewidth\": 0, \"ticks\": \"\"}, \"type\": \"choropleth\"}], \"contour\": [{\"colorbar\": {\"outlinewidth\": 0, \"ticks\": \"\"}, \"colorscale\": [[0.0, \"#0d0887\"], [0.1111111111111111, \"#46039f\"], [0.2222222222222222, \"#7201a8\"], [0.3333333333333333, \"#9c179e\"], [0.4444444444444444, \"#bd3786\"], [0.5555555555555556, \"#d8576b\"], [0.6666666666666666, \"#ed7953\"], [0.7777777777777778, \"#fb9f3a\"], [0.8888888888888888, \"#fdca26\"], [1.0, \"#f0f921\"]], \"type\": \"contour\"}], \"contourcarpet\": [{\"colorbar\": {\"outlinewidth\": 0, \"ticks\": \"\"}, \"type\": \"contourcarpet\"}], \"heatmap\": [{\"colorbar\": {\"outlinewidth\": 0, \"ticks\": \"\"}, \"colorscale\": [[0.0, \"#0d0887\"], [0.1111111111111111, \"#46039f\"], [0.2222222222222222, \"#7201a8\"], [0.3333333333333333, \"#9c179e\"], [0.4444444444444444, \"#bd3786\"], [0.5555555555555556, \"#d8576b\"], [0.6666666666666666, \"#ed7953\"], [0.7777777777777778, \"#fb9f3a\"], [0.8888888888888888, \"#fdca26\"], [1.0, \"#f0f921\"]], \"type\": \"heatmap\"}], \"heatmapgl\": [{\"colorbar\": {\"outlinewidth\": 0, \"ticks\": \"\"}, \"colorscale\": [[0.0, \"#0d0887\"], [0.1111111111111111, \"#46039f\"], [0.2222222222222222, \"#7201a8\"], [0.3333333333333333, \"#9c179e\"], [0.4444444444444444, \"#bd3786\"], [0.5555555555555556, \"#d8576b\"], [0.6666666666666666, \"#ed7953\"], [0.7777777777777778, \"#fb9f3a\"], [0.8888888888888888, \"#fdca26\"], [1.0, \"#f0f921\"]], \"type\": \"heatmapgl\"}], \"histogram\": [{\"marker\": {\"colorbar\": {\"outlinewidth\": 0, \"ticks\": \"\"}}, \"type\": \"histogram\"}], \"histogram2d\": [{\"colorbar\": {\"outlinewidth\": 0, \"ticks\": \"\"}, \"colorscale\": [[0.0, \"#0d0887\"], [0.1111111111111111, \"#46039f\"], [0.2222222222222222, \"#7201a8\"], [0.3333333333333333, \"#9c179e\"], [0.4444444444444444, \"#bd3786\"], [0.5555555555555556, \"#d8576b\"], [0.6666666666666666, \"#ed7953\"], [0.7777777777777778, \"#fb9f3a\"], [0.8888888888888888, \"#fdca26\"], [1.0, \"#f0f921\"]], \"type\": \"histogram2d\"}], \"histogram2dcontour\": [{\"colorbar\": {\"outlinewidth\": 0, \"ticks\": \"\"}, \"colorscale\": [[0.0, \"#0d0887\"], [0.1111111111111111, \"#46039f\"], [0.2222222222222222, \"#7201a8\"], [0.3333333333333333, \"#9c179e\"], [0.4444444444444444, \"#bd3786\"], [0.5555555555555556, \"#d8576b\"], [0.6666666666666666, \"#ed7953\"], [0.7777777777777778, \"#fb9f3a\"], [0.8888888888888888, \"#fdca26\"], [1.0, \"#f0f921\"]], \"type\": \"histogram2dcontour\"}], \"mesh3d\": [{\"colorbar\": {\"outlinewidth\": 0, \"ticks\": \"\"}, \"type\": \"mesh3d\"}], \"parcoords\": [{\"line\": {\"colorbar\": {\"outlinewidth\": 0, \"ticks\": \"\"}}, \"type\": \"parcoords\"}], \"pie\": [{\"automargin\": true, \"type\": \"pie\"}], \"scatter\": [{\"marker\": {\"colorbar\": {\"outlinewidth\": 0, \"ticks\": \"\"}}, \"type\": \"scatter\"}], \"scatter3d\": [{\"line\": {\"colorbar\": {\"outlinewidth\": 0, \"ticks\": \"\"}}, \"marker\": {\"colorbar\": {\"outlinewidth\": 0, \"ticks\": \"\"}}, \"type\": \"scatter3d\"}], \"scattercarpet\": [{\"marker\": {\"colorbar\": {\"outlinewidth\": 0, \"ticks\": \"\"}}, \"type\": \"scattercarpet\"}], \"scattergeo\": [{\"marker\": {\"colorbar\": {\"outlinewidth\": 0, \"ticks\": \"\"}}, \"type\": \"scattergeo\"}], \"scattergl\": [{\"marker\": {\"colorbar\": {\"outlinewidth\": 0, \"ticks\": \"\"}}, \"type\": \"scattergl\"}], \"scattermapbox\": [{\"marker\": {\"colorbar\": {\"outlinewidth\": 0, \"ticks\": \"\"}}, \"type\": \"scattermapbox\"}], \"scatterpolar\": [{\"marker\": {\"colorbar\": {\"outlinewidth\": 0, \"ticks\": \"\"}}, \"type\": \"scatterpolar\"}], \"scatterpolargl\": [{\"marker\": {\"colorbar\": {\"outlinewidth\": 0, \"ticks\": \"\"}}, \"type\": \"scatterpolargl\"}], \"scatterternary\": [{\"marker\": {\"colorbar\": {\"outlinewidth\": 0, \"ticks\": \"\"}}, \"type\": \"scatterternary\"}], \"surface\": [{\"colorbar\": {\"outlinewidth\": 0, \"ticks\": \"\"}, \"colorscale\": [[0.0, \"#0d0887\"], [0.1111111111111111, \"#46039f\"], [0.2222222222222222, \"#7201a8\"], [0.3333333333333333, \"#9c179e\"], [0.4444444444444444, \"#bd3786\"], [0.5555555555555556, \"#d8576b\"], [0.6666666666666666, \"#ed7953\"], [0.7777777777777778, \"#fb9f3a\"], [0.8888888888888888, \"#fdca26\"], [1.0, \"#f0f921\"]], \"type\": \"surface\"}], \"table\": [{\"cells\": {\"fill\": {\"color\": \"#EBF0F8\"}, \"line\": {\"color\": \"white\"}}, \"header\": {\"fill\": {\"color\": \"#C8D4E3\"}, \"line\": {\"color\": \"white\"}}, \"type\": \"table\"}]}, \"layout\": {\"annotationdefaults\": {\"arrowcolor\": \"#2a3f5f\", \"arrowhead\": 0, \"arrowwidth\": 1}, \"coloraxis\": {\"colorbar\": {\"outlinewidth\": 0, \"ticks\": \"\"}}, \"colorscale\": {\"diverging\": [[0, \"#8e0152\"], [0.1, \"#c51b7d\"], [0.2, \"#de77ae\"], [0.3, \"#f1b6da\"], [0.4, \"#fde0ef\"], [0.5, \"#f7f7f7\"], [0.6, \"#e6f5d0\"], [0.7, \"#b8e186\"], [0.8, \"#7fbc41\"], [0.9, \"#4d9221\"], [1, \"#276419\"]], \"sequential\": [[0.0, \"#0d0887\"], [0.1111111111111111, \"#46039f\"], [0.2222222222222222, \"#7201a8\"], [0.3333333333333333, \"#9c179e\"], [0.4444444444444444, \"#bd3786\"], [0.5555555555555556, \"#d8576b\"], [0.6666666666666666, \"#ed7953\"], [0.7777777777777778, \"#fb9f3a\"], [0.8888888888888888, \"#fdca26\"], [1.0, \"#f0f921\"]], \"sequentialminus\": [[0.0, \"#0d0887\"], [0.1111111111111111, \"#46039f\"], [0.2222222222222222, \"#7201a8\"], [0.3333333333333333, \"#9c179e\"], [0.4444444444444444, \"#bd3786\"], [0.5555555555555556, \"#d8576b\"], [0.6666666666666666, \"#ed7953\"], [0.7777777777777778, \"#fb9f3a\"], [0.8888888888888888, \"#fdca26\"], [1.0, \"#f0f921\"]]}, \"colorway\": [\"#636efa\", \"#EF553B\", \"#00cc96\", \"#ab63fa\", \"#FFA15A\", \"#19d3f3\", \"#FF6692\", \"#B6E880\", \"#FF97FF\", \"#FECB52\"], \"font\": {\"color\": \"#2a3f5f\"}, \"geo\": {\"bgcolor\": \"white\", \"lakecolor\": \"white\", \"landcolor\": \"#E5ECF6\", \"showlakes\": true, \"showland\": true, \"subunitcolor\": \"white\"}, \"hoverlabel\": {\"align\": \"left\"}, \"hovermode\": \"closest\", \"mapbox\": {\"style\": \"light\"}, \"paper_bgcolor\": \"white\", \"plot_bgcolor\": \"#E5ECF6\", \"polar\": {\"angularaxis\": {\"gridcolor\": \"white\", \"linecolor\": \"white\", \"ticks\": \"\"}, \"bgcolor\": \"#E5ECF6\", \"radialaxis\": {\"gridcolor\": \"white\", \"linecolor\": \"white\", \"ticks\": \"\"}}, \"scene\": {\"xaxis\": {\"backgroundcolor\": \"#E5ECF6\", \"gridcolor\": \"white\", \"gridwidth\": 2, \"linecolor\": \"white\", \"showbackground\": true, \"ticks\": \"\", \"zerolinecolor\": \"white\"}, \"yaxis\": {\"backgroundcolor\": \"#E5ECF6\", \"gridcolor\": \"white\", \"gridwidth\": 2, \"linecolor\": \"white\", \"showbackground\": true, \"ticks\": \"\", \"zerolinecolor\": \"white\"}, \"zaxis\": {\"backgroundcolor\": \"#E5ECF6\", \"gridcolor\": \"white\", \"gridwidth\": 2, \"linecolor\": \"white\", \"showbackground\": true, \"ticks\": \"\", \"zerolinecolor\": \"white\"}}, \"shapedefaults\": {\"line\": {\"color\": \"#2a3f5f\"}}, \"ternary\": {\"aaxis\": {\"gridcolor\": \"white\", \"linecolor\": \"white\", \"ticks\": \"\"}, \"baxis\": {\"gridcolor\": \"white\", \"linecolor\": \"white\", \"ticks\": \"\"}, \"bgcolor\": \"#E5ECF6\", \"caxis\": {\"gridcolor\": \"white\", \"linecolor\": \"white\", \"ticks\": \"\"}}, \"title\": {\"x\": 0.05}, \"xaxis\": {\"automargin\": true, \"gridcolor\": \"white\", \"linecolor\": \"white\", \"ticks\": \"\", \"title\": {\"standoff\": 15}, \"zerolinecolor\": \"white\", \"zerolinewidth\": 2}, \"yaxis\": {\"automargin\": true, \"gridcolor\": \"white\", \"linecolor\": \"white\", \"ticks\": \"\", \"title\": {\"standoff\": 15}, \"zerolinecolor\": \"white\", \"zerolinewidth\": 2}}}, \"xaxis\": {\"anchor\": \"y\", \"domain\": [0.0, 1.0], \"title\": {\"text\": \"Continent\"}}, \"yaxis\": {\"anchor\": \"x\", \"domain\": [0.0, 1.0], \"title\": {\"text\": \"Total Deaths Per Million\"}}},\n",
       "                        {\"responsive\": true}\n",
       "                    ).then(function(){\n",
       "                            \n",
       "var gd = document.getElementById('ce6c87c6-97cb-412b-a71f-4da031ed3490');\n",
       "var x = new MutationObserver(function (mutations, observer) {{\n",
       "        var display = window.getComputedStyle(gd).display;\n",
       "        if (!display || display === 'none') {{\n",
       "            console.log([gd, 'removed!']);\n",
       "            Plotly.purge(gd);\n",
       "            observer.disconnect();\n",
       "        }}\n",
       "}});\n",
       "\n",
       "// Listen for the removal of the full notebook cells\n",
       "var notebookContainer = gd.closest('#notebook-container');\n",
       "if (notebookContainer) {{\n",
       "    x.observe(notebookContainer, {childList: true});\n",
       "}}\n",
       "\n",
       "// Listen for the clearing of the current output cell\n",
       "var outputEl = gd.closest('.output');\n",
       "if (outputEl) {{\n",
       "    x.observe(outputEl, {childList: true});\n",
       "}}\n",
       "\n",
       "                        })\n",
       "                };\n",
       "                });\n",
       "            </script>\n",
       "        </div>"
      ]
     },
     "metadata": {},
     "output_type": "display_data"
    }
   ],
   "source": [
    "sns.set()\n",
    "flatui = [\"#9b59b6\", \"#3498db\", \"#95a5a6\", \"#e74c3c\", \"#34495e\", \"#2ecc71\"]\n",
    "\n",
    "with sns.color_palette(flatui):\n",
    "    sns.scatterplot(max_combined_country_clean[\"Population Density\"],max_combined_country_clean[\"Total Deaths Per Million\"], \n",
    "                    hue=max_combined_country_clean[\"Country Income Level\"],alpha = 1, \n",
    "                    #hue_order=[\"Low Income\", \"Lower middle income\",\"Upper middle income\",\"High income\"] \n",
    "                   )\n",
    "    plt.ylim(-50, 850)\n",
    "    plt.xlim(-50,2000)\n",
    "    plt.title(\"Population Density vs. Total deaths per million\")\n",
    "    plt.xlabel(\"Population Density\")\n",
    "    plt.ylabel(\"Deaths per million\")\n",
    "    plt.show()\n",
    "#How does population density affect Deaths per million? are lower income countries more susceptible?\n",
    "fig = px.scatter(max_combined_country_clean,x='Population Density',y='Total Deaths Per Million',facet_col= 'Country Income Level'\n",
    "                , hover_name= \"Country\",color= \"Continent\", width = 1500)\n",
    "fig.update_layout(title=\"Population Density vs. Total deaths per million\", )\n",
    "fig.update_yaxes(range=[-2, 700])\n",
    "fig.update_xaxes(range=[-50, 2000])\n",
    "fig.show()\n",
    "#Does GDP affect the spread of Covid-19?\n",
    "fig2 = px.scatter(max_combined_country_clean,x='GDP Per Capita',y='Total Deaths Per Million'\n",
    "                  #,facet_col= 'Country Income Level'\n",
    "                , hover_name= \"Country\", width = 1500, trendline= \"ols\")\n",
    "fig2.update_layout(title=\"GDP Per Capita vs. Total deaths per million\", )\n",
    "fig2.update_xaxes(range=[-50, 120000])\n",
    "fig2.show()\n",
    "\n",
    "px.box(max_combined_country_clean, y= \"Total Deaths Per Million\", x=\"Continent\", hover_name= \"Country\",points=\"all\" )\n",
    "\n"
   ]
  },
  {
   "cell_type": "code",
   "execution_count": null,
   "metadata": {},
   "outputs": [],
   "source": []
  },
  {
   "cell_type": "code",
   "execution_count": 60,
   "metadata": {},
   "outputs": [],
   "source": [
    "quartilesm = max_combined_country_clean['Total Deaths Per Million'].quantile([.25,.5,.75])\n",
    "lowerqm = quartilesm[0.25]\n",
    "upperqm = quartilesm[0.75]\n",
    "iqrm = upperqm-lowerqm\n",
    "\n",
    "lower_boundm = lowerqm - (1.5*iqrm)\n",
    "upper_boundm = upperqm + (1.5*iqrm)\n",
    "\n",
    "quartilestm1 = max_combined_country_clean['Population Density'].quantile([.25,.5,.75])\n",
    "lowerqm1 = quartilestm1[0.25]\n",
    "upperqm1 = quartilestm1[0.75]\n",
    "iqrm1 = upperqm1-lowerqm1\n",
    "\n",
    "lower_boundmm1 = lowerqm1 - (1.5*iqrm1)\n",
    "upper_boundmm1 = upperqm1 + (1.5*iqrm1)\n",
    "\n"
   ]
  },
  {
   "cell_type": "code",
   "execution_count": 57,
   "metadata": {},
   "outputs": [],
   "source": []
  },
  {
   "cell_type": "code",
   "execution_count": null,
   "metadata": {},
   "outputs": [],
   "source": []
  },
  {
   "cell_type": "code",
   "execution_count": null,
   "metadata": {},
   "outputs": [],
   "source": []
  }
 ],
 "metadata": {
  "kernelspec": {
   "display_name": "Python 3",
   "language": "python",
   "name": "python3"
  },
  "language_info": {
   "codemirror_mode": {
    "name": "ipython",
    "version": 3
   },
   "file_extension": ".py",
   "mimetype": "text/x-python",
   "name": "python",
   "nbconvert_exporter": "python",
   "pygments_lexer": "ipython3",
   "version": "3.7.6"
  }
 },
 "nbformat": 4,
 "nbformat_minor": 4
}
