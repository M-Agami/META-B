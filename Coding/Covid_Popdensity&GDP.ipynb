{
 "cells": [
  {
   "cell_type": "code",
   "execution_count": 1,
   "metadata": {},
   "outputs": [],
   "source": [
    "import os\n",
    "import pandas as pd\n",
    "import numpy as np\n",
    "import scipy as sts\n",
    "import matplotlib.pyplot as plt\n",
    "import gmaps\n",
    "import plotly.express as px\n",
    "import seaborn as sns\n"
   ]
  },
  {
   "cell_type": "code",
   "execution_count": 2,
   "metadata": {},
   "outputs": [
    {
     "data": {
      "text/html": [
       "<div>\n",
       "<style scoped>\n",
       "    .dataframe tbody tr th:only-of-type {\n",
       "        vertical-align: middle;\n",
       "    }\n",
       "\n",
       "    .dataframe tbody tr th {\n",
       "        vertical-align: top;\n",
       "    }\n",
       "\n",
       "    .dataframe thead th {\n",
       "        text-align: right;\n",
       "    }\n",
       "</style>\n",
       "<table border=\"1\" class=\"dataframe\">\n",
       "  <thead>\n",
       "    <tr style=\"text-align: right;\">\n",
       "      <th></th>\n",
       "      <th>Continent</th>\n",
       "      <th>Country</th>\n",
       "      <th>Date</th>\n",
       "      <th>Total Deaths Per Million</th>\n",
       "      <th>Total Test Per Thousands</th>\n",
       "      <th>Stringency Index</th>\n",
       "      <th>Population Density</th>\n",
       "      <th>Aged 65 or older</th>\n",
       "      <th>GDP Per Capita</th>\n",
       "      <th>Covid Death Rate</th>\n",
       "    </tr>\n",
       "  </thead>\n",
       "  <tbody>\n",
       "    <tr>\n",
       "      <th>0</th>\n",
       "      <td>Asia</td>\n",
       "      <td>Afghanistan</td>\n",
       "      <td>2019-12-31</td>\n",
       "      <td>0.0</td>\n",
       "      <td>NaN</td>\n",
       "      <td>NaN</td>\n",
       "      <td>54.422</td>\n",
       "      <td>2.581</td>\n",
       "      <td>1803.987</td>\n",
       "      <td>597.029</td>\n",
       "    </tr>\n",
       "    <tr>\n",
       "      <th>1</th>\n",
       "      <td>Asia</td>\n",
       "      <td>Afghanistan</td>\n",
       "      <td>2020-01-01</td>\n",
       "      <td>0.0</td>\n",
       "      <td>NaN</td>\n",
       "      <td>0.0</td>\n",
       "      <td>54.422</td>\n",
       "      <td>2.581</td>\n",
       "      <td>1803.987</td>\n",
       "      <td>597.029</td>\n",
       "    </tr>\n",
       "    <tr>\n",
       "      <th>2</th>\n",
       "      <td>Asia</td>\n",
       "      <td>Afghanistan</td>\n",
       "      <td>2020-01-02</td>\n",
       "      <td>0.0</td>\n",
       "      <td>NaN</td>\n",
       "      <td>0.0</td>\n",
       "      <td>54.422</td>\n",
       "      <td>2.581</td>\n",
       "      <td>1803.987</td>\n",
       "      <td>597.029</td>\n",
       "    </tr>\n",
       "    <tr>\n",
       "      <th>3</th>\n",
       "      <td>Asia</td>\n",
       "      <td>Afghanistan</td>\n",
       "      <td>2020-01-03</td>\n",
       "      <td>0.0</td>\n",
       "      <td>NaN</td>\n",
       "      <td>0.0</td>\n",
       "      <td>54.422</td>\n",
       "      <td>2.581</td>\n",
       "      <td>1803.987</td>\n",
       "      <td>597.029</td>\n",
       "    </tr>\n",
       "    <tr>\n",
       "      <th>4</th>\n",
       "      <td>Asia</td>\n",
       "      <td>Afghanistan</td>\n",
       "      <td>2020-01-04</td>\n",
       "      <td>0.0</td>\n",
       "      <td>NaN</td>\n",
       "      <td>0.0</td>\n",
       "      <td>54.422</td>\n",
       "      <td>2.581</td>\n",
       "      <td>1803.987</td>\n",
       "      <td>597.029</td>\n",
       "    </tr>\n",
       "  </tbody>\n",
       "</table>\n",
       "</div>"
      ],
      "text/plain": [
       "  Continent      Country        Date  Total Deaths Per Million  \\\n",
       "0      Asia  Afghanistan  2019-12-31                       0.0   \n",
       "1      Asia  Afghanistan  2020-01-01                       0.0   \n",
       "2      Asia  Afghanistan  2020-01-02                       0.0   \n",
       "3      Asia  Afghanistan  2020-01-03                       0.0   \n",
       "4      Asia  Afghanistan  2020-01-04                       0.0   \n",
       "\n",
       "   Total Test Per Thousands  Stringency Index  Population Density  \\\n",
       "0                       NaN               NaN              54.422   \n",
       "1                       NaN               0.0              54.422   \n",
       "2                       NaN               0.0              54.422   \n",
       "3                       NaN               0.0              54.422   \n",
       "4                       NaN               0.0              54.422   \n",
       "\n",
       "   Aged 65 or older  GDP Per Capita  Covid Death Rate  \n",
       "0             2.581        1803.987           597.029  \n",
       "1             2.581        1803.987           597.029  \n",
       "2             2.581        1803.987           597.029  \n",
       "3             2.581        1803.987           597.029  \n",
       "4             2.581        1803.987           597.029  "
      ]
     },
     "execution_count": 2,
     "metadata": {},
     "output_type": "execute_result"
    }
   ],
   "source": [
    "world_df= pd.read_csv(\"../Resources/owid-covid-data.csv\")\n",
    "\n",
    "\n",
    "updated_world_df=world_df.drop([\"iso_code\", \"total_cases\", \"new_cases\",\"new_deaths_per_million\",\"total_tests\",\"new_tests\",\n",
    "                                \"new_tests_smoothed_per_thousand\",\"population\",\"median_age\",\"aged_70_older\",\n",
    "                                \"extreme_poverty\",\"diabetes_prevalence\",\"female_smokers\",\"male_smokers\",\n",
    "                               \"handwashing_facilities\",\"hospital_beds_per_thousand\",\"life_expectancy\",\n",
    "                               \"new_tests_smoothed\",\"new_tests_per_thousand\",\"tests_units\",\"total_deaths\",\n",
    "                               \"new_deaths\",\"total_cases_per_million\",\"new_cases_per_million\"], axis=1)\n",
    "\n",
    "updated_world_df=updated_world_dfupdated_world_df=updated_world_df.rename(columns={\"location\":\"Country\", \"continent\":\"Continent\",\"date\":\"Date\",\n",
    "                                                  \"total_deaths_per_million\":\"Total Deaths Per Million\",\n",
    "                                                  \"total_tests_per_thousand\":\"Total Test Per Thousands\",\n",
    "                                                 \"population_density\":\"Population Density\",\"aged_65_older\":\"Aged 65 or older\",\n",
    "                                                 \"gdp_per_capita\":\"GDP Per Capita\",\"cvd_death_rate\":\"Covid Death Rate\",\n",
    "                                                 \"stringency_index\":\"Stringency Index\"})\n",
    "\n",
    "#updated_world_df.fillna(0, inplace=True)\n",
    "\n",
    "updated_world_df.head()"
   ]
  },
  {
   "cell_type": "code",
   "execution_count": 3,
   "metadata": {},
   "outputs": [
    {
     "data": {
      "text/html": [
       "<div>\n",
       "<style scoped>\n",
       "    .dataframe tbody tr th:only-of-type {\n",
       "        vertical-align: middle;\n",
       "    }\n",
       "\n",
       "    .dataframe tbody tr th {\n",
       "        vertical-align: top;\n",
       "    }\n",
       "\n",
       "    .dataframe thead th {\n",
       "        text-align: right;\n",
       "    }\n",
       "</style>\n",
       "<table border=\"1\" class=\"dataframe\">\n",
       "  <thead>\n",
       "    <tr style=\"text-align: right;\">\n",
       "      <th></th>\n",
       "      <th>Country</th>\n",
       "      <th>Hospital Beds (per 10K people)</th>\n",
       "    </tr>\n",
       "  </thead>\n",
       "  <tbody>\n",
       "    <tr>\n",
       "      <th>0</th>\n",
       "      <td>Afghanistan</td>\n",
       "      <td>5</td>\n",
       "    </tr>\n",
       "    <tr>\n",
       "      <th>16</th>\n",
       "      <td>Albania</td>\n",
       "      <td>29</td>\n",
       "    </tr>\n",
       "    <tr>\n",
       "      <th>29</th>\n",
       "      <td>Algeria</td>\n",
       "      <td>19</td>\n",
       "    </tr>\n",
       "    <tr>\n",
       "      <th>31</th>\n",
       "      <td>Angola</td>\n",
       "      <td>8</td>\n",
       "    </tr>\n",
       "    <tr>\n",
       "      <th>32</th>\n",
       "      <td>Antigua and Barbuda</td>\n",
       "      <td>38</td>\n",
       "    </tr>\n",
       "  </tbody>\n",
       "</table>\n",
       "</div>"
      ],
      "text/plain": [
       "                Country  Hospital Beds (per 10K people)\n",
       "0           Afghanistan                               5\n",
       "16              Albania                              29\n",
       "29              Algeria                              19\n",
       "31               Angola                               8\n",
       "32  Antigua and Barbuda                              38"
      ]
     },
     "execution_count": 3,
     "metadata": {},
     "output_type": "execute_result"
    }
   ],
   "source": [
    "#Number Hospital Beds is based on the lastest year per Country\n",
    "\n",
    "data = pd.read_csv(\"../Resources/data.csv\")\n",
    "\n",
    "who_df = data.iloc[data.groupby(\"Country\")[\"Year\"].agg(pd.Series.idxmax)]\n",
    "who_df.reset_index(drop=True).set_index(\"Country\")\n",
    "who_df=who_df.rename(columns={\"Hospital beds (per 10 000 population)\":\"Hospital Beds (per 10K people)\"})\n",
    "hospital_beds_df=who_df.drop([\"Year\"], axis=1)\n",
    "\n",
    "hospital_beds_df.head()"
   ]
  },
  {
   "cell_type": "code",
   "execution_count": 4,
   "metadata": {},
   "outputs": [
    {
     "data": {
      "text/html": [
       "<div>\n",
       "<style scoped>\n",
       "    .dataframe tbody tr th:only-of-type {\n",
       "        vertical-align: middle;\n",
       "    }\n",
       "\n",
       "    .dataframe tbody tr th {\n",
       "        vertical-align: top;\n",
       "    }\n",
       "\n",
       "    .dataframe thead th {\n",
       "        text-align: right;\n",
       "    }\n",
       "</style>\n",
       "<table border=\"1\" class=\"dataframe\">\n",
       "  <thead>\n",
       "    <tr style=\"text-align: right;\">\n",
       "      <th></th>\n",
       "      <th>Country</th>\n",
       "      <th>Smoking Percetage</th>\n",
       "    </tr>\n",
       "  </thead>\n",
       "  <tbody>\n",
       "    <tr>\n",
       "      <th>1</th>\n",
       "      <td>Albania</td>\n",
       "      <td>11.20</td>\n",
       "    </tr>\n",
       "    <tr>\n",
       "      <th>7</th>\n",
       "      <td>Algeria</td>\n",
       "      <td>15.20</td>\n",
       "    </tr>\n",
       "    <tr>\n",
       "      <th>13</th>\n",
       "      <td>Andorra</td>\n",
       "      <td>21.40</td>\n",
       "    </tr>\n",
       "    <tr>\n",
       "      <th>19</th>\n",
       "      <td>Argentina</td>\n",
       "      <td>31.40</td>\n",
       "    </tr>\n",
       "    <tr>\n",
       "      <th>25</th>\n",
       "      <td>Armenia</td>\n",
       "      <td>6.00</td>\n",
       "    </tr>\n",
       "  </tbody>\n",
       "</table>\n",
       "</div>"
      ],
      "text/plain": [
       "      Country Smoking Percetage\n",
       "1     Albania            11.20 \n",
       "7     Algeria            15.20 \n",
       "13    Andorra            21.40 \n",
       "19  Argentina            31.40 \n",
       "25    Armenia             6.00 "
      ]
     },
     "execution_count": 4,
     "metadata": {},
     "output_type": "execute_result"
    }
   ],
   "source": [
    "#Smoking Percentage is based on the lastest year per Country\n",
    "\n",
    "smokingdata = pd.read_csv(\"../Resources/smokingdata.csv\")\n",
    "\n",
    "smokingdata_df = smokingdata.iloc[smokingdata.groupby(\"Country\")[\"Year\"].agg(pd.Series.idxmax)]\n",
    "\n",
    "clean_smoking_data = smokingdata_df.drop([\"Estimate of current cigarette smoking prevalence (%).1\", \"Estimate of current cigarette smoking prevalence (%).2\", \n",
    "                                       \"Estimate of current tobacco smoking prevalence (%)\", \"Estimate of current tobacco smoking prevalence (%).1\", \n",
    "                                       \"Estimate of current tobacco smoking prevalence (%).2\", \"Estimate of current tobacco use prevalence (%)\", \n",
    "                                       \"Estimate of current tobacco use prevalence (%).1\", \"Estimate of current tobacco use prevalence (%).2\"], axis=1)\n",
    "\n",
    " \n",
    "clean_smoking_data=clean_smoking_data.rename(columns={\"Estimate of current cigarette smoking prevalence (%)\":\"Smoking Prevalence (%)\"})\n",
    "smoking_data = clean_smoking_data\n",
    "smoking_prevalence=list(smoking_data[\"Smoking Prevalence (%)\"])\n",
    "smoking_percentage=[]\n",
    "\n",
    "for x in smoking_prevalence:\n",
    "    y=x.split(\"[\")\n",
    "    smoking_percentage.append(y[0])\n",
    "    \n",
    "\n",
    "    \n",
    "column_values = pd.Series(smoking_percentage)\n",
    "smoking_data.insert(loc=2, column=\"Smoking Percetage\", value=column_values)\n",
    "smoking_year_df=smoking_data.drop([\"Smoking Prevalence (%)\"], axis=1)\n",
    "\n",
    "smoking_df=smoking_year_df.drop([\"Year\"], axis=1)\n",
    "\n",
    "smoking_df.head()"
   ]
  },
  {
   "cell_type": "code",
   "execution_count": 5,
   "metadata": {},
   "outputs": [
    {
     "data": {
      "text/html": [
       "<div>\n",
       "<style scoped>\n",
       "    .dataframe tbody tr th:only-of-type {\n",
       "        vertical-align: middle;\n",
       "    }\n",
       "\n",
       "    .dataframe tbody tr th {\n",
       "        vertical-align: top;\n",
       "    }\n",
       "\n",
       "    .dataframe thead th {\n",
       "        text-align: right;\n",
       "    }\n",
       "</style>\n",
       "<table border=\"1\" class=\"dataframe\">\n",
       "  <thead>\n",
       "    <tr style=\"text-align: right;\">\n",
       "      <th></th>\n",
       "      <th>Country</th>\n",
       "      <th>School Status</th>\n",
       "      <th>Latitude</th>\n",
       "      <th>Longitude</th>\n",
       "      <th>Income Level</th>\n",
       "    </tr>\n",
       "  </thead>\n",
       "  <tbody>\n",
       "    <tr>\n",
       "      <th>0</th>\n",
       "      <td>Eritrea</td>\n",
       "      <td>Closed</td>\n",
       "      <td>15.9820</td>\n",
       "      <td>38.0200</td>\n",
       "      <td>Low income</td>\n",
       "    </tr>\n",
       "    <tr>\n",
       "      <th>1</th>\n",
       "      <td>Guinea-Bissau</td>\n",
       "      <td>Closed</td>\n",
       "      <td>12.1910</td>\n",
       "      <td>-14.4750</td>\n",
       "      <td>Low income</td>\n",
       "    </tr>\n",
       "    <tr>\n",
       "      <th>2</th>\n",
       "      <td>San Marino</td>\n",
       "      <td>Closed</td>\n",
       "      <td>43.9420</td>\n",
       "      <td>12.4611</td>\n",
       "      <td>High income</td>\n",
       "    </tr>\n",
       "    <tr>\n",
       "      <th>3</th>\n",
       "      <td>Georgia</td>\n",
       "      <td>Closed</td>\n",
       "      <td>42.0500</td>\n",
       "      <td>43.5760</td>\n",
       "      <td>Upper middle income</td>\n",
       "    </tr>\n",
       "    <tr>\n",
       "      <th>4</th>\n",
       "      <td>Italy</td>\n",
       "      <td>Closed</td>\n",
       "      <td>44.3713</td>\n",
       "      <td>11.1084</td>\n",
       "      <td>High income</td>\n",
       "    </tr>\n",
       "  </tbody>\n",
       "</table>\n",
       "</div>"
      ],
      "text/plain": [
       "         Country School Status  Latitude  Longitude         Income Level\n",
       "0        Eritrea        Closed   15.9820    38.0200           Low income\n",
       "1  Guinea-Bissau        Closed   12.1910   -14.4750           Low income\n",
       "2     San Marino        Closed   43.9420    12.4611          High income\n",
       "3        Georgia        Closed   42.0500    43.5760  Upper middle income\n",
       "4          Italy        Closed   44.3713    11.1084          High income"
      ]
     },
     "execution_count": 5,
     "metadata": {},
     "output_type": "execute_result"
    }
   ],
   "source": [
    "world_df=pd.read_csv(\"../Resources/dsh_simple.csv\")\n",
    "\n",
    "world_df=world_df[[\"Countryname\",\"IfclosedduetoCOVID19whend\",\"Statusof Schoolsaresomeall (copy) (group)\",\n",
    "          \"Latitude (generated)\",\"Longitude (generated)\",\"Incomelevelname\"]]\n",
    "\n",
    "income_level_df=world_df.rename(columns={\"Countryname\":\"Country\", \"Latitude (generated)\":\"Latitude\", \n",
    "                      \"Longitude (generated)\": \"Longitude\", \"Incomelevelname\": \"Income Level\",\n",
    "                        \"Statusof Schoolsaresomeall (copy) (group)\":\"School Status\"})\n",
    "income_df=income_level_df.drop([\"IfclosedduetoCOVID19whend\"], axis =1)\n",
    "\n",
    "income_df.head()"
   ]
  },
  {
   "cell_type": "code",
   "execution_count": 6,
   "metadata": {},
   "outputs": [
    {
     "data": {
      "text/html": [
       "<div>\n",
       "<style scoped>\n",
       "    .dataframe tbody tr th:only-of-type {\n",
       "        vertical-align: middle;\n",
       "    }\n",
       "\n",
       "    .dataframe tbody tr th {\n",
       "        vertical-align: top;\n",
       "    }\n",
       "\n",
       "    .dataframe thead th {\n",
       "        text-align: right;\n",
       "    }\n",
       "</style>\n",
       "<table border=\"1\" class=\"dataframe\">\n",
       "  <thead>\n",
       "    <tr style=\"text-align: right;\">\n",
       "      <th></th>\n",
       "      <th>Continent</th>\n",
       "      <th>Country</th>\n",
       "      <th>Date</th>\n",
       "      <th>Total Deaths Per Million</th>\n",
       "      <th>Total Test Per Thousands</th>\n",
       "      <th>Stringency Index</th>\n",
       "      <th>Population Density</th>\n",
       "      <th>Aged 65 or older</th>\n",
       "      <th>GDP Per Capita</th>\n",
       "      <th>Covid Death Rate</th>\n",
       "      <th>Hospital Beds (per 10K people)</th>\n",
       "      <th>Smoking Percetage</th>\n",
       "      <th>School Status</th>\n",
       "      <th>Latitude</th>\n",
       "      <th>Longitude</th>\n",
       "      <th>Income Level</th>\n",
       "    </tr>\n",
       "  </thead>\n",
       "  <tbody>\n",
       "    <tr>\n",
       "      <th>0</th>\n",
       "      <td>Asia</td>\n",
       "      <td>Afghanistan</td>\n",
       "      <td>2019-12-31</td>\n",
       "      <td>0.0</td>\n",
       "      <td>NaN</td>\n",
       "      <td>NaN</td>\n",
       "      <td>54.422</td>\n",
       "      <td>2.581</td>\n",
       "      <td>1803.987</td>\n",
       "      <td>597.029</td>\n",
       "      <td>5.0</td>\n",
       "      <td>NaN</td>\n",
       "      <td>Closed</td>\n",
       "      <td>34.023</td>\n",
       "      <td>65.5267</td>\n",
       "      <td>Low income</td>\n",
       "    </tr>\n",
       "    <tr>\n",
       "      <th>1</th>\n",
       "      <td>Asia</td>\n",
       "      <td>Afghanistan</td>\n",
       "      <td>2020-01-01</td>\n",
       "      <td>0.0</td>\n",
       "      <td>NaN</td>\n",
       "      <td>0.0</td>\n",
       "      <td>54.422</td>\n",
       "      <td>2.581</td>\n",
       "      <td>1803.987</td>\n",
       "      <td>597.029</td>\n",
       "      <td>5.0</td>\n",
       "      <td>NaN</td>\n",
       "      <td>Closed</td>\n",
       "      <td>34.023</td>\n",
       "      <td>65.5267</td>\n",
       "      <td>Low income</td>\n",
       "    </tr>\n",
       "    <tr>\n",
       "      <th>2</th>\n",
       "      <td>Asia</td>\n",
       "      <td>Afghanistan</td>\n",
       "      <td>2020-01-02</td>\n",
       "      <td>0.0</td>\n",
       "      <td>NaN</td>\n",
       "      <td>0.0</td>\n",
       "      <td>54.422</td>\n",
       "      <td>2.581</td>\n",
       "      <td>1803.987</td>\n",
       "      <td>597.029</td>\n",
       "      <td>5.0</td>\n",
       "      <td>NaN</td>\n",
       "      <td>Closed</td>\n",
       "      <td>34.023</td>\n",
       "      <td>65.5267</td>\n",
       "      <td>Low income</td>\n",
       "    </tr>\n",
       "    <tr>\n",
       "      <th>3</th>\n",
       "      <td>Asia</td>\n",
       "      <td>Afghanistan</td>\n",
       "      <td>2020-01-03</td>\n",
       "      <td>0.0</td>\n",
       "      <td>NaN</td>\n",
       "      <td>0.0</td>\n",
       "      <td>54.422</td>\n",
       "      <td>2.581</td>\n",
       "      <td>1803.987</td>\n",
       "      <td>597.029</td>\n",
       "      <td>5.0</td>\n",
       "      <td>NaN</td>\n",
       "      <td>Closed</td>\n",
       "      <td>34.023</td>\n",
       "      <td>65.5267</td>\n",
       "      <td>Low income</td>\n",
       "    </tr>\n",
       "    <tr>\n",
       "      <th>4</th>\n",
       "      <td>Asia</td>\n",
       "      <td>Afghanistan</td>\n",
       "      <td>2020-01-04</td>\n",
       "      <td>0.0</td>\n",
       "      <td>NaN</td>\n",
       "      <td>0.0</td>\n",
       "      <td>54.422</td>\n",
       "      <td>2.581</td>\n",
       "      <td>1803.987</td>\n",
       "      <td>597.029</td>\n",
       "      <td>5.0</td>\n",
       "      <td>NaN</td>\n",
       "      <td>Closed</td>\n",
       "      <td>34.023</td>\n",
       "      <td>65.5267</td>\n",
       "      <td>Low income</td>\n",
       "    </tr>\n",
       "  </tbody>\n",
       "</table>\n",
       "</div>"
      ],
      "text/plain": [
       "  Continent      Country        Date  Total Deaths Per Million  \\\n",
       "0      Asia  Afghanistan  2019-12-31                       0.0   \n",
       "1      Asia  Afghanistan  2020-01-01                       0.0   \n",
       "2      Asia  Afghanistan  2020-01-02                       0.0   \n",
       "3      Asia  Afghanistan  2020-01-03                       0.0   \n",
       "4      Asia  Afghanistan  2020-01-04                       0.0   \n",
       "\n",
       "   Total Test Per Thousands  Stringency Index  Population Density  \\\n",
       "0                       NaN               NaN              54.422   \n",
       "1                       NaN               0.0              54.422   \n",
       "2                       NaN               0.0              54.422   \n",
       "3                       NaN               0.0              54.422   \n",
       "4                       NaN               0.0              54.422   \n",
       "\n",
       "   Aged 65 or older  GDP Per Capita  Covid Death Rate  \\\n",
       "0             2.581        1803.987           597.029   \n",
       "1             2.581        1803.987           597.029   \n",
       "2             2.581        1803.987           597.029   \n",
       "3             2.581        1803.987           597.029   \n",
       "4             2.581        1803.987           597.029   \n",
       "\n",
       "   Hospital Beds (per 10K people) Smoking Percetage School Status  Latitude  \\\n",
       "0                             5.0               NaN        Closed    34.023   \n",
       "1                             5.0               NaN        Closed    34.023   \n",
       "2                             5.0               NaN        Closed    34.023   \n",
       "3                             5.0               NaN        Closed    34.023   \n",
       "4                             5.0               NaN        Closed    34.023   \n",
       "\n",
       "   Longitude Income Level  \n",
       "0    65.5267   Low income  \n",
       "1    65.5267   Low income  \n",
       "2    65.5267   Low income  \n",
       "3    65.5267   Low income  \n",
       "4    65.5267   Low income  "
      ]
     },
     "execution_count": 6,
     "metadata": {},
     "output_type": "execute_result"
    }
   ],
   "source": [
    "combined_df=pd.merge(updated_world_df,hospital_beds_df,on=\"Country\",how=\"left\").merge(smoking_df,on=\"Country\",how=\"left\" ).merge(income_df,on=\"Country\",how=\"left\")\n",
    "\n",
    "combined_df.head()"
   ]
  },
  {
   "cell_type": "code",
   "execution_count": 7,
   "metadata": {
    "scrolled": true
   },
   "outputs": [
    {
     "data": {
      "text/html": [
       "<div>\n",
       "<style scoped>\n",
       "    .dataframe tbody tr th:only-of-type {\n",
       "        vertical-align: middle;\n",
       "    }\n",
       "\n",
       "    .dataframe tbody tr th {\n",
       "        vertical-align: top;\n",
       "    }\n",
       "\n",
       "    .dataframe thead th {\n",
       "        text-align: right;\n",
       "    }\n",
       "</style>\n",
       "<table border=\"1\" class=\"dataframe\">\n",
       "  <thead>\n",
       "    <tr style=\"text-align: right;\">\n",
       "      <th></th>\n",
       "      <th>Country</th>\n",
       "      <th>Total Deaths Per Million</th>\n",
       "      <th>Income Level</th>\n",
       "      <th>Continent</th>\n",
       "      <th>GDP Per Capita</th>\n",
       "      <th>Population Density</th>\n",
       "      <th>Country Income Level</th>\n",
       "    </tr>\n",
       "  </thead>\n",
       "  <tbody>\n",
       "    <tr>\n",
       "      <th>0</th>\n",
       "      <td>Afghanistan</td>\n",
       "      <td>14.925</td>\n",
       "      <td>[Low income]</td>\n",
       "      <td>Asia</td>\n",
       "      <td>1803.987</td>\n",
       "      <td>54.422</td>\n",
       "      <td>Low income</td>\n",
       "    </tr>\n",
       "    <tr>\n",
       "      <th>1</th>\n",
       "      <td>Albania</td>\n",
       "      <td>15.289</td>\n",
       "      <td>[Upper middle income]</td>\n",
       "      <td>Europe</td>\n",
       "      <td>11803.431</td>\n",
       "      <td>104.871</td>\n",
       "      <td>Upper middle income</td>\n",
       "    </tr>\n",
       "    <tr>\n",
       "      <th>2</th>\n",
       "      <td>Algeria</td>\n",
       "      <td>19.270</td>\n",
       "      <td>[Upper middle income]</td>\n",
       "      <td>Africa</td>\n",
       "      <td>13913.839</td>\n",
       "      <td>17.348</td>\n",
       "      <td>Upper middle income</td>\n",
       "    </tr>\n",
       "    <tr>\n",
       "      <th>3</th>\n",
       "      <td>Angola</td>\n",
       "      <td>0.274</td>\n",
       "      <td>[Lower middle income]</td>\n",
       "      <td>Africa</td>\n",
       "      <td>5819.495</td>\n",
       "      <td>23.890</td>\n",
       "      <td>Lower middle income</td>\n",
       "    </tr>\n",
       "    <tr>\n",
       "      <th>4</th>\n",
       "      <td>Antigua and Barbuda</td>\n",
       "      <td>30.635</td>\n",
       "      <td>[High income]</td>\n",
       "      <td>North America</td>\n",
       "      <td>21490.943</td>\n",
       "      <td>231.845</td>\n",
       "      <td>High income</td>\n",
       "    </tr>\n",
       "    <tr>\n",
       "      <th>5</th>\n",
       "      <td>Argentina</td>\n",
       "      <td>22.369</td>\n",
       "      <td>[Upper middle income]</td>\n",
       "      <td>South America</td>\n",
       "      <td>18933.907</td>\n",
       "      <td>16.177</td>\n",
       "      <td>Upper middle income</td>\n",
       "    </tr>\n",
       "    <tr>\n",
       "      <th>6</th>\n",
       "      <td>Armenia</td>\n",
       "      <td>121.489</td>\n",
       "      <td>[Upper middle income]</td>\n",
       "      <td>Asia</td>\n",
       "      <td>8787.580</td>\n",
       "      <td>102.931</td>\n",
       "      <td>Upper middle income</td>\n",
       "    </tr>\n",
       "    <tr>\n",
       "      <th>7</th>\n",
       "      <td>Aruba</td>\n",
       "      <td>28.099</td>\n",
       "      <td>[High income]</td>\n",
       "      <td>North America</td>\n",
       "      <td>35973.781</td>\n",
       "      <td>584.800</td>\n",
       "      <td>High income</td>\n",
       "    </tr>\n",
       "    <tr>\n",
       "      <th>8</th>\n",
       "      <td>Australia</td>\n",
       "      <td>4.000</td>\n",
       "      <td>[High income]</td>\n",
       "      <td>Oceania</td>\n",
       "      <td>44648.710</td>\n",
       "      <td>3.202</td>\n",
       "      <td>High income</td>\n",
       "    </tr>\n",
       "    <tr>\n",
       "      <th>9</th>\n",
       "      <td>Austria</td>\n",
       "      <td>76.612</td>\n",
       "      <td>[High income]</td>\n",
       "      <td>Europe</td>\n",
       "      <td>45436.686</td>\n",
       "      <td>106.749</td>\n",
       "      <td>High income</td>\n",
       "    </tr>\n",
       "  </tbody>\n",
       "</table>\n",
       "</div>"
      ],
      "text/plain": [
       "               Country  Total Deaths Per Million           Income Level  \\\n",
       "0          Afghanistan                    14.925           [Low income]   \n",
       "1              Albania                    15.289  [Upper middle income]   \n",
       "2              Algeria                    19.270  [Upper middle income]   \n",
       "3               Angola                     0.274  [Lower middle income]   \n",
       "4  Antigua and Barbuda                    30.635          [High income]   \n",
       "5            Argentina                    22.369  [Upper middle income]   \n",
       "6              Armenia                   121.489  [Upper middle income]   \n",
       "7                Aruba                    28.099          [High income]   \n",
       "8            Australia                     4.000          [High income]   \n",
       "9              Austria                    76.612          [High income]   \n",
       "\n",
       "       Continent  GDP Per Capita  Population Density Country Income Level  \n",
       "0           Asia        1803.987              54.422           Low income  \n",
       "1         Europe       11803.431             104.871  Upper middle income  \n",
       "2         Africa       13913.839              17.348  Upper middle income  \n",
       "3         Africa        5819.495              23.890  Lower middle income  \n",
       "4  North America       21490.943             231.845          High income  \n",
       "5  South America       18933.907              16.177  Upper middle income  \n",
       "6           Asia        8787.580             102.931  Upper middle income  \n",
       "7  North America       35973.781             584.800          High income  \n",
       "8        Oceania       44648.710               3.202          High income  \n",
       "9         Europe       45436.686             106.749          High income  "
      ]
     },
     "execution_count": 7,
     "metadata": {},
     "output_type": "execute_result"
    }
   ],
   "source": [
    "#get unique country names & get max total deaths per million/gpd/pop.density for each country\n",
    "\n",
    "max_deaths_country=  combined_df.groupby([\"Country\"]).agg({\"Total Deaths Per Million\": \"max\",\"Income Level\":\"unique\", \"Continent\": \"unique\"})\n",
    "max_pop_country=  combined_df.groupby([\"Country\"]).agg({\"Population Density\": \"max\"})\n",
    "max_gdp_country=  combined_df.groupby([\"Country\"]).agg({\"GDP Per Capita\": \"max\" })\n",
    "\n",
    "#cleaning data\n",
    "income=[]\n",
    "continent=[]\n",
    "max_combined_country = pd.merge(max_deaths_country,max_gdp_country, how= \"outer\", on = 'Country')\n",
    "max_combined_country = pd.merge(max_combined_country,max_pop_country, how = 'outer', on = 'Country')\n",
    "for index, row in max_combined_country.iterrows():\n",
    "    x=row[\"Income Level\"][0]\n",
    "    y=row [\"Continent\"][0]\n",
    "    income.append(x)\n",
    "    continent.append(y)\n",
    "max_combined_country[\"Country Income Level\"]=income\n",
    "max_combined_country[\"Continent\"]=continent\n",
    "max_combined_country_clean=max_combined_country.dropna(how = 'any')\n",
    "max_combined_country_clean=max_combined_country_clean.reset_index()\n",
    "#max_combined_country_clean.sort_values(by=['Country Income Level'], kind= '')********\n",
    "max_combined_country_clean.head(10) \n",
    "\n",
    "#sns.set()\n",
    "#with sns.cubehelix_palette(8, start=.5, rot=-.75,reverse=False):\n",
    "    #plt.figure(figsize=(10,5))\n",
    "    #sns.scatterplot(data= max_combined_country_clean, x=\"GDP Per Capita\",y=\"Total Deaths Per Million\",hue= \"Country Income Level\",alpha =1)\n",
    "    #plt.title(\"GDP per Capita vs Total Deaths per million\")\n",
    "    #plt.xlabel(\"GDP Per capita (Country)\")\n",
    "    #plt.ylabel(\"Total deaths per million\")\n",
    "    #plt.ylim(-5,300)"
   ]
  },
  {
   "cell_type": "code",
   "execution_count": 9,
   "metadata": {},
   "outputs": [
    {
     "data": {
      "image/png": "[encoded data removed]",
      "text/plain": [
       "<Figure size 432x288 with 1 Axes>"
      ]
     },
     "metadata": {},
     "output_type": "display_data"
    },
    {
     "data": {
      "text/plain": [
       "<Figure size 720x288 with 0 Axes>"
      ]
     },
     "metadata": {},
     "output_type": "display_data"
    },
    {
     "data": {
      "application/vnd.plotly.v1+json": {
       "config": {
        "plotlyServerURL": "https://plot.ly"
       },
       "data": [
        {
         "hovertemplate": "<b>%{hovertext}</b><br><br>Continent=Asia<br>Country Income Level=Low income<br>Population Density=%{x}<br>Total Deaths Per Million=%{y}<extra></extra>",
         "hovertext": [
          "Afghanistan",
          "Nepal",
          "Tajikistan"
         ],
         "legendgroup": "Asia",
         "marker": {
          "color": "#636efa",
          "symbol": "circle"
         },
         "mode": "markers",
         "name": "Asia",
         "orientation": "v",
         "showlegend": true,
         "type": "scatter",
         "x": [
          54.422,
          204.43,
          64.281
         ],
         "xaxis": "x",
         "y": [
          14.925,
          0.789,
          5.452000000000001
         ],
         "yaxis": "y"
        },
        {
         "hovertemplate": "<b>%{hovertext}</b><br><br>Continent=Asia<br>Country Income Level=Upper middle income<br>Population Density=%{x}<br>Total Deaths Per Million=%{y}<extra></extra>",
         "hovertext": [
          "Armenia",
          "Azerbaijan",
          "China",
          "Georgia",
          "Iraq",
          "Jordan",
          "Kazakhstan",
          "Lebanon",
          "Malaysia",
          "Maldives",
          "Sri Lanka",
          "Thailand",
          "Turkey"
         ],
         "legendgroup": "Asia",
         "marker": {
          "color": "#636efa",
          "symbol": "circle"
         },
         "mode": "markers",
         "name": "Asia",
         "orientation": "v",
         "showlegend": false,
         "type": "scatter",
         "x": [
          102.931,
          119.309,
          147.674,
          65.032,
          88.125,
          109.285,
          6.681,
          594.561,
          96.25399999999999,
          1454.433,
          341.955,
          135.132,
          104.914
         ],
         "xaxis": "x2",
         "y": [
          121.48899999999999,
          15.189,
          3.2230000000000003,
          3.509,
          27.348000000000003,
          0.882,
          6.391,
          4.688,
          3.738,
          14.8,
          0.514,
          0.831,
          58.692
         ],
         "yaxis": "y2"
        },
        {
         "hovertemplate": "<b>%{hovertext}</b><br><br>Continent=Asia<br>Country Income Level=Lower middle income<br>Population Density=%{x}<br>Total Deaths Per Million=%{y}<extra></extra>",
         "hovertext": [
          "Bangladesh",
          "Bhutan",
          "Cambodia",
          "India",
          "Indonesia",
          "Mongolia",
          "Myanmar",
          "Pakistan",
          "Philippines",
          "Uzbekistan",
          "Vietnam"
         ],
         "legendgroup": "Asia",
         "marker": {
          "color": "#636efa",
          "symbol": "circle"
         },
         "mode": "markers",
         "name": "Asia",
         "orientation": "v",
         "showlegend": false,
         "type": "scatter",
         "x": [
          1265.036,
          21.188000000000002,
          90.67200000000001,
          450.41900000000004,
          145.725,
          1.98,
          81.721,
          255.57299999999998,
          351.87300000000005,
          76.134,
          308.127
         ],
         "xaxis": "x3",
         "y": [
          8.889,
          0,
          0,
          9.927,
          9.012,
          0,
          0.11,
          16.252,
          10.668,
          0.568,
          0
         ],
         "yaxis": "y3"
        },
        {
         "hovertemplate": "<b>%{hovertext}</b><br><br>Continent=Asia<br>Country Income Level=High income<br>Population Density=%{x}<br>Total Deaths Per Million=%{y}<extra></extra>",
         "hovertext": [
          "Bahrain",
          "Israel",
          "Japan",
          "Kuwait",
          "Oman",
          "Qatar",
          "Saudi Arabia",
          "Singapore",
          "United Arab Emirates"
         ],
         "legendgroup": "Asia",
         "marker": {
          "color": "#636efa",
          "symbol": "circle"
         },
         "mode": "markers",
         "name": "Asia",
         "orientation": "v",
         "showlegend": false,
         "type": "scatter",
         "x": [
          1935.9070000000002,
          402.606,
          347.778,
          232.128,
          14.98,
          227.322,
          15.322000000000001,
          7915.731,
          112.44200000000001
         ],
         "xaxis": "x4",
         "y": [
          37.024,
          35.353,
          7.535,
          76.337,
          25.653000000000002,
          34.015,
          36.394,
          4.444,
          30.535
         ],
         "yaxis": "y4"
        },
        {
         "hovertemplate": "<b>%{hovertext}</b><br><br>Continent=Europe<br>Country Income Level=Upper middle income<br>Population Density=%{x}<br>Total Deaths Per Million=%{y}<extra></extra>",
         "hovertext": [
          "Albania",
          "Belarus",
          "Bosnia and Herzegovina",
          "Bulgaria",
          "Montenegro",
          "Romania",
          "Serbia"
         ],
         "legendgroup": "Europe",
         "marker": {
          "color": "#EF553B",
          "symbol": "circle"
         },
         "mode": "markers",
         "name": "Europe",
         "orientation": "v",
         "showlegend": true,
         "type": "scatter",
         "x": [
          104.87100000000001,
          46.858000000000004,
          68.49600000000001,
          65.18,
          46.28,
          85.12899999999999,
          80.291
         ],
         "xaxis": "x2",
         "y": [
          15.289000000000001,
          36.616,
          51.512,
          28.64,
          14.33,
          78.596,
          38.356
         ],
         "yaxis": "y2"
        },
        {
         "hovertemplate": "<b>%{hovertext}</b><br><br>Continent=Europe<br>Country Income Level=Lower middle income<br>Population Density=%{x}<br>Total Deaths Per Million=%{y}<extra></extra>",
         "hovertext": [
          "Moldova",
          "Ukraine"
         ],
         "legendgroup": "Europe",
         "marker": {
          "color": "#EF553B",
          "symbol": "circle"
         },
         "mode": "markers",
         "name": "Europe",
         "orientation": "v",
         "showlegend": false,
         "type": "scatter",
         "x": [
          123.655,
          77.39
         ],
         "xaxis": "x3",
         "y": [
          117.25399999999999,
          22.910999999999998
         ],
         "yaxis": "y3"
        },
        {
         "hovertemplate": "<b>%{hovertext}</b><br><br>Continent=Europe<br>Country Income Level=High income<br>Population Density=%{x}<br>Total Deaths Per Million=%{y}<extra></extra>",
         "hovertext": [
          "Austria",
          "Belgium",
          "Croatia",
          "Cyprus",
          "Czech Republic",
          "Denmark",
          "Estonia",
          "Finland",
          "France",
          "Germany",
          "Greece",
          "Hungary",
          "Iceland",
          "Ireland",
          "Italy",
          "Latvia",
          "Lithuania",
          "Luxembourg",
          "Malta",
          "Netherlands",
          "Norway",
          "Poland",
          "Portugal",
          "San Marino",
          "Slovenia",
          "Spain",
          "Sweden",
          "Switzerland",
          "United Kingdom"
         ],
         "legendgroup": "Europe",
         "marker": {
          "color": "#EF553B",
          "symbol": "circle"
         },
         "mode": "markers",
         "name": "Europe",
         "orientation": "v",
         "showlegend": false,
         "type": "scatter",
         "x": [
          106.749,
          375.564,
          73.726,
          127.65700000000001,
          137.17600000000002,
          136.52,
          31.033,
          18.136,
          122.57799999999999,
          237.016,
          83.479,
          108.04299999999999,
          3.404,
          69.874,
          205.859,
          31.212,
          45.135,
          231.447,
          1454.037,
          508.54400000000004,
          14.462,
          124.027,
          112.37100000000001,
          556.6669999999999,
          102.619,
          93.105,
          24.718000000000004,
          214.243,
          272.89799999999997
         ],
         "xaxis": "x4",
         "y": [
          76.612,
          836.6110000000001,
          26.064,
          21.691999999999997,
          31.375999999999998,
          103.588,
          52.015,
          58.836999999999996,
          454.089,
          106.04700000000001,
          18.229,
          59.211000000000006,
          29.304000000000002,
          347.32099999999997,
          572.8240000000001,
          15.905,
          27.918000000000003,
          175.726,
          20.383,
          355.416,
          45.008,
          35.829,
          150.048,
          1237.5510000000002,
          52.431000000000004,
          614.953,
          500.333,
          194.11599999999999,
          627.994
         ],
         "yaxis": "y4"
        },
        {
         "hovertemplate": "<b>%{hovertext}</b><br><br>Continent=Africa<br>Country Income Level=Low income<br>Population Density=%{x}<br>Total Deaths Per Million=%{y}<extra></extra>",
         "hovertext": [
          "Benin",
          "Burkina Faso",
          "Burundi",
          "Central African Republic",
          "Chad",
          "Eritrea",
          "Ethiopia",
          "Guinea",
          "Guinea-Bissau",
          "Liberia",
          "Madagascar",
          "Malawi",
          "Mali",
          "Mozambique",
          "Niger",
          "Rwanda",
          "Sierra Leone",
          "Tanzania",
          "Togo",
          "Uganda"
         ],
         "legendgroup": "Africa",
         "marker": {
          "color": "#00cc96",
          "symbol": "circle"
         },
         "mode": "markers",
         "name": "Africa",
         "orientation": "v",
         "showlegend": true,
         "type": "scatter",
         "x": [
          99.11,
          70.15100000000001,
          423.06199999999995,
          7.479,
          11.833,
          44.303999999999995,
          104.95700000000001,
          51.755,
          66.191,
          49.126999999999995,
          43.951,
          197.519,
          15.196,
          37.728,
          16.955,
          494.869,
          104.7,
          64.699,
          143.366,
          213.75900000000001
         ],
         "xaxis": "x",
         "y": [
          1.072,
          2.535,
          0.084,
          4.762,
          4.505,
          0,
          0.644,
          2.056,
          8.638,
          6.722,
          0.506,
          0.575,
          5.481,
          0.16,
          2.7680000000000002,
          0.154,
          6.895,
          0.35200000000000004,
          1.57,
          0
         ],
         "yaxis": "y"
        },
        {
         "hovertemplate": "<b>%{hovertext}</b><br><br>Continent=Africa<br>Country Income Level=Upper middle income<br>Population Density=%{x}<br>Total Deaths Per Million=%{y}<extra></extra>",
         "hovertext": [
          "Algeria",
          "Botswana",
          "Equatorial Guinea",
          "Gabon",
          "Libya",
          "Mauritius",
          "Namibia",
          "South Africa"
         ],
         "legendgroup": "Africa",
         "marker": {
          "color": "#00cc96",
          "symbol": "circle"
         },
         "mode": "markers",
         "name": "Africa",
         "orientation": "v",
         "showlegend": false,
         "type": "scatter",
         "x": [
          17.348,
          4.044,
          45.193999999999996,
          7.859,
          3.623,
          622.962,
          3.0780000000000003,
          46.754
         ],
         "xaxis": "x2",
         "y": [
          19.27,
          0.425,
          22.809,
          15.276,
          1.455,
          7.8629999999999995,
          0,
          32.542
         ],
         "yaxis": "y2"
        },
        {
         "hovertemplate": "<b>%{hovertext}</b><br><br>Continent=Africa<br>Country Income Level=Lower middle income<br>Population Density=%{x}<br>Total Deaths Per Million=%{y}<extra></extra>",
         "hovertext": [
          "Angola",
          "Cameroon",
          "Cote d'Ivoire",
          "Djibouti",
          "Ghana",
          "Kenya",
          "Lesotho",
          "Mauritania",
          "Morocco",
          "Nigeria",
          "Sao Tome and Principe",
          "Senegal",
          "Sudan",
          "Tunisia",
          "Zambia",
          "Zimbabwe"
         ],
         "legendgroup": "Africa",
         "marker": {
          "color": "#00cc96",
          "symbol": "circle"
         },
         "mode": "markers",
         "name": "Africa",
         "orientation": "v",
         "showlegend": false,
         "type": "scatter",
         "x": [
          23.89,
          50.885,
          76.399,
          41.285,
          126.719,
          87.324,
          73.562,
          4.289,
          80.08,
          209.588,
          212.84099999999998,
          82.32799999999999,
          23.258000000000003,
          74.22800000000001,
          22.995,
          42.729
         ],
         "xaxis": "x3",
         "y": [
          0.27399999999999997,
          11.339,
          1.933,
          45.54600000000001,
          2.735,
          2.287,
          0,
          23.228,
          5.797999999999999,
          2.513,
          54.754,
          5.0169999999999995,
          11.882,
          4.231,
          0.598,
          0.40399999999999997
         ],
         "yaxis": "y3"
        },
        {
         "hovertemplate": "<b>%{hovertext}</b><br><br>Continent=Africa<br>Country Income Level=High income<br>Population Density=%{x}<br>Total Deaths Per Million=%{y}<extra></extra>",
         "hovertext": [
          "Seychelles"
         ],
         "legendgroup": "Africa",
         "marker": {
          "color": "#00cc96",
          "symbol": "circle"
         },
         "mode": "markers",
         "name": "Africa",
         "orientation": "v",
         "showlegend": false,
         "type": "scatter",
         "x": [
          208.354
         ],
         "xaxis": "x4",
         "y": [
          0
         ],
         "yaxis": "y4"
        },
        {
         "hovertemplate": "<b>%{hovertext}</b><br><br>Continent=North America<br>Country Income Level=Low income<br>Population Density=%{x}<br>Total Deaths Per Million=%{y}<extra></extra>",
         "hovertext": [
          "Haiti"
         ],
         "legendgroup": "North America",
         "marker": {
          "color": "#ab63fa",
          "symbol": "circle"
         },
         "mode": "markers",
         "name": "North America",
         "orientation": "v",
         "showlegend": true,
         "type": "scatter",
         "x": [
          398.44800000000004
         ],
         "xaxis": "x",
         "y": [
          7.718
         ],
         "yaxis": "y"
        },
        {
         "hovertemplate": "<b>%{hovertext}</b><br><br>Continent=North America<br>Country Income Level=Upper middle income<br>Population Density=%{x}<br>Total Deaths Per Million=%{y}<extra></extra>",
         "hovertext": [
          "Belize",
          "Costa Rica",
          "Dominica",
          "Dominican Republic",
          "Grenada",
          "Guatemala",
          "Jamaica",
          "Mexico"
         ],
         "legendgroup": "North America",
         "marker": {
          "color": "#ab63fa",
          "symbol": "circle"
         },
         "mode": "markers",
         "name": "North America",
         "orientation": "v",
         "showlegend": false,
         "type": "scatter",
         "x": [
          16.426,
          96.079,
          98.56700000000001,
          222.873,
          317.132,
          157.834,
          266.879,
          66.444
         ],
         "xaxis": "x2",
         "y": [
          5.03,
          2.356,
          0,
          61.026,
          0,
          29.639,
          3.377,
          169.274
         ],
         "yaxis": "y2"
        },
        {
         "hovertemplate": "<b>%{hovertext}</b><br><br>Continent=North America<br>Country Income Level=Lower middle income<br>Population Density=%{x}<br>Total Deaths Per Million=%{y}<extra></extra>",
         "hovertext": [
          "El Salvador",
          "Honduras",
          "Nicaragua"
         ],
         "legendgroup": "North America",
         "marker": {
          "color": "#ab63fa",
          "symbol": "circle"
         },
         "mode": "markers",
         "name": "North America",
         "orientation": "v",
         "showlegend": false,
         "type": "scatter",
         "x": [
          307.811,
          82.805,
          51.667
         ],
         "xaxis": "x3",
         "y": [
          16.497,
          36.65,
          9.661
         ],
         "yaxis": "y3"
        },
        {
         "hovertemplate": "<b>%{hovertext}</b><br><br>Continent=North America<br>Country Income Level=High income<br>Population Density=%{x}<br>Total Deaths Per Million=%{y}<extra></extra>",
         "hovertext": [
          "Antigua and Barbuda",
          "Aruba",
          "Barbados",
          "Bermuda",
          "Canada",
          "Cayman Islands",
          "Panama",
          "Puerto Rico",
          "Sint Maarten (Dutch part)",
          "Trinidad and Tobago",
          "United States"
         ],
         "legendgroup": "North America",
         "marker": {
          "color": "#ab63fa",
          "symbol": "circle"
         },
         "mode": "markers",
         "name": "North America",
         "orientation": "v",
         "showlegend": false,
         "type": "scatter",
         "x": [
          231.845,
          584.8,
          664.4630000000001,
          1308.82,
          4.037,
          256.496,
          55.133,
          376.23199999999997,
          1209.088,
          266.88599999999997,
          35.608000000000004
         ],
         "xaxis": "x4",
         "y": [
          30.635,
          28.099,
          24.359,
          144.525,
          223.358,
          15.216,
          116.113,
          52.083,
          349.79699999999997,
          5.716,
          362.459
         ],
         "yaxis": "y4"
        },
        {
         "hovertemplate": "<b>%{hovertext}</b><br><br>Continent=South America<br>Country Income Level=Upper middle income<br>Population Density=%{x}<br>Total Deaths Per Million=%{y}<extra></extra>",
         "hovertext": [
          "Argentina",
          "Brazil",
          "Colombia",
          "Ecuador",
          "Guyana",
          "Paraguay",
          "Peru",
          "Suriname"
         ],
         "legendgroup": "South America",
         "marker": {
          "color": "#FFA15A",
          "symbol": "circle"
         },
         "mode": "markers",
         "name": "South America",
         "orientation": "v",
         "showlegend": true,
         "type": "scatter",
         "x": [
          16.177,
          25.04,
          44.223,
          66.939,
          3.952,
          17.144000000000002,
          25.129,
          3.612
         ],
         "xaxis": "x2",
         "y": [
          22.369,
          238.13099999999997,
          43.964,
          239.358,
          15.255999999999998,
          1.8230000000000002,
          243.99599999999998,
          13.637
         ],
         "yaxis": "y2"
        },
        {
         "hovertemplate": "<b>%{hovertext}</b><br><br>Continent=South America<br>Country Income Level=Lower middle income<br>Population Density=%{x}<br>Total Deaths Per Million=%{y}<extra></extra>",
         "hovertext": [
          "Bolivia"
         ],
         "legendgroup": "South America",
         "marker": {
          "color": "#FFA15A",
          "symbol": "circle"
         },
         "mode": "markers",
         "name": "South America",
         "orientation": "v",
         "showlegend": false,
         "type": "scatter",
         "x": [
          10.202
         ],
         "xaxis": "x3",
         "y": [
          66.221
         ],
         "yaxis": "y3"
        },
        {
         "hovertemplate": "<b>%{hovertext}</b><br><br>Continent=South America<br>Country Income Level=High income<br>Population Density=%{x}<br>Total Deaths Per Million=%{y}<extra></extra>",
         "hovertext": [
          "Chile",
          "Uruguay"
         ],
         "legendgroup": "South America",
         "marker": {
          "color": "#FFA15A",
          "symbol": "circle"
         },
         "mode": "markers",
         "name": "South America",
         "orientation": "v",
         "showlegend": false,
         "type": "scatter",
         "x": [
          24.281999999999996,
          19.750999999999998
         ],
         "xaxis": "x4",
         "y": [
          234.304,
          7.197
         ],
         "yaxis": "y4"
        },
        {
         "hovertemplate": "<b>%{hovertext}</b><br><br>Continent=Oceania<br>Country Income Level=Upper middle income<br>Population Density=%{x}<br>Total Deaths Per Million=%{y}<extra></extra>",
         "hovertext": [
          "Fiji"
         ],
         "legendgroup": "Oceania",
         "marker": {
          "color": "#19d3f3",
          "symbol": "circle"
         },
         "mode": "markers",
         "name": "Oceania",
         "orientation": "v",
         "showlegend": true,
         "type": "scatter",
         "x": [
          49.562
         ],
         "xaxis": "x2",
         "y": [
          0
         ],
         "yaxis": "y2"
        },
        {
         "hovertemplate": "<b>%{hovertext}</b><br><br>Continent=Oceania<br>Country Income Level=Lower middle income<br>Population Density=%{x}<br>Total Deaths Per Million=%{y}<extra></extra>",
         "hovertext": [
          "Papua New Guinea"
         ],
         "legendgroup": "Oceania",
         "marker": {
          "color": "#19d3f3",
          "symbol": "circle"
         },
         "mode": "markers",
         "name": "Oceania",
         "orientation": "v",
         "showlegend": false,
         "type": "scatter",
         "x": [
          18.22
         ],
         "xaxis": "x3",
         "y": [
          0
         ],
         "yaxis": "y3"
        },
        {
         "hovertemplate": "<b>%{hovertext}</b><br><br>Continent=Oceania<br>Country Income Level=High income<br>Population Density=%{x}<br>Total Deaths Per Million=%{y}<extra></extra>",
         "hovertext": [
          "Australia",
          "New Zealand"
         ],
         "legendgroup": "Oceania",
         "marker": {
          "color": "#19d3f3",
          "symbol": "circle"
         },
         "mode": "markers",
         "name": "Oceania",
         "orientation": "v",
         "showlegend": false,
         "type": "scatter",
         "x": [
          3.202,
          18.206
         ],
         "xaxis": "x4",
         "y": [
          4,
          4.562
         ],
         "yaxis": "y4"
        }
       ],
       "layout": {
        "annotations": [
         {
          "font": {},
          "showarrow": false,
          "text": "Country Income Level=Low income",
          "x": 0.1175,
          "xanchor": "center",
          "xref": "paper",
          "y": 1,
          "yanchor": "bottom",
          "yref": "paper"
         },
         {
          "font": {},
          "showarrow": false,
          "text": "Country Income Level=Upper middle income",
          "x": 0.3725,
          "xanchor": "center",
          "xref": "paper",
          "y": 1,
          "yanchor": "bottom",
          "yref": "paper"
         },
         {
          "font": {},
          "showarrow": false,
          "text": "Country Income Level=Lower middle income",
          "x": 0.6275,
          "xanchor": "center",
          "xref": "paper",
          "y": 1,
          "yanchor": "bottom",
          "yref": "paper"
         },
         {
          "font": {},
          "showarrow": false,
          "text": "Country Income Level=High income",
          "x": 0.8824999999999998,
          "xanchor": "center",
          "xref": "paper",
          "y": 1,
          "yanchor": "bottom",
          "yref": "paper"
         }
        ],
        "legend": {
         "title": {
          "text": "Continent"
         },
         "tracegroupgap": 0
        },
        "margin": {
         "t": 60
        },
        "template": {
         "data": {
          "bar": [
           {
            "error_x": {
             "color": "#2a3f5f"
            },
            "error_y": {
             "color": "#2a3f5f"
            },
            "marker": {
             "line": {
              "color": "#E5ECF6",
              "width": 0.5
             }
            },
            "type": "bar"
           }
          ],
          "barpolar": [
           {
            "marker": {
             "line": {
              "color": "#E5ECF6",
              "width": 0.5
             }
            },
            "type": "barpolar"
           }
          ],
          "carpet": [
           {
            "aaxis": {
             "endlinecolor": "#2a3f5f",
             "gridcolor": "white",
             "linecolor": "white",
             "minorgridcolor": "white",
             "startlinecolor": "#2a3f5f"
            },
            "baxis": {
             "endlinecolor": "#2a3f5f",
             "gridcolor": "white",
             "linecolor": "white",
             "minorgridcolor": "white",
             "startlinecolor": "#2a3f5f"
            },
            "type": "carpet"
           }
          ],
          "choropleth": [
           {
            "colorbar": {
             "outlinewidth": 0,
             "ticks": ""
            },
            "type": "choropleth"
           }
          ],
          "contour": [
           {
            "colorbar": {
             "outlinewidth": 0,
             "ticks": ""
            },
            "colorscale": [
             [
              0,
              "#0d0887"
             ],
             [
              0.1111111111111111,
              "#46039f"
             ],
             [
              0.2222222222222222,
              "#7201a8"
             ],
             [
              0.3333333333333333,
              "#9c179e"
             ],
             [
              0.4444444444444444,
              "#bd3786"
             ],
             [
              0.5555555555555556,
              "#d8576b"
             ],
             [
              0.6666666666666666,
              "#ed7953"
             ],
             [
              0.7777777777777778,
              "#fb9f3a"
             ],
             [
              0.8888888888888888,
              "#fdca26"
             ],
             [
              1,
              "#f0f921"
             ]
            ],
            "type": "contour"
           }
          ],
          "contourcarpet": [
           {
            "colorbar": {
             "outlinewidth": 0,
             "ticks": ""
            },
            "type": "contourcarpet"
           }
          ],
          "heatmap": [
           {
            "colorbar": {
             "outlinewidth": 0,
             "ticks": ""
            },
            "colorscale": [
             [
              0,
              "#0d0887"
             ],
             [
              0.1111111111111111,
              "#46039f"
             ],
             [
              0.2222222222222222,
              "#7201a8"
             ],
             [
              0.3333333333333333,
              "#9c179e"
             ],
             [
              0.4444444444444444,
              "#bd3786"
             ],
             [
              0.5555555555555556,
              "#d8576b"
             ],
             [
              0.6666666666666666,
              "#ed7953"
             ],
             [
              0.7777777777777778,
              "#fb9f3a"
             ],
             [
              0.8888888888888888,
              "#fdca26"
             ],
             [
              1,
              "#f0f921"
             ]
            ],
            "type": "heatmap"
           }
          ],
          "heatmapgl": [
           {
            "colorbar": {
             "outlinewidth": 0,
             "ticks": ""
            },
            "colorscale": [
             [
              0,
              "#0d0887"
             ],
             [
              0.1111111111111111,
              "#46039f"
             ],
             [
              0.2222222222222222,
              "#7201a8"
             ],
             [
              0.3333333333333333,
              "#9c179e"
             ],
             [
              0.4444444444444444,
              "#bd3786"
             ],
             [
              0.5555555555555556,
              "#d8576b"
             ],
             [
              0.6666666666666666,
              "#ed7953"
             ],
             [
              0.7777777777777778,
              "#fb9f3a"
             ],
             [
              0.8888888888888888,
              "#fdca26"
             ],
             [
              1,
              "#f0f921"
             ]
            ],
            "type": "heatmapgl"
           }
          ],
          "histogram": [
           {
            "marker": {
             "colorbar": {
              "outlinewidth": 0,
              "ticks": ""
             }
            },
            "type": "histogram"
           }
          ],
          "histogram2d": [
           {
            "colorbar": {
             "outlinewidth": 0,
             "ticks": ""
            },
            "colorscale": [
             [
              0,
              "#0d0887"
             ],
             [
              0.1111111111111111,
              "#46039f"
             ],
             [
              0.2222222222222222,
              "#7201a8"
             ],
             [
              0.3333333333333333,
              "#9c179e"
             ],
             [
              0.4444444444444444,
              "#bd3786"
             ],
             [
              0.5555555555555556,
              "#d8576b"
             ],
             [
              0.6666666666666666,
              "#ed7953"
             ],
             [
              0.7777777777777778,
              "#fb9f3a"
             ],
             [
              0.8888888888888888,
              "#fdca26"
             ],
             [
              1,
              "#f0f921"
             ]
            ],
            "type": "histogram2d"
           }
          ],
          "histogram2dcontour": [
           {
            "colorbar": {
             "outlinewidth": 0,
             "ticks": ""
            },
            "colorscale": [
             [
              0,
              "#0d0887"
             ],
             [
              0.1111111111111111,
              "#46039f"
             ],
             [
              0.2222222222222222,
              "#7201a8"
             ],
             [
              0.3333333333333333,
              "#9c179e"
             ],
             [
              0.4444444444444444,
              "#bd3786"
             ],
             [
              0.5555555555555556,
              "#d8576b"
             ],
             [
              0.6666666666666666,
              "#ed7953"
             ],
             [
              0.7777777777777778,
              "#fb9f3a"
             ],
             [
              0.8888888888888888,
              "#fdca26"
             ],
             [
              1,
              "#f0f921"
             ]
            ],
            "type": "histogram2dcontour"
           }
          ],
          "mesh3d": [
           {
            "colorbar": {
             "outlinewidth": 0,
             "ticks": ""
            },
            "type": "mesh3d"
           }
          ],
          "parcoords": [
           {
            "line": {
             "colorbar": {
              "outlinewidth": 0,
              "ticks": ""
             }
            },
            "type": "parcoords"
           }
          ],
          "pie": [
           {
            "automargin": true,
            "type": "pie"
           }
          ],
          "scatter": [
           {
            "marker": {
             "colorbar": {
              "outlinewidth": 0,
              "ticks": ""
             }
            },
            "type": "scatter"
           }
          ],
          "scatter3d": [
           {
            "line": {
             "colorbar": {
              "outlinewidth": 0,
              "ticks": ""
             }
            },
            "marker": {
             "colorbar": {
              "outlinewidth": 0,
              "ticks": ""
             }
            },
            "type": "scatter3d"
           }
          ],
          "scattercarpet": [
           {
            "marker": {
             "colorbar": {
              "outlinewidth": 0,
              "ticks": ""
             }
            },
            "type": "scattercarpet"
           }
          ],
          "scattergeo": [
           {
            "marker": {
             "colorbar": {
              "outlinewidth": 0,
              "ticks": ""
             }
            },
            "type": "scattergeo"
           }
          ],
          "scattergl": [
           {
            "marker": {
             "colorbar": {
              "outlinewidth": 0,
              "ticks": ""
             }
            },
            "type": "scattergl"
           }
          ],
          "scattermapbox": [
           {
            "marker": {
             "colorbar": {
              "outlinewidth": 0,
              "ticks": ""
             }
            },
            "type": "scattermapbox"
           }
          ],
          "scatterpolar": [
           {
            "marker": {
             "colorbar": {
              "outlinewidth": 0,
              "ticks": ""
             }
            },
            "type": "scatterpolar"
           }
          ],
          "scatterpolargl": [
           {
            "marker": {
             "colorbar": {
              "outlinewidth": 0,
              "ticks": ""
             }
            },
            "type": "scatterpolargl"
           }
          ],
          "scatterternary": [
           {
            "marker": {
             "colorbar": {
              "outlinewidth": 0,
              "ticks": ""
             }
            },
            "type": "scatterternary"
           }
          ],
          "surface": [
           {
            "colorbar": {
             "outlinewidth": 0,
             "ticks": ""
            },
            "colorscale": [
             [
              0,
              "#0d0887"
             ],
             [
              0.1111111111111111,
              "#46039f"
             ],
             [
              0.2222222222222222,
              "#7201a8"
             ],
             [
              0.3333333333333333,
              "#9c179e"
             ],
             [
              0.4444444444444444,
              "#bd3786"
             ],
             [
              0.5555555555555556,
              "#d8576b"
             ],
             [
              0.6666666666666666,
              "#ed7953"
             ],
             [
              0.7777777777777778,
              "#fb9f3a"
             ],
             [
              0.8888888888888888,
              "#fdca26"
             ],
             [
              1,
              "#f0f921"
             ]
            ],
            "type": "surface"
           }
          ],
          "table": [
           {
            "cells": {
             "fill": {
              "color": "#EBF0F8"
             },
             "line": {
              "color": "white"
             }
            },
            "header": {
             "fill": {
              "color": "#C8D4E3"
             },
             "line": {
              "color": "white"
             }
            },
            "type": "table"
           }
          ]
         },
         "layout": {
          "annotationdefaults": {
           "arrowcolor": "#2a3f5f",
           "arrowhead": 0,
           "arrowwidth": 1
          },
          "coloraxis": {
           "colorbar": {
            "outlinewidth": 0,
            "ticks": ""
           }
          },
          "colorscale": {
           "diverging": [
            [
             0,
             "#8e0152"
            ],
            [
             0.1,
             "#c51b7d"
            ],
            [
             0.2,
             "#de77ae"
            ],
            [
             0.3,
             "#f1b6da"
            ],
            [
             0.4,
             "#fde0ef"
            ],
            [
             0.5,
             "#f7f7f7"
            ],
            [
             0.6,
             "#e6f5d0"
            ],
            [
             0.7,
             "#b8e186"
            ],
            [
             0.8,
             "#7fbc41"
            ],
            [
             0.9,
             "#4d9221"
            ],
            [
             1,
             "#276419"
            ]
           ],
           "sequential": [
            [
             0,
             "#0d0887"
            ],
            [
             0.1111111111111111,
             "#46039f"
            ],
            [
             0.2222222222222222,
             "#7201a8"
            ],
            [
             0.3333333333333333,
             "#9c179e"
            ],
            [
             0.4444444444444444,
             "#bd3786"
            ],
            [
             0.5555555555555556,
             "#d8576b"
            ],
            [
             0.6666666666666666,
             "#ed7953"
            ],
            [
             0.7777777777777778,
             "#fb9f3a"
            ],
            [
             0.8888888888888888,
             "#fdca26"
            ],
            [
             1,
             "#f0f921"
            ]
           ],
           "sequentialminus": [
            [
             0,
             "#0d0887"
            ],
            [
             0.1111111111111111,
             "#46039f"
            ],
            [
             0.2222222222222222,
             "#7201a8"
            ],
            [
             0.3333333333333333,
             "#9c179e"
            ],
            [
             0.4444444444444444,
             "#bd3786"
            ],
            [
             0.5555555555555556,
             "#d8576b"
            ],
            [
             0.6666666666666666,
             "#ed7953"
            ],
            [
             0.7777777777777778,
             "#fb9f3a"
            ],
            [
             0.8888888888888888,
             "#fdca26"
            ],
            [
             1,
             "#f0f921"
            ]
           ]
          },
          "colorway": [
           "#636efa",
           "#EF553B",
           "#00cc96",
           "#ab63fa",
           "#FFA15A",
           "#19d3f3",
           "#FF6692",
           "#B6E880",
           "#FF97FF",
           "#FECB52"
          ],
          "font": {
           "color": "#2a3f5f"
          },
          "geo": {
           "bgcolor": "white",
           "lakecolor": "white",
           "landcolor": "#E5ECF6",
           "showlakes": true,
           "showland": true,
           "subunitcolor": "white"
          },
          "hoverlabel": {
           "align": "left"
          },
          "hovermode": "closest",
          "mapbox": {
           "style": "light"
          },
          "paper_bgcolor": "white",
          "plot_bgcolor": "#E5ECF6",
          "polar": {
           "angularaxis": {
            "gridcolor": "white",
            "linecolor": "white",
            "ticks": ""
           },
           "bgcolor": "#E5ECF6",
           "radialaxis": {
            "gridcolor": "white",
            "linecolor": "white",
            "ticks": ""
           }
          },
          "scene": {
           "xaxis": {
            "backgroundcolor": "#E5ECF6",
            "gridcolor": "white",
            "gridwidth": 2,
            "linecolor": "white",
            "showbackground": true,
            "ticks": "",
            "zerolinecolor": "white"
           },
           "yaxis": {
            "backgroundcolor": "#E5ECF6",
            "gridcolor": "white",
            "gridwidth": 2,
            "linecolor": "white",
            "showbackground": true,
            "ticks": "",
            "zerolinecolor": "white"
           },
           "zaxis": {
            "backgroundcolor": "#E5ECF6",
            "gridcolor": "white",
            "gridwidth": 2,
            "linecolor": "white",
            "showbackground": true,
            "ticks": "",
            "zerolinecolor": "white"
           }
          },
          "shapedefaults": {
           "line": {
            "color": "#2a3f5f"
           }
          },
          "ternary": {
           "aaxis": {
            "gridcolor": "white",
            "linecolor": "white",
            "ticks": ""
           },
           "baxis": {
            "gridcolor": "white",
            "linecolor": "white",
            "ticks": ""
           },
           "bgcolor": "#E5ECF6",
           "caxis": {
            "gridcolor": "white",
            "linecolor": "white",
            "ticks": ""
           }
          },
          "title": {
           "x": 0.05
          },
          "xaxis": {
           "automargin": true,
           "gridcolor": "white",
           "linecolor": "white",
           "ticks": "",
           "title": {
            "standoff": 15
           },
           "zerolinecolor": "white",
           "zerolinewidth": 2
          },
          "yaxis": {
           "automargin": true,
           "gridcolor": "white",
           "linecolor": "white",
           "ticks": "",
           "title": {
            "standoff": 15
           },
           "zerolinecolor": "white",
           "zerolinewidth": 2
          }
         }
        },
        "title": {
         "text": "Population Density vs. Total deaths per million"
        },
        "width": 1500,
        "xaxis": {
         "anchor": "y",
         "domain": [
          0,
          0.235
         ],
         "range": [
          -50,
          2000
         ],
         "title": {
          "text": "Population Density"
         }
        },
        "xaxis2": {
         "anchor": "y2",
         "domain": [
          0.255,
          0.49
         ],
         "matches": "x",
         "range": [
          -50,
          2000
         ],
         "title": {
          "text": "Population Density"
         }
        },
        "xaxis3": {
         "anchor": "y3",
         "domain": [
          0.51,
          0.745
         ],
         "matches": "x",
         "range": [
          -50,
          2000
         ],
         "title": {
          "text": "Population Density"
         }
        },
        "xaxis4": {
         "anchor": "y4",
         "domain": [
          0.7649999999999999,
          0.9999999999999999
         ],
         "matches": "x",
         "range": [
          -50,
          2000
         ],
         "title": {
          "text": "Population Density"
         }
        },
        "yaxis": {
         "anchor": "x",
         "domain": [
          0,
          1
         ],
         "range": [
          -2,
          700
         ],
         "title": {
          "text": "Total Deaths Per Million"
         }
        },
        "yaxis2": {
         "anchor": "x2",
         "domain": [
          0,
          1
         ],
         "matches": "y",
         "range": [
          -2,
          700
         ],
         "showticklabels": false
        },
        "yaxis3": {
         "anchor": "x3",
         "domain": [
          0,
          1
         ],
         "matches": "y",
         "range": [
          -2,
          700
         ],
         "showticklabels": false
        },
        "yaxis4": {
         "anchor": "x4",
         "domain": [
          0,
          1
         ],
         "matches": "y",
         "range": [
          -2,
          700
         ],
         "showticklabels": false
        }
       }
      },
      "text/html": [
       "<div>\n",
       "        \n",
       "        \n",
       "            <div id=\"8d58640a-94f6-49b6-a1dc-4115ccbf9b40\" class=\"plotly-graph-div\" style=\"height:525px; width:1500px;\"></div>\n",
       "            <script type=\"text/javascript\">\n",
       "                require([\"plotly\"], function(Plotly) {\n",
       "                    window.PLOTLYENV=window.PLOTLYENV || {};\n",
       "                    \n",
       "                if (document.getElementById(\"8d58640a-94f6-49b6-a1dc-4115ccbf9b40\")) {\n",
       "                    Plotly.newPlot(\n",
       "                        '8d58640a-94f6-49b6-a1dc-4115ccbf9b40',\n",
       "                        [{\"hovertemplate\": \"<b>%{hovertext}</b><br><br>Continent=Asia<br>Country Income Level=Low income<br>Population Density=%{x}<br>Total Deaths Per Million=%{y}<extra></extra>\", \"hovertext\": [\"Afghanistan\", \"Nepal\", \"Tajikistan\"], \"legendgroup\": \"Asia\", \"marker\": {\"color\": \"#636efa\", \"symbol\": \"circle\"}, \"mode\": \"markers\", \"name\": \"Asia\", \"orientation\": \"v\", \"showlegend\": true, \"type\": \"scatter\", \"x\": [54.422, 204.43, 64.281], \"xaxis\": \"x\", \"y\": [14.925, 0.789, 5.452000000000001], \"yaxis\": \"y\"}, {\"hovertemplate\": \"<b>%{hovertext}</b><br><br>Continent=Asia<br>Country Income Level=Upper middle income<br>Population Density=%{x}<br>Total Deaths Per Million=%{y}<extra></extra>\", \"hovertext\": [\"Armenia\", \"Azerbaijan\", \"China\", \"Georgia\", \"Iraq\", \"Jordan\", \"Kazakhstan\", \"Lebanon\", \"Malaysia\", \"Maldives\", \"Sri Lanka\", \"Thailand\", \"Turkey\"], \"legendgroup\": \"Asia\", \"marker\": {\"color\": \"#636efa\", \"symbol\": \"circle\"}, \"mode\": \"markers\", \"name\": \"Asia\", \"orientation\": \"v\", \"showlegend\": false, \"type\": \"scatter\", \"x\": [102.931, 119.309, 147.674, 65.032, 88.125, 109.285, 6.681, 594.561, 96.25399999999999, 1454.433, 341.955, 135.132, 104.914], \"xaxis\": \"x2\", \"y\": [121.48899999999999, 15.189, 3.2230000000000003, 3.509, 27.348000000000003, 0.882, 6.391, 4.688, 3.738, 14.8, 0.514, 0.831, 58.692], \"yaxis\": \"y2\"}, {\"hovertemplate\": \"<b>%{hovertext}</b><br><br>Continent=Asia<br>Country Income Level=Lower middle income<br>Population Density=%{x}<br>Total Deaths Per Million=%{y}<extra></extra>\", \"hovertext\": [\"Bangladesh\", \"Bhutan\", \"Cambodia\", \"India\", \"Indonesia\", \"Mongolia\", \"Myanmar\", \"Pakistan\", \"Philippines\", \"Uzbekistan\", \"Vietnam\"], \"legendgroup\": \"Asia\", \"marker\": {\"color\": \"#636efa\", \"symbol\": \"circle\"}, \"mode\": \"markers\", \"name\": \"Asia\", \"orientation\": \"v\", \"showlegend\": false, \"type\": \"scatter\", \"x\": [1265.036, 21.188000000000002, 90.67200000000001, 450.41900000000004, 145.725, 1.98, 81.721, 255.57299999999998, 351.87300000000005, 76.134, 308.127], \"xaxis\": \"x3\", \"y\": [8.889, 0.0, 0.0, 9.927, 9.012, 0.0, 0.11, 16.252, 10.668, 0.568, 0.0], \"yaxis\": \"y3\"}, {\"hovertemplate\": \"<b>%{hovertext}</b><br><br>Continent=Asia<br>Country Income Level=High income<br>Population Density=%{x}<br>Total Deaths Per Million=%{y}<extra></extra>\", \"hovertext\": [\"Bahrain\", \"Israel\", \"Japan\", \"Kuwait\", \"Oman\", \"Qatar\", \"Saudi Arabia\", \"Singapore\", \"United Arab Emirates\"], \"legendgroup\": \"Asia\", \"marker\": {\"color\": \"#636efa\", \"symbol\": \"circle\"}, \"mode\": \"markers\", \"name\": \"Asia\", \"orientation\": \"v\", \"showlegend\": false, \"type\": \"scatter\", \"x\": [1935.9070000000002, 402.606, 347.778, 232.128, 14.98, 227.322, 15.322000000000001, 7915.731, 112.44200000000001], \"xaxis\": \"x4\", \"y\": [37.024, 35.353, 7.535, 76.337, 25.653000000000002, 34.015, 36.394, 4.444, 30.535], \"yaxis\": \"y4\"}, {\"hovertemplate\": \"<b>%{hovertext}</b><br><br>Continent=Europe<br>Country Income Level=Upper middle income<br>Population Density=%{x}<br>Total Deaths Per Million=%{y}<extra></extra>\", \"hovertext\": [\"Albania\", \"Belarus\", \"Bosnia and Herzegovina\", \"Bulgaria\", \"Montenegro\", \"Romania\", \"Serbia\"], \"legendgroup\": \"Europe\", \"marker\": {\"color\": \"#EF553B\", \"symbol\": \"circle\"}, \"mode\": \"markers\", \"name\": \"Europe\", \"orientation\": \"v\", \"showlegend\": true, \"type\": \"scatter\", \"x\": [104.87100000000001, 46.858000000000004, 68.49600000000001, 65.18, 46.28, 85.12899999999999, 80.291], \"xaxis\": \"x2\", \"y\": [15.289000000000001, 36.616, 51.512, 28.64, 14.33, 78.596, 38.356], \"yaxis\": \"y2\"}, {\"hovertemplate\": \"<b>%{hovertext}</b><br><br>Continent=Europe<br>Country Income Level=Lower middle income<br>Population Density=%{x}<br>Total Deaths Per Million=%{y}<extra></extra>\", \"hovertext\": [\"Moldova\", \"Ukraine\"], \"legendgroup\": \"Europe\", \"marker\": {\"color\": \"#EF553B\", \"symbol\": \"circle\"}, \"mode\": \"markers\", \"name\": \"Europe\", \"orientation\": \"v\", \"showlegend\": false, \"type\": \"scatter\", \"x\": [123.655, 77.39], \"xaxis\": \"x3\", \"y\": [117.25399999999999, 22.910999999999998], \"yaxis\": \"y3\"}, {\"hovertemplate\": \"<b>%{hovertext}</b><br><br>Continent=Europe<br>Country Income Level=High income<br>Population Density=%{x}<br>Total Deaths Per Million=%{y}<extra></extra>\", \"hovertext\": [\"Austria\", \"Belgium\", \"Croatia\", \"Cyprus\", \"Czech Republic\", \"Denmark\", \"Estonia\", \"Finland\", \"France\", \"Germany\", \"Greece\", \"Hungary\", \"Iceland\", \"Ireland\", \"Italy\", \"Latvia\", \"Lithuania\", \"Luxembourg\", \"Malta\", \"Netherlands\", \"Norway\", \"Poland\", \"Portugal\", \"San Marino\", \"Slovenia\", \"Spain\", \"Sweden\", \"Switzerland\", \"United Kingdom\"], \"legendgroup\": \"Europe\", \"marker\": {\"color\": \"#EF553B\", \"symbol\": \"circle\"}, \"mode\": \"markers\", \"name\": \"Europe\", \"orientation\": \"v\", \"showlegend\": false, \"type\": \"scatter\", \"x\": [106.749, 375.564, 73.726, 127.65700000000001, 137.17600000000002, 136.52, 31.033, 18.136, 122.57799999999999, 237.016, 83.479, 108.04299999999999, 3.404, 69.874, 205.859, 31.212, 45.135, 231.447, 1454.037, 508.54400000000004, 14.462, 124.027, 112.37100000000001, 556.6669999999999, 102.619, 93.105, 24.718000000000004, 214.243, 272.89799999999997], \"xaxis\": \"x4\", \"y\": [76.612, 836.6110000000001, 26.064, 21.691999999999997, 31.375999999999998, 103.588, 52.015, 58.836999999999996, 454.089, 106.04700000000001, 18.229, 59.211000000000006, 29.304000000000002, 347.32099999999997, 572.8240000000001, 15.905, 27.918000000000003, 175.726, 20.383, 355.416, 45.008, 35.829, 150.048, 1237.5510000000002, 52.431000000000004, 614.953, 500.333, 194.11599999999999, 627.994], \"yaxis\": \"y4\"}, {\"hovertemplate\": \"<b>%{hovertext}</b><br><br>Continent=Africa<br>Country Income Level=Low income<br>Population Density=%{x}<br>Total Deaths Per Million=%{y}<extra></extra>\", \"hovertext\": [\"Benin\", \"Burkina Faso\", \"Burundi\", \"Central African Republic\", \"Chad\", \"Eritrea\", \"Ethiopia\", \"Guinea\", \"Guinea-Bissau\", \"Liberia\", \"Madagascar\", \"Malawi\", \"Mali\", \"Mozambique\", \"Niger\", \"Rwanda\", \"Sierra Leone\", \"Tanzania\", \"Togo\", \"Uganda\"], \"legendgroup\": \"Africa\", \"marker\": {\"color\": \"#00cc96\", \"symbol\": \"circle\"}, \"mode\": \"markers\", \"name\": \"Africa\", \"orientation\": \"v\", \"showlegend\": true, \"type\": \"scatter\", \"x\": [99.11, 70.15100000000001, 423.06199999999995, 7.479, 11.833, 44.303999999999995, 104.95700000000001, 51.755, 66.191, 49.126999999999995, 43.951, 197.519, 15.196, 37.728, 16.955, 494.869, 104.7, 64.699, 143.366, 213.75900000000001], \"xaxis\": \"x\", \"y\": [1.072, 2.535, 0.084, 4.762, 4.505, 0.0, 0.644, 2.056, 8.638, 6.722, 0.506, 0.575, 5.481, 0.16, 2.7680000000000002, 0.154, 6.895, 0.35200000000000004, 1.57, 0.0], \"yaxis\": \"y\"}, {\"hovertemplate\": \"<b>%{hovertext}</b><br><br>Continent=Africa<br>Country Income Level=Upper middle income<br>Population Density=%{x}<br>Total Deaths Per Million=%{y}<extra></extra>\", \"hovertext\": [\"Algeria\", \"Botswana\", \"Equatorial Guinea\", \"Gabon\", \"Libya\", \"Mauritius\", \"Namibia\", \"South Africa\"], \"legendgroup\": \"Africa\", \"marker\": {\"color\": \"#00cc96\", \"symbol\": \"circle\"}, \"mode\": \"markers\", \"name\": \"Africa\", \"orientation\": \"v\", \"showlegend\": false, \"type\": \"scatter\", \"x\": [17.348, 4.044, 45.193999999999996, 7.859, 3.623, 622.962, 3.0780000000000003, 46.754], \"xaxis\": \"x2\", \"y\": [19.27, 0.425, 22.809, 15.276, 1.455, 7.8629999999999995, 0.0, 32.542], \"yaxis\": \"y2\"}, {\"hovertemplate\": \"<b>%{hovertext}</b><br><br>Continent=Africa<br>Country Income Level=Lower middle income<br>Population Density=%{x}<br>Total Deaths Per Million=%{y}<extra></extra>\", \"hovertext\": [\"Angola\", \"Cameroon\", \"Cote d'Ivoire\", \"Djibouti\", \"Ghana\", \"Kenya\", \"Lesotho\", \"Mauritania\", \"Morocco\", \"Nigeria\", \"Sao Tome and Principe\", \"Senegal\", \"Sudan\", \"Tunisia\", \"Zambia\", \"Zimbabwe\"], \"legendgroup\": \"Africa\", \"marker\": {\"color\": \"#00cc96\", \"symbol\": \"circle\"}, \"mode\": \"markers\", \"name\": \"Africa\", \"orientation\": \"v\", \"showlegend\": false, \"type\": \"scatter\", \"x\": [23.89, 50.885, 76.399, 41.285, 126.719, 87.324, 73.562, 4.289, 80.08, 209.588, 212.84099999999998, 82.32799999999999, 23.258000000000003, 74.22800000000001, 22.995, 42.729], \"xaxis\": \"x3\", \"y\": [0.27399999999999997, 11.339, 1.933, 45.54600000000001, 2.735, 2.287, 0.0, 23.228, 5.797999999999999, 2.513, 54.754, 5.0169999999999995, 11.882, 4.231, 0.598, 0.40399999999999997], \"yaxis\": \"y3\"}, {\"hovertemplate\": \"<b>%{hovertext}</b><br><br>Continent=Africa<br>Country Income Level=High income<br>Population Density=%{x}<br>Total Deaths Per Million=%{y}<extra></extra>\", \"hovertext\": [\"Seychelles\"], \"legendgroup\": \"Africa\", \"marker\": {\"color\": \"#00cc96\", \"symbol\": \"circle\"}, \"mode\": \"markers\", \"name\": \"Africa\", \"orientation\": \"v\", \"showlegend\": false, \"type\": \"scatter\", \"x\": [208.354], \"xaxis\": \"x4\", \"y\": [0.0], \"yaxis\": \"y4\"}, {\"hovertemplate\": \"<b>%{hovertext}</b><br><br>Continent=North America<br>Country Income Level=Low income<br>Population Density=%{x}<br>Total Deaths Per Million=%{y}<extra></extra>\", \"hovertext\": [\"Haiti\"], \"legendgroup\": \"North America\", \"marker\": {\"color\": \"#ab63fa\", \"symbol\": \"circle\"}, \"mode\": \"markers\", \"name\": \"North America\", \"orientation\": \"v\", \"showlegend\": true, \"type\": \"scatter\", \"x\": [398.44800000000004], \"xaxis\": \"x\", \"y\": [7.718], \"yaxis\": \"y\"}, {\"hovertemplate\": \"<b>%{hovertext}</b><br><br>Continent=North America<br>Country Income Level=Upper middle income<br>Population Density=%{x}<br>Total Deaths Per Million=%{y}<extra></extra>\", \"hovertext\": [\"Belize\", \"Costa Rica\", \"Dominica\", \"Dominican Republic\", \"Grenada\", \"Guatemala\", \"Jamaica\", \"Mexico\"], \"legendgroup\": \"North America\", \"marker\": {\"color\": \"#ab63fa\", \"symbol\": \"circle\"}, \"mode\": \"markers\", \"name\": \"North America\", \"orientation\": \"v\", \"showlegend\": false, \"type\": \"scatter\", \"x\": [16.426, 96.079, 98.56700000000001, 222.873, 317.132, 157.834, 266.879, 66.444], \"xaxis\": \"x2\", \"y\": [5.03, 2.356, 0.0, 61.026, 0.0, 29.639, 3.377, 169.274], \"yaxis\": \"y2\"}, {\"hovertemplate\": \"<b>%{hovertext}</b><br><br>Continent=North America<br>Country Income Level=Lower middle income<br>Population Density=%{x}<br>Total Deaths Per Million=%{y}<extra></extra>\", \"hovertext\": [\"El Salvador\", \"Honduras\", \"Nicaragua\"], \"legendgroup\": \"North America\", \"marker\": {\"color\": \"#ab63fa\", \"symbol\": \"circle\"}, \"mode\": \"markers\", \"name\": \"North America\", \"orientation\": \"v\", \"showlegend\": false, \"type\": \"scatter\", \"x\": [307.811, 82.805, 51.667], \"xaxis\": \"x3\", \"y\": [16.497, 36.65, 9.661], \"yaxis\": \"y3\"}, {\"hovertemplate\": \"<b>%{hovertext}</b><br><br>Continent=North America<br>Country Income Level=High income<br>Population Density=%{x}<br>Total Deaths Per Million=%{y}<extra></extra>\", \"hovertext\": [\"Antigua and Barbuda\", \"Aruba\", \"Barbados\", \"Bermuda\", \"Canada\", \"Cayman Islands\", \"Panama\", \"Puerto Rico\", \"Sint Maarten (Dutch part)\", \"Trinidad and Tobago\", \"United States\"], \"legendgroup\": \"North America\", \"marker\": {\"color\": \"#ab63fa\", \"symbol\": \"circle\"}, \"mode\": \"markers\", \"name\": \"North America\", \"orientation\": \"v\", \"showlegend\": false, \"type\": \"scatter\", \"x\": [231.845, 584.8, 664.4630000000001, 1308.82, 4.037, 256.496, 55.133, 376.23199999999997, 1209.088, 266.88599999999997, 35.608000000000004], \"xaxis\": \"x4\", \"y\": [30.635, 28.099, 24.359, 144.525, 223.358, 15.216, 116.113, 52.083, 349.79699999999997, 5.716, 362.459], \"yaxis\": \"y4\"}, {\"hovertemplate\": \"<b>%{hovertext}</b><br><br>Continent=South America<br>Country Income Level=Upper middle income<br>Population Density=%{x}<br>Total Deaths Per Million=%{y}<extra></extra>\", \"hovertext\": [\"Argentina\", \"Brazil\", \"Colombia\", \"Ecuador\", \"Guyana\", \"Paraguay\", \"Peru\", \"Suriname\"], \"legendgroup\": \"South America\", \"marker\": {\"color\": \"#FFA15A\", \"symbol\": \"circle\"}, \"mode\": \"markers\", \"name\": \"South America\", \"orientation\": \"v\", \"showlegend\": true, \"type\": \"scatter\", \"x\": [16.177, 25.04, 44.223, 66.939, 3.952, 17.144000000000002, 25.129, 3.612], \"xaxis\": \"x2\", \"y\": [22.369, 238.13099999999997, 43.964, 239.358, 15.255999999999998, 1.8230000000000002, 243.99599999999998, 13.637], \"yaxis\": \"y2\"}, {\"hovertemplate\": \"<b>%{hovertext}</b><br><br>Continent=South America<br>Country Income Level=Lower middle income<br>Population Density=%{x}<br>Total Deaths Per Million=%{y}<extra></extra>\", \"hovertext\": [\"Bolivia\"], \"legendgroup\": \"South America\", \"marker\": {\"color\": \"#FFA15A\", \"symbol\": \"circle\"}, \"mode\": \"markers\", \"name\": \"South America\", \"orientation\": \"v\", \"showlegend\": false, \"type\": \"scatter\", \"x\": [10.202], \"xaxis\": \"x3\", \"y\": [66.221], \"yaxis\": \"y3\"}, {\"hovertemplate\": \"<b>%{hovertext}</b><br><br>Continent=South America<br>Country Income Level=High income<br>Population Density=%{x}<br>Total Deaths Per Million=%{y}<extra></extra>\", \"hovertext\": [\"Chile\", \"Uruguay\"], \"legendgroup\": \"South America\", \"marker\": {\"color\": \"#FFA15A\", \"symbol\": \"circle\"}, \"mode\": \"markers\", \"name\": \"South America\", \"orientation\": \"v\", \"showlegend\": false, \"type\": \"scatter\", \"x\": [24.281999999999996, 19.750999999999998], \"xaxis\": \"x4\", \"y\": [234.304, 7.197], \"yaxis\": \"y4\"}, {\"hovertemplate\": \"<b>%{hovertext}</b><br><br>Continent=Oceania<br>Country Income Level=Upper middle income<br>Population Density=%{x}<br>Total Deaths Per Million=%{y}<extra></extra>\", \"hovertext\": [\"Fiji\"], \"legendgroup\": \"Oceania\", \"marker\": {\"color\": \"#19d3f3\", \"symbol\": \"circle\"}, \"mode\": \"markers\", \"name\": \"Oceania\", \"orientation\": \"v\", \"showlegend\": true, \"type\": \"scatter\", \"x\": [49.562], \"xaxis\": \"x2\", \"y\": [0.0], \"yaxis\": \"y2\"}, {\"hovertemplate\": \"<b>%{hovertext}</b><br><br>Continent=Oceania<br>Country Income Level=Lower middle income<br>Population Density=%{x}<br>Total Deaths Per Million=%{y}<extra></extra>\", \"hovertext\": [\"Papua New Guinea\"], \"legendgroup\": \"Oceania\", \"marker\": {\"color\": \"#19d3f3\", \"symbol\": \"circle\"}, \"mode\": \"markers\", \"name\": \"Oceania\", \"orientation\": \"v\", \"showlegend\": false, \"type\": \"scatter\", \"x\": [18.22], \"xaxis\": \"x3\", \"y\": [0.0], \"yaxis\": \"y3\"}, {\"hovertemplate\": \"<b>%{hovertext}</b><br><br>Continent=Oceania<br>Country Income Level=High income<br>Population Density=%{x}<br>Total Deaths Per Million=%{y}<extra></extra>\", \"hovertext\": [\"Australia\", \"New Zealand\"], \"legendgroup\": \"Oceania\", \"marker\": {\"color\": \"#19d3f3\", \"symbol\": \"circle\"}, \"mode\": \"markers\", \"name\": \"Oceania\", \"orientation\": \"v\", \"showlegend\": false, \"type\": \"scatter\", \"x\": [3.202, 18.206], \"xaxis\": \"x4\", \"y\": [4.0, 4.562], \"yaxis\": \"y4\"}],\n",
       "                        {\"annotations\": [{\"font\": {}, \"showarrow\": false, \"text\": \"Country Income Level=Low income\", \"x\": 0.1175, \"xanchor\": \"center\", \"xref\": \"paper\", \"y\": 1.0, \"yanchor\": \"bottom\", \"yref\": \"paper\"}, {\"font\": {}, \"showarrow\": false, \"text\": \"Country Income Level=Upper middle income\", \"x\": 0.3725, \"xanchor\": \"center\", \"xref\": \"paper\", \"y\": 1.0, \"yanchor\": \"bottom\", \"yref\": \"paper\"}, {\"font\": {}, \"showarrow\": false, \"text\": \"Country Income Level=Lower middle income\", \"x\": 0.6275, \"xanchor\": \"center\", \"xref\": \"paper\", \"y\": 1.0, \"yanchor\": \"bottom\", \"yref\": \"paper\"}, {\"font\": {}, \"showarrow\": false, \"text\": \"Country Income Level=High income\", \"x\": 0.8824999999999998, \"xanchor\": \"center\", \"xref\": \"paper\", \"y\": 1.0, \"yanchor\": \"bottom\", \"yref\": \"paper\"}], \"legend\": {\"title\": {\"text\": \"Continent\"}, \"tracegroupgap\": 0}, \"margin\": {\"t\": 60}, \"template\": {\"data\": {\"bar\": [{\"error_x\": {\"color\": \"#2a3f5f\"}, \"error_y\": {\"color\": \"#2a3f5f\"}, \"marker\": {\"line\": {\"color\": \"#E5ECF6\", \"width\": 0.5}}, \"type\": \"bar\"}], \"barpolar\": [{\"marker\": {\"line\": {\"color\": \"#E5ECF6\", \"width\": 0.5}}, \"type\": \"barpolar\"}], \"carpet\": [{\"aaxis\": {\"endlinecolor\": \"#2a3f5f\", \"gridcolor\": \"white\", \"linecolor\": \"white\", \"minorgridcolor\": \"white\", \"startlinecolor\": \"#2a3f5f\"}, \"baxis\": {\"endlinecolor\": \"#2a3f5f\", \"gridcolor\": \"white\", \"linecolor\": \"white\", \"minorgridcolor\": \"white\", \"startlinecolor\": \"#2a3f5f\"}, \"type\": \"carpet\"}], \"choropleth\": [{\"colorbar\": {\"outlinewidth\": 0, \"ticks\": \"\"}, \"type\": \"choropleth\"}], \"contour\": [{\"colorbar\": {\"outlinewidth\": 0, \"ticks\": \"\"}, \"colorscale\": [[0.0, \"#0d0887\"], [0.1111111111111111, \"#46039f\"], [0.2222222222222222, \"#7201a8\"], [0.3333333333333333, \"#9c179e\"], [0.4444444444444444, \"#bd3786\"], [0.5555555555555556, \"#d8576b\"], [0.6666666666666666, \"#ed7953\"], [0.7777777777777778, \"#fb9f3a\"], [0.8888888888888888, \"#fdca26\"], [1.0, \"#f0f921\"]], \"type\": \"contour\"}], \"contourcarpet\": [{\"colorbar\": {\"outlinewidth\": 0, \"ticks\": \"\"}, \"type\": \"contourcarpet\"}], \"heatmap\": [{\"colorbar\": {\"outlinewidth\": 0, \"ticks\": \"\"}, \"colorscale\": [[0.0, \"#0d0887\"], [0.1111111111111111, \"#46039f\"], [0.2222222222222222, \"#7201a8\"], [0.3333333333333333, \"#9c179e\"], [0.4444444444444444, \"#bd3786\"], [0.5555555555555556, \"#d8576b\"], [0.6666666666666666, \"#ed7953\"], [0.7777777777777778, \"#fb9f3a\"], [0.8888888888888888, \"#fdca26\"], [1.0, \"#f0f921\"]], \"type\": \"heatmap\"}], \"heatmapgl\": [{\"colorbar\": {\"outlinewidth\": 0, \"ticks\": \"\"}, \"colorscale\": [[0.0, \"#0d0887\"], [0.1111111111111111, \"#46039f\"], [0.2222222222222222, \"#7201a8\"], [0.3333333333333333, \"#9c179e\"], [0.4444444444444444, \"#bd3786\"], [0.5555555555555556, \"#d8576b\"], [0.6666666666666666, \"#ed7953\"], [0.7777777777777778, \"#fb9f3a\"], [0.8888888888888888, \"#fdca26\"], [1.0, \"#f0f921\"]], \"type\": \"heatmapgl\"}], \"histogram\": [{\"marker\": {\"colorbar\": {\"outlinewidth\": 0, \"ticks\": \"\"}}, \"type\": \"histogram\"}], \"histogram2d\": [{\"colorbar\": {\"outlinewidth\": 0, \"ticks\": \"\"}, \"colorscale\": [[0.0, \"#0d0887\"], [0.1111111111111111, \"#46039f\"], [0.2222222222222222, \"#7201a8\"], [0.3333333333333333, \"#9c179e\"], [0.4444444444444444, \"#bd3786\"], [0.5555555555555556, \"#d8576b\"], [0.6666666666666666, \"#ed7953\"], [0.7777777777777778, \"#fb9f3a\"], [0.8888888888888888, \"#fdca26\"], [1.0, \"#f0f921\"]], \"type\": \"histogram2d\"}], \"histogram2dcontour\": [{\"colorbar\": {\"outlinewidth\": 0, \"ticks\": \"\"}, \"colorscale\": [[0.0, \"#0d0887\"], [0.1111111111111111, \"#46039f\"], [0.2222222222222222, \"#7201a8\"], [0.3333333333333333, \"#9c179e\"], [0.4444444444444444, \"#bd3786\"], [0.5555555555555556, \"#d8576b\"], [0.6666666666666666, \"#ed7953\"], [0.7777777777777778, \"#fb9f3a\"], [0.8888888888888888, \"#fdca26\"], [1.0, \"#f0f921\"]], \"type\": \"histogram2dcontour\"}], \"mesh3d\": [{\"colorbar\": {\"outlinewidth\": 0, \"ticks\": \"\"}, \"type\": \"mesh3d\"}], \"parcoords\": [{\"line\": {\"colorbar\": {\"outlinewidth\": 0, \"ticks\": \"\"}}, \"type\": \"parcoords\"}], \"pie\": [{\"automargin\": true, \"type\": \"pie\"}], \"scatter\": [{\"marker\": {\"colorbar\": {\"outlinewidth\": 0, \"ticks\": \"\"}}, \"type\": \"scatter\"}], \"scatter3d\": [{\"line\": {\"colorbar\": {\"outlinewidth\": 0, \"ticks\": \"\"}}, \"marker\": {\"colorbar\": {\"outlinewidth\": 0, \"ticks\": \"\"}}, \"type\": \"scatter3d\"}], \"scattercarpet\": [{\"marker\": {\"colorbar\": {\"outlinewidth\": 0, \"ticks\": \"\"}}, \"type\": \"scattercarpet\"}], \"scattergeo\": [{\"marker\": {\"colorbar\": {\"outlinewidth\": 0, \"ticks\": \"\"}}, \"type\": \"scattergeo\"}], \"scattergl\": [{\"marker\": {\"colorbar\": {\"outlinewidth\": 0, \"ticks\": \"\"}}, \"type\": \"scattergl\"}], \"scattermapbox\": [{\"marker\": {\"colorbar\": {\"outlinewidth\": 0, \"ticks\": \"\"}}, \"type\": \"scattermapbox\"}], \"scatterpolar\": [{\"marker\": {\"colorbar\": {\"outlinewidth\": 0, \"ticks\": \"\"}}, \"type\": \"scatterpolar\"}], \"scatterpolargl\": [{\"marker\": {\"colorbar\": {\"outlinewidth\": 0, \"ticks\": \"\"}}, \"type\": \"scatterpolargl\"}], \"scatterternary\": [{\"marker\": {\"colorbar\": {\"outlinewidth\": 0, \"ticks\": \"\"}}, \"type\": \"scatterternary\"}], \"surface\": [{\"colorbar\": {\"outlinewidth\": 0, \"ticks\": \"\"}, \"colorscale\": [[0.0, \"#0d0887\"], [0.1111111111111111, \"#46039f\"], [0.2222222222222222, \"#7201a8\"], [0.3333333333333333, \"#9c179e\"], [0.4444444444444444, \"#bd3786\"], [0.5555555555555556, \"#d8576b\"], [0.6666666666666666, \"#ed7953\"], [0.7777777777777778, \"#fb9f3a\"], [0.8888888888888888, \"#fdca26\"], [1.0, \"#f0f921\"]], \"type\": \"surface\"}], \"table\": [{\"cells\": {\"fill\": {\"color\": \"#EBF0F8\"}, \"line\": {\"color\": \"white\"}}, \"header\": {\"fill\": {\"color\": \"#C8D4E3\"}, \"line\": {\"color\": \"white\"}}, \"type\": \"table\"}]}, \"layout\": {\"annotationdefaults\": {\"arrowcolor\": \"#2a3f5f\", \"arrowhead\": 0, \"arrowwidth\": 1}, \"coloraxis\": {\"colorbar\": {\"outlinewidth\": 0, \"ticks\": \"\"}}, \"colorscale\": {\"diverging\": [[0, \"#8e0152\"], [0.1, \"#c51b7d\"], [0.2, \"#de77ae\"], [0.3, \"#f1b6da\"], [0.4, \"#fde0ef\"], [0.5, \"#f7f7f7\"], [0.6, \"#e6f5d0\"], [0.7, \"#b8e186\"], [0.8, \"#7fbc41\"], [0.9, \"#4d9221\"], [1, \"#276419\"]], \"sequential\": [[0.0, \"#0d0887\"], [0.1111111111111111, \"#46039f\"], [0.2222222222222222, \"#7201a8\"], [0.3333333333333333, \"#9c179e\"], [0.4444444444444444, \"#bd3786\"], [0.5555555555555556, \"#d8576b\"], [0.6666666666666666, \"#ed7953\"], [0.7777777777777778, \"#fb9f3a\"], [0.8888888888888888, \"#fdca26\"], [1.0, \"#f0f921\"]], \"sequentialminus\": [[0.0, \"#0d0887\"], [0.1111111111111111, \"#46039f\"], [0.2222222222222222, \"#7201a8\"], [0.3333333333333333, \"#9c179e\"], [0.4444444444444444, \"#bd3786\"], [0.5555555555555556, \"#d8576b\"], [0.6666666666666666, \"#ed7953\"], [0.7777777777777778, \"#fb9f3a\"], [0.8888888888888888, \"#fdca26\"], [1.0, \"#f0f921\"]]}, \"colorway\": [\"#636efa\", \"#EF553B\", \"#00cc96\", \"#ab63fa\", \"#FFA15A\", \"#19d3f3\", \"#FF6692\", \"#B6E880\", \"#FF97FF\", \"#FECB52\"], \"font\": {\"color\": \"#2a3f5f\"}, \"geo\": {\"bgcolor\": \"white\", \"lakecolor\": \"white\", \"landcolor\": \"#E5ECF6\", \"showlakes\": true, \"showland\": true, \"subunitcolor\": \"white\"}, \"hoverlabel\": {\"align\": \"left\"}, \"hovermode\": \"closest\", \"mapbox\": {\"style\": \"light\"}, \"paper_bgcolor\": \"white\", \"plot_bgcolor\": \"#E5ECF6\", \"polar\": {\"angularaxis\": {\"gridcolor\": \"white\", \"linecolor\": \"white\", \"ticks\": \"\"}, \"bgcolor\": \"#E5ECF6\", \"radialaxis\": {\"gridcolor\": \"white\", \"linecolor\": \"white\", \"ticks\": \"\"}}, \"scene\": {\"xaxis\": {\"backgroundcolor\": \"#E5ECF6\", \"gridcolor\": \"white\", \"gridwidth\": 2, \"linecolor\": \"white\", \"showbackground\": true, \"ticks\": \"\", \"zerolinecolor\": \"white\"}, \"yaxis\": {\"backgroundcolor\": \"#E5ECF6\", \"gridcolor\": \"white\", \"gridwidth\": 2, \"linecolor\": \"white\", \"showbackground\": true, \"ticks\": \"\", \"zerolinecolor\": \"white\"}, \"zaxis\": {\"backgroundcolor\": \"#E5ECF6\", \"gridcolor\": \"white\", \"gridwidth\": 2, \"linecolor\": \"white\", \"showbackground\": true, \"ticks\": \"\", \"zerolinecolor\": \"white\"}}, \"shapedefaults\": {\"line\": {\"color\": \"#2a3f5f\"}}, \"ternary\": {\"aaxis\": {\"gridcolor\": \"white\", \"linecolor\": \"white\", \"ticks\": \"\"}, \"baxis\": {\"gridcolor\": \"white\", \"linecolor\": \"white\", \"ticks\": \"\"}, \"bgcolor\": \"#E5ECF6\", \"caxis\": {\"gridcolor\": \"white\", \"linecolor\": \"white\", \"ticks\": \"\"}}, \"title\": {\"x\": 0.05}, \"xaxis\": {\"automargin\": true, \"gridcolor\": \"white\", \"linecolor\": \"white\", \"ticks\": \"\", \"title\": {\"standoff\": 15}, \"zerolinecolor\": \"white\", \"zerolinewidth\": 2}, \"yaxis\": {\"automargin\": true, \"gridcolor\": \"white\", \"linecolor\": \"white\", \"ticks\": \"\", \"title\": {\"standoff\": 15}, \"zerolinecolor\": \"white\", \"zerolinewidth\": 2}}}, \"title\": {\"text\": \"Population Density vs. Total deaths per million\"}, \"width\": 1500, \"xaxis\": {\"anchor\": \"y\", \"domain\": [0.0, 0.235], \"range\": [-50, 2000], \"title\": {\"text\": \"Population Density\"}}, \"xaxis2\": {\"anchor\": \"y2\", \"domain\": [0.255, 0.49], \"matches\": \"x\", \"range\": [-50, 2000], \"title\": {\"text\": \"Population Density\"}}, \"xaxis3\": {\"anchor\": \"y3\", \"domain\": [0.51, 0.745], \"matches\": \"x\", \"range\": [-50, 2000], \"title\": {\"text\": \"Population Density\"}}, \"xaxis4\": {\"anchor\": \"y4\", \"domain\": [0.7649999999999999, 0.9999999999999999], \"matches\": \"x\", \"range\": [-50, 2000], \"title\": {\"text\": \"Population Density\"}}, \"yaxis\": {\"anchor\": \"x\", \"domain\": [0.0, 1.0], \"range\": [-2, 700], \"title\": {\"text\": \"Total Deaths Per Million\"}}, \"yaxis2\": {\"anchor\": \"x2\", \"domain\": [0.0, 1.0], \"matches\": \"y\", \"range\": [-2, 700], \"showticklabels\": false}, \"yaxis3\": {\"anchor\": \"x3\", \"domain\": [0.0, 1.0], \"matches\": \"y\", \"range\": [-2, 700], \"showticklabels\": false}, \"yaxis4\": {\"anchor\": \"x4\", \"domain\": [0.0, 1.0], \"matches\": \"y\", \"range\": [-2, 700], \"showticklabels\": false}},\n",
       "                        {\"responsive\": true}\n",
       "                    ).then(function(){\n",
       "                            \n",
       "var gd = document.getElementById('8d58640a-94f6-49b6-a1dc-4115ccbf9b40');\n",
       "var x = new MutationObserver(function (mutations, observer) {{\n",
       "        var display = window.getComputedStyle(gd).display;\n",
       "        if (!display || display === 'none') {{\n",
       "            console.log([gd, 'removed!']);\n",
       "            Plotly.purge(gd);\n",
       "            observer.disconnect();\n",
       "        }}\n",
       "}});\n",
       "\n",
       "// Listen for the removal of the full notebook cells\n",
       "var notebookContainer = gd.closest('#notebook-container');\n",
       "if (notebookContainer) {{\n",
       "    x.observe(notebookContainer, {childList: true});\n",
       "}}\n",
       "\n",
       "// Listen for the clearing of the current output cell\n",
       "var outputEl = gd.closest('.output');\n",
       "if (outputEl) {{\n",
       "    x.observe(outputEl, {childList: true});\n",
       "}}\n",
       "\n",
       "                        })\n",
       "                };\n",
       "                });\n",
       "            </script>\n",
       "        </div>"
      ]
     },
     "metadata": {},
     "output_type": "display_data"
    }
   ],
   "source": [
    "sns.set()\n",
    "flatui = [\"#9b59b6\", \"#3498db\", \"#95a5a6\", \"#e74c3c\", \"#34495e\", \"#2ecc71\"]\n",
    "\n",
    "with sns.color_palette(flatui):\n",
    "    sns.scatterplot(max_combined_country_clean[\"Population Density\"],max_combined_country_clean[\"Total Deaths Per Million\"], \n",
    "                    hue=max_combined_country_clean[\"Continent\"],alpha = 1 )\n",
    "    plt.ylim(-50, 850)\n",
    "    plt.xlim(-50,2000)\n",
    "    plt.title(\"Population Density vs. Total deaths per million\")\n",
    "    plt.xlabel(\"Population Density\")\n",
    "    plt.ylabel(\"Deaths per million\")\n",
    "    plt.figure(figsize=(10,4))\n",
    "    plt.show()\n",
    "    \n",
    "fig = px.scatter(max_combined_country_clean,x='Population Density',y='Total Deaths Per Million',facet_col= 'Country Income Level'\n",
    "                , hover_name= \"Country\",color= \"Continent\", width = 1500)\n",
    "fig.update_layout(title=\"Population Density vs. Total deaths per million\", )\n",
    "fig.update_yaxes(range=[-2, 700])\n",
    "fig.update_xaxes(range=[-50, 2000])\n",
    "fig.show()\n",
    "\n",
    "\n"
   ]
  },
  {
   "cell_type": "raw",
   "metadata": {},
   "source": []
  },
  {
   "cell_type": "code",
   "execution_count": null,
   "metadata": {},
   "outputs": [],
   "source": []
  }
 ],
 "metadata": {
  "kernelspec": {
   "display_name": "Python 3",
   "language": "python",
   "name": "python3"
  },
  "language_info": {
   "codemirror_mode": {
    "name": "ipython",
    "version": 3
   },
   "file_extension": ".py",
   "mimetype": "text/x-python",
   "name": "python",
   "nbconvert_exporter": "python",
   "pygments_lexer": "ipython3",
   "version": "3.7.6"
  }
 },
 "nbformat": 4,
 "nbformat_minor": 4
}
