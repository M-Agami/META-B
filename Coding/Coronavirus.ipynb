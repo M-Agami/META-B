{
 "cells": [
  {
   "cell_type": "code",
   "execution_count": 3,
   "metadata": {},
   "outputs": [],
   "source": [
    "import os\n",
    "import pandas as pd"
   ]
  },
  {
   "cell_type": "code",
   "execution_count": 9,
   "metadata": {},
   "outputs": [],
   "source": [
    "world_df= pd.read_csv(\"../Resources/owid-covid-data.csv\")\n",
    "\n",
    "\n",
    "updated_world_df=world_df.drop([\"iso_code\", \"total_cases\", \"new_cases\",\"new_deaths_per_million\",\"total_tests\",\"new_tests\",\n",
    "                                \"new_tests_smoothed_per_thousand\",\"population\",\"median_age\",\"aged_70_older\",\n",
    "                                \"extreme_poverty\",\"diabetes_prevalence\",\"female_smokers\",\"male_smokers\",\n",
    "                               \"handwashing_facilities\",\"hospital_beds_per_thousand\",\"life_expectancy\",\n",
    "                               \"new_tests_smoothed\",\"new_tests_per_thousand\",\"tests_units\",\"total_deaths\",\n",
    "                               \"new_deaths\",\"total_cases_per_million\",\"new_cases_per_million\"], axis=1)\n",
    "\n",
    "updated_world_df=updated_world_dfupdated_world_df=updated_world_df.rename(columns={\"location\":\"Country\", \"continent\":\"Continet\",\"date\":\"Date\",\n",
    "                                                  \"total_deaths_per_million\":\"Total Deaths Per Million\",\n",
    "                                                  \"total_tests_per_thousand\":\"Total Test Per Thousands\",\n",
    "                                                 \"population_density\":\"Population Density\",\"aged_65_older\":\"Aged 65 or older\",\n",
    "                                                 \"gdp_per_capita\":\"GDP Per Capita\",\"cvd_death_rate\":\"Covid Death Rate\",\n",
    "                                                 \"stringency_index\":\"Stringency Index\"})\n",
    "\n",
    "updated_world_df.fillna(0, inplace=True)\n",
    "\n",
    "#updated_world_df.head()"
   ]
  },
  {
   "cell_type": "code",
   "execution_count": 5,
   "metadata": {},
   "outputs": [],
   "source": [
    "data = pd.read_csv(\"../Resources/data.csv\")\n",
    "\n",
    "who_df = data.iloc[data.groupby(\"Country\")[\"Year\"].agg(pd.Series.idxmax)]\n",
    "who_df.reset_index(drop=True).set_index(\"Country\")\n",
    "who_df=who_df.rename(columns={\"Hospital beds (per 10 000 population)\":\"Hospital Beds (per 10K people)\"})\n",
    "                                                       \n",
    "#who_df.head()"
   ]
  },
  {
   "cell_type": "code",
   "execution_count": 11,
   "metadata": {},
   "outputs": [],
   "source": [
    "smokingdata = pd.read_csv(\"../Resources/smokingdata.csv\")\n",
    "\n",
    "clean_smoking_data = smokingdata.drop([\"Estimate of current cigarette smoking prevalence (%).1\", \"Estimate of current cigarette smoking prevalence (%).2\", \"Estimate of current tobacco smoking prevalence (%)\", \"Estimate of current tobacco smoking prevalence (%).1\", \"Estimate of current tobacco smoking prevalence (%).2\", \"Estimate of current tobacco use prevalence (%)\", \"Estimate of current tobacco use prevalence (%).1\", \"Estimate of current tobacco use prevalence (%).2\"], axis=1)\n",
    "clean_smoking_data=clean_smoking_data.rename(columns={\"Estimate of current cigarette smoking prevalence (%)\":\"Smoking Prevalence (%)\"})\n",
    "smoking_data = clean_smoking_data.drop(0, axis = 0)\n",
    "smoking_data.head(20)\n",
    "\n",
    "smoking_prevalence=list(smoking_data[\"Smoking Prevalence (%)\"])\n",
    "smoking_percentage=[]\n",
    "\n",
    "for x in smoking_prevalence:\n",
    "    y=x.split(\"[\")\n",
    "    smoking_percentage.append(y[0])\n",
    "    \n",
    "column_values = pd.Series(smoking_percentage)\n",
    "smoking_data.insert(loc=2, column=\"Smoking Percetage\", value=column_values)\n",
    "smoking_df=smoking_data.drop([\"Smoking Prevalence (%)\"], axis=1)\n",
    "\n",
    "#smoking_df.head()  "
   ]
  },
  {
   "cell_type": "code",
   "execution_count": null,
   "metadata": {},
   "outputs": [],
   "source": [
    "world_df=pd.read_csv(\"../Resources/dsh_simple.csv\")\n",
    "\n",
    "\n",
    "world_df=world_df[[\"Countryname\",\"IfclosedduetoCOVID19whend\",\"Statusof Schoolsaresomeall (copy) (group)\",\n",
    "          \"Latitude (generated)\",\"Longitude (generated)\",\"Incomelevelname\"]]\n",
    "income_level_df=world_df.rename(columns={\"Countryname\":\"Country\", \"Latitude (generated)\":\"Latitude\", \n",
    "                      \"Longitude (generated)\": \"Longitude\", \"Incomelevelname\": \"Income_Level\"})\n",
    "income_level_df.drop([\"IfclosedduetoCOVID19whend\",\"Statusof Schoolsaresomeall (copy) (group)\"], axis =1)"
   ]
  }
 ],
 "metadata": {
  "kernelspec": {
   "display_name": "Python 3",
   "language": "python",
   "name": "python3"
  },
  "language_info": {
   "codemirror_mode": {
    "name": "ipython",
    "version": 3
   },
   "file_extension": ".py",
   "mimetype": "text/x-python",
   "name": "python",
   "nbconvert_exporter": "python",
   "pygments_lexer": "ipython3",
   "version": "3.7.6"
  }
 },
 "nbformat": 4,
 "nbformat_minor": 4
}
