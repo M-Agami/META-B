{
 "cells": [
  {
   "cell_type": "code",
   "execution_count": 4,
   "metadata": {},
   "outputs": [],
   "source": [
    "import os\n",
    "import pandas as pd\n",
    "from scipy.stats import linregress\n",
    "import scipy as sts\n",
    "import scipy.stats as st\n",
    "import seaborn as sns\n",
    "import numpy as np\n",
    "import pylab as pl\n",
    "import plotly.express as px\n",
    "import matplotlib.pyplot as plt\n",
    "import matplotlib.dates as mdates\n",
    "import matplotlib.cbook as cbook\n",
    "from matplotlib.ticker import FuncFormatter\n",
    "import datetime as datetime\n",
    "import gmaps\n",
    "import requests\n",
    "import json\n",
    "%matplotlib notebook"
   ]
  },
  {
   "cell_type": "code",
   "execution_count": 5,
   "metadata": {},
   "outputs": [
    {
     "data": {
      "text/html": [
       "<div>\n",
       "<style scoped>\n",
       "    .dataframe tbody tr th:only-of-type {\n",
       "        vertical-align: middle;\n",
       "    }\n",
       "\n",
       "    .dataframe tbody tr th {\n",
       "        vertical-align: top;\n",
       "    }\n",
       "\n",
       "    .dataframe thead th {\n",
       "        text-align: right;\n",
       "    }\n",
       "</style>\n",
       "<table border=\"1\" class=\"dataframe\">\n",
       "  <thead>\n",
       "    <tr style=\"text-align: right;\">\n",
       "      <th></th>\n",
       "      <th>Continent</th>\n",
       "      <th>Country</th>\n",
       "      <th>Date</th>\n",
       "      <th>Total Cases</th>\n",
       "      <th>New Cases</th>\n",
       "      <th>Total Deaths Per Million</th>\n",
       "      <th>Total Test Per Thousands</th>\n",
       "      <th>Stringency Index</th>\n",
       "      <th>Population Density</th>\n",
       "      <th>Aged 65 or older</th>\n",
       "      <th>GDP Per Capita</th>\n",
       "      <th>Covid Death Rate</th>\n",
       "    </tr>\n",
       "  </thead>\n",
       "  <tbody>\n",
       "    <tr>\n",
       "      <th>0</th>\n",
       "      <td>Asia</td>\n",
       "      <td>Afghanistan</td>\n",
       "      <td>2019-12-31</td>\n",
       "      <td>0.0</td>\n",
       "      <td>0.0</td>\n",
       "      <td>0.0</td>\n",
       "      <td>NaN</td>\n",
       "      <td>NaN</td>\n",
       "      <td>54.422</td>\n",
       "      <td>2.581</td>\n",
       "      <td>1803.987</td>\n",
       "      <td>597.029</td>\n",
       "    </tr>\n",
       "    <tr>\n",
       "      <th>1</th>\n",
       "      <td>Asia</td>\n",
       "      <td>Afghanistan</td>\n",
       "      <td>2020-01-01</td>\n",
       "      <td>0.0</td>\n",
       "      <td>0.0</td>\n",
       "      <td>0.0</td>\n",
       "      <td>NaN</td>\n",
       "      <td>0.0</td>\n",
       "      <td>54.422</td>\n",
       "      <td>2.581</td>\n",
       "      <td>1803.987</td>\n",
       "      <td>597.029</td>\n",
       "    </tr>\n",
       "    <tr>\n",
       "      <th>2</th>\n",
       "      <td>Asia</td>\n",
       "      <td>Afghanistan</td>\n",
       "      <td>2020-01-02</td>\n",
       "      <td>0.0</td>\n",
       "      <td>0.0</td>\n",
       "      <td>0.0</td>\n",
       "      <td>NaN</td>\n",
       "      <td>0.0</td>\n",
       "      <td>54.422</td>\n",
       "      <td>2.581</td>\n",
       "      <td>1803.987</td>\n",
       "      <td>597.029</td>\n",
       "    </tr>\n",
       "    <tr>\n",
       "      <th>3</th>\n",
       "      <td>Asia</td>\n",
       "      <td>Afghanistan</td>\n",
       "      <td>2020-01-03</td>\n",
       "      <td>0.0</td>\n",
       "      <td>0.0</td>\n",
       "      <td>0.0</td>\n",
       "      <td>NaN</td>\n",
       "      <td>0.0</td>\n",
       "      <td>54.422</td>\n",
       "      <td>2.581</td>\n",
       "      <td>1803.987</td>\n",
       "      <td>597.029</td>\n",
       "    </tr>\n",
       "    <tr>\n",
       "      <th>4</th>\n",
       "      <td>Asia</td>\n",
       "      <td>Afghanistan</td>\n",
       "      <td>2020-01-04</td>\n",
       "      <td>0.0</td>\n",
       "      <td>0.0</td>\n",
       "      <td>0.0</td>\n",
       "      <td>NaN</td>\n",
       "      <td>0.0</td>\n",
       "      <td>54.422</td>\n",
       "      <td>2.581</td>\n",
       "      <td>1803.987</td>\n",
       "      <td>597.029</td>\n",
       "    </tr>\n",
       "  </tbody>\n",
       "</table>\n",
       "</div>"
      ],
      "text/plain": [
       "  Continent      Country        Date  Total Cases  New Cases  \\\n",
       "0      Asia  Afghanistan  2019-12-31          0.0        0.0   \n",
       "1      Asia  Afghanistan  2020-01-01          0.0        0.0   \n",
       "2      Asia  Afghanistan  2020-01-02          0.0        0.0   \n",
       "3      Asia  Afghanistan  2020-01-03          0.0        0.0   \n",
       "4      Asia  Afghanistan  2020-01-04          0.0        0.0   \n",
       "\n",
       "   Total Deaths Per Million  Total Test Per Thousands  Stringency Index  \\\n",
       "0                       0.0                       NaN               NaN   \n",
       "1                       0.0                       NaN               0.0   \n",
       "2                       0.0                       NaN               0.0   \n",
       "3                       0.0                       NaN               0.0   \n",
       "4                       0.0                       NaN               0.0   \n",
       "\n",
       "   Population Density  Aged 65 or older  GDP Per Capita  Covid Death Rate  \n",
       "0              54.422             2.581        1803.987           597.029  \n",
       "1              54.422             2.581        1803.987           597.029  \n",
       "2              54.422             2.581        1803.987           597.029  \n",
       "3              54.422             2.581        1803.987           597.029  \n",
       "4              54.422             2.581        1803.987           597.029  "
      ]
     },
     "execution_count": 5,
     "metadata": {},
     "output_type": "execute_result"
    }
   ],
   "source": [
    "world_df= pd.read_csv(\"../Resources/owid-covid-data.csv\")\n",
    "\n",
    "\n",
    "updated_world_df=world_df.drop([\"iso_code\",\"new_deaths_per_million\",\"total_tests\",\"new_tests\",\n",
    "                                \"new_tests_smoothed_per_thousand\",\"population\",\"median_age\",\"aged_70_older\",\n",
    "                                \"extreme_poverty\",\"diabetes_prevalence\",\"female_smokers\",\"male_smokers\",\n",
    "                               \"handwashing_facilities\",\"hospital_beds_per_thousand\",\"life_expectancy\",\n",
    "                               \"new_tests_smoothed\",\"new_tests_per_thousand\",\"tests_units\",\"total_deaths\",\n",
    "                               \"new_deaths\",\"total_cases_per_million\",\"new_cases_per_million\"], axis=1)\n",
    "\n",
    "updated_world_df=updated_world_dfupdated_world_df=updated_world_df.rename(columns={\"location\":\"Country\", \"continent\":\"Continent\",\"date\":\"Date\",\n",
    "                                                                                   \"total_cases\":\"Total Cases\", \"new_cases\":\"New Cases\",\n",
    "                                                                                   \"total_cases_per_million\": \"Total Cases Per Million\",\n",
    "                                                                                   \"total_deaths_per_million\":\"Total Deaths Per Million\",\n",
    "                                                                                   \"total_tests_per_thousand\":\"Total Test Per Thousands\",\n",
    "                                                                                   \"population_density\":\"Population Density\",\"aged_65_older\":\"Aged 65 or older\",\n",
    "                                                                                   \"gdp_per_capita\":\"GDP Per Capita\",\"cvd_death_rate\":\"Covid Death Rate\",\n",
    "                                                                                   \"stringency_index\":\"Stringency Index\"})\n",
    "\n",
    "updated_world_df.head()"
   ]
  },
  {
   "cell_type": "code",
   "execution_count": 6,
   "metadata": {},
   "outputs": [
    {
     "data": {
      "text/html": [
       "<div>\n",
       "<style scoped>\n",
       "    .dataframe tbody tr th:only-of-type {\n",
       "        vertical-align: middle;\n",
       "    }\n",
       "\n",
       "    .dataframe tbody tr th {\n",
       "        vertical-align: top;\n",
       "    }\n",
       "\n",
       "    .dataframe thead th {\n",
       "        text-align: right;\n",
       "    }\n",
       "</style>\n",
       "<table border=\"1\" class=\"dataframe\">\n",
       "  <thead>\n",
       "    <tr style=\"text-align: right;\">\n",
       "      <th></th>\n",
       "      <th>Country</th>\n",
       "      <th>Hospital Beds (per 10K people)</th>\n",
       "    </tr>\n",
       "  </thead>\n",
       "  <tbody>\n",
       "    <tr>\n",
       "      <th>0</th>\n",
       "      <td>Afghanistan</td>\n",
       "      <td>5</td>\n",
       "    </tr>\n",
       "    <tr>\n",
       "      <th>16</th>\n",
       "      <td>Albania</td>\n",
       "      <td>29</td>\n",
       "    </tr>\n",
       "    <tr>\n",
       "      <th>29</th>\n",
       "      <td>Algeria</td>\n",
       "      <td>19</td>\n",
       "    </tr>\n",
       "    <tr>\n",
       "      <th>31</th>\n",
       "      <td>Angola</td>\n",
       "      <td>8</td>\n",
       "    </tr>\n",
       "    <tr>\n",
       "      <th>32</th>\n",
       "      <td>Antigua and Barbuda</td>\n",
       "      <td>38</td>\n",
       "    </tr>\n",
       "  </tbody>\n",
       "</table>\n",
       "</div>"
      ],
      "text/plain": [
       "                Country  Hospital Beds (per 10K people)\n",
       "0           Afghanistan                               5\n",
       "16              Albania                              29\n",
       "29              Algeria                              19\n",
       "31               Angola                               8\n",
       "32  Antigua and Barbuda                              38"
      ]
     },
     "execution_count": 6,
     "metadata": {},
     "output_type": "execute_result"
    }
   ],
   "source": [
    "#Number Hospital Beds is based on the lastest year per Country\n",
    "\n",
    "data = pd.read_csv(\"../Resources/data.csv\")\n",
    "\n",
    "who_df = data.iloc[data.groupby(\"Country\")[\"Year\"].agg(pd.Series.idxmax)]\n",
    "who_df.reset_index(drop=True).set_index(\"Country\")\n",
    "who_df=who_df.rename(columns={\"Hospital beds (per 10 000 population)\":\"Hospital Beds (per 10K people)\"})\n",
    "hospital_beds_df=who_df.drop([\"Year\"], axis=1)\n",
    "\n",
    "hospital_beds_df.head()"
   ]
  },
  {
   "cell_type": "code",
   "execution_count": 7,
   "metadata": {},
   "outputs": [
    {
     "data": {
      "text/html": [
       "<div>\n",
       "<style scoped>\n",
       "    .dataframe tbody tr th:only-of-type {\n",
       "        vertical-align: middle;\n",
       "    }\n",
       "\n",
       "    .dataframe tbody tr th {\n",
       "        vertical-align: top;\n",
       "    }\n",
       "\n",
       "    .dataframe thead th {\n",
       "        text-align: right;\n",
       "    }\n",
       "</style>\n",
       "<table border=\"1\" class=\"dataframe\">\n",
       "  <thead>\n",
       "    <tr style=\"text-align: right;\">\n",
       "      <th></th>\n",
       "      <th>Country</th>\n",
       "      <th>Smoking Percetage</th>\n",
       "    </tr>\n",
       "  </thead>\n",
       "  <tbody>\n",
       "    <tr>\n",
       "      <th>1</th>\n",
       "      <td>Albania</td>\n",
       "      <td>11.20</td>\n",
       "    </tr>\n",
       "    <tr>\n",
       "      <th>7</th>\n",
       "      <td>Algeria</td>\n",
       "      <td>15.20</td>\n",
       "    </tr>\n",
       "    <tr>\n",
       "      <th>13</th>\n",
       "      <td>Andorra</td>\n",
       "      <td>21.40</td>\n",
       "    </tr>\n",
       "    <tr>\n",
       "      <th>19</th>\n",
       "      <td>Argentina</td>\n",
       "      <td>31.40</td>\n",
       "    </tr>\n",
       "    <tr>\n",
       "      <th>25</th>\n",
       "      <td>Armenia</td>\n",
       "      <td>6.00</td>\n",
       "    </tr>\n",
       "  </tbody>\n",
       "</table>\n",
       "</div>"
      ],
      "text/plain": [
       "      Country Smoking Percetage\n",
       "1     Albania            11.20 \n",
       "7     Algeria            15.20 \n",
       "13    Andorra            21.40 \n",
       "19  Argentina            31.40 \n",
       "25    Armenia             6.00 "
      ]
     },
     "execution_count": 7,
     "metadata": {},
     "output_type": "execute_result"
    }
   ],
   "source": [
    "#Smoking Percentage is based on the lastest year per Country\n",
    "\n",
    "smokingdata = pd.read_csv(\"../Resources/smokingdata.csv\")\n",
    "\n",
    "smokingdata_df = smokingdata.iloc[smokingdata.groupby(\"Country\")[\"Year\"].agg(pd.Series.idxmax)]\n",
    "\n",
    "clean_smoking_data = smokingdata_df.drop([\"Estimate of current cigarette smoking prevalence (%).1\", \"Estimate of current cigarette smoking prevalence (%).2\", \n",
    "                                       \"Estimate of current tobacco smoking prevalence (%)\", \"Estimate of current tobacco smoking prevalence (%).1\", \n",
    "                                       \"Estimate of current tobacco smoking prevalence (%).2\", \"Estimate of current tobacco use prevalence (%)\", \n",
    "                                       \"Estimate of current tobacco use prevalence (%).1\", \"Estimate of current tobacco use prevalence (%).2\"], axis=1)\n",
    "\n",
    " \n",
    "clean_smoking_data=clean_smoking_data.rename(columns={\"Estimate of current cigarette smoking prevalence (%)\":\"Smoking Prevalence (%)\"})\n",
    "smoking_data = clean_smoking_data\n",
    "smoking_prevalence=list(smoking_data[\"Smoking Prevalence (%)\"])\n",
    "smoking_percentage=[]\n",
    "\n",
    "for x in smoking_prevalence:\n",
    "    y=x.split(\"[\")\n",
    "    smoking_percentage.append(y[0])\n",
    "    \n",
    "\n",
    "    \n",
    "column_values = pd.Series(smoking_percentage)\n",
    "smoking_data.insert(loc=2, column=\"Smoking Percetage\", value=column_values)\n",
    "smoking_year_df=smoking_data.drop([\"Smoking Prevalence (%)\"], axis=1)\n",
    "\n",
    "smoking_df=smoking_year_df.drop([\"Year\"], axis=1)\n",
    "\n",
    "smoking_df.head()"
   ]
  },
  {
   "cell_type": "code",
   "execution_count": 8,
   "metadata": {},
   "outputs": [
    {
     "data": {
      "text/html": [
       "<div>\n",
       "<style scoped>\n",
       "    .dataframe tbody tr th:only-of-type {\n",
       "        vertical-align: middle;\n",
       "    }\n",
       "\n",
       "    .dataframe tbody tr th {\n",
       "        vertical-align: top;\n",
       "    }\n",
       "\n",
       "    .dataframe thead th {\n",
       "        text-align: right;\n",
       "    }\n",
       "</style>\n",
       "<table border=\"1\" class=\"dataframe\">\n",
       "  <thead>\n",
       "    <tr style=\"text-align: right;\">\n",
       "      <th></th>\n",
       "      <th>Country</th>\n",
       "      <th>School Status</th>\n",
       "      <th>Latitude</th>\n",
       "      <th>Longitude</th>\n",
       "      <th>Income Level</th>\n",
       "    </tr>\n",
       "  </thead>\n",
       "  <tbody>\n",
       "    <tr>\n",
       "      <th>0</th>\n",
       "      <td>Eritrea</td>\n",
       "      <td>Closed</td>\n",
       "      <td>15.9820</td>\n",
       "      <td>38.0200</td>\n",
       "      <td>Low income</td>\n",
       "    </tr>\n",
       "    <tr>\n",
       "      <th>1</th>\n",
       "      <td>Guinea-Bissau</td>\n",
       "      <td>Closed</td>\n",
       "      <td>12.1910</td>\n",
       "      <td>-14.4750</td>\n",
       "      <td>Low income</td>\n",
       "    </tr>\n",
       "    <tr>\n",
       "      <th>2</th>\n",
       "      <td>San Marino</td>\n",
       "      <td>Closed</td>\n",
       "      <td>43.9420</td>\n",
       "      <td>12.4611</td>\n",
       "      <td>High income</td>\n",
       "    </tr>\n",
       "    <tr>\n",
       "      <th>3</th>\n",
       "      <td>Georgia</td>\n",
       "      <td>Closed</td>\n",
       "      <td>42.0500</td>\n",
       "      <td>43.5760</td>\n",
       "      <td>Upper middle income</td>\n",
       "    </tr>\n",
       "    <tr>\n",
       "      <th>4</th>\n",
       "      <td>Italy</td>\n",
       "      <td>Closed</td>\n",
       "      <td>44.3713</td>\n",
       "      <td>11.1084</td>\n",
       "      <td>High income</td>\n",
       "    </tr>\n",
       "  </tbody>\n",
       "</table>\n",
       "</div>"
      ],
      "text/plain": [
       "         Country School Status  Latitude  Longitude         Income Level\n",
       "0        Eritrea        Closed   15.9820    38.0200           Low income\n",
       "1  Guinea-Bissau        Closed   12.1910   -14.4750           Low income\n",
       "2     San Marino        Closed   43.9420    12.4611          High income\n",
       "3        Georgia        Closed   42.0500    43.5760  Upper middle income\n",
       "4          Italy        Closed   44.3713    11.1084          High income"
      ]
     },
     "execution_count": 8,
     "metadata": {},
     "output_type": "execute_result"
    }
   ],
   "source": [
    "world_df=pd.read_csv(\"../Resources/dsh_simple.csv\")\n",
    "\n",
    "world_df=world_df[[\"Countryname\",\"IfclosedduetoCOVID19whend\",\"Statusof Schoolsaresomeall (copy) (group)\",\n",
    "          \"Latitude (generated)\",\"Longitude (generated)\",\"Incomelevelname\"]]\n",
    "\n",
    "income_level_df=world_df.rename(columns={\"Countryname\":\"Country\", \"Latitude (generated)\":\"Latitude\", \n",
    "                      \"Longitude (generated)\": \"Longitude\", \"Incomelevelname\": \"Income Level\",\n",
    "                        \"Statusof Schoolsaresomeall (copy) (group)\":\"School Status\"})\n",
    "income_df=income_level_df.drop([\"IfclosedduetoCOVID19whend\"], axis =1)\n",
    "\n",
    "income_df.head()"
   ]
  },
  {
   "cell_type": "code",
   "execution_count": 9,
   "metadata": {},
   "outputs": [
    {
     "data": {
      "text/html": [
       "<div>\n",
       "<style scoped>\n",
       "    .dataframe tbody tr th:only-of-type {\n",
       "        vertical-align: middle;\n",
       "    }\n",
       "\n",
       "    .dataframe tbody tr th {\n",
       "        vertical-align: top;\n",
       "    }\n",
       "\n",
       "    .dataframe thead th {\n",
       "        text-align: right;\n",
       "    }\n",
       "</style>\n",
       "<table border=\"1\" class=\"dataframe\">\n",
       "  <thead>\n",
       "    <tr style=\"text-align: right;\">\n",
       "      <th></th>\n",
       "      <th>Continent</th>\n",
       "      <th>Country</th>\n",
       "      <th>Date</th>\n",
       "      <th>Total Cases</th>\n",
       "      <th>New Cases</th>\n",
       "      <th>Total Deaths Per Million</th>\n",
       "      <th>Total Test Per Thousands</th>\n",
       "      <th>Stringency Index</th>\n",
       "      <th>Population Density</th>\n",
       "      <th>Aged 65 or older</th>\n",
       "      <th>GDP Per Capita</th>\n",
       "      <th>Covid Death Rate</th>\n",
       "      <th>Hospital Beds (per 10K people)</th>\n",
       "      <th>Smoking Percetage</th>\n",
       "      <th>School Status</th>\n",
       "      <th>Latitude</th>\n",
       "      <th>Longitude</th>\n",
       "      <th>Income Level</th>\n",
       "    </tr>\n",
       "  </thead>\n",
       "  <tbody>\n",
       "    <tr>\n",
       "      <th>0</th>\n",
       "      <td>Asia</td>\n",
       "      <td>Afghanistan</td>\n",
       "      <td>2019-12-31</td>\n",
       "      <td>0.0</td>\n",
       "      <td>0.0</td>\n",
       "      <td>0.0</td>\n",
       "      <td>NaN</td>\n",
       "      <td>NaN</td>\n",
       "      <td>54.422</td>\n",
       "      <td>2.581</td>\n",
       "      <td>1803.987</td>\n",
       "      <td>597.029</td>\n",
       "      <td>5.0</td>\n",
       "      <td>NaN</td>\n",
       "      <td>Closed</td>\n",
       "      <td>34.023</td>\n",
       "      <td>65.5267</td>\n",
       "      <td>Low income</td>\n",
       "    </tr>\n",
       "    <tr>\n",
       "      <th>1</th>\n",
       "      <td>Asia</td>\n",
       "      <td>Afghanistan</td>\n",
       "      <td>2020-01-01</td>\n",
       "      <td>0.0</td>\n",
       "      <td>0.0</td>\n",
       "      <td>0.0</td>\n",
       "      <td>NaN</td>\n",
       "      <td>0.0</td>\n",
       "      <td>54.422</td>\n",
       "      <td>2.581</td>\n",
       "      <td>1803.987</td>\n",
       "      <td>597.029</td>\n",
       "      <td>5.0</td>\n",
       "      <td>NaN</td>\n",
       "      <td>Closed</td>\n",
       "      <td>34.023</td>\n",
       "      <td>65.5267</td>\n",
       "      <td>Low income</td>\n",
       "    </tr>\n",
       "    <tr>\n",
       "      <th>2</th>\n",
       "      <td>Asia</td>\n",
       "      <td>Afghanistan</td>\n",
       "      <td>2020-01-02</td>\n",
       "      <td>0.0</td>\n",
       "      <td>0.0</td>\n",
       "      <td>0.0</td>\n",
       "      <td>NaN</td>\n",
       "      <td>0.0</td>\n",
       "      <td>54.422</td>\n",
       "      <td>2.581</td>\n",
       "      <td>1803.987</td>\n",
       "      <td>597.029</td>\n",
       "      <td>5.0</td>\n",
       "      <td>NaN</td>\n",
       "      <td>Closed</td>\n",
       "      <td>34.023</td>\n",
       "      <td>65.5267</td>\n",
       "      <td>Low income</td>\n",
       "    </tr>\n",
       "    <tr>\n",
       "      <th>3</th>\n",
       "      <td>Asia</td>\n",
       "      <td>Afghanistan</td>\n",
       "      <td>2020-01-03</td>\n",
       "      <td>0.0</td>\n",
       "      <td>0.0</td>\n",
       "      <td>0.0</td>\n",
       "      <td>NaN</td>\n",
       "      <td>0.0</td>\n",
       "      <td>54.422</td>\n",
       "      <td>2.581</td>\n",
       "      <td>1803.987</td>\n",
       "      <td>597.029</td>\n",
       "      <td>5.0</td>\n",
       "      <td>NaN</td>\n",
       "      <td>Closed</td>\n",
       "      <td>34.023</td>\n",
       "      <td>65.5267</td>\n",
       "      <td>Low income</td>\n",
       "    </tr>\n",
       "    <tr>\n",
       "      <th>4</th>\n",
       "      <td>Asia</td>\n",
       "      <td>Afghanistan</td>\n",
       "      <td>2020-01-04</td>\n",
       "      <td>0.0</td>\n",
       "      <td>0.0</td>\n",
       "      <td>0.0</td>\n",
       "      <td>NaN</td>\n",
       "      <td>0.0</td>\n",
       "      <td>54.422</td>\n",
       "      <td>2.581</td>\n",
       "      <td>1803.987</td>\n",
       "      <td>597.029</td>\n",
       "      <td>5.0</td>\n",
       "      <td>NaN</td>\n",
       "      <td>Closed</td>\n",
       "      <td>34.023</td>\n",
       "      <td>65.5267</td>\n",
       "      <td>Low income</td>\n",
       "    </tr>\n",
       "  </tbody>\n",
       "</table>\n",
       "</div>"
      ],
      "text/plain": [
       "  Continent      Country        Date  Total Cases  New Cases  \\\n",
       "0      Asia  Afghanistan  2019-12-31          0.0        0.0   \n",
       "1      Asia  Afghanistan  2020-01-01          0.0        0.0   \n",
       "2      Asia  Afghanistan  2020-01-02          0.0        0.0   \n",
       "3      Asia  Afghanistan  2020-01-03          0.0        0.0   \n",
       "4      Asia  Afghanistan  2020-01-04          0.0        0.0   \n",
       "\n",
       "   Total Deaths Per Million  Total Test Per Thousands  Stringency Index  \\\n",
       "0                       0.0                       NaN               NaN   \n",
       "1                       0.0                       NaN               0.0   \n",
       "2                       0.0                       NaN               0.0   \n",
       "3                       0.0                       NaN               0.0   \n",
       "4                       0.0                       NaN               0.0   \n",
       "\n",
       "   Population Density  Aged 65 or older  GDP Per Capita  Covid Death Rate  \\\n",
       "0              54.422             2.581        1803.987           597.029   \n",
       "1              54.422             2.581        1803.987           597.029   \n",
       "2              54.422             2.581        1803.987           597.029   \n",
       "3              54.422             2.581        1803.987           597.029   \n",
       "4              54.422             2.581        1803.987           597.029   \n",
       "\n",
       "   Hospital Beds (per 10K people) Smoking Percetage School Status  Latitude  \\\n",
       "0                             5.0               NaN        Closed    34.023   \n",
       "1                             5.0               NaN        Closed    34.023   \n",
       "2                             5.0               NaN        Closed    34.023   \n",
       "3                             5.0               NaN        Closed    34.023   \n",
       "4                             5.0               NaN        Closed    34.023   \n",
       "\n",
       "   Longitude Income Level  \n",
       "0    65.5267   Low income  \n",
       "1    65.5267   Low income  \n",
       "2    65.5267   Low income  \n",
       "3    65.5267   Low income  \n",
       "4    65.5267   Low income  "
      ]
     },
     "execution_count": 9,
     "metadata": {},
     "output_type": "execute_result"
    }
   ],
   "source": [
    "combined_df=pd.merge(updated_world_df,hospital_beds_df,on=\"Country\",how=\"left\").merge(smoking_df,on=\"Country\",how=\"left\" ).merge(income_df,on=\"Country\",how=\"left\")\n",
    "\n",
    "combined_df.head()"
   ]
  },
  {
   "cell_type": "code",
   "execution_count": 70,
   "metadata": {
    "scrolled": false
   },
   "outputs": [
    {
     "data": {
      "application/javascript": [
       "/* Put everything inside the global mpl namespace */\n",
       "window.mpl = {};\n",
       "\n",
       "\n",
       "mpl.get_websocket_type = function() {\n",
       "    if (typeof(WebSocket) !== 'undefined') {\n",
       "        return WebSocket;\n",
       "    } else if (typeof(MozWebSocket) !== 'undefined') {\n",
       "        return MozWebSocket;\n",
       "    } else {\n",
       "        alert('Your browser does not have WebSocket support. ' +\n",
       "              'Please try Chrome, Safari or Firefox ≥ 6. ' +\n",
       "              'Firefox 4 and 5 are also supported but you ' +\n",
       "              'have to enable WebSockets in about:config.');\n",
       "    };\n",
       "}\n",
       "\n",
       "mpl.figure = function(figure_id, websocket, ondownload, parent_element) {\n",
       "    this.id = figure_id;\n",
       "\n",
       "    this.ws = websocket;\n",
       "\n",
       "    this.supports_binary = (this.ws.binaryType != undefined);\n",
       "\n",
       "    if (!this.supports_binary) {\n",
       "        var warnings = document.getElementById(\"mpl-warnings\");\n",
       "        if (warnings) {\n",
       "            warnings.style.display = 'block';\n",
       "            warnings.textContent = (\n",
       "                \"This browser does not support binary websocket messages. \" +\n",
       "                    \"Performance may be slow.\");\n",
       "        }\n",
       "    }\n",
       "\n",
       "    this.imageObj = new Image();\n",
       "\n",
       "    this.context = undefined;\n",
       "    this.message = undefined;\n",
       "    this.canvas = undefined;\n",
       "    this.rubberband_canvas = undefined;\n",
       "    this.rubberband_context = undefined;\n",
       "    this.format_dropdown = undefined;\n",
       "\n",
       "    this.image_mode = 'full';\n",
       "\n",
       "    this.root = $('<div/>');\n",
       "    this._root_extra_style(this.root)\n",
       "    this.root.attr('style', 'display: inline-block');\n",
       "\n",
       "    $(parent_element).append(this.root);\n",
       "\n",
       "    this._init_header(this);\n",
       "    this._init_canvas(this);\n",
       "    this._init_toolbar(this);\n",
       "\n",
       "    var fig = this;\n",
       "\n",
       "    this.waiting = false;\n",
       "\n",
       "    this.ws.onopen =  function () {\n",
       "            fig.send_message(\"supports_binary\", {value: fig.supports_binary});\n",
       "            fig.send_message(\"send_image_mode\", {});\n",
       "            if (mpl.ratio != 1) {\n",
       "                fig.send_message(\"set_dpi_ratio\", {'dpi_ratio': mpl.ratio});\n",
       "            }\n",
       "            fig.send_message(\"refresh\", {});\n",
       "        }\n",
       "\n",
       "    this.imageObj.onload = function() {\n",
       "            if (fig.image_mode == 'full') {\n",
       "                // Full images could contain transparency (where diff images\n",
       "                // almost always do), so we need to clear the canvas so that\n",
       "                // there is no ghosting.\n",
       "                fig.context.clearRect(0, 0, fig.canvas.width, fig.canvas.height);\n",
       "            }\n",
       "            fig.context.drawImage(fig.imageObj, 0, 0);\n",
       "        };\n",
       "\n",
       "    this.imageObj.onunload = function() {\n",
       "        fig.ws.close();\n",
       "    }\n",
       "\n",
       "    this.ws.onmessage = this._make_on_message_function(this);\n",
       "\n",
       "    this.ondownload = ondownload;\n",
       "}\n",
       "\n",
       "mpl.figure.prototype._init_header = function() {\n",
       "    var titlebar = $(\n",
       "        '<div class=\"ui-dialog-titlebar ui-widget-header ui-corner-all ' +\n",
       "        'ui-helper-clearfix\"/>');\n",
       "    var titletext = $(\n",
       "        '<div class=\"ui-dialog-title\" style=\"width: 100%; ' +\n",
       "        'text-align: center; padding: 3px;\"/>');\n",
       "    titlebar.append(titletext)\n",
       "    this.root.append(titlebar);\n",
       "    this.header = titletext[0];\n",
       "}\n",
       "\n",
       "\n",
       "\n",
       "mpl.figure.prototype._canvas_extra_style = function(canvas_div) {\n",
       "\n",
       "}\n",
       "\n",
       "\n",
       "mpl.figure.prototype._root_extra_style = function(canvas_div) {\n",
       "\n",
       "}\n",
       "\n",
       "mpl.figure.prototype._init_canvas = function() {\n",
       "    var fig = this;\n",
       "\n",
       "    var canvas_div = $('<div/>');\n",
       "\n",
       "    canvas_div.attr('style', 'position: relative; clear: both; outline: 0');\n",
       "\n",
       "    function canvas_keyboard_event(event) {\n",
       "        return fig.key_event(event, event['data']);\n",
       "    }\n",
       "\n",
       "    canvas_div.keydown('key_press', canvas_keyboard_event);\n",
       "    canvas_div.keyup('key_release', canvas_keyboard_event);\n",
       "    this.canvas_div = canvas_div\n",
       "    this._canvas_extra_style(canvas_div)\n",
       "    this.root.append(canvas_div);\n",
       "\n",
       "    var canvas = $('<canvas/>');\n",
       "    canvas.addClass('mpl-canvas');\n",
       "    canvas.attr('style', \"left: 0; top: 0; z-index: 0; outline: 0\")\n",
       "\n",
       "    this.canvas = canvas[0];\n",
       "    this.context = canvas[0].getContext(\"2d\");\n",
       "\n",
       "    var backingStore = this.context.backingStorePixelRatio ||\n",
       "\tthis.context.webkitBackingStorePixelRatio ||\n",
       "\tthis.context.mozBackingStorePixelRatio ||\n",
       "\tthis.context.msBackingStorePixelRatio ||\n",
       "\tthis.context.oBackingStorePixelRatio ||\n",
       "\tthis.context.backingStorePixelRatio || 1;\n",
       "\n",
       "    mpl.ratio = (window.devicePixelRatio || 1) / backingStore;\n",
       "\n",
       "    var rubberband = $('<canvas/>');\n",
       "    rubberband.attr('style', \"position: absolute; left: 0; top: 0; z-index: 1;\")\n",
       "\n",
       "    var pass_mouse_events = true;\n",
       "\n",
       "    canvas_div.resizable({\n",
       "        start: function(event, ui) {\n",
       "            pass_mouse_events = false;\n",
       "        },\n",
       "        resize: function(event, ui) {\n",
       "            fig.request_resize(ui.size.width, ui.size.height);\n",
       "        },\n",
       "        stop: function(event, ui) {\n",
       "            pass_mouse_events = true;\n",
       "            fig.request_resize(ui.size.width, ui.size.height);\n",
       "        },\n",
       "    });\n",
       "\n",
       "    function mouse_event_fn(event) {\n",
       "        if (pass_mouse_events)\n",
       "            return fig.mouse_event(event, event['data']);\n",
       "    }\n",
       "\n",
       "    rubberband.mousedown('button_press', mouse_event_fn);\n",
       "    rubberband.mouseup('button_release', mouse_event_fn);\n",
       "    // Throttle sequential mouse events to 1 every 20ms.\n",
       "    rubberband.mousemove('motion_notify', mouse_event_fn);\n",
       "\n",
       "    rubberband.mouseenter('figure_enter', mouse_event_fn);\n",
       "    rubberband.mouseleave('figure_leave', mouse_event_fn);\n",
       "\n",
       "    canvas_div.on(\"wheel\", function (event) {\n",
       "        event = event.originalEvent;\n",
       "        event['data'] = 'scroll'\n",
       "        if (event.deltaY < 0) {\n",
       "            event.step = 1;\n",
       "        } else {\n",
       "            event.step = -1;\n",
       "        }\n",
       "        mouse_event_fn(event);\n",
       "    });\n",
       "\n",
       "    canvas_div.append(canvas);\n",
       "    canvas_div.append(rubberband);\n",
       "\n",
       "    this.rubberband = rubberband;\n",
       "    this.rubberband_canvas = rubberband[0];\n",
       "    this.rubberband_context = rubberband[0].getContext(\"2d\");\n",
       "    this.rubberband_context.strokeStyle = \"#000000\";\n",
       "\n",
       "    this._resize_canvas = function(width, height) {\n",
       "        // Keep the size of the canvas, canvas container, and rubber band\n",
       "        // canvas in synch.\n",
       "        canvas_div.css('width', width)\n",
       "        canvas_div.css('height', height)\n",
       "\n",
       "        canvas.attr('width', width * mpl.ratio);\n",
       "        canvas.attr('height', height * mpl.ratio);\n",
       "        canvas.attr('style', 'width: ' + width + 'px; height: ' + height + 'px;');\n",
       "\n",
       "        rubberband.attr('width', width);\n",
       "        rubberband.attr('height', height);\n",
       "    }\n",
       "\n",
       "    // Set the figure to an initial 600x600px, this will subsequently be updated\n",
       "    // upon first draw.\n",
       "    this._resize_canvas(600, 600);\n",
       "\n",
       "    // Disable right mouse context menu.\n",
       "    $(this.rubberband_canvas).bind(\"contextmenu\",function(e){\n",
       "        return false;\n",
       "    });\n",
       "\n",
       "    function set_focus () {\n",
       "        canvas.focus();\n",
       "        canvas_div.focus();\n",
       "    }\n",
       "\n",
       "    window.setTimeout(set_focus, 100);\n",
       "}\n",
       "\n",
       "mpl.figure.prototype._init_toolbar = function() {\n",
       "    var fig = this;\n",
       "\n",
       "    var nav_element = $('<div/>');\n",
       "    nav_element.attr('style', 'width: 100%');\n",
       "    this.root.append(nav_element);\n",
       "\n",
       "    // Define a callback function for later on.\n",
       "    function toolbar_event(event) {\n",
       "        return fig.toolbar_button_onclick(event['data']);\n",
       "    }\n",
       "    function toolbar_mouse_event(event) {\n",
       "        return fig.toolbar_button_onmouseover(event['data']);\n",
       "    }\n",
       "\n",
       "    for(var toolbar_ind in mpl.toolbar_items) {\n",
       "        var name = mpl.toolbar_items[toolbar_ind][0];\n",
       "        var tooltip = mpl.toolbar_items[toolbar_ind][1];\n",
       "        var image = mpl.toolbar_items[toolbar_ind][2];\n",
       "        var method_name = mpl.toolbar_items[toolbar_ind][3];\n",
       "\n",
       "        if (!name) {\n",
       "            // put a spacer in here.\n",
       "            continue;\n",
       "        }\n",
       "        var button = $('<button/>');\n",
       "        button.addClass('ui-button ui-widget ui-state-default ui-corner-all ' +\n",
       "                        'ui-button-icon-only');\n",
       "        button.attr('role', 'button');\n",
       "        button.attr('aria-disabled', 'false');\n",
       "        button.click(method_name, toolbar_event);\n",
       "        button.mouseover(tooltip, toolbar_mouse_event);\n",
       "\n",
       "        var icon_img = $('<span/>');\n",
       "        icon_img.addClass('ui-button-icon-primary ui-icon');\n",
       "        icon_img.addClass(image);\n",
       "        icon_img.addClass('ui-corner-all');\n",
       "\n",
       "        var tooltip_span = $('<span/>');\n",
       "        tooltip_span.addClass('ui-button-text');\n",
       "        tooltip_span.html(tooltip);\n",
       "\n",
       "        button.append(icon_img);\n",
       "        button.append(tooltip_span);\n",
       "\n",
       "        nav_element.append(button);\n",
       "    }\n",
       "\n",
       "    var fmt_picker_span = $('<span/>');\n",
       "\n",
       "    var fmt_picker = $('<select/>');\n",
       "    fmt_picker.addClass('mpl-toolbar-option ui-widget ui-widget-content');\n",
       "    fmt_picker_span.append(fmt_picker);\n",
       "    nav_element.append(fmt_picker_span);\n",
       "    this.format_dropdown = fmt_picker[0];\n",
       "\n",
       "    for (var ind in mpl.extensions) {\n",
       "        var fmt = mpl.extensions[ind];\n",
       "        var option = $(\n",
       "            '<option/>', {selected: fmt === mpl.default_extension}).html(fmt);\n",
       "        fmt_picker.append(option);\n",
       "    }\n",
       "\n",
       "    // Add hover states to the ui-buttons\n",
       "    $( \".ui-button\" ).hover(\n",
       "        function() { $(this).addClass(\"ui-state-hover\");},\n",
       "        function() { $(this).removeClass(\"ui-state-hover\");}\n",
       "    );\n",
       "\n",
       "    var status_bar = $('<span class=\"mpl-message\"/>');\n",
       "    nav_element.append(status_bar);\n",
       "    this.message = status_bar[0];\n",
       "}\n",
       "\n",
       "mpl.figure.prototype.request_resize = function(x_pixels, y_pixels) {\n",
       "    // Request matplotlib to resize the figure. Matplotlib will then trigger a resize in the client,\n",
       "    // which will in turn request a refresh of the image.\n",
       "    this.send_message('resize', {'width': x_pixels, 'height': y_pixels});\n",
       "}\n",
       "\n",
       "mpl.figure.prototype.send_message = function(type, properties) {\n",
       "    properties['type'] = type;\n",
       "    properties['figure_id'] = this.id;\n",
       "    this.ws.send(JSON.stringify(properties));\n",
       "}\n",
       "\n",
       "mpl.figure.prototype.send_draw_message = function() {\n",
       "    if (!this.waiting) {\n",
       "        this.waiting = true;\n",
       "        this.ws.send(JSON.stringify({type: \"draw\", figure_id: this.id}));\n",
       "    }\n",
       "}\n",
       "\n",
       "\n",
       "mpl.figure.prototype.handle_save = function(fig, msg) {\n",
       "    var format_dropdown = fig.format_dropdown;\n",
       "    var format = format_dropdown.options[format_dropdown.selectedIndex].value;\n",
       "    fig.ondownload(fig, format);\n",
       "}\n",
       "\n",
       "\n",
       "mpl.figure.prototype.handle_resize = function(fig, msg) {\n",
       "    var size = msg['size'];\n",
       "    if (size[0] != fig.canvas.width || size[1] != fig.canvas.height) {\n",
       "        fig._resize_canvas(size[0], size[1]);\n",
       "        fig.send_message(\"refresh\", {});\n",
       "    };\n",
       "}\n",
       "\n",
       "mpl.figure.prototype.handle_rubberband = function(fig, msg) {\n",
       "    var x0 = msg['x0'] / mpl.ratio;\n",
       "    var y0 = (fig.canvas.height - msg['y0']) / mpl.ratio;\n",
       "    var x1 = msg['x1'] / mpl.ratio;\n",
       "    var y1 = (fig.canvas.height - msg['y1']) / mpl.ratio;\n",
       "    x0 = Math.floor(x0) + 0.5;\n",
       "    y0 = Math.floor(y0) + 0.5;\n",
       "    x1 = Math.floor(x1) + 0.5;\n",
       "    y1 = Math.floor(y1) + 0.5;\n",
       "    var min_x = Math.min(x0, x1);\n",
       "    var min_y = Math.min(y0, y1);\n",
       "    var width = Math.abs(x1 - x0);\n",
       "    var height = Math.abs(y1 - y0);\n",
       "\n",
       "    fig.rubberband_context.clearRect(\n",
       "        0, 0, fig.canvas.width / mpl.ratio, fig.canvas.height / mpl.ratio);\n",
       "\n",
       "    fig.rubberband_context.strokeRect(min_x, min_y, width, height);\n",
       "}\n",
       "\n",
       "mpl.figure.prototype.handle_figure_label = function(fig, msg) {\n",
       "    // Updates the figure title.\n",
       "    fig.header.textContent = msg['label'];\n",
       "}\n",
       "\n",
       "mpl.figure.prototype.handle_cursor = function(fig, msg) {\n",
       "    var cursor = msg['cursor'];\n",
       "    switch(cursor)\n",
       "    {\n",
       "    case 0:\n",
       "        cursor = 'pointer';\n",
       "        break;\n",
       "    case 1:\n",
       "        cursor = 'default';\n",
       "        break;\n",
       "    case 2:\n",
       "        cursor = 'crosshair';\n",
       "        break;\n",
       "    case 3:\n",
       "        cursor = 'move';\n",
       "        break;\n",
       "    }\n",
       "    fig.rubberband_canvas.style.cursor = cursor;\n",
       "}\n",
       "\n",
       "mpl.figure.prototype.handle_message = function(fig, msg) {\n",
       "    fig.message.textContent = msg['message'];\n",
       "}\n",
       "\n",
       "mpl.figure.prototype.handle_draw = function(fig, msg) {\n",
       "    // Request the server to send over a new figure.\n",
       "    fig.send_draw_message();\n",
       "}\n",
       "\n",
       "mpl.figure.prototype.handle_image_mode = function(fig, msg) {\n",
       "    fig.image_mode = msg['mode'];\n",
       "}\n",
       "\n",
       "mpl.figure.prototype.updated_canvas_event = function() {\n",
       "    // Called whenever the canvas gets updated.\n",
       "    this.send_message(\"ack\", {});\n",
       "}\n",
       "\n",
       "// A function to construct a web socket function for onmessage handling.\n",
       "// Called in the figure constructor.\n",
       "mpl.figure.prototype._make_on_message_function = function(fig) {\n",
       "    return function socket_on_message(evt) {\n",
       "        if (evt.data instanceof Blob) {\n",
       "            /* FIXME: We get \"Resource interpreted as Image but\n",
       "             * transferred with MIME type text/plain:\" errors on\n",
       "             * Chrome.  But how to set the MIME type?  It doesn't seem\n",
       "             * to be part of the websocket stream */\n",
       "            evt.data.type = \"image/png\";\n",
       "\n",
       "            /* Free the memory for the previous frames */\n",
       "            if (fig.imageObj.src) {\n",
       "                (window.URL || window.webkitURL).revokeObjectURL(\n",
       "                    fig.imageObj.src);\n",
       "            }\n",
       "\n",
       "            fig.imageObj.src = (window.URL || window.webkitURL).createObjectURL(\n",
       "                evt.data);\n",
       "            fig.updated_canvas_event();\n",
       "            fig.waiting = false;\n",
       "            return;\n",
       "        }\n",
       "        else if (typeof evt.data === 'string' && evt.data.slice(0, 21) == \"data:image/png;base64\") {\n",
       "            fig.imageObj.src = evt.data;\n",
       "            fig.updated_canvas_event();\n",
       "            fig.waiting = false;\n",
       "            return;\n",
       "        }\n",
       "\n",
       "        var msg = JSON.parse(evt.data);\n",
       "        var msg_type = msg['type'];\n",
       "\n",
       "        // Call the  \"handle_{type}\" callback, which takes\n",
       "        // the figure and JSON message as its only arguments.\n",
       "        try {\n",
       "            var callback = fig[\"handle_\" + msg_type];\n",
       "        } catch (e) {\n",
       "            console.log(\"No handler for the '\" + msg_type + \"' message type: \", msg);\n",
       "            return;\n",
       "        }\n",
       "\n",
       "        if (callback) {\n",
       "            try {\n",
       "                // console.log(\"Handling '\" + msg_type + \"' message: \", msg);\n",
       "                callback(fig, msg);\n",
       "            } catch (e) {\n",
       "                console.log(\"Exception inside the 'handler_\" + msg_type + \"' callback:\", e, e.stack, msg);\n",
       "            }\n",
       "        }\n",
       "    };\n",
       "}\n",
       "\n",
       "// from http://stackoverflow.com/questions/1114465/getting-mouse-location-in-canvas\n",
       "mpl.findpos = function(e) {\n",
       "    //this section is from http://www.quirksmode.org/js/events_properties.html\n",
       "    var targ;\n",
       "    if (!e)\n",
       "        e = window.event;\n",
       "    if (e.target)\n",
       "        targ = e.target;\n",
       "    else if (e.srcElement)\n",
       "        targ = e.srcElement;\n",
       "    if (targ.nodeType == 3) // defeat Safari bug\n",
       "        targ = targ.parentNode;\n",
       "\n",
       "    // jQuery normalizes the pageX and pageY\n",
       "    // pageX,Y are the mouse positions relative to the document\n",
       "    // offset() returns the position of the element relative to the document\n",
       "    var x = e.pageX - $(targ).offset().left;\n",
       "    var y = e.pageY - $(targ).offset().top;\n",
       "\n",
       "    return {\"x\": x, \"y\": y};\n",
       "};\n",
       "\n",
       "/*\n",
       " * return a copy of an object with only non-object keys\n",
       " * we need this to avoid circular references\n",
       " * http://stackoverflow.com/a/24161582/3208463\n",
       " */\n",
       "function simpleKeys (original) {\n",
       "  return Object.keys(original).reduce(function (obj, key) {\n",
       "    if (typeof original[key] !== 'object')\n",
       "        obj[key] = original[key]\n",
       "    return obj;\n",
       "  }, {});\n",
       "}\n",
       "\n",
       "mpl.figure.prototype.mouse_event = function(event, name) {\n",
       "    var canvas_pos = mpl.findpos(event)\n",
       "\n",
       "    if (name === 'button_press')\n",
       "    {\n",
       "        this.canvas.focus();\n",
       "        this.canvas_div.focus();\n",
       "    }\n",
       "\n",
       "    var x = canvas_pos.x * mpl.ratio;\n",
       "    var y = canvas_pos.y * mpl.ratio;\n",
       "\n",
       "    this.send_message(name, {x: x, y: y, button: event.button,\n",
       "                             step: event.step,\n",
       "                             guiEvent: simpleKeys(event)});\n",
       "\n",
       "    /* This prevents the web browser from automatically changing to\n",
       "     * the text insertion cursor when the button is pressed.  We want\n",
       "     * to control all of the cursor setting manually through the\n",
       "     * 'cursor' event from matplotlib */\n",
       "    event.preventDefault();\n",
       "    return false;\n",
       "}\n",
       "\n",
       "mpl.figure.prototype._key_event_extra = function(event, name) {\n",
       "    // Handle any extra behaviour associated with a key event\n",
       "}\n",
       "\n",
       "mpl.figure.prototype.key_event = function(event, name) {\n",
       "\n",
       "    // Prevent repeat events\n",
       "    if (name == 'key_press')\n",
       "    {\n",
       "        if (event.which === this._key)\n",
       "            return;\n",
       "        else\n",
       "            this._key = event.which;\n",
       "    }\n",
       "    if (name == 'key_release')\n",
       "        this._key = null;\n",
       "\n",
       "    var value = '';\n",
       "    if (event.ctrlKey && event.which != 17)\n",
       "        value += \"ctrl+\";\n",
       "    if (event.altKey && event.which != 18)\n",
       "        value += \"alt+\";\n",
       "    if (event.shiftKey && event.which != 16)\n",
       "        value += \"shift+\";\n",
       "\n",
       "    value += 'k';\n",
       "    value += event.which.toString();\n",
       "\n",
       "    this._key_event_extra(event, name);\n",
       "\n",
       "    this.send_message(name, {key: value,\n",
       "                             guiEvent: simpleKeys(event)});\n",
       "    return false;\n",
       "}\n",
       "\n",
       "mpl.figure.prototype.toolbar_button_onclick = function(name) {\n",
       "    if (name == 'download') {\n",
       "        this.handle_save(this, null);\n",
       "    } else {\n",
       "        this.send_message(\"toolbar_button\", {name: name});\n",
       "    }\n",
       "};\n",
       "\n",
       "mpl.figure.prototype.toolbar_button_onmouseover = function(tooltip) {\n",
       "    this.message.textContent = tooltip;\n",
       "};\n",
       "mpl.toolbar_items = [[\"Home\", \"Reset original view\", \"fa fa-home icon-home\", \"home\"], [\"Back\", \"Back to previous view\", \"fa fa-arrow-left icon-arrow-left\", \"back\"], [\"Forward\", \"Forward to next view\", \"fa fa-arrow-right icon-arrow-right\", \"forward\"], [\"\", \"\", \"\", \"\"], [\"Pan\", \"Pan axes with left mouse, zoom with right\", \"fa fa-arrows icon-move\", \"pan\"], [\"Zoom\", \"Zoom to rectangle\", \"fa fa-square-o icon-check-empty\", \"zoom\"], [\"\", \"\", \"\", \"\"], [\"Download\", \"Download plot\", \"fa fa-floppy-o icon-save\", \"download\"]];\n",
       "\n",
       "mpl.extensions = [\"eps\", \"jpeg\", \"pdf\", \"png\", \"ps\", \"raw\", \"svg\", \"tif\"];\n",
       "\n",
       "mpl.default_extension = \"png\";var comm_websocket_adapter = function(comm) {\n",
       "    // Create a \"websocket\"-like object which calls the given IPython comm\n",
       "    // object with the appropriate methods. Currently this is a non binary\n",
       "    // socket, so there is still some room for performance tuning.\n",
       "    var ws = {};\n",
       "\n",
       "    ws.close = function() {\n",
       "        comm.close()\n",
       "    };\n",
       "    ws.send = function(m) {\n",
       "        //console.log('sending', m);\n",
       "        comm.send(m);\n",
       "    };\n",
       "    // Register the callback with on_msg.\n",
       "    comm.on_msg(function(msg) {\n",
       "        //console.log('receiving', msg['content']['data'], msg);\n",
       "        // Pass the mpl event to the overridden (by mpl) onmessage function.\n",
       "        ws.onmessage(msg['content']['data'])\n",
       "    });\n",
       "    return ws;\n",
       "}\n",
       "\n",
       "mpl.mpl_figure_comm = function(comm, msg) {\n",
       "    // This is the function which gets called when the mpl process\n",
       "    // starts-up an IPython Comm through the \"matplotlib\" channel.\n",
       "\n",
       "    var id = msg.content.data.id;\n",
       "    // Get hold of the div created by the display call when the Comm\n",
       "    // socket was opened in Python.\n",
       "    var element = $(\"#\" + id);\n",
       "    var ws_proxy = comm_websocket_adapter(comm)\n",
       "\n",
       "    function ondownload(figure, format) {\n",
       "        window.open(figure.imageObj.src);\n",
       "    }\n",
       "\n",
       "    var fig = new mpl.figure(id, ws_proxy,\n",
       "                           ondownload,\n",
       "                           element.get(0));\n",
       "\n",
       "    // Call onopen now - mpl needs it, as it is assuming we've passed it a real\n",
       "    // web socket which is closed, not our websocket->open comm proxy.\n",
       "    ws_proxy.onopen();\n",
       "\n",
       "    fig.parent_element = element.get(0);\n",
       "    fig.cell_info = mpl.find_output_cell(\"<div id='\" + id + \"'></div>\");\n",
       "    if (!fig.cell_info) {\n",
       "        console.error(\"Failed to find cell for figure\", id, fig);\n",
       "        return;\n",
       "    }\n",
       "\n",
       "    var output_index = fig.cell_info[2]\n",
       "    var cell = fig.cell_info[0];\n",
       "\n",
       "};\n",
       "\n",
       "mpl.figure.prototype.handle_close = function(fig, msg) {\n",
       "    var width = fig.canvas.width/mpl.ratio\n",
       "    fig.root.unbind('remove')\n",
       "\n",
       "    // Update the output cell to use the data from the current canvas.\n",
       "    fig.push_to_output();\n",
       "    var dataURL = fig.canvas.toDataURL();\n",
       "    // Re-enable the keyboard manager in IPython - without this line, in FF,\n",
       "    // the notebook keyboard shortcuts fail.\n",
       "    IPython.keyboard_manager.enable()\n",
       "    $(fig.parent_element).html('<img src=\"' + dataURL + '\" width=\"' + width + '\">');\n",
       "    fig.close_ws(fig, msg);\n",
       "}\n",
       "\n",
       "mpl.figure.prototype.close_ws = function(fig, msg){\n",
       "    fig.send_message('closing', msg);\n",
       "    // fig.ws.close()\n",
       "}\n",
       "\n",
       "mpl.figure.prototype.push_to_output = function(remove_interactive) {\n",
       "    // Turn the data on the canvas into data in the output cell.\n",
       "    var width = this.canvas.width/mpl.ratio\n",
       "    var dataURL = this.canvas.toDataURL();\n",
       "    this.cell_info[1]['text/html'] = '<img src=\"' + dataURL + '\" width=\"' + width + '\">';\n",
       "}\n",
       "\n",
       "mpl.figure.prototype.updated_canvas_event = function() {\n",
       "    // Tell IPython that the notebook contents must change.\n",
       "    IPython.notebook.set_dirty(true);\n",
       "    this.send_message(\"ack\", {});\n",
       "    var fig = this;\n",
       "    // Wait a second, then push the new image to the DOM so\n",
       "    // that it is saved nicely (might be nice to debounce this).\n",
       "    setTimeout(function () { fig.push_to_output() }, 1000);\n",
       "}\n",
       "\n",
       "mpl.figure.prototype._init_toolbar = function() {\n",
       "    var fig = this;\n",
       "\n",
       "    var nav_element = $('<div/>');\n",
       "    nav_element.attr('style', 'width: 100%');\n",
       "    this.root.append(nav_element);\n",
       "\n",
       "    // Define a callback function for later on.\n",
       "    function toolbar_event(event) {\n",
       "        return fig.toolbar_button_onclick(event['data']);\n",
       "    }\n",
       "    function toolbar_mouse_event(event) {\n",
       "        return fig.toolbar_button_onmouseover(event['data']);\n",
       "    }\n",
       "\n",
       "    for(var toolbar_ind in mpl.toolbar_items){\n",
       "        var name = mpl.toolbar_items[toolbar_ind][0];\n",
       "        var tooltip = mpl.toolbar_items[toolbar_ind][1];\n",
       "        var image = mpl.toolbar_items[toolbar_ind][2];\n",
       "        var method_name = mpl.toolbar_items[toolbar_ind][3];\n",
       "\n",
       "        if (!name) { continue; };\n",
       "\n",
       "        var button = $('<button class=\"btn btn-default\" href=\"#\" title=\"' + name + '\"><i class=\"fa ' + image + ' fa-lg\"></i></button>');\n",
       "        button.click(method_name, toolbar_event);\n",
       "        button.mouseover(tooltip, toolbar_mouse_event);\n",
       "        nav_element.append(button);\n",
       "    }\n",
       "\n",
       "    // Add the status bar.\n",
       "    var status_bar = $('<span class=\"mpl-message\" style=\"text-align:right; float: right;\"/>');\n",
       "    nav_element.append(status_bar);\n",
       "    this.message = status_bar[0];\n",
       "\n",
       "    // Add the close button to the window.\n",
       "    var buttongrp = $('<div class=\"btn-group inline pull-right\"></div>');\n",
       "    var button = $('<button class=\"btn btn-mini btn-primary\" href=\"#\" title=\"Stop Interaction\"><i class=\"fa fa-power-off icon-remove icon-large\"></i></button>');\n",
       "    button.click(function (evt) { fig.handle_close(fig, {}); } );\n",
       "    button.mouseover('Stop Interaction', toolbar_mouse_event);\n",
       "    buttongrp.append(button);\n",
       "    var titlebar = this.root.find($('.ui-dialog-titlebar'));\n",
       "    titlebar.prepend(buttongrp);\n",
       "}\n",
       "\n",
       "mpl.figure.prototype._root_extra_style = function(el){\n",
       "    var fig = this\n",
       "    el.on(\"remove\", function(){\n",
       "\tfig.close_ws(fig, {});\n",
       "    });\n",
       "}\n",
       "\n",
       "mpl.figure.prototype._canvas_extra_style = function(el){\n",
       "    // this is important to make the div 'focusable\n",
       "    el.attr('tabindex', 0)\n",
       "    // reach out to IPython and tell the keyboard manager to turn it's self\n",
       "    // off when our div gets focus\n",
       "\n",
       "    // location in version 3\n",
       "    if (IPython.notebook.keyboard_manager) {\n",
       "        IPython.notebook.keyboard_manager.register_events(el);\n",
       "    }\n",
       "    else {\n",
       "        // location in version 2\n",
       "        IPython.keyboard_manager.register_events(el);\n",
       "    }\n",
       "\n",
       "}\n",
       "\n",
       "mpl.figure.prototype._key_event_extra = function(event, name) {\n",
       "    var manager = IPython.notebook.keyboard_manager;\n",
       "    if (!manager)\n",
       "        manager = IPython.keyboard_manager;\n",
       "\n",
       "    // Check for shift+enter\n",
       "    if (event.shiftKey && event.which == 13) {\n",
       "        this.canvas_div.blur();\n",
       "        // select the cell after this one\n",
       "        var index = IPython.notebook.find_cell_index(this.cell_info[0]);\n",
       "        IPython.notebook.select(index + 1);\n",
       "    }\n",
       "}\n",
       "\n",
       "mpl.figure.prototype.handle_save = function(fig, msg) {\n",
       "    fig.ondownload(fig, null);\n",
       "}\n",
       "\n",
       "\n",
       "mpl.find_output_cell = function(html_output) {\n",
       "    // Return the cell and output element which can be found *uniquely* in the notebook.\n",
       "    // Note - this is a bit hacky, but it is done because the \"notebook_saving.Notebook\"\n",
       "    // IPython event is triggered only after the cells have been serialised, which for\n",
       "    // our purposes (turning an active figure into a static one), is too late.\n",
       "    var cells = IPython.notebook.get_cells();\n",
       "    var ncells = cells.length;\n",
       "    for (var i=0; i<ncells; i++) {\n",
       "        var cell = cells[i];\n",
       "        if (cell.cell_type === 'code'){\n",
       "            for (var j=0; j<cell.output_area.outputs.length; j++) {\n",
       "                var data = cell.output_area.outputs[j];\n",
       "                if (data.data) {\n",
       "                    // IPython >= 3 moved mimebundle to data attribute of output\n",
       "                    data = data.data;\n",
       "                }\n",
       "                if (data['text/html'] == html_output) {\n",
       "                    return [cell, data, j];\n",
       "                }\n",
       "            }\n",
       "        }\n",
       "    }\n",
       "}\n",
       "\n",
       "// Register the function which deals with the matplotlib target/channel.\n",
       "// The kernel may be null if the page has been refreshed.\n",
       "if (IPython.notebook.kernel != null) {\n",
       "    IPython.notebook.kernel.comm_manager.register_target('matplotlib', mpl.mpl_figure_comm);\n",
       "}\n"
      ],
      "text/plain": [
       "<IPython.core.display.Javascript object>"
      ]
     },
     "metadata": {},
     "output_type": "display_data"
    },
    {
     "data": {
      "text/html": [
       "<img src=\"data:image/png;base64,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\" width=\"999.4444709206812\">"
      ],
      "text/plain": [
       "<IPython.core.display.HTML object>"
      ]
     },
     "metadata": {},
     "output_type": "display_data"
    }
   ],
   "source": [
    "#get unique country names & get max total deaths per million/gpd/pop. density for each country\n",
    "#cleaning data\n",
    "max_deaths_country=  combined_df.groupby([\"Country\"]).agg({\"Total Deaths Per Million\": \"max\",\"Income Level\":\"unique\", \"Continent\": \"unique\"})\n",
    "max_pop_country=  combined_df.groupby([\"Country\"]).agg({\"Population Density\": \"max\"})\n",
    "max_gdp_country=  combined_df.groupby([\"Country\"]).agg({\"GDP Per Capita\": \"max\" })\n",
    "income=[]\n",
    "continent=[]\n",
    "max_combined_country = pd.merge(max_deaths_country,max_gdp_country, how= \"outer\", on = 'Country')\n",
    "max_combined_country = pd.merge(max_combined_country,max_pop_country, how = 'outer', on = 'Country')\n",
    "for index, row in max_combined_country.iterrows():\n",
    "    x=row[\"Income Level\"][0]\n",
    "    y=row [\"Continent\"][0]\n",
    "    income.append(x)\n",
    "    continent.append(y)\n",
    "max_combined_country[\"Country Income Level\"]=income\n",
    "max_combined_country[\"Continent\"]=continent\n",
    "max_combined_country_clean=max_combined_country.dropna(how = 'any')\n",
    "max_combined_country_clean=max_combined_country_clean.reset_index()\n",
    "max_combined_country_clean.head(20) \n",
    "\n",
    "sns.set()\n",
    "with sns.cubehelix_palette(8, start=.5, rot=-.75,reverse=False):\n",
    "    plt.figure(figsize=(10,5))\n",
    "    sns.scatterplot(data= max_combined_country_clean, x=\"GDP Per Capita\",y=\"Total Deaths Per Million\",hue= \"Country Income Level\",alpha =1)\n",
    "    plt.title(\"GDP per Capita vs Total Deaths per million\")\n",
    "    plt.xlabel(\"GDP Per capita (Country)\")\n",
    "    plt.ylabel(\"Total deaths per million\")\n",
    "    plt.ylim(-5,300)"
   ]
  },
  {
   "cell_type": "code",
   "execution_count": 69,
   "metadata": {},
   "outputs": [
    {
     "data": {
      "application/vnd.plotly.v1+json": {
       "config": {
        "plotlyServerURL": "https://plot.ly"
       },
       "data": [
        {
         "hovertemplate": "<b>%{hovertext}</b><br><br>Continent=Asia<br>Country Income Level=Low income<br>Population Density=%{x}<br>Total Deaths Per Million=%{y}<extra></extra>",
         "hovertext": [
          "Afghanistan",
          "Nepal",
          "Tajikistan"
         ],
         "legendgroup": "Asia",
         "marker": {
          "color": "#636efa",
          "symbol": "circle"
         },
         "mode": "markers",
         "name": "Asia",
         "orientation": "v",
         "showlegend": true,
         "type": "scatter",
         "x": [
          54.422,
          204.43,
          64.281
         ],
         "xaxis": "x",
         "y": [
          14.925,
          0.789,
          5.452000000000001
         ],
         "yaxis": "y"
        },
        {
         "hovertemplate": "<b>%{hovertext}</b><br><br>Continent=Asia<br>Country Income Level=Upper middle income<br>Population Density=%{x}<br>Total Deaths Per Million=%{y}<extra></extra>",
         "hovertext": [
          "Armenia",
          "Azerbaijan",
          "China",
          "Georgia",
          "Iraq",
          "Jordan",
          "Kazakhstan",
          "Lebanon",
          "Malaysia",
          "Maldives",
          "Sri Lanka",
          "Thailand",
          "Turkey"
         ],
         "legendgroup": "Asia",
         "marker": {
          "color": "#636efa",
          "symbol": "circle"
         },
         "mode": "markers",
         "name": "Asia",
         "orientation": "v",
         "showlegend": false,
         "type": "scatter",
         "x": [
          102.931,
          119.309,
          147.674,
          65.032,
          88.125,
          109.285,
          6.681,
          594.561,
          96.25399999999999,
          1454.433,
          341.955,
          135.132,
          104.914
         ],
         "xaxis": "x2",
         "y": [
          121.48899999999999,
          15.189,
          3.2230000000000003,
          3.509,
          27.348000000000003,
          0.882,
          6.391,
          4.688,
          3.738,
          14.8,
          0.514,
          0.831,
          58.692
         ],
         "yaxis": "y2"
        },
        {
         "hovertemplate": "<b>%{hovertext}</b><br><br>Continent=Asia<br>Country Income Level=Lower middle income<br>Population Density=%{x}<br>Total Deaths Per Million=%{y}<extra></extra>",
         "hovertext": [
          "Bangladesh",
          "Bhutan",
          "Cambodia",
          "India",
          "Indonesia",
          "Mongolia",
          "Myanmar",
          "Pakistan",
          "Philippines",
          "Uzbekistan",
          "Vietnam"
         ],
         "legendgroup": "Asia",
         "marker": {
          "color": "#636efa",
          "symbol": "circle"
         },
         "mode": "markers",
         "name": "Asia",
         "orientation": "v",
         "showlegend": false,
         "type": "scatter",
         "x": [
          1265.036,
          21.188000000000002,
          90.67200000000001,
          450.41900000000004,
          145.725,
          1.98,
          81.721,
          255.57299999999998,
          351.87300000000005,
          76.134,
          308.127
         ],
         "xaxis": "x3",
         "y": [
          8.889,
          0,
          0,
          9.927,
          9.012,
          0,
          0.11,
          16.252,
          10.668,
          0.568,
          0
         ],
         "yaxis": "y3"
        },
        {
         "hovertemplate": "<b>%{hovertext}</b><br><br>Continent=Asia<br>Country Income Level=High income<br>Population Density=%{x}<br>Total Deaths Per Million=%{y}<extra></extra>",
         "hovertext": [
          "Bahrain",
          "Israel",
          "Japan",
          "Kuwait",
          "Oman",
          "Qatar",
          "Saudi Arabia",
          "Singapore",
          "United Arab Emirates"
         ],
         "legendgroup": "Asia",
         "marker": {
          "color": "#636efa",
          "symbol": "circle"
         },
         "mode": "markers",
         "name": "Asia",
         "orientation": "v",
         "showlegend": false,
         "type": "scatter",
         "x": [
          1935.9070000000002,
          402.606,
          347.778,
          232.128,
          14.98,
          227.322,
          15.322000000000001,
          7915.731,
          112.44200000000001
         ],
         "xaxis": "x4",
         "y": [
          37.024,
          35.353,
          7.535,
          76.337,
          25.653000000000002,
          34.015,
          36.394,
          4.444,
          30.535
         ],
         "yaxis": "y4"
        },
        {
         "hovertemplate": "<b>%{hovertext}</b><br><br>Continent=Europe<br>Country Income Level=Upper middle income<br>Population Density=%{x}<br>Total Deaths Per Million=%{y}<extra></extra>",
         "hovertext": [
          "Albania",
          "Belarus",
          "Bosnia and Herzegovina",
          "Bulgaria",
          "Montenegro",
          "Romania",
          "Serbia"
         ],
         "legendgroup": "Europe",
         "marker": {
          "color": "#EF553B",
          "symbol": "circle"
         },
         "mode": "markers",
         "name": "Europe",
         "orientation": "v",
         "showlegend": true,
         "type": "scatter",
         "x": [
          104.87100000000001,
          46.858000000000004,
          68.49600000000001,
          65.18,
          46.28,
          85.12899999999999,
          80.291
         ],
         "xaxis": "x2",
         "y": [
          15.289000000000001,
          36.616,
          51.512,
          28.64,
          14.33,
          78.596,
          38.356
         ],
         "yaxis": "y2"
        },
        {
         "hovertemplate": "<b>%{hovertext}</b><br><br>Continent=Europe<br>Country Income Level=Lower middle income<br>Population Density=%{x}<br>Total Deaths Per Million=%{y}<extra></extra>",
         "hovertext": [
          "Moldova",
          "Ukraine"
         ],
         "legendgroup": "Europe",
         "marker": {
          "color": "#EF553B",
          "symbol": "circle"
         },
         "mode": "markers",
         "name": "Europe",
         "orientation": "v",
         "showlegend": false,
         "type": "scatter",
         "x": [
          123.655,
          77.39
         ],
         "xaxis": "x3",
         "y": [
          117.25399999999999,
          22.910999999999998
         ],
         "yaxis": "y3"
        },
        {
         "hovertemplate": "<b>%{hovertext}</b><br><br>Continent=Europe<br>Country Income Level=High income<br>Population Density=%{x}<br>Total Deaths Per Million=%{y}<extra></extra>",
         "hovertext": [
          "Austria",
          "Belgium",
          "Croatia",
          "Cyprus",
          "Czech Republic",
          "Denmark",
          "Estonia",
          "Finland",
          "France",
          "Germany",
          "Greece",
          "Hungary",
          "Iceland",
          "Ireland",
          "Italy",
          "Latvia",
          "Lithuania",
          "Luxembourg",
          "Malta",
          "Netherlands",
          "Norway",
          "Poland",
          "Portugal",
          "San Marino",
          "Slovenia",
          "Spain",
          "Sweden",
          "Switzerland",
          "United Kingdom"
         ],
         "legendgroup": "Europe",
         "marker": {
          "color": "#EF553B",
          "symbol": "circle"
         },
         "mode": "markers",
         "name": "Europe",
         "orientation": "v",
         "showlegend": false,
         "type": "scatter",
         "x": [
          106.749,
          375.564,
          73.726,
          127.65700000000001,
          137.17600000000002,
          136.52,
          31.033,
          18.136,
          122.57799999999999,
          237.016,
          83.479,
          108.04299999999999,
          3.404,
          69.874,
          205.859,
          31.212,
          45.135,
          231.447,
          1454.037,
          508.54400000000004,
          14.462,
          124.027,
          112.37100000000001,
          556.6669999999999,
          102.619,
          93.105,
          24.718000000000004,
          214.243,
          272.89799999999997
         ],
         "xaxis": "x4",
         "y": [
          76.612,
          836.6110000000001,
          26.064,
          21.691999999999997,
          31.375999999999998,
          103.588,
          52.015,
          58.836999999999996,
          454.089,
          106.04700000000001,
          18.229,
          59.211000000000006,
          29.304000000000002,
          347.32099999999997,
          572.8240000000001,
          15.905,
          27.918000000000003,
          175.726,
          20.383,
          355.416,
          45.008,
          35.829,
          150.048,
          1237.5510000000002,
          52.431000000000004,
          614.953,
          500.333,
          194.11599999999999,
          627.994
         ],
         "yaxis": "y4"
        },
        {
         "hovertemplate": "<b>%{hovertext}</b><br><br>Continent=Africa<br>Country Income Level=Low income<br>Population Density=%{x}<br>Total Deaths Per Million=%{y}<extra></extra>",
         "hovertext": [
          "Benin",
          "Burkina Faso",
          "Burundi",
          "Central African Republic",
          "Chad",
          "Eritrea",
          "Ethiopia",
          "Guinea",
          "Guinea-Bissau",
          "Liberia",
          "Madagascar",
          "Malawi",
          "Mali",
          "Mozambique",
          "Niger",
          "Rwanda",
          "Sierra Leone",
          "Tanzania",
          "Togo",
          "Uganda"
         ],
         "legendgroup": "Africa",
         "marker": {
          "color": "#00cc96",
          "symbol": "circle"
         },
         "mode": "markers",
         "name": "Africa",
         "orientation": "v",
         "showlegend": true,
         "type": "scatter",
         "x": [
          99.11,
          70.15100000000001,
          423.06199999999995,
          7.479,
          11.833,
          44.303999999999995,
          104.95700000000001,
          51.755,
          66.191,
          49.126999999999995,
          43.951,
          197.519,
          15.196,
          37.728,
          16.955,
          494.869,
          104.7,
          64.699,
          143.366,
          213.75900000000001
         ],
         "xaxis": "x",
         "y": [
          1.072,
          2.535,
          0.084,
          4.762,
          4.505,
          0,
          0.644,
          2.056,
          8.638,
          6.722,
          0.506,
          0.575,
          5.481,
          0.16,
          2.7680000000000002,
          0.154,
          6.895,
          0.35200000000000004,
          1.57,
          0
         ],
         "yaxis": "y"
        },
        {
         "hovertemplate": "<b>%{hovertext}</b><br><br>Continent=Africa<br>Country Income Level=Upper middle income<br>Population Density=%{x}<br>Total Deaths Per Million=%{y}<extra></extra>",
         "hovertext": [
          "Algeria",
          "Botswana",
          "Equatorial Guinea",
          "Gabon",
          "Libya",
          "Mauritius",
          "Namibia",
          "South Africa"
         ],
         "legendgroup": "Africa",
         "marker": {
          "color": "#00cc96",
          "symbol": "circle"
         },
         "mode": "markers",
         "name": "Africa",
         "orientation": "v",
         "showlegend": false,
         "type": "scatter",
         "x": [
          17.348,
          4.044,
          45.193999999999996,
          7.859,
          3.623,
          622.962,
          3.0780000000000003,
          46.754
         ],
         "xaxis": "x2",
         "y": [
          19.27,
          0.425,
          22.809,
          15.276,
          1.455,
          7.8629999999999995,
          0,
          32.542
         ],
         "yaxis": "y2"
        },
        {
         "hovertemplate": "<b>%{hovertext}</b><br><br>Continent=Africa<br>Country Income Level=Lower middle income<br>Population Density=%{x}<br>Total Deaths Per Million=%{y}<extra></extra>",
         "hovertext": [
          "Angola",
          "Cameroon",
          "Cote d'Ivoire",
          "Djibouti",
          "Ghana",
          "Kenya",
          "Lesotho",
          "Mauritania",
          "Morocco",
          "Nigeria",
          "Sao Tome and Principe",
          "Senegal",
          "Sudan",
          "Tunisia",
          "Zambia",
          "Zimbabwe"
         ],
         "legendgroup": "Africa",
         "marker": {
          "color": "#00cc96",
          "symbol": "circle"
         },
         "mode": "markers",
         "name": "Africa",
         "orientation": "v",
         "showlegend": false,
         "type": "scatter",
         "x": [
          23.89,
          50.885,
          76.399,
          41.285,
          126.719,
          87.324,
          73.562,
          4.289,
          80.08,
          209.588,
          212.84099999999998,
          82.32799999999999,
          23.258000000000003,
          74.22800000000001,
          22.995,
          42.729
         ],
         "xaxis": "x3",
         "y": [
          0.27399999999999997,
          11.339,
          1.933,
          45.54600000000001,
          2.735,
          2.287,
          0,
          23.228,
          5.797999999999999,
          2.513,
          54.754,
          5.0169999999999995,
          11.882,
          4.231,
          0.598,
          0.40399999999999997
         ],
         "yaxis": "y3"
        },
        {
         "hovertemplate": "<b>%{hovertext}</b><br><br>Continent=Africa<br>Country Income Level=High income<br>Population Density=%{x}<br>Total Deaths Per Million=%{y}<extra></extra>",
         "hovertext": [
          "Seychelles"
         ],
         "legendgroup": "Africa",
         "marker": {
          "color": "#00cc96",
          "symbol": "circle"
         },
         "mode": "markers",
         "name": "Africa",
         "orientation": "v",
         "showlegend": false,
         "type": "scatter",
         "x": [
          208.354
         ],
         "xaxis": "x4",
         "y": [
          0
         ],
         "yaxis": "y4"
        },
        {
         "hovertemplate": "<b>%{hovertext}</b><br><br>Continent=North America<br>Country Income Level=Low income<br>Population Density=%{x}<br>Total Deaths Per Million=%{y}<extra></extra>",
         "hovertext": [
          "Haiti"
         ],
         "legendgroup": "North America",
         "marker": {
          "color": "#ab63fa",
          "symbol": "circle"
         },
         "mode": "markers",
         "name": "North America",
         "orientation": "v",
         "showlegend": true,
         "type": "scatter",
         "x": [
          398.44800000000004
         ],
         "xaxis": "x",
         "y": [
          7.718
         ],
         "yaxis": "y"
        },
        {
         "hovertemplate": "<b>%{hovertext}</b><br><br>Continent=North America<br>Country Income Level=Upper middle income<br>Population Density=%{x}<br>Total Deaths Per Million=%{y}<extra></extra>",
         "hovertext": [
          "Belize",
          "Costa Rica",
          "Dominica",
          "Dominican Republic",
          "Grenada",
          "Guatemala",
          "Jamaica",
          "Mexico"
         ],
         "legendgroup": "North America",
         "marker": {
          "color": "#ab63fa",
          "symbol": "circle"
         },
         "mode": "markers",
         "name": "North America",
         "orientation": "v",
         "showlegend": false,
         "type": "scatter",
         "x": [
          16.426,
          96.079,
          98.56700000000001,
          222.873,
          317.132,
          157.834,
          266.879,
          66.444
         ],
         "xaxis": "x2",
         "y": [
          5.03,
          2.356,
          0,
          61.026,
          0,
          29.639,
          3.377,
          169.274
         ],
         "yaxis": "y2"
        },
        {
         "hovertemplate": "<b>%{hovertext}</b><br><br>Continent=North America<br>Country Income Level=Lower middle income<br>Population Density=%{x}<br>Total Deaths Per Million=%{y}<extra></extra>",
         "hovertext": [
          "El Salvador",
          "Honduras",
          "Nicaragua"
         ],
         "legendgroup": "North America",
         "marker": {
          "color": "#ab63fa",
          "symbol": "circle"
         },
         "mode": "markers",
         "name": "North America",
         "orientation": "v",
         "showlegend": false,
         "type": "scatter",
         "x": [
          307.811,
          82.805,
          51.667
         ],
         "xaxis": "x3",
         "y": [
          16.497,
          36.65,
          9.661
         ],
         "yaxis": "y3"
        },
        {
         "hovertemplate": "<b>%{hovertext}</b><br><br>Continent=North America<br>Country Income Level=High income<br>Population Density=%{x}<br>Total Deaths Per Million=%{y}<extra></extra>",
         "hovertext": [
          "Antigua and Barbuda",
          "Aruba",
          "Barbados",
          "Bermuda",
          "Canada",
          "Cayman Islands",
          "Panama",
          "Puerto Rico",
          "Sint Maarten (Dutch part)",
          "Trinidad and Tobago",
          "United States"
         ],
         "legendgroup": "North America",
         "marker": {
          "color": "#ab63fa",
          "symbol": "circle"
         },
         "mode": "markers",
         "name": "North America",
         "orientation": "v",
         "showlegend": false,
         "type": "scatter",
         "x": [
          231.845,
          584.8,
          664.4630000000001,
          1308.82,
          4.037,
          256.496,
          55.133,
          376.23199999999997,
          1209.088,
          266.88599999999997,
          35.608000000000004
         ],
         "xaxis": "x4",
         "y": [
          30.635,
          28.099,
          24.359,
          144.525,
          223.358,
          15.216,
          116.113,
          52.083,
          349.79699999999997,
          5.716,
          362.459
         ],
         "yaxis": "y4"
        },
        {
         "hovertemplate": "<b>%{hovertext}</b><br><br>Continent=South America<br>Country Income Level=Upper middle income<br>Population Density=%{x}<br>Total Deaths Per Million=%{y}<extra></extra>",
         "hovertext": [
          "Argentina",
          "Brazil",
          "Colombia",
          "Ecuador",
          "Guyana",
          "Paraguay",
          "Peru",
          "Suriname"
         ],
         "legendgroup": "South America",
         "marker": {
          "color": "#FFA15A",
          "symbol": "circle"
         },
         "mode": "markers",
         "name": "South America",
         "orientation": "v",
         "showlegend": true,
         "type": "scatter",
         "x": [
          16.177,
          25.04,
          44.223,
          66.939,
          3.952,
          17.144000000000002,
          25.129,
          3.612
         ],
         "xaxis": "x2",
         "y": [
          22.369,
          238.13099999999997,
          43.964,
          239.358,
          15.255999999999998,
          1.8230000000000002,
          243.99599999999998,
          13.637
         ],
         "yaxis": "y2"
        },
        {
         "hovertemplate": "<b>%{hovertext}</b><br><br>Continent=South America<br>Country Income Level=Lower middle income<br>Population Density=%{x}<br>Total Deaths Per Million=%{y}<extra></extra>",
         "hovertext": [
          "Bolivia"
         ],
         "legendgroup": "South America",
         "marker": {
          "color": "#FFA15A",
          "symbol": "circle"
         },
         "mode": "markers",
         "name": "South America",
         "orientation": "v",
         "showlegend": false,
         "type": "scatter",
         "x": [
          10.202
         ],
         "xaxis": "x3",
         "y": [
          66.221
         ],
         "yaxis": "y3"
        },
        {
         "hovertemplate": "<b>%{hovertext}</b><br><br>Continent=South America<br>Country Income Level=High income<br>Population Density=%{x}<br>Total Deaths Per Million=%{y}<extra></extra>",
         "hovertext": [
          "Chile",
          "Uruguay"
         ],
         "legendgroup": "South America",
         "marker": {
          "color": "#FFA15A",
          "symbol": "circle"
         },
         "mode": "markers",
         "name": "South America",
         "orientation": "v",
         "showlegend": false,
         "type": "scatter",
         "x": [
          24.281999999999996,
          19.750999999999998
         ],
         "xaxis": "x4",
         "y": [
          234.304,
          7.197
         ],
         "yaxis": "y4"
        },
        {
         "hovertemplate": "<b>%{hovertext}</b><br><br>Continent=Oceania<br>Country Income Level=Upper middle income<br>Population Density=%{x}<br>Total Deaths Per Million=%{y}<extra></extra>",
         "hovertext": [
          "Fiji"
         ],
         "legendgroup": "Oceania",
         "marker": {
          "color": "#19d3f3",
          "symbol": "circle"
         },
         "mode": "markers",
         "name": "Oceania",
         "orientation": "v",
         "showlegend": true,
         "type": "scatter",
         "x": [
          49.562
         ],
         "xaxis": "x2",
         "y": [
          0
         ],
         "yaxis": "y2"
        },
        {
         "hovertemplate": "<b>%{hovertext}</b><br><br>Continent=Oceania<br>Country Income Level=Lower middle income<br>Population Density=%{x}<br>Total Deaths Per Million=%{y}<extra></extra>",
         "hovertext": [
          "Papua New Guinea"
         ],
         "legendgroup": "Oceania",
         "marker": {
          "color": "#19d3f3",
          "symbol": "circle"
         },
         "mode": "markers",
         "name": "Oceania",
         "orientation": "v",
         "showlegend": false,
         "type": "scatter",
         "x": [
          18.22
         ],
         "xaxis": "x3",
         "y": [
          0
         ],
         "yaxis": "y3"
        },
        {
         "hovertemplate": "<b>%{hovertext}</b><br><br>Continent=Oceania<br>Country Income Level=High income<br>Population Density=%{x}<br>Total Deaths Per Million=%{y}<extra></extra>",
         "hovertext": [
          "Australia",
          "New Zealand"
         ],
         "legendgroup": "Oceania",
         "marker": {
          "color": "#19d3f3",
          "symbol": "circle"
         },
         "mode": "markers",
         "name": "Oceania",
         "orientation": "v",
         "showlegend": false,
         "type": "scatter",
         "x": [
          3.202,
          18.206
         ],
         "xaxis": "x4",
         "y": [
          4,
          4.562
         ],
         "yaxis": "y4"
        }
       ],
       "layout": {
        "annotations": [
         {
          "font": {},
          "showarrow": false,
          "text": "Country Income Level=Low income",
          "x": 0.1175,
          "xanchor": "center",
          "xref": "paper",
          "y": 1,
          "yanchor": "bottom",
          "yref": "paper"
         },
         {
          "font": {},
          "showarrow": false,
          "text": "Country Income Level=Upper middle income",
          "x": 0.3725,
          "xanchor": "center",
          "xref": "paper",
          "y": 1,
          "yanchor": "bottom",
          "yref": "paper"
         },
         {
          "font": {},
          "showarrow": false,
          "text": "Country Income Level=Lower middle income",
          "x": 0.6275,
          "xanchor": "center",
          "xref": "paper",
          "y": 1,
          "yanchor": "bottom",
          "yref": "paper"
         },
         {
          "font": {},
          "showarrow": false,
          "text": "Country Income Level=High income",
          "x": 0.8824999999999998,
          "xanchor": "center",
          "xref": "paper",
          "y": 1,
          "yanchor": "bottom",
          "yref": "paper"
         }
        ],
        "legend": {
         "title": {
          "text": "Continent"
         },
         "tracegroupgap": 0
        },
        "margin": {
         "t": 60
        },
        "template": {
         "data": {
          "bar": [
           {
            "error_x": {
             "color": "#2a3f5f"
            },
            "error_y": {
             "color": "#2a3f5f"
            },
            "marker": {
             "line": {
              "color": "#E5ECF6",
              "width": 0.5
             }
            },
            "type": "bar"
           }
          ],
          "barpolar": [
           {
            "marker": {
             "line": {
              "color": "#E5ECF6",
              "width": 0.5
             }
            },
            "type": "barpolar"
           }
          ],
          "carpet": [
           {
            "aaxis": {
             "endlinecolor": "#2a3f5f",
             "gridcolor": "white",
             "linecolor": "white",
             "minorgridcolor": "white",
             "startlinecolor": "#2a3f5f"
            },
            "baxis": {
             "endlinecolor": "#2a3f5f",
             "gridcolor": "white",
             "linecolor": "white",
             "minorgridcolor": "white",
             "startlinecolor": "#2a3f5f"
            },
            "type": "carpet"
           }
          ],
          "choropleth": [
           {
            "colorbar": {
             "outlinewidth": 0,
             "ticks": ""
            },
            "type": "choropleth"
           }
          ],
          "contour": [
           {
            "colorbar": {
             "outlinewidth": 0,
             "ticks": ""
            },
            "colorscale": [
             [
              0,
              "#0d0887"
             ],
             [
              0.1111111111111111,
              "#46039f"
             ],
             [
              0.2222222222222222,
              "#7201a8"
             ],
             [
              0.3333333333333333,
              "#9c179e"
             ],
             [
              0.4444444444444444,
              "#bd3786"
             ],
             [
              0.5555555555555556,
              "#d8576b"
             ],
             [
              0.6666666666666666,
              "#ed7953"
             ],
             [
              0.7777777777777778,
              "#fb9f3a"
             ],
             [
              0.8888888888888888,
              "#fdca26"
             ],
             [
              1,
              "#f0f921"
             ]
            ],
            "type": "contour"
           }
          ],
          "contourcarpet": [
           {
            "colorbar": {
             "outlinewidth": 0,
             "ticks": ""
            },
            "type": "contourcarpet"
           }
          ],
          "heatmap": [
           {
            "colorbar": {
             "outlinewidth": 0,
             "ticks": ""
            },
            "colorscale": [
             [
              0,
              "#0d0887"
             ],
             [
              0.1111111111111111,
              "#46039f"
             ],
             [
              0.2222222222222222,
              "#7201a8"
             ],
             [
              0.3333333333333333,
              "#9c179e"
             ],
             [
              0.4444444444444444,
              "#bd3786"
             ],
             [
              0.5555555555555556,
              "#d8576b"
             ],
             [
              0.6666666666666666,
              "#ed7953"
             ],
             [
              0.7777777777777778,
              "#fb9f3a"
             ],
             [
              0.8888888888888888,
              "#fdca26"
             ],
             [
              1,
              "#f0f921"
             ]
            ],
            "type": "heatmap"
           }
          ],
          "heatmapgl": [
           {
            "colorbar": {
             "outlinewidth": 0,
             "ticks": ""
            },
            "colorscale": [
             [
              0,
              "#0d0887"
             ],
             [
              0.1111111111111111,
              "#46039f"
             ],
             [
              0.2222222222222222,
              "#7201a8"
             ],
             [
              0.3333333333333333,
              "#9c179e"
             ],
             [
              0.4444444444444444,
              "#bd3786"
             ],
             [
              0.5555555555555556,
              "#d8576b"
             ],
             [
              0.6666666666666666,
              "#ed7953"
             ],
             [
              0.7777777777777778,
              "#fb9f3a"
             ],
             [
              0.8888888888888888,
              "#fdca26"
             ],
             [
              1,
              "#f0f921"
             ]
            ],
            "type": "heatmapgl"
           }
          ],
          "histogram": [
           {
            "marker": {
             "colorbar": {
              "outlinewidth": 0,
              "ticks": ""
             }
            },
            "type": "histogram"
           }
          ],
          "histogram2d": [
           {
            "colorbar": {
             "outlinewidth": 0,
             "ticks": ""
            },
            "colorscale": [
             [
              0,
              "#0d0887"
             ],
             [
              0.1111111111111111,
              "#46039f"
             ],
             [
              0.2222222222222222,
              "#7201a8"
             ],
             [
              0.3333333333333333,
              "#9c179e"
             ],
             [
              0.4444444444444444,
              "#bd3786"
             ],
             [
              0.5555555555555556,
              "#d8576b"
             ],
             [
              0.6666666666666666,
              "#ed7953"
             ],
             [
              0.7777777777777778,
              "#fb9f3a"
             ],
             [
              0.8888888888888888,
              "#fdca26"
             ],
             [
              1,
              "#f0f921"
             ]
            ],
            "type": "histogram2d"
           }
          ],
          "histogram2dcontour": [
           {
            "colorbar": {
             "outlinewidth": 0,
             "ticks": ""
            },
            "colorscale": [
             [
              0,
              "#0d0887"
             ],
             [
              0.1111111111111111,
              "#46039f"
             ],
             [
              0.2222222222222222,
              "#7201a8"
             ],
             [
              0.3333333333333333,
              "#9c179e"
             ],
             [
              0.4444444444444444,
              "#bd3786"
             ],
             [
              0.5555555555555556,
              "#d8576b"
             ],
             [
              0.6666666666666666,
              "#ed7953"
             ],
             [
              0.7777777777777778,
              "#fb9f3a"
             ],
             [
              0.8888888888888888,
              "#fdca26"
             ],
             [
              1,
              "#f0f921"
             ]
            ],
            "type": "histogram2dcontour"
           }
          ],
          "mesh3d": [
           {
            "colorbar": {
             "outlinewidth": 0,
             "ticks": ""
            },
            "type": "mesh3d"
           }
          ],
          "parcoords": [
           {
            "line": {
             "colorbar": {
              "outlinewidth": 0,
              "ticks": ""
             }
            },
            "type": "parcoords"
           }
          ],
          "pie": [
           {
            "automargin": true,
            "type": "pie"
           }
          ],
          "scatter": [
           {
            "marker": {
             "colorbar": {
              "outlinewidth": 0,
              "ticks": ""
             }
            },
            "type": "scatter"
           }
          ],
          "scatter3d": [
           {
            "line": {
             "colorbar": {
              "outlinewidth": 0,
              "ticks": ""
             }
            },
            "marker": {
             "colorbar": {
              "outlinewidth": 0,
              "ticks": ""
             }
            },
            "type": "scatter3d"
           }
          ],
          "scattercarpet": [
           {
            "marker": {
             "colorbar": {
              "outlinewidth": 0,
              "ticks": ""
             }
            },
            "type": "scattercarpet"
           }
          ],
          "scattergeo": [
           {
            "marker": {
             "colorbar": {
              "outlinewidth": 0,
              "ticks": ""
             }
            },
            "type": "scattergeo"
           }
          ],
          "scattergl": [
           {
            "marker": {
             "colorbar": {
              "outlinewidth": 0,
              "ticks": ""
             }
            },
            "type": "scattergl"
           }
          ],
          "scattermapbox": [
           {
            "marker": {
             "colorbar": {
              "outlinewidth": 0,
              "ticks": ""
             }
            },
            "type": "scattermapbox"
           }
          ],
          "scatterpolar": [
           {
            "marker": {
             "colorbar": {
              "outlinewidth": 0,
              "ticks": ""
             }
            },
            "type": "scatterpolar"
           }
          ],
          "scatterpolargl": [
           {
            "marker": {
             "colorbar": {
              "outlinewidth": 0,
              "ticks": ""
             }
            },
            "type": "scatterpolargl"
           }
          ],
          "scatterternary": [
           {
            "marker": {
             "colorbar": {
              "outlinewidth": 0,
              "ticks": ""
             }
            },
            "type": "scatterternary"
           }
          ],
          "surface": [
           {
            "colorbar": {
             "outlinewidth": 0,
             "ticks": ""
            },
            "colorscale": [
             [
              0,
              "#0d0887"
             ],
             [
              0.1111111111111111,
              "#46039f"
             ],
             [
              0.2222222222222222,
              "#7201a8"
             ],
             [
              0.3333333333333333,
              "#9c179e"
             ],
             [
              0.4444444444444444,
              "#bd3786"
             ],
             [
              0.5555555555555556,
              "#d8576b"
             ],
             [
              0.6666666666666666,
              "#ed7953"
             ],
             [
              0.7777777777777778,
              "#fb9f3a"
             ],
             [
              0.8888888888888888,
              "#fdca26"
             ],
             [
              1,
              "#f0f921"
             ]
            ],
            "type": "surface"
           }
          ],
          "table": [
           {
            "cells": {
             "fill": {
              "color": "#EBF0F8"
             },
             "line": {
              "color": "white"
             }
            },
            "header": {
             "fill": {
              "color": "#C8D4E3"
             },
             "line": {
              "color": "white"
             }
            },
            "type": "table"
           }
          ]
         },
         "layout": {
          "annotationdefaults": {
           "arrowcolor": "#2a3f5f",
           "arrowhead": 0,
           "arrowwidth": 1
          },
          "coloraxis": {
           "colorbar": {
            "outlinewidth": 0,
            "ticks": ""
           }
          },
          "colorscale": {
           "diverging": [
            [
             0,
             "#8e0152"
            ],
            [
             0.1,
             "#c51b7d"
            ],
            [
             0.2,
             "#de77ae"
            ],
            [
             0.3,
             "#f1b6da"
            ],
            [
             0.4,
             "#fde0ef"
            ],
            [
             0.5,
             "#f7f7f7"
            ],
            [
             0.6,
             "#e6f5d0"
            ],
            [
             0.7,
             "#b8e186"
            ],
            [
             0.8,
             "#7fbc41"
            ],
            [
             0.9,
             "#4d9221"
            ],
            [
             1,
             "#276419"
            ]
           ],
           "sequential": [
            [
             0,
             "#0d0887"
            ],
            [
             0.1111111111111111,
             "#46039f"
            ],
            [
             0.2222222222222222,
             "#7201a8"
            ],
            [
             0.3333333333333333,
             "#9c179e"
            ],
            [
             0.4444444444444444,
             "#bd3786"
            ],
            [
             0.5555555555555556,
             "#d8576b"
            ],
            [
             0.6666666666666666,
             "#ed7953"
            ],
            [
             0.7777777777777778,
             "#fb9f3a"
            ],
            [
             0.8888888888888888,
             "#fdca26"
            ],
            [
             1,
             "#f0f921"
            ]
           ],
           "sequentialminus": [
            [
             0,
             "#0d0887"
            ],
            [
             0.1111111111111111,
             "#46039f"
            ],
            [
             0.2222222222222222,
             "#7201a8"
            ],
            [
             0.3333333333333333,
             "#9c179e"
            ],
            [
             0.4444444444444444,
             "#bd3786"
            ],
            [
             0.5555555555555556,
             "#d8576b"
            ],
            [
             0.6666666666666666,
             "#ed7953"
            ],
            [
             0.7777777777777778,
             "#fb9f3a"
            ],
            [
             0.8888888888888888,
             "#fdca26"
            ],
            [
             1,
             "#f0f921"
            ]
           ]
          },
          "colorway": [
           "#636efa",
           "#EF553B",
           "#00cc96",
           "#ab63fa",
           "#FFA15A",
           "#19d3f3",
           "#FF6692",
           "#B6E880",
           "#FF97FF",
           "#FECB52"
          ],
          "font": {
           "color": "#2a3f5f"
          },
          "geo": {
           "bgcolor": "white",
           "lakecolor": "white",
           "landcolor": "#E5ECF6",
           "showlakes": true,
           "showland": true,
           "subunitcolor": "white"
          },
          "hoverlabel": {
           "align": "left"
          },
          "hovermode": "closest",
          "mapbox": {
           "style": "light"
          },
          "paper_bgcolor": "white",
          "plot_bgcolor": "#E5ECF6",
          "polar": {
           "angularaxis": {
            "gridcolor": "white",
            "linecolor": "white",
            "ticks": ""
           },
           "bgcolor": "#E5ECF6",
           "radialaxis": {
            "gridcolor": "white",
            "linecolor": "white",
            "ticks": ""
           }
          },
          "scene": {
           "xaxis": {
            "backgroundcolor": "#E5ECF6",
            "gridcolor": "white",
            "gridwidth": 2,
            "linecolor": "white",
            "showbackground": true,
            "ticks": "",
            "zerolinecolor": "white"
           },
           "yaxis": {
            "backgroundcolor": "#E5ECF6",
            "gridcolor": "white",
            "gridwidth": 2,
            "linecolor": "white",
            "showbackground": true,
            "ticks": "",
            "zerolinecolor": "white"
           },
           "zaxis": {
            "backgroundcolor": "#E5ECF6",
            "gridcolor": "white",
            "gridwidth": 2,
            "linecolor": "white",
            "showbackground": true,
            "ticks": "",
            "zerolinecolor": "white"
           }
          },
          "shapedefaults": {
           "line": {
            "color": "#2a3f5f"
           }
          },
          "ternary": {
           "aaxis": {
            "gridcolor": "white",
            "linecolor": "white",
            "ticks": ""
           },
           "baxis": {
            "gridcolor": "white",
            "linecolor": "white",
            "ticks": ""
           },
           "bgcolor": "#E5ECF6",
           "caxis": {
            "gridcolor": "white",
            "linecolor": "white",
            "ticks": ""
           }
          },
          "title": {
           "x": 0.05
          },
          "xaxis": {
           "automargin": true,
           "gridcolor": "white",
           "linecolor": "white",
           "ticks": "",
           "title": {
            "standoff": 15
           },
           "zerolinecolor": "white",
           "zerolinewidth": 2
          },
          "yaxis": {
           "automargin": true,
           "gridcolor": "white",
           "linecolor": "white",
           "ticks": "",
           "title": {
            "standoff": 15
           },
           "zerolinecolor": "white",
           "zerolinewidth": 2
          }
         }
        },
        "title": {
         "text": "Population Density vs. Total deaths per million"
        },
        "width": 1500,
        "xaxis": {
         "anchor": "y",
         "domain": [
          0,
          0.235
         ],
         "range": [
          -50,
          2000
         ],
         "title": {
          "text": "Population Density"
         }
        },
        "xaxis2": {
         "anchor": "y2",
         "domain": [
          0.255,
          0.49
         ],
         "matches": "x",
         "range": [
          -50,
          2000
         ],
         "title": {
          "text": "Population Density"
         }
        },
        "xaxis3": {
         "anchor": "y3",
         "domain": [
          0.51,
          0.745
         ],
         "matches": "x",
         "range": [
          -50,
          2000
         ],
         "title": {
          "text": "Population Density"
         }
        },
        "xaxis4": {
         "anchor": "y4",
         "domain": [
          0.7649999999999999,
          0.9999999999999999
         ],
         "matches": "x",
         "range": [
          -50,
          2000
         ],
         "title": {
          "text": "Population Density"
         }
        },
        "yaxis": {
         "anchor": "x",
         "domain": [
          0,
          1
         ],
         "range": [
          -2,
          700
         ],
         "title": {
          "text": "Total Deaths Per Million"
         }
        },
        "yaxis2": {
         "anchor": "x2",
         "domain": [
          0,
          1
         ],
         "matches": "y",
         "range": [
          -2,
          700
         ],
         "showticklabels": false
        },
        "yaxis3": {
         "anchor": "x3",
         "domain": [
          0,
          1
         ],
         "matches": "y",
         "range": [
          -2,
          700
         ],
         "showticklabels": false
        },
        "yaxis4": {
         "anchor": "x4",
         "domain": [
          0,
          1
         ],
         "matches": "y",
         "range": [
          -2,
          700
         ],
         "showticklabels": false
        }
       }
      },
      "text/html": [
       "<div>\n",
       "        \n",
       "        \n",
       "            <div id=\"b0cdc8a6-fde6-46d5-b17a-e99dcf9c3a61\" class=\"plotly-graph-div\" style=\"height:525px; width:1500px;\"></div>\n",
       "            <script type=\"text/javascript\">\n",
       "                require([\"plotly\"], function(Plotly) {\n",
       "                    window.PLOTLYENV=window.PLOTLYENV || {};\n",
       "                    \n",
       "                if (document.getElementById(\"b0cdc8a6-fde6-46d5-b17a-e99dcf9c3a61\")) {\n",
       "                    Plotly.newPlot(\n",
       "                        'b0cdc8a6-fde6-46d5-b17a-e99dcf9c3a61',\n",
       "                        [{\"hovertemplate\": \"<b>%{hovertext}</b><br><br>Continent=Asia<br>Country Income Level=Low income<br>Population Density=%{x}<br>Total Deaths Per Million=%{y}<extra></extra>\", \"hovertext\": [\"Afghanistan\", \"Nepal\", \"Tajikistan\"], \"legendgroup\": \"Asia\", \"marker\": {\"color\": \"#636efa\", \"symbol\": \"circle\"}, \"mode\": \"markers\", \"name\": \"Asia\", \"orientation\": \"v\", \"showlegend\": true, \"type\": \"scatter\", \"x\": [54.422, 204.43, 64.281], \"xaxis\": \"x\", \"y\": [14.925, 0.789, 5.452000000000001], \"yaxis\": \"y\"}, {\"hovertemplate\": \"<b>%{hovertext}</b><br><br>Continent=Asia<br>Country Income Level=Upper middle income<br>Population Density=%{x}<br>Total Deaths Per Million=%{y}<extra></extra>\", \"hovertext\": [\"Armenia\", \"Azerbaijan\", \"China\", \"Georgia\", \"Iraq\", \"Jordan\", \"Kazakhstan\", \"Lebanon\", \"Malaysia\", \"Maldives\", \"Sri Lanka\", \"Thailand\", \"Turkey\"], \"legendgroup\": \"Asia\", \"marker\": {\"color\": \"#636efa\", \"symbol\": \"circle\"}, \"mode\": \"markers\", \"name\": \"Asia\", \"orientation\": \"v\", \"showlegend\": false, \"type\": \"scatter\", \"x\": [102.931, 119.309, 147.674, 65.032, 88.125, 109.285, 6.681, 594.561, 96.25399999999999, 1454.433, 341.955, 135.132, 104.914], \"xaxis\": \"x2\", \"y\": [121.48899999999999, 15.189, 3.2230000000000003, 3.509, 27.348000000000003, 0.882, 6.391, 4.688, 3.738, 14.8, 0.514, 0.831, 58.692], \"yaxis\": \"y2\"}, {\"hovertemplate\": \"<b>%{hovertext}</b><br><br>Continent=Asia<br>Country Income Level=Lower middle income<br>Population Density=%{x}<br>Total Deaths Per Million=%{y}<extra></extra>\", \"hovertext\": [\"Bangladesh\", \"Bhutan\", \"Cambodia\", \"India\", \"Indonesia\", \"Mongolia\", \"Myanmar\", \"Pakistan\", \"Philippines\", \"Uzbekistan\", \"Vietnam\"], \"legendgroup\": \"Asia\", \"marker\": {\"color\": \"#636efa\", \"symbol\": \"circle\"}, \"mode\": \"markers\", \"name\": \"Asia\", \"orientation\": \"v\", \"showlegend\": false, \"type\": \"scatter\", \"x\": [1265.036, 21.188000000000002, 90.67200000000001, 450.41900000000004, 145.725, 1.98, 81.721, 255.57299999999998, 351.87300000000005, 76.134, 308.127], \"xaxis\": \"x3\", \"y\": [8.889, 0.0, 0.0, 9.927, 9.012, 0.0, 0.11, 16.252, 10.668, 0.568, 0.0], \"yaxis\": \"y3\"}, {\"hovertemplate\": \"<b>%{hovertext}</b><br><br>Continent=Asia<br>Country Income Level=High income<br>Population Density=%{x}<br>Total Deaths Per Million=%{y}<extra></extra>\", \"hovertext\": [\"Bahrain\", \"Israel\", \"Japan\", \"Kuwait\", \"Oman\", \"Qatar\", \"Saudi Arabia\", \"Singapore\", \"United Arab Emirates\"], \"legendgroup\": \"Asia\", \"marker\": {\"color\": \"#636efa\", \"symbol\": \"circle\"}, \"mode\": \"markers\", \"name\": \"Asia\", \"orientation\": \"v\", \"showlegend\": false, \"type\": \"scatter\", \"x\": [1935.9070000000002, 402.606, 347.778, 232.128, 14.98, 227.322, 15.322000000000001, 7915.731, 112.44200000000001], \"xaxis\": \"x4\", \"y\": [37.024, 35.353, 7.535, 76.337, 25.653000000000002, 34.015, 36.394, 4.444, 30.535], \"yaxis\": \"y4\"}, {\"hovertemplate\": \"<b>%{hovertext}</b><br><br>Continent=Europe<br>Country Income Level=Upper middle income<br>Population Density=%{x}<br>Total Deaths Per Million=%{y}<extra></extra>\", \"hovertext\": [\"Albania\", \"Belarus\", \"Bosnia and Herzegovina\", \"Bulgaria\", \"Montenegro\", \"Romania\", \"Serbia\"], \"legendgroup\": \"Europe\", \"marker\": {\"color\": \"#EF553B\", \"symbol\": \"circle\"}, \"mode\": \"markers\", \"name\": \"Europe\", \"orientation\": \"v\", \"showlegend\": true, \"type\": \"scatter\", \"x\": [104.87100000000001, 46.858000000000004, 68.49600000000001, 65.18, 46.28, 85.12899999999999, 80.291], \"xaxis\": \"x2\", \"y\": [15.289000000000001, 36.616, 51.512, 28.64, 14.33, 78.596, 38.356], \"yaxis\": \"y2\"}, {\"hovertemplate\": \"<b>%{hovertext}</b><br><br>Continent=Europe<br>Country Income Level=Lower middle income<br>Population Density=%{x}<br>Total Deaths Per Million=%{y}<extra></extra>\", \"hovertext\": [\"Moldova\", \"Ukraine\"], \"legendgroup\": \"Europe\", \"marker\": {\"color\": \"#EF553B\", \"symbol\": \"circle\"}, \"mode\": \"markers\", \"name\": \"Europe\", \"orientation\": \"v\", \"showlegend\": false, \"type\": \"scatter\", \"x\": [123.655, 77.39], \"xaxis\": \"x3\", \"y\": [117.25399999999999, 22.910999999999998], \"yaxis\": \"y3\"}, {\"hovertemplate\": \"<b>%{hovertext}</b><br><br>Continent=Europe<br>Country Income Level=High income<br>Population Density=%{x}<br>Total Deaths Per Million=%{y}<extra></extra>\", \"hovertext\": [\"Austria\", \"Belgium\", \"Croatia\", \"Cyprus\", \"Czech Republic\", \"Denmark\", \"Estonia\", \"Finland\", \"France\", \"Germany\", \"Greece\", \"Hungary\", \"Iceland\", \"Ireland\", \"Italy\", \"Latvia\", \"Lithuania\", \"Luxembourg\", \"Malta\", \"Netherlands\", \"Norway\", \"Poland\", \"Portugal\", \"San Marino\", \"Slovenia\", \"Spain\", \"Sweden\", \"Switzerland\", \"United Kingdom\"], \"legendgroup\": \"Europe\", \"marker\": {\"color\": \"#EF553B\", \"symbol\": \"circle\"}, \"mode\": \"markers\", \"name\": \"Europe\", \"orientation\": \"v\", \"showlegend\": false, \"type\": \"scatter\", \"x\": [106.749, 375.564, 73.726, 127.65700000000001, 137.17600000000002, 136.52, 31.033, 18.136, 122.57799999999999, 237.016, 83.479, 108.04299999999999, 3.404, 69.874, 205.859, 31.212, 45.135, 231.447, 1454.037, 508.54400000000004, 14.462, 124.027, 112.37100000000001, 556.6669999999999, 102.619, 93.105, 24.718000000000004, 214.243, 272.89799999999997], \"xaxis\": \"x4\", \"y\": [76.612, 836.6110000000001, 26.064, 21.691999999999997, 31.375999999999998, 103.588, 52.015, 58.836999999999996, 454.089, 106.04700000000001, 18.229, 59.211000000000006, 29.304000000000002, 347.32099999999997, 572.8240000000001, 15.905, 27.918000000000003, 175.726, 20.383, 355.416, 45.008, 35.829, 150.048, 1237.5510000000002, 52.431000000000004, 614.953, 500.333, 194.11599999999999, 627.994], \"yaxis\": \"y4\"}, {\"hovertemplate\": \"<b>%{hovertext}</b><br><br>Continent=Africa<br>Country Income Level=Low income<br>Population Density=%{x}<br>Total Deaths Per Million=%{y}<extra></extra>\", \"hovertext\": [\"Benin\", \"Burkina Faso\", \"Burundi\", \"Central African Republic\", \"Chad\", \"Eritrea\", \"Ethiopia\", \"Guinea\", \"Guinea-Bissau\", \"Liberia\", \"Madagascar\", \"Malawi\", \"Mali\", \"Mozambique\", \"Niger\", \"Rwanda\", \"Sierra Leone\", \"Tanzania\", \"Togo\", \"Uganda\"], \"legendgroup\": \"Africa\", \"marker\": {\"color\": \"#00cc96\", \"symbol\": \"circle\"}, \"mode\": \"markers\", \"name\": \"Africa\", \"orientation\": \"v\", \"showlegend\": true, \"type\": \"scatter\", \"x\": [99.11, 70.15100000000001, 423.06199999999995, 7.479, 11.833, 44.303999999999995, 104.95700000000001, 51.755, 66.191, 49.126999999999995, 43.951, 197.519, 15.196, 37.728, 16.955, 494.869, 104.7, 64.699, 143.366, 213.75900000000001], \"xaxis\": \"x\", \"y\": [1.072, 2.535, 0.084, 4.762, 4.505, 0.0, 0.644, 2.056, 8.638, 6.722, 0.506, 0.575, 5.481, 0.16, 2.7680000000000002, 0.154, 6.895, 0.35200000000000004, 1.57, 0.0], \"yaxis\": \"y\"}, {\"hovertemplate\": \"<b>%{hovertext}</b><br><br>Continent=Africa<br>Country Income Level=Upper middle income<br>Population Density=%{x}<br>Total Deaths Per Million=%{y}<extra></extra>\", \"hovertext\": [\"Algeria\", \"Botswana\", \"Equatorial Guinea\", \"Gabon\", \"Libya\", \"Mauritius\", \"Namibia\", \"South Africa\"], \"legendgroup\": \"Africa\", \"marker\": {\"color\": \"#00cc96\", \"symbol\": \"circle\"}, \"mode\": \"markers\", \"name\": \"Africa\", \"orientation\": \"v\", \"showlegend\": false, \"type\": \"scatter\", \"x\": [17.348, 4.044, 45.193999999999996, 7.859, 3.623, 622.962, 3.0780000000000003, 46.754], \"xaxis\": \"x2\", \"y\": [19.27, 0.425, 22.809, 15.276, 1.455, 7.8629999999999995, 0.0, 32.542], \"yaxis\": \"y2\"}, {\"hovertemplate\": \"<b>%{hovertext}</b><br><br>Continent=Africa<br>Country Income Level=Lower middle income<br>Population Density=%{x}<br>Total Deaths Per Million=%{y}<extra></extra>\", \"hovertext\": [\"Angola\", \"Cameroon\", \"Cote d'Ivoire\", \"Djibouti\", \"Ghana\", \"Kenya\", \"Lesotho\", \"Mauritania\", \"Morocco\", \"Nigeria\", \"Sao Tome and Principe\", \"Senegal\", \"Sudan\", \"Tunisia\", \"Zambia\", \"Zimbabwe\"], \"legendgroup\": \"Africa\", \"marker\": {\"color\": \"#00cc96\", \"symbol\": \"circle\"}, \"mode\": \"markers\", \"name\": \"Africa\", \"orientation\": \"v\", \"showlegend\": false, \"type\": \"scatter\", \"x\": [23.89, 50.885, 76.399, 41.285, 126.719, 87.324, 73.562, 4.289, 80.08, 209.588, 212.84099999999998, 82.32799999999999, 23.258000000000003, 74.22800000000001, 22.995, 42.729], \"xaxis\": \"x3\", \"y\": [0.27399999999999997, 11.339, 1.933, 45.54600000000001, 2.735, 2.287, 0.0, 23.228, 5.797999999999999, 2.513, 54.754, 5.0169999999999995, 11.882, 4.231, 0.598, 0.40399999999999997], \"yaxis\": \"y3\"}, {\"hovertemplate\": \"<b>%{hovertext}</b><br><br>Continent=Africa<br>Country Income Level=High income<br>Population Density=%{x}<br>Total Deaths Per Million=%{y}<extra></extra>\", \"hovertext\": [\"Seychelles\"], \"legendgroup\": \"Africa\", \"marker\": {\"color\": \"#00cc96\", \"symbol\": \"circle\"}, \"mode\": \"markers\", \"name\": \"Africa\", \"orientation\": \"v\", \"showlegend\": false, \"type\": \"scatter\", \"x\": [208.354], \"xaxis\": \"x4\", \"y\": [0.0], \"yaxis\": \"y4\"}, {\"hovertemplate\": \"<b>%{hovertext}</b><br><br>Continent=North America<br>Country Income Level=Low income<br>Population Density=%{x}<br>Total Deaths Per Million=%{y}<extra></extra>\", \"hovertext\": [\"Haiti\"], \"legendgroup\": \"North America\", \"marker\": {\"color\": \"#ab63fa\", \"symbol\": \"circle\"}, \"mode\": \"markers\", \"name\": \"North America\", \"orientation\": \"v\", \"showlegend\": true, \"type\": \"scatter\", \"x\": [398.44800000000004], \"xaxis\": \"x\", \"y\": [7.718], \"yaxis\": \"y\"}, {\"hovertemplate\": \"<b>%{hovertext}</b><br><br>Continent=North America<br>Country Income Level=Upper middle income<br>Population Density=%{x}<br>Total Deaths Per Million=%{y}<extra></extra>\", \"hovertext\": [\"Belize\", \"Costa Rica\", \"Dominica\", \"Dominican Republic\", \"Grenada\", \"Guatemala\", \"Jamaica\", \"Mexico\"], \"legendgroup\": \"North America\", \"marker\": {\"color\": \"#ab63fa\", \"symbol\": \"circle\"}, \"mode\": \"markers\", \"name\": \"North America\", \"orientation\": \"v\", \"showlegend\": false, \"type\": \"scatter\", \"x\": [16.426, 96.079, 98.56700000000001, 222.873, 317.132, 157.834, 266.879, 66.444], \"xaxis\": \"x2\", \"y\": [5.03, 2.356, 0.0, 61.026, 0.0, 29.639, 3.377, 169.274], \"yaxis\": \"y2\"}, {\"hovertemplate\": \"<b>%{hovertext}</b><br><br>Continent=North America<br>Country Income Level=Lower middle income<br>Population Density=%{x}<br>Total Deaths Per Million=%{y}<extra></extra>\", \"hovertext\": [\"El Salvador\", \"Honduras\", \"Nicaragua\"], \"legendgroup\": \"North America\", \"marker\": {\"color\": \"#ab63fa\", \"symbol\": \"circle\"}, \"mode\": \"markers\", \"name\": \"North America\", \"orientation\": \"v\", \"showlegend\": false, \"type\": \"scatter\", \"x\": [307.811, 82.805, 51.667], \"xaxis\": \"x3\", \"y\": [16.497, 36.65, 9.661], \"yaxis\": \"y3\"}, {\"hovertemplate\": \"<b>%{hovertext}</b><br><br>Continent=North America<br>Country Income Level=High income<br>Population Density=%{x}<br>Total Deaths Per Million=%{y}<extra></extra>\", \"hovertext\": [\"Antigua and Barbuda\", \"Aruba\", \"Barbados\", \"Bermuda\", \"Canada\", \"Cayman Islands\", \"Panama\", \"Puerto Rico\", \"Sint Maarten (Dutch part)\", \"Trinidad and Tobago\", \"United States\"], \"legendgroup\": \"North America\", \"marker\": {\"color\": \"#ab63fa\", \"symbol\": \"circle\"}, \"mode\": \"markers\", \"name\": \"North America\", \"orientation\": \"v\", \"showlegend\": false, \"type\": \"scatter\", \"x\": [231.845, 584.8, 664.4630000000001, 1308.82, 4.037, 256.496, 55.133, 376.23199999999997, 1209.088, 266.88599999999997, 35.608000000000004], \"xaxis\": \"x4\", \"y\": [30.635, 28.099, 24.359, 144.525, 223.358, 15.216, 116.113, 52.083, 349.79699999999997, 5.716, 362.459], \"yaxis\": \"y4\"}, {\"hovertemplate\": \"<b>%{hovertext}</b><br><br>Continent=South America<br>Country Income Level=Upper middle income<br>Population Density=%{x}<br>Total Deaths Per Million=%{y}<extra></extra>\", \"hovertext\": [\"Argentina\", \"Brazil\", \"Colombia\", \"Ecuador\", \"Guyana\", \"Paraguay\", \"Peru\", \"Suriname\"], \"legendgroup\": \"South America\", \"marker\": {\"color\": \"#FFA15A\", \"symbol\": \"circle\"}, \"mode\": \"markers\", \"name\": \"South America\", \"orientation\": \"v\", \"showlegend\": true, \"type\": \"scatter\", \"x\": [16.177, 25.04, 44.223, 66.939, 3.952, 17.144000000000002, 25.129, 3.612], \"xaxis\": \"x2\", \"y\": [22.369, 238.13099999999997, 43.964, 239.358, 15.255999999999998, 1.8230000000000002, 243.99599999999998, 13.637], \"yaxis\": \"y2\"}, {\"hovertemplate\": \"<b>%{hovertext}</b><br><br>Continent=South America<br>Country Income Level=Lower middle income<br>Population Density=%{x}<br>Total Deaths Per Million=%{y}<extra></extra>\", \"hovertext\": [\"Bolivia\"], \"legendgroup\": \"South America\", \"marker\": {\"color\": \"#FFA15A\", \"symbol\": \"circle\"}, \"mode\": \"markers\", \"name\": \"South America\", \"orientation\": \"v\", \"showlegend\": false, \"type\": \"scatter\", \"x\": [10.202], \"xaxis\": \"x3\", \"y\": [66.221], \"yaxis\": \"y3\"}, {\"hovertemplate\": \"<b>%{hovertext}</b><br><br>Continent=South America<br>Country Income Level=High income<br>Population Density=%{x}<br>Total Deaths Per Million=%{y}<extra></extra>\", \"hovertext\": [\"Chile\", \"Uruguay\"], \"legendgroup\": \"South America\", \"marker\": {\"color\": \"#FFA15A\", \"symbol\": \"circle\"}, \"mode\": \"markers\", \"name\": \"South America\", \"orientation\": \"v\", \"showlegend\": false, \"type\": \"scatter\", \"x\": [24.281999999999996, 19.750999999999998], \"xaxis\": \"x4\", \"y\": [234.304, 7.197], \"yaxis\": \"y4\"}, {\"hovertemplate\": \"<b>%{hovertext}</b><br><br>Continent=Oceania<br>Country Income Level=Upper middle income<br>Population Density=%{x}<br>Total Deaths Per Million=%{y}<extra></extra>\", \"hovertext\": [\"Fiji\"], \"legendgroup\": \"Oceania\", \"marker\": {\"color\": \"#19d3f3\", \"symbol\": \"circle\"}, \"mode\": \"markers\", \"name\": \"Oceania\", \"orientation\": \"v\", \"showlegend\": true, \"type\": \"scatter\", \"x\": [49.562], \"xaxis\": \"x2\", \"y\": [0.0], \"yaxis\": \"y2\"}, {\"hovertemplate\": \"<b>%{hovertext}</b><br><br>Continent=Oceania<br>Country Income Level=Lower middle income<br>Population Density=%{x}<br>Total Deaths Per Million=%{y}<extra></extra>\", \"hovertext\": [\"Papua New Guinea\"], \"legendgroup\": \"Oceania\", \"marker\": {\"color\": \"#19d3f3\", \"symbol\": \"circle\"}, \"mode\": \"markers\", \"name\": \"Oceania\", \"orientation\": \"v\", \"showlegend\": false, \"type\": \"scatter\", \"x\": [18.22], \"xaxis\": \"x3\", \"y\": [0.0], \"yaxis\": \"y3\"}, {\"hovertemplate\": \"<b>%{hovertext}</b><br><br>Continent=Oceania<br>Country Income Level=High income<br>Population Density=%{x}<br>Total Deaths Per Million=%{y}<extra></extra>\", \"hovertext\": [\"Australia\", \"New Zealand\"], \"legendgroup\": \"Oceania\", \"marker\": {\"color\": \"#19d3f3\", \"symbol\": \"circle\"}, \"mode\": \"markers\", \"name\": \"Oceania\", \"orientation\": \"v\", \"showlegend\": false, \"type\": \"scatter\", \"x\": [3.202, 18.206], \"xaxis\": \"x4\", \"y\": [4.0, 4.562], \"yaxis\": \"y4\"}],\n",
       "                        {\"annotations\": [{\"font\": {}, \"showarrow\": false, \"text\": \"Country Income Level=Low income\", \"x\": 0.1175, \"xanchor\": \"center\", \"xref\": \"paper\", \"y\": 1.0, \"yanchor\": \"bottom\", \"yref\": \"paper\"}, {\"font\": {}, \"showarrow\": false, \"text\": \"Country Income Level=Upper middle income\", \"x\": 0.3725, \"xanchor\": \"center\", \"xref\": \"paper\", \"y\": 1.0, \"yanchor\": \"bottom\", \"yref\": \"paper\"}, {\"font\": {}, \"showarrow\": false, \"text\": \"Country Income Level=Lower middle income\", \"x\": 0.6275, \"xanchor\": \"center\", \"xref\": \"paper\", \"y\": 1.0, \"yanchor\": \"bottom\", \"yref\": \"paper\"}, {\"font\": {}, \"showarrow\": false, \"text\": \"Country Income Level=High income\", \"x\": 0.8824999999999998, \"xanchor\": \"center\", \"xref\": \"paper\", \"y\": 1.0, \"yanchor\": \"bottom\", \"yref\": \"paper\"}], \"legend\": {\"title\": {\"text\": \"Continent\"}, \"tracegroupgap\": 0}, \"margin\": {\"t\": 60}, \"template\": {\"data\": {\"bar\": [{\"error_x\": {\"color\": \"#2a3f5f\"}, \"error_y\": {\"color\": \"#2a3f5f\"}, \"marker\": {\"line\": {\"color\": \"#E5ECF6\", \"width\": 0.5}}, \"type\": \"bar\"}], \"barpolar\": [{\"marker\": {\"line\": {\"color\": \"#E5ECF6\", \"width\": 0.5}}, \"type\": \"barpolar\"}], \"carpet\": [{\"aaxis\": {\"endlinecolor\": \"#2a3f5f\", \"gridcolor\": \"white\", \"linecolor\": \"white\", \"minorgridcolor\": \"white\", \"startlinecolor\": \"#2a3f5f\"}, \"baxis\": {\"endlinecolor\": \"#2a3f5f\", \"gridcolor\": \"white\", \"linecolor\": \"white\", \"minorgridcolor\": \"white\", \"startlinecolor\": \"#2a3f5f\"}, \"type\": \"carpet\"}], \"choropleth\": [{\"colorbar\": {\"outlinewidth\": 0, \"ticks\": \"\"}, \"type\": \"choropleth\"}], \"contour\": [{\"colorbar\": {\"outlinewidth\": 0, \"ticks\": \"\"}, \"colorscale\": [[0.0, \"#0d0887\"], [0.1111111111111111, \"#46039f\"], [0.2222222222222222, \"#7201a8\"], [0.3333333333333333, \"#9c179e\"], [0.4444444444444444, \"#bd3786\"], [0.5555555555555556, \"#d8576b\"], [0.6666666666666666, \"#ed7953\"], [0.7777777777777778, \"#fb9f3a\"], [0.8888888888888888, \"#fdca26\"], [1.0, \"#f0f921\"]], \"type\": \"contour\"}], \"contourcarpet\": [{\"colorbar\": {\"outlinewidth\": 0, \"ticks\": \"\"}, \"type\": \"contourcarpet\"}], \"heatmap\": [{\"colorbar\": {\"outlinewidth\": 0, \"ticks\": \"\"}, \"colorscale\": [[0.0, \"#0d0887\"], [0.1111111111111111, \"#46039f\"], [0.2222222222222222, \"#7201a8\"], [0.3333333333333333, \"#9c179e\"], [0.4444444444444444, \"#bd3786\"], [0.5555555555555556, \"#d8576b\"], [0.6666666666666666, \"#ed7953\"], [0.7777777777777778, \"#fb9f3a\"], [0.8888888888888888, \"#fdca26\"], [1.0, \"#f0f921\"]], \"type\": \"heatmap\"}], \"heatmapgl\": [{\"colorbar\": {\"outlinewidth\": 0, \"ticks\": \"\"}, \"colorscale\": [[0.0, \"#0d0887\"], [0.1111111111111111, \"#46039f\"], [0.2222222222222222, \"#7201a8\"], [0.3333333333333333, \"#9c179e\"], [0.4444444444444444, \"#bd3786\"], [0.5555555555555556, \"#d8576b\"], [0.6666666666666666, \"#ed7953\"], [0.7777777777777778, \"#fb9f3a\"], [0.8888888888888888, \"#fdca26\"], [1.0, \"#f0f921\"]], \"type\": \"heatmapgl\"}], \"histogram\": [{\"marker\": {\"colorbar\": {\"outlinewidth\": 0, \"ticks\": \"\"}}, \"type\": \"histogram\"}], \"histogram2d\": [{\"colorbar\": {\"outlinewidth\": 0, \"ticks\": \"\"}, \"colorscale\": [[0.0, \"#0d0887\"], [0.1111111111111111, \"#46039f\"], [0.2222222222222222, \"#7201a8\"], [0.3333333333333333, \"#9c179e\"], [0.4444444444444444, \"#bd3786\"], [0.5555555555555556, \"#d8576b\"], [0.6666666666666666, \"#ed7953\"], [0.7777777777777778, \"#fb9f3a\"], [0.8888888888888888, \"#fdca26\"], [1.0, \"#f0f921\"]], \"type\": \"histogram2d\"}], \"histogram2dcontour\": [{\"colorbar\": {\"outlinewidth\": 0, \"ticks\": \"\"}, \"colorscale\": [[0.0, \"#0d0887\"], [0.1111111111111111, \"#46039f\"], [0.2222222222222222, \"#7201a8\"], [0.3333333333333333, \"#9c179e\"], [0.4444444444444444, \"#bd3786\"], [0.5555555555555556, \"#d8576b\"], [0.6666666666666666, \"#ed7953\"], [0.7777777777777778, \"#fb9f3a\"], [0.8888888888888888, \"#fdca26\"], [1.0, \"#f0f921\"]], \"type\": \"histogram2dcontour\"}], \"mesh3d\": [{\"colorbar\": {\"outlinewidth\": 0, \"ticks\": \"\"}, \"type\": \"mesh3d\"}], \"parcoords\": [{\"line\": {\"colorbar\": {\"outlinewidth\": 0, \"ticks\": \"\"}}, \"type\": \"parcoords\"}], \"pie\": [{\"automargin\": true, \"type\": \"pie\"}], \"scatter\": [{\"marker\": {\"colorbar\": {\"outlinewidth\": 0, \"ticks\": \"\"}}, \"type\": \"scatter\"}], \"scatter3d\": [{\"line\": {\"colorbar\": {\"outlinewidth\": 0, \"ticks\": \"\"}}, \"marker\": {\"colorbar\": {\"outlinewidth\": 0, \"ticks\": \"\"}}, \"type\": \"scatter3d\"}], \"scattercarpet\": [{\"marker\": {\"colorbar\": {\"outlinewidth\": 0, \"ticks\": \"\"}}, \"type\": \"scattercarpet\"}], \"scattergeo\": [{\"marker\": {\"colorbar\": {\"outlinewidth\": 0, \"ticks\": \"\"}}, \"type\": \"scattergeo\"}], \"scattergl\": [{\"marker\": {\"colorbar\": {\"outlinewidth\": 0, \"ticks\": \"\"}}, \"type\": \"scattergl\"}], \"scattermapbox\": [{\"marker\": {\"colorbar\": {\"outlinewidth\": 0, \"ticks\": \"\"}}, \"type\": \"scattermapbox\"}], \"scatterpolar\": [{\"marker\": {\"colorbar\": {\"outlinewidth\": 0, \"ticks\": \"\"}}, \"type\": \"scatterpolar\"}], \"scatterpolargl\": [{\"marker\": {\"colorbar\": {\"outlinewidth\": 0, \"ticks\": \"\"}}, \"type\": \"scatterpolargl\"}], \"scatterternary\": [{\"marker\": {\"colorbar\": {\"outlinewidth\": 0, \"ticks\": \"\"}}, \"type\": \"scatterternary\"}], \"surface\": [{\"colorbar\": {\"outlinewidth\": 0, \"ticks\": \"\"}, \"colorscale\": [[0.0, \"#0d0887\"], [0.1111111111111111, \"#46039f\"], [0.2222222222222222, \"#7201a8\"], [0.3333333333333333, \"#9c179e\"], [0.4444444444444444, \"#bd3786\"], [0.5555555555555556, \"#d8576b\"], [0.6666666666666666, \"#ed7953\"], [0.7777777777777778, \"#fb9f3a\"], [0.8888888888888888, \"#fdca26\"], [1.0, \"#f0f921\"]], \"type\": \"surface\"}], \"table\": [{\"cells\": {\"fill\": {\"color\": \"#EBF0F8\"}, \"line\": {\"color\": \"white\"}}, \"header\": {\"fill\": {\"color\": \"#C8D4E3\"}, \"line\": {\"color\": \"white\"}}, \"type\": \"table\"}]}, \"layout\": {\"annotationdefaults\": {\"arrowcolor\": \"#2a3f5f\", \"arrowhead\": 0, \"arrowwidth\": 1}, \"coloraxis\": {\"colorbar\": {\"outlinewidth\": 0, \"ticks\": \"\"}}, \"colorscale\": {\"diverging\": [[0, \"#8e0152\"], [0.1, \"#c51b7d\"], [0.2, \"#de77ae\"], [0.3, \"#f1b6da\"], [0.4, \"#fde0ef\"], [0.5, \"#f7f7f7\"], [0.6, \"#e6f5d0\"], [0.7, \"#b8e186\"], [0.8, \"#7fbc41\"], [0.9, \"#4d9221\"], [1, \"#276419\"]], \"sequential\": [[0.0, \"#0d0887\"], [0.1111111111111111, \"#46039f\"], [0.2222222222222222, \"#7201a8\"], [0.3333333333333333, \"#9c179e\"], [0.4444444444444444, \"#bd3786\"], [0.5555555555555556, \"#d8576b\"], [0.6666666666666666, \"#ed7953\"], [0.7777777777777778, \"#fb9f3a\"], [0.8888888888888888, \"#fdca26\"], [1.0, \"#f0f921\"]], \"sequentialminus\": [[0.0, \"#0d0887\"], [0.1111111111111111, \"#46039f\"], [0.2222222222222222, \"#7201a8\"], [0.3333333333333333, \"#9c179e\"], [0.4444444444444444, \"#bd3786\"], [0.5555555555555556, \"#d8576b\"], [0.6666666666666666, \"#ed7953\"], [0.7777777777777778, \"#fb9f3a\"], [0.8888888888888888, \"#fdca26\"], [1.0, \"#f0f921\"]]}, \"colorway\": [\"#636efa\", \"#EF553B\", \"#00cc96\", \"#ab63fa\", \"#FFA15A\", \"#19d3f3\", \"#FF6692\", \"#B6E880\", \"#FF97FF\", \"#FECB52\"], \"font\": {\"color\": \"#2a3f5f\"}, \"geo\": {\"bgcolor\": \"white\", \"lakecolor\": \"white\", \"landcolor\": \"#E5ECF6\", \"showlakes\": true, \"showland\": true, \"subunitcolor\": \"white\"}, \"hoverlabel\": {\"align\": \"left\"}, \"hovermode\": \"closest\", \"mapbox\": {\"style\": \"light\"}, \"paper_bgcolor\": \"white\", \"plot_bgcolor\": \"#E5ECF6\", \"polar\": {\"angularaxis\": {\"gridcolor\": \"white\", \"linecolor\": \"white\", \"ticks\": \"\"}, \"bgcolor\": \"#E5ECF6\", \"radialaxis\": {\"gridcolor\": \"white\", \"linecolor\": \"white\", \"ticks\": \"\"}}, \"scene\": {\"xaxis\": {\"backgroundcolor\": \"#E5ECF6\", \"gridcolor\": \"white\", \"gridwidth\": 2, \"linecolor\": \"white\", \"showbackground\": true, \"ticks\": \"\", \"zerolinecolor\": \"white\"}, \"yaxis\": {\"backgroundcolor\": \"#E5ECF6\", \"gridcolor\": \"white\", \"gridwidth\": 2, \"linecolor\": \"white\", \"showbackground\": true, \"ticks\": \"\", \"zerolinecolor\": \"white\"}, \"zaxis\": {\"backgroundcolor\": \"#E5ECF6\", \"gridcolor\": \"white\", \"gridwidth\": 2, \"linecolor\": \"white\", \"showbackground\": true, \"ticks\": \"\", \"zerolinecolor\": \"white\"}}, \"shapedefaults\": {\"line\": {\"color\": \"#2a3f5f\"}}, \"ternary\": {\"aaxis\": {\"gridcolor\": \"white\", \"linecolor\": \"white\", \"ticks\": \"\"}, \"baxis\": {\"gridcolor\": \"white\", \"linecolor\": \"white\", \"ticks\": \"\"}, \"bgcolor\": \"#E5ECF6\", \"caxis\": {\"gridcolor\": \"white\", \"linecolor\": \"white\", \"ticks\": \"\"}}, \"title\": {\"x\": 0.05}, \"xaxis\": {\"automargin\": true, \"gridcolor\": \"white\", \"linecolor\": \"white\", \"ticks\": \"\", \"title\": {\"standoff\": 15}, \"zerolinecolor\": \"white\", \"zerolinewidth\": 2}, \"yaxis\": {\"automargin\": true, \"gridcolor\": \"white\", \"linecolor\": \"white\", \"ticks\": \"\", \"title\": {\"standoff\": 15}, \"zerolinecolor\": \"white\", \"zerolinewidth\": 2}}}, \"title\": {\"text\": \"Population Density vs. Total deaths per million\"}, \"width\": 1500, \"xaxis\": {\"anchor\": \"y\", \"domain\": [0.0, 0.235], \"range\": [-50, 2000], \"title\": {\"text\": \"Population Density\"}}, \"xaxis2\": {\"anchor\": \"y2\", \"domain\": [0.255, 0.49], \"matches\": \"x\", \"range\": [-50, 2000], \"title\": {\"text\": \"Population Density\"}}, \"xaxis3\": {\"anchor\": \"y3\", \"domain\": [0.51, 0.745], \"matches\": \"x\", \"range\": [-50, 2000], \"title\": {\"text\": \"Population Density\"}}, \"xaxis4\": {\"anchor\": \"y4\", \"domain\": [0.7649999999999999, 0.9999999999999999], \"matches\": \"x\", \"range\": [-50, 2000], \"title\": {\"text\": \"Population Density\"}}, \"yaxis\": {\"anchor\": \"x\", \"domain\": [0.0, 1.0], \"range\": [-2, 700], \"title\": {\"text\": \"Total Deaths Per Million\"}}, \"yaxis2\": {\"anchor\": \"x2\", \"domain\": [0.0, 1.0], \"matches\": \"y\", \"range\": [-2, 700], \"showticklabels\": false}, \"yaxis3\": {\"anchor\": \"x3\", \"domain\": [0.0, 1.0], \"matches\": \"y\", \"range\": [-2, 700], \"showticklabels\": false}, \"yaxis4\": {\"anchor\": \"x4\", \"domain\": [0.0, 1.0], \"matches\": \"y\", \"range\": [-2, 700], \"showticklabels\": false}},\n",
       "                        {\"responsive\": true}\n",
       "                    ).then(function(){\n",
       "                            \n",
       "var gd = document.getElementById('b0cdc8a6-fde6-46d5-b17a-e99dcf9c3a61');\n",
       "var x = new MutationObserver(function (mutations, observer) {{\n",
       "        var display = window.getComputedStyle(gd).display;\n",
       "        if (!display || display === 'none') {{\n",
       "            console.log([gd, 'removed!']);\n",
       "            Plotly.purge(gd);\n",
       "            observer.disconnect();\n",
       "        }}\n",
       "}});\n",
       "\n",
       "// Listen for the removal of the full notebook cells\n",
       "var notebookContainer = gd.closest('#notebook-container');\n",
       "if (notebookContainer) {{\n",
       "    x.observe(notebookContainer, {childList: true});\n",
       "}}\n",
       "\n",
       "// Listen for the clearing of the current output cell\n",
       "var outputEl = gd.closest('.output');\n",
       "if (outputEl) {{\n",
       "    x.observe(outputEl, {childList: true});\n",
       "}}\n",
       "\n",
       "                        })\n",
       "                };\n",
       "                });\n",
       "            </script>\n",
       "        </div>"
      ]
     },
     "metadata": {},
     "output_type": "display_data"
    }
   ],
   "source": [
    "sns.set()\n",
    "flatui = [\"#9b59b6\", \"#3498db\", \"#95a5a6\", \"#e74c3c\", \"#34495e\", \"#2ecc71\"]\n",
    "\n",
    "with sns.color_palette(flatui):\n",
    "    sns.scatterplot(max_combined_country_clean[\"Population Density\"],max_combined_country_clean[\"Total Deaths Per Million\"], \n",
    "                    hue=max_combined_country_clean[\"Country Income Level\"],alpha = 1, \n",
    "                    #hue_order=[\"Low Income\", \"Lower middle income\",\"Upper middle income\",\"High income\"] \n",
    "                   )\n",
    "    plt.ylim(-50, 850)\n",
    "    plt.xlim(-50,2000)\n",
    "    plt.title(\"Population Density vs. Total deaths per million\")\n",
    "    plt.xlabel(\"Population Density\")\n",
    "    plt.ylabel(\"Deaths per million\")\n",
    "    plt.show()\n",
    "#How does population density affect Deaths per million? are lower income countries more susceptible?\n",
    "fig = px.scatter(max_combined_country_clean,x='Population Density',y='Total Deaths Per Million'\n",
    "                 ,facet_col= 'Country Income Level'\n",
    "                , hover_name= \"Country\",color= \"Continent\", width = 1500)\n",
    "fig.update_layout(title=\"Population Density vs. Total deaths per million\", )\n",
    "fig.update_yaxes(range=[-2, 700])\n",
    "fig.update_xaxes(range=[-50, 2000])\n",
    "fig.show()\n",
    "\n"
   ]
  },
  {
   "cell_type": "code",
   "execution_count": 40,
   "metadata": {},
   "outputs": [
    {
     "name": "stdout",
     "output_type": "stream",
     "text": [
      "Correlation: 0.021\n"
     ]
    },
    {
     "data": {
      "application/vnd.plotly.v1+json": {
       "config": {
        "plotlyServerURL": "https://plot.ly"
       },
       "data": [
        {
         "hovertemplate": "<b>%{hovertext}</b><br><br>GDP Per Capita=%{x}<br>Total Deaths Per Million=%{y}<extra></extra>",
         "hovertext": [
          "Afghanistan",
          "Albania",
          "Algeria",
          "Angola",
          "Antigua and Barbuda",
          "Argentina",
          "Armenia",
          "Aruba",
          "Australia",
          "Austria",
          "Azerbaijan",
          "Bahrain",
          "Bangladesh",
          "Barbados",
          "Belarus",
          "Belgium",
          "Belize",
          "Benin",
          "Bermuda",
          "Bhutan",
          "Bolivia",
          "Bosnia and Herzegovina",
          "Botswana",
          "Brazil",
          "Bulgaria",
          "Burkina Faso",
          "Burundi",
          "Cambodia",
          "Cameroon",
          "Canada",
          "Cayman Islands",
          "Central African Republic",
          "Chad",
          "Chile",
          "China",
          "Colombia",
          "Costa Rica",
          "Cote d'Ivoire",
          "Croatia",
          "Cyprus",
          "Czech Republic",
          "Denmark",
          "Djibouti",
          "Dominica",
          "Dominican Republic",
          "Ecuador",
          "El Salvador",
          "Equatorial Guinea",
          "Eritrea",
          "Estonia",
          "Ethiopia",
          "Fiji",
          "Finland",
          "France",
          "Gabon",
          "Georgia",
          "Germany",
          "Ghana",
          "Greece",
          "Grenada",
          "Guatemala",
          "Guinea",
          "Guinea-Bissau",
          "Guyana",
          "Haiti",
          "Honduras",
          "Hungary",
          "Iceland",
          "India",
          "Indonesia",
          "Iraq",
          "Ireland",
          "Israel",
          "Italy",
          "Jamaica",
          "Japan",
          "Jordan",
          "Kazakhstan",
          "Kenya",
          "Kuwait",
          "Latvia",
          "Lebanon",
          "Lesotho",
          "Liberia",
          "Libya",
          "Lithuania",
          "Luxembourg",
          "Madagascar",
          "Malawi",
          "Malaysia",
          "Maldives",
          "Mali",
          "Malta",
          "Mauritania",
          "Mauritius",
          "Mexico",
          "Moldova",
          "Mongolia",
          "Montenegro",
          "Morocco",
          "Mozambique",
          "Myanmar",
          "Namibia",
          "Nepal",
          "Netherlands",
          "New Zealand",
          "Nicaragua",
          "Niger",
          "Nigeria",
          "Norway",
          "Oman",
          "Pakistan",
          "Panama",
          "Papua New Guinea",
          "Paraguay",
          "Peru",
          "Philippines",
          "Poland",
          "Portugal",
          "Puerto Rico",
          "Qatar",
          "Romania",
          "Rwanda",
          "San Marino",
          "Sao Tome and Principe",
          "Saudi Arabia",
          "Senegal",
          "Serbia",
          "Seychelles",
          "Sierra Leone",
          "Singapore",
          "Sint Maarten (Dutch part)",
          "Slovenia",
          "South Africa",
          "Spain",
          "Sri Lanka",
          "Sudan",
          "Suriname",
          "Sweden",
          "Switzerland",
          "Tajikistan",
          "Tanzania",
          "Thailand",
          "Togo",
          "Trinidad and Tobago",
          "Tunisia",
          "Turkey",
          "Uganda",
          "Ukraine",
          "United Arab Emirates",
          "United Kingdom",
          "United States",
          "Uruguay",
          "Uzbekistan",
          "Vietnam",
          "Zambia",
          "Zimbabwe"
         ],
         "legendgroup": "",
         "marker": {
          "color": "#636efa",
          "symbol": "circle"
         },
         "mode": "markers",
         "name": "",
         "orientation": "v",
         "showlegend": false,
         "type": "scatter",
         "x": [
          1803.987,
          11803.431,
          13913.839,
          5819.495,
          21490.943,
          18933.907,
          8787.58,
          35973.781,
          44648.71,
          45436.685999999994,
          15847.419,
          43290.705,
          3523.9840000000004,
          16978.068,
          17167.967,
          42658.575999999994,
          7824.361999999999,
          2064.236,
          50669.315,
          8708.597,
          6885.829000000001,
          11713.895,
          15807.374,
          14103.452,
          18563.307,
          1703.102,
          702.225,
          3645.07,
          3364.926,
          44017.59099999999,
          49903.029,
          661.24,
          1768.1529999999998,
          22767.037,
          15308.712,
          13254.948999999999,
          15524.995,
          3601.006,
          22669.797000000002,
          32415.132,
          32605.906000000003,
          46682.515,
          2705.406,
          9673.367,
          14600.861,
          10581.936000000002,
          7292.4580000000005,
          22604.873,
          1510.4589999999998,
          29481.252,
          1729.9270000000001,
          8702.975,
          40585.721,
          38605.671,
          16562.413,
          9745.079,
          45229.245,
          4227.63,
          24574.382,
          13593.877,
          7423.808000000001,
          1998.9260000000002,
          1548.675,
          7435.047,
          1653.1729999999998,
          4541.795,
          26777.561,
          46482.958,
          6426.674,
          11188.743999999999,
          15663.986,
          67335.293,
          33132.32,
          35220.084,
          8193.571,
          39002.223,
          8337.49,
          24055.588,
          2993.028,
          65530.537000000004,
          25063.846,
          13367.565,
          2851.153,
          752.788,
          17881.509,
          29524.265,
          94277.965,
          1416.44,
          1095.042,
          26808.164,
          15183.616000000002,
          2014.306,
          36513.323,
          3597.633,
          20292.745,
          17336.468999999997,
          5189.972,
          11840.846000000001,
          16409.288,
          7485.013000000001,
          1136.103,
          5591.597,
          9541.808,
          2442.804,
          48472.545,
          36085.843,
          5321.444,
          926,
          5338.454000000001,
          64800.057,
          37960.709,
          5034.708,
          22267.037,
          3823.1940000000004,
          8827.01,
          12236.706,
          7599.188,
          27216.445,
          27936.896,
          35044.67,
          116935.6,
          23313.199,
          1854.211,
          56861.47,
          3052.7140000000004,
          49045.41099999999,
          2470.58,
          14048.881000000001,
          26382.287,
          1390.3,
          85535.383,
          36327.232,
          31400.84,
          12294.876,
          34272.36,
          11669.077,
          4466.5070000000005,
          13767.118999999999,
          46949.282999999996,
          57410.166,
          2896.913,
          2683.304,
          16277.671,
          1429.8129999999999,
          28763.071,
          10849.296999999999,
          25129.341,
          1697.707,
          7894.393,
          67293.483,
          39753.244,
          54225.445999999996,
          20551.409,
          6253.104,
          6171.884,
          3689.2509999999997,
          1899.775
         ],
         "xaxis": "x",
         "y": [
          14.925,
          15.289000000000001,
          19.27,
          0.27399999999999997,
          30.635,
          22.369,
          121.48899999999999,
          28.099,
          4,
          76.612,
          15.189,
          37.024,
          8.889,
          24.359,
          36.616,
          836.6110000000001,
          5.03,
          1.072,
          144.525,
          0,
          66.221,
          51.512,
          0.425,
          238.13099999999997,
          28.64,
          2.535,
          0.084,
          0,
          11.339,
          223.358,
          15.216,
          4.762,
          4.505,
          234.304,
          3.2230000000000003,
          43.964,
          2.356,
          1.933,
          26.064,
          21.691999999999997,
          31.375999999999998,
          103.588,
          45.54600000000001,
          0,
          61.026,
          239.358,
          16.497,
          22.809,
          0,
          52.015,
          0.644,
          0,
          58.836999999999996,
          454.089,
          15.276,
          3.509,
          106.04700000000001,
          2.735,
          18.229,
          0,
          29.639,
          2.056,
          8.638,
          15.255999999999998,
          7.718,
          36.65,
          59.211000000000006,
          29.304000000000002,
          9.927,
          9.012,
          27.348000000000003,
          347.32099999999997,
          35.353,
          572.8240000000001,
          3.377,
          7.535,
          0.882,
          6.391,
          2.287,
          76.337,
          15.905,
          4.688,
          0,
          6.722,
          1.455,
          27.918000000000003,
          175.726,
          0.506,
          0.575,
          3.738,
          14.8,
          5.481,
          20.383,
          23.228,
          7.8629999999999995,
          169.274,
          117.25399999999999,
          0,
          14.33,
          5.797999999999999,
          0.16,
          0.11,
          0,
          0.789,
          355.416,
          4.562,
          9.661,
          2.7680000000000002,
          2.513,
          45.008,
          25.653000000000002,
          16.252,
          116.113,
          0,
          1.8230000000000002,
          243.99599999999998,
          10.668,
          35.829,
          150.048,
          52.083,
          34.015,
          78.596,
          0.154,
          1237.5510000000002,
          54.754,
          36.394,
          5.0169999999999995,
          38.356,
          0,
          6.895,
          4.444,
          349.79699999999997,
          52.431000000000004,
          32.542,
          614.953,
          0.514,
          11.882,
          13.637,
          500.333,
          194.11599999999999,
          5.452000000000001,
          0.35200000000000004,
          0.831,
          1.57,
          5.716,
          4.231,
          58.692,
          0,
          22.910999999999998,
          30.535,
          627.994,
          362.459,
          7.197,
          0.568,
          0,
          0.598,
          0.40399999999999997
         ],
         "yaxis": "y"
        },
        {
         "hovertemplate": "<b>OLS trendline</b><br>Total Deaths Per Million = 0.00317249 * GDP Per Capita + 6.46983<br>R<sup>2</sup>=0.156579<br><br>GDP Per Capita=%{x}<br>Total Deaths Per Million=%{y} <b>(trend)</b><extra></extra>",
         "legendgroup": "",
         "marker": {
          "color": "#636efa",
          "symbol": "circle"
         },
         "mode": "lines",
         "name": "",
         "showlegend": false,
         "type": "scatter",
         "x": [
          661.24,
          702.225,
          752.788,
          926,
          1095.042,
          1136.103,
          1390.3,
          1416.44,
          1429.8129999999999,
          1510.4589999999998,
          1548.675,
          1653.1729999999998,
          1697.707,
          1703.102,
          1729.9270000000001,
          1768.1529999999998,
          1803.987,
          1854.211,
          1899.775,
          1998.9260000000002,
          2014.306,
          2064.236,
          2442.804,
          2470.58,
          2683.304,
          2705.406,
          2851.153,
          2896.913,
          2993.028,
          3052.7140000000004,
          3364.926,
          3523.9840000000004,
          3597.633,
          3601.006,
          3645.07,
          3689.2509999999997,
          3823.1940000000004,
          4227.63,
          4466.5070000000005,
          4541.795,
          5034.708,
          5189.972,
          5321.444,
          5338.454000000001,
          5591.597,
          5819.495,
          6171.884,
          6253.104,
          6426.674,
          6885.829000000001,
          7292.4580000000005,
          7423.808000000001,
          7435.047,
          7485.013000000001,
          7599.188,
          7824.361999999999,
          7894.393,
          8193.571,
          8337.49,
          8702.975,
          8708.597,
          8787.58,
          8827.01,
          9541.808,
          9673.367,
          9745.079,
          10581.936000000002,
          10849.296999999999,
          11188.743999999999,
          11669.077,
          11713.895,
          11803.431,
          11840.846000000001,
          12236.706,
          12294.876,
          13254.948999999999,
          13367.565,
          13593.877,
          13767.118999999999,
          13913.839,
          14048.881000000001,
          14103.452,
          14600.861,
          15183.616000000002,
          15308.712,
          15524.995,
          15663.986,
          15807.374,
          15847.419,
          16277.671,
          16409.288,
          16562.413,
          16978.068,
          17167.967,
          17336.468999999997,
          17881.509,
          18563.307,
          18933.907,
          20292.745,
          20551.409,
          21490.943,
          22267.037,
          22604.873,
          22669.797000000002,
          22767.037,
          23313.199,
          24055.588,
          24574.382,
          25063.846,
          25129.341,
          26382.287,
          26777.561,
          26808.164,
          27216.445,
          27936.896,
          28763.071,
          29481.252,
          29524.265,
          31400.84,
          32415.132,
          32605.906000000003,
          33132.32,
          34272.36,
          35044.67,
          35220.084,
          35973.781,
          36085.843,
          36327.232,
          36513.323,
          37960.709,
          38605.671,
          39002.223,
          39753.244,
          40585.721,
          42658.575999999994,
          43290.705,
          44017.59099999999,
          44648.71,
          45229.245,
          45436.685999999994,
          46482.958,
          46682.515,
          46949.282999999996,
          48472.545,
          49045.41099999999,
          49903.029,
          50669.315,
          54225.445999999996,
          56861.47,
          57410.166,
          64800.057,
          65530.537000000004,
          67293.483,
          67335.293,
          85535.383,
          94277.965,
          116935.6
         ],
         "xaxis": "x",
         "y": [
          8.567609349373805,
          8.697634037290843,
          8.858044877723907,
          9.407558998584854,
          9.943843817295889,
          10.074109614796473,
          10.880548204388937,
          10.9634772111512,
          11.005902980372001,
          11.261751973461116,
          11.382992024051273,
          11.714511356440061,
          11.855795227409864,
          11.872910835347216,
          11.958013000855928,
          12.079284776391287,
          12.192967945033939,
          12.3523033098246,
          12.496854850150376,
          12.81141085433879,
          12.860203820061958,
          13.018606471463633,
          14.219611377048041,
          14.307730584845617,
          14.982596309195106,
          15.052714783084147,
          15.51509634194335,
          15.660269691195117,
          15.965194002019711,
          16.15454750996204,
          17.145038369153305,
          17.64964900257305,
          17.883300051503188,
          17.89400087552037,
          18.033793674065603,
          18.173957654469717,
          18.598891088010568,
          19.881962081847696,
          20.63979805538822,
          20.87864882283723,
          22.442412614352435,
          22.93498680356192,
          23.352081003142956,
          23.406045134934317,
          24.209139915302316,
          24.932145071503776,
          26.05009724303963,
          26.307767247983435,
          26.858417121882667,
          28.31508384337949,
          29.605112117699775,
          30.02181927294933,
          30.057474938863677,
          30.21599180006809,
          30.57821136193042,
          31.29257464305841,
          31.514747606813884,
          32.463888172426756,
          32.92047041130274,
          34.07996957107725,
          34.09780533527072,
          34.348378469972474,
          34.47346992891035,
          36.74116266707608,
          37.158532873680386,
          37.386038800724585,
          40.04096304755119,
          40.88916435500968,
          41.96605810246301,
          43.48991191291206,
          43.63209677232565,
          43.916149241700786,
          44.03484812418013,
          45.29071180501064,
          45.47525581126009,
          48.52108214290761,
          48.87835578581271,
          49.596329365704875,
          50.14593866140142,
          50.61140705742894,
          51.03982706244768,
          51.21295326091835,
          52.7909805877971,
          54.639767632010674,
          55.03663400652987,
          55.722790638877335,
          56.16373882475697,
          56.618636469042634,
          56.745679012110536,
          58.11065112448533,
          58.52820533577182,
          59.013993559202255,
          60.33265676906333,
          60.93511030598555,
          61.46968197765558,
          63.198818391033704,
          65.3618188100275,
          66.53754527927366,
          70.84845138833333,
          71.66906151094825,
          74.64972797764206,
          77.1118819399279,
          78.18366479870892,
          78.38963583294891,
          78.69812920010891,
          80.43082515233887,
          82.7860501868159,
          84.43192130901261,
          85.98474316692707,
          86.19252569553818,
          90.16749001484769,
          91.42149461388927,
          91.5185824636959,
          92.81385169896383,
          95.09947854865317,
          97.72051420901326,
          99.99893949614136,
          100.13539800294569,
          106.08882190749405,
          109.30665771954108,
          109.91188718916864,
          111.58193271961048,
          115.19870337260399,
          117.64885261562478,
          118.20535256941956,
          120.59645217193285,
          120.95196825287366,
          121.71777353264933,
          122.308146210438,
          126.89997036428672,
          128.94610877512847,
          130.20416782216705,
          132.58677782934384,
          135.22780655017124,
          141.80392767917624,
          143.80935346783818,
          146.115395319766,
          148.1176168889624,
          149.95936099534077,
          150.61746643113915,
          153.9367586179474,
          154.56985210694728,
          155.41617212515519,
          160.24871247323088,
          162.06612671913257,
          164.78691512469643,
          167.21795326072657,
          178.49975937191604,
          186.86253106745883,
          188.60326612080337,
          212.04765482437597,
          214.36509862161003,
          219.95803514630413,
          220.0906771422005,
          277.830362937296,
          305.5661564261116,
          377.44737930797424
         ],
         "yaxis": "y"
        }
       ],
       "layout": {
        "legend": {
         "tracegroupgap": 0
        },
        "margin": {
         "t": 60
        },
        "template": {
         "data": {
          "bar": [
           {
            "error_x": {
             "color": "#2a3f5f"
            },
            "error_y": {
             "color": "#2a3f5f"
            },
            "marker": {
             "line": {
              "color": "#E5ECF6",
              "width": 0.5
             }
            },
            "type": "bar"
           }
          ],
          "barpolar": [
           {
            "marker": {
             "line": {
              "color": "#E5ECF6",
              "width": 0.5
             }
            },
            "type": "barpolar"
           }
          ],
          "carpet": [
           {
            "aaxis": {
             "endlinecolor": "#2a3f5f",
             "gridcolor": "white",
             "linecolor": "white",
             "minorgridcolor": "white",
             "startlinecolor": "#2a3f5f"
            },
            "baxis": {
             "endlinecolor": "#2a3f5f",
             "gridcolor": "white",
             "linecolor": "white",
             "minorgridcolor": "white",
             "startlinecolor": "#2a3f5f"
            },
            "type": "carpet"
           }
          ],
          "choropleth": [
           {
            "colorbar": {
             "outlinewidth": 0,
             "ticks": ""
            },
            "type": "choropleth"
           }
          ],
          "contour": [
           {
            "colorbar": {
             "outlinewidth": 0,
             "ticks": ""
            },
            "colorscale": [
             [
              0,
              "#0d0887"
             ],
             [
              0.1111111111111111,
              "#46039f"
             ],
             [
              0.2222222222222222,
              "#7201a8"
             ],
             [
              0.3333333333333333,
              "#9c179e"
             ],
             [
              0.4444444444444444,
              "#bd3786"
             ],
             [
              0.5555555555555556,
              "#d8576b"
             ],
             [
              0.6666666666666666,
              "#ed7953"
             ],
             [
              0.7777777777777778,
              "#fb9f3a"
             ],
             [
              0.8888888888888888,
              "#fdca26"
             ],
             [
              1,
              "#f0f921"
             ]
            ],
            "type": "contour"
           }
          ],
          "contourcarpet": [
           {
            "colorbar": {
             "outlinewidth": 0,
             "ticks": ""
            },
            "type": "contourcarpet"
           }
          ],
          "heatmap": [
           {
            "colorbar": {
             "outlinewidth": 0,
             "ticks": ""
            },
            "colorscale": [
             [
              0,
              "#0d0887"
             ],
             [
              0.1111111111111111,
              "#46039f"
             ],
             [
              0.2222222222222222,
              "#7201a8"
             ],
             [
              0.3333333333333333,
              "#9c179e"
             ],
             [
              0.4444444444444444,
              "#bd3786"
             ],
             [
              0.5555555555555556,
              "#d8576b"
             ],
             [
              0.6666666666666666,
              "#ed7953"
             ],
             [
              0.7777777777777778,
              "#fb9f3a"
             ],
             [
              0.8888888888888888,
              "#fdca26"
             ],
             [
              1,
              "#f0f921"
             ]
            ],
            "type": "heatmap"
           }
          ],
          "heatmapgl": [
           {
            "colorbar": {
             "outlinewidth": 0,
             "ticks": ""
            },
            "colorscale": [
             [
              0,
              "#0d0887"
             ],
             [
              0.1111111111111111,
              "#46039f"
             ],
             [
              0.2222222222222222,
              "#7201a8"
             ],
             [
              0.3333333333333333,
              "#9c179e"
             ],
             [
              0.4444444444444444,
              "#bd3786"
             ],
             [
              0.5555555555555556,
              "#d8576b"
             ],
             [
              0.6666666666666666,
              "#ed7953"
             ],
             [
              0.7777777777777778,
              "#fb9f3a"
             ],
             [
              0.8888888888888888,
              "#fdca26"
             ],
             [
              1,
              "#f0f921"
             ]
            ],
            "type": "heatmapgl"
           }
          ],
          "histogram": [
           {
            "marker": {
             "colorbar": {
              "outlinewidth": 0,
              "ticks": ""
             }
            },
            "type": "histogram"
           }
          ],
          "histogram2d": [
           {
            "colorbar": {
             "outlinewidth": 0,
             "ticks": ""
            },
            "colorscale": [
             [
              0,
              "#0d0887"
             ],
             [
              0.1111111111111111,
              "#46039f"
             ],
             [
              0.2222222222222222,
              "#7201a8"
             ],
             [
              0.3333333333333333,
              "#9c179e"
             ],
             [
              0.4444444444444444,
              "#bd3786"
             ],
             [
              0.5555555555555556,
              "#d8576b"
             ],
             [
              0.6666666666666666,
              "#ed7953"
             ],
             [
              0.7777777777777778,
              "#fb9f3a"
             ],
             [
              0.8888888888888888,
              "#fdca26"
             ],
             [
              1,
              "#f0f921"
             ]
            ],
            "type": "histogram2d"
           }
          ],
          "histogram2dcontour": [
           {
            "colorbar": {
             "outlinewidth": 0,
             "ticks": ""
            },
            "colorscale": [
             [
              0,
              "#0d0887"
             ],
             [
              0.1111111111111111,
              "#46039f"
             ],
             [
              0.2222222222222222,
              "#7201a8"
             ],
             [
              0.3333333333333333,
              "#9c179e"
             ],
             [
              0.4444444444444444,
              "#bd3786"
             ],
             [
              0.5555555555555556,
              "#d8576b"
             ],
             [
              0.6666666666666666,
              "#ed7953"
             ],
             [
              0.7777777777777778,
              "#fb9f3a"
             ],
             [
              0.8888888888888888,
              "#fdca26"
             ],
             [
              1,
              "#f0f921"
             ]
            ],
            "type": "histogram2dcontour"
           }
          ],
          "mesh3d": [
           {
            "colorbar": {
             "outlinewidth": 0,
             "ticks": ""
            },
            "type": "mesh3d"
           }
          ],
          "parcoords": [
           {
            "line": {
             "colorbar": {
              "outlinewidth": 0,
              "ticks": ""
             }
            },
            "type": "parcoords"
           }
          ],
          "pie": [
           {
            "automargin": true,
            "type": "pie"
           }
          ],
          "scatter": [
           {
            "marker": {
             "colorbar": {
              "outlinewidth": 0,
              "ticks": ""
             }
            },
            "type": "scatter"
           }
          ],
          "scatter3d": [
           {
            "line": {
             "colorbar": {
              "outlinewidth": 0,
              "ticks": ""
             }
            },
            "marker": {
             "colorbar": {
              "outlinewidth": 0,
              "ticks": ""
             }
            },
            "type": "scatter3d"
           }
          ],
          "scattercarpet": [
           {
            "marker": {
             "colorbar": {
              "outlinewidth": 0,
              "ticks": ""
             }
            },
            "type": "scattercarpet"
           }
          ],
          "scattergeo": [
           {
            "marker": {
             "colorbar": {
              "outlinewidth": 0,
              "ticks": ""
             }
            },
            "type": "scattergeo"
           }
          ],
          "scattergl": [
           {
            "marker": {
             "colorbar": {
              "outlinewidth": 0,
              "ticks": ""
             }
            },
            "type": "scattergl"
           }
          ],
          "scattermapbox": [
           {
            "marker": {
             "colorbar": {
              "outlinewidth": 0,
              "ticks": ""
             }
            },
            "type": "scattermapbox"
           }
          ],
          "scatterpolar": [
           {
            "marker": {
             "colorbar": {
              "outlinewidth": 0,
              "ticks": ""
             }
            },
            "type": "scatterpolar"
           }
          ],
          "scatterpolargl": [
           {
            "marker": {
             "colorbar": {
              "outlinewidth": 0,
              "ticks": ""
             }
            },
            "type": "scatterpolargl"
           }
          ],
          "scatterternary": [
           {
            "marker": {
             "colorbar": {
              "outlinewidth": 0,
              "ticks": ""
             }
            },
            "type": "scatterternary"
           }
          ],
          "surface": [
           {
            "colorbar": {
             "outlinewidth": 0,
             "ticks": ""
            },
            "colorscale": [
             [
              0,
              "#0d0887"
             ],
             [
              0.1111111111111111,
              "#46039f"
             ],
             [
              0.2222222222222222,
              "#7201a8"
             ],
             [
              0.3333333333333333,
              "#9c179e"
             ],
             [
              0.4444444444444444,
              "#bd3786"
             ],
             [
              0.5555555555555556,
              "#d8576b"
             ],
             [
              0.6666666666666666,
              "#ed7953"
             ],
             [
              0.7777777777777778,
              "#fb9f3a"
             ],
             [
              0.8888888888888888,
              "#fdca26"
             ],
             [
              1,
              "#f0f921"
             ]
            ],
            "type": "surface"
           }
          ],
          "table": [
           {
            "cells": {
             "fill": {
              "color": "#EBF0F8"
             },
             "line": {
              "color": "white"
             }
            },
            "header": {
             "fill": {
              "color": "#C8D4E3"
             },
             "line": {
              "color": "white"
             }
            },
            "type": "table"
           }
          ]
         },
         "layout": {
          "annotationdefaults": {
           "arrowcolor": "#2a3f5f",
           "arrowhead": 0,
           "arrowwidth": 1
          },
          "coloraxis": {
           "colorbar": {
            "outlinewidth": 0,
            "ticks": ""
           }
          },
          "colorscale": {
           "diverging": [
            [
             0,
             "#8e0152"
            ],
            [
             0.1,
             "#c51b7d"
            ],
            [
             0.2,
             "#de77ae"
            ],
            [
             0.3,
             "#f1b6da"
            ],
            [
             0.4,
             "#fde0ef"
            ],
            [
             0.5,
             "#f7f7f7"
            ],
            [
             0.6,
             "#e6f5d0"
            ],
            [
             0.7,
             "#b8e186"
            ],
            [
             0.8,
             "#7fbc41"
            ],
            [
             0.9,
             "#4d9221"
            ],
            [
             1,
             "#276419"
            ]
           ],
           "sequential": [
            [
             0,
             "#0d0887"
            ],
            [
             0.1111111111111111,
             "#46039f"
            ],
            [
             0.2222222222222222,
             "#7201a8"
            ],
            [
             0.3333333333333333,
             "#9c179e"
            ],
            [
             0.4444444444444444,
             "#bd3786"
            ],
            [
             0.5555555555555556,
             "#d8576b"
            ],
            [
             0.6666666666666666,
             "#ed7953"
            ],
            [
             0.7777777777777778,
             "#fb9f3a"
            ],
            [
             0.8888888888888888,
             "#fdca26"
            ],
            [
             1,
             "#f0f921"
            ]
           ],
           "sequentialminus": [
            [
             0,
             "#0d0887"
            ],
            [
             0.1111111111111111,
             "#46039f"
            ],
            [
             0.2222222222222222,
             "#7201a8"
            ],
            [
             0.3333333333333333,
             "#9c179e"
            ],
            [
             0.4444444444444444,
             "#bd3786"
            ],
            [
             0.5555555555555556,
             "#d8576b"
            ],
            [
             0.6666666666666666,
             "#ed7953"
            ],
            [
             0.7777777777777778,
             "#fb9f3a"
            ],
            [
             0.8888888888888888,
             "#fdca26"
            ],
            [
             1,
             "#f0f921"
            ]
           ]
          },
          "colorway": [
           "#636efa",
           "#EF553B",
           "#00cc96",
           "#ab63fa",
           "#FFA15A",
           "#19d3f3",
           "#FF6692",
           "#B6E880",
           "#FF97FF",
           "#FECB52"
          ],
          "font": {
           "color": "#2a3f5f"
          },
          "geo": {
           "bgcolor": "white",
           "lakecolor": "white",
           "landcolor": "#E5ECF6",
           "showlakes": true,
           "showland": true,
           "subunitcolor": "white"
          },
          "hoverlabel": {
           "align": "left"
          },
          "hovermode": "closest",
          "mapbox": {
           "style": "light"
          },
          "paper_bgcolor": "white",
          "plot_bgcolor": "#E5ECF6",
          "polar": {
           "angularaxis": {
            "gridcolor": "white",
            "linecolor": "white",
            "ticks": ""
           },
           "bgcolor": "#E5ECF6",
           "radialaxis": {
            "gridcolor": "white",
            "linecolor": "white",
            "ticks": ""
           }
          },
          "scene": {
           "xaxis": {
            "backgroundcolor": "#E5ECF6",
            "gridcolor": "white",
            "gridwidth": 2,
            "linecolor": "white",
            "showbackground": true,
            "ticks": "",
            "zerolinecolor": "white"
           },
           "yaxis": {
            "backgroundcolor": "#E5ECF6",
            "gridcolor": "white",
            "gridwidth": 2,
            "linecolor": "white",
            "showbackground": true,
            "ticks": "",
            "zerolinecolor": "white"
           },
           "zaxis": {
            "backgroundcolor": "#E5ECF6",
            "gridcolor": "white",
            "gridwidth": 2,
            "linecolor": "white",
            "showbackground": true,
            "ticks": "",
            "zerolinecolor": "white"
           }
          },
          "shapedefaults": {
           "line": {
            "color": "#2a3f5f"
           }
          },
          "ternary": {
           "aaxis": {
            "gridcolor": "white",
            "linecolor": "white",
            "ticks": ""
           },
           "baxis": {
            "gridcolor": "white",
            "linecolor": "white",
            "ticks": ""
           },
           "bgcolor": "#E5ECF6",
           "caxis": {
            "gridcolor": "white",
            "linecolor": "white",
            "ticks": ""
           }
          },
          "title": {
           "x": 0.05
          },
          "xaxis": {
           "automargin": true,
           "gridcolor": "white",
           "linecolor": "white",
           "ticks": "",
           "title": {
            "standoff": 15
           },
           "zerolinecolor": "white",
           "zerolinewidth": 2
          },
          "yaxis": {
           "automargin": true,
           "gridcolor": "white",
           "linecolor": "white",
           "ticks": "",
           "title": {
            "standoff": 15
           },
           "zerolinecolor": "white",
           "zerolinewidth": 2
          }
         }
        },
        "title": {
         "text": "GDP Per Capita vs. Total deaths per million"
        },
        "width": 1500,
        "xaxis": {
         "anchor": "y",
         "domain": [
          0,
          1
         ],
         "range": [
          -50,
          120000
         ],
         "title": {
          "text": "GDP Per Capita"
         }
        },
        "yaxis": {
         "anchor": "x",
         "domain": [
          0,
          1
         ],
         "title": {
          "text": "Total Deaths Per Million"
         }
        }
       }
      },
      "text/html": [
       "<div>\n",
       "        \n",
       "        \n",
       "            <div id=\"246c12a7-f753-4be0-906b-8785407a47c8\" class=\"plotly-graph-div\" style=\"height:525px; width:1500px;\"></div>\n",
       "            <script type=\"text/javascript\">\n",
       "                require([\"plotly\"], function(Plotly) {\n",
       "                    window.PLOTLYENV=window.PLOTLYENV || {};\n",
       "                    \n",
       "                if (document.getElementById(\"246c12a7-f753-4be0-906b-8785407a47c8\")) {\n",
       "                    Plotly.newPlot(\n",
       "                        '246c12a7-f753-4be0-906b-8785407a47c8',\n",
       "                        [{\"hovertemplate\": \"<b>%{hovertext}</b><br><br>GDP Per Capita=%{x}<br>Total Deaths Per Million=%{y}<extra></extra>\", \"hovertext\": [\"Afghanistan\", \"Albania\", \"Algeria\", \"Angola\", \"Antigua and Barbuda\", \"Argentina\", \"Armenia\", \"Aruba\", \"Australia\", \"Austria\", \"Azerbaijan\", \"Bahrain\", \"Bangladesh\", \"Barbados\", \"Belarus\", \"Belgium\", \"Belize\", \"Benin\", \"Bermuda\", \"Bhutan\", \"Bolivia\", \"Bosnia and Herzegovina\", \"Botswana\", \"Brazil\", \"Bulgaria\", \"Burkina Faso\", \"Burundi\", \"Cambodia\", \"Cameroon\", \"Canada\", \"Cayman Islands\", \"Central African Republic\", \"Chad\", \"Chile\", \"China\", \"Colombia\", \"Costa Rica\", \"Cote d'Ivoire\", \"Croatia\", \"Cyprus\", \"Czech Republic\", \"Denmark\", \"Djibouti\", \"Dominica\", \"Dominican Republic\", \"Ecuador\", \"El Salvador\", \"Equatorial Guinea\", \"Eritrea\", \"Estonia\", \"Ethiopia\", \"Fiji\", \"Finland\", \"France\", \"Gabon\", \"Georgia\", \"Germany\", \"Ghana\", \"Greece\", \"Grenada\", \"Guatemala\", \"Guinea\", \"Guinea-Bissau\", \"Guyana\", \"Haiti\", \"Honduras\", \"Hungary\", \"Iceland\", \"India\", \"Indonesia\", \"Iraq\", \"Ireland\", \"Israel\", \"Italy\", \"Jamaica\", \"Japan\", \"Jordan\", \"Kazakhstan\", \"Kenya\", \"Kuwait\", \"Latvia\", \"Lebanon\", \"Lesotho\", \"Liberia\", \"Libya\", \"Lithuania\", \"Luxembourg\", \"Madagascar\", \"Malawi\", \"Malaysia\", \"Maldives\", \"Mali\", \"Malta\", \"Mauritania\", \"Mauritius\", \"Mexico\", \"Moldova\", \"Mongolia\", \"Montenegro\", \"Morocco\", \"Mozambique\", \"Myanmar\", \"Namibia\", \"Nepal\", \"Netherlands\", \"New Zealand\", \"Nicaragua\", \"Niger\", \"Nigeria\", \"Norway\", \"Oman\", \"Pakistan\", \"Panama\", \"Papua New Guinea\", \"Paraguay\", \"Peru\", \"Philippines\", \"Poland\", \"Portugal\", \"Puerto Rico\", \"Qatar\", \"Romania\", \"Rwanda\", \"San Marino\", \"Sao Tome and Principe\", \"Saudi Arabia\", \"Senegal\", \"Serbia\", \"Seychelles\", \"Sierra Leone\", \"Singapore\", \"Sint Maarten (Dutch part)\", \"Slovenia\", \"South Africa\", \"Spain\", \"Sri Lanka\", \"Sudan\", \"Suriname\", \"Sweden\", \"Switzerland\", \"Tajikistan\", \"Tanzania\", \"Thailand\", \"Togo\", \"Trinidad and Tobago\", \"Tunisia\", \"Turkey\", \"Uganda\", \"Ukraine\", \"United Arab Emirates\", \"United Kingdom\", \"United States\", \"Uruguay\", \"Uzbekistan\", \"Vietnam\", \"Zambia\", \"Zimbabwe\"], \"legendgroup\": \"\", \"marker\": {\"color\": \"#636efa\", \"symbol\": \"circle\"}, \"mode\": \"markers\", \"name\": \"\", \"orientation\": \"v\", \"showlegend\": false, \"type\": \"scatter\", \"x\": [1803.987, 11803.431, 13913.839, 5819.495, 21490.943, 18933.907, 8787.58, 35973.781, 44648.71, 45436.685999999994, 15847.419, 43290.705, 3523.9840000000004, 16978.068, 17167.967, 42658.575999999994, 7824.361999999999, 2064.236, 50669.315, 8708.597, 6885.829000000001, 11713.895, 15807.374, 14103.452, 18563.307, 1703.102, 702.225, 3645.07, 3364.926, 44017.59099999999, 49903.029, 661.24, 1768.1529999999998, 22767.037, 15308.712, 13254.948999999999, 15524.995, 3601.006, 22669.797000000002, 32415.132, 32605.906000000003, 46682.515, 2705.406, 9673.367, 14600.861, 10581.936000000002, 7292.4580000000005, 22604.873, 1510.4589999999998, 29481.252, 1729.9270000000001, 8702.975, 40585.721, 38605.671, 16562.413, 9745.079, 45229.245, 4227.63, 24574.382, 13593.877, 7423.808000000001, 1998.9260000000002, 1548.675, 7435.047, 1653.1729999999998, 4541.795, 26777.561, 46482.958, 6426.674, 11188.743999999999, 15663.986, 67335.293, 33132.32, 35220.084, 8193.571, 39002.223, 8337.49, 24055.588, 2993.028, 65530.537000000004, 25063.846, 13367.565, 2851.153, 752.788, 17881.509, 29524.265, 94277.965, 1416.44, 1095.042, 26808.164, 15183.616000000002, 2014.306, 36513.323, 3597.633, 20292.745, 17336.468999999997, 5189.972, 11840.846000000001, 16409.288, 7485.013000000001, 1136.103, 5591.597, 9541.808, 2442.804, 48472.545, 36085.843, 5321.444, 926.0, 5338.454000000001, 64800.057, 37960.709, 5034.708, 22267.037, 3823.1940000000004, 8827.01, 12236.706, 7599.188, 27216.445, 27936.896, 35044.67, 116935.6, 23313.199, 1854.211, 56861.47, 3052.7140000000004, 49045.41099999999, 2470.58, 14048.881000000001, 26382.287, 1390.3, 85535.383, 36327.232, 31400.84, 12294.876, 34272.36, 11669.077, 4466.5070000000005, 13767.118999999999, 46949.282999999996, 57410.166, 2896.913, 2683.304, 16277.671, 1429.8129999999999, 28763.071, 10849.296999999999, 25129.341, 1697.707, 7894.393, 67293.483, 39753.244, 54225.445999999996, 20551.409, 6253.104, 6171.884, 3689.2509999999997, 1899.775], \"xaxis\": \"x\", \"y\": [14.925, 15.289000000000001, 19.27, 0.27399999999999997, 30.635, 22.369, 121.48899999999999, 28.099, 4.0, 76.612, 15.189, 37.024, 8.889, 24.359, 36.616, 836.6110000000001, 5.03, 1.072, 144.525, 0.0, 66.221, 51.512, 0.425, 238.13099999999997, 28.64, 2.535, 0.084, 0.0, 11.339, 223.358, 15.216, 4.762, 4.505, 234.304, 3.2230000000000003, 43.964, 2.356, 1.933, 26.064, 21.691999999999997, 31.375999999999998, 103.588, 45.54600000000001, 0.0, 61.026, 239.358, 16.497, 22.809, 0.0, 52.015, 0.644, 0.0, 58.836999999999996, 454.089, 15.276, 3.509, 106.04700000000001, 2.735, 18.229, 0.0, 29.639, 2.056, 8.638, 15.255999999999998, 7.718, 36.65, 59.211000000000006, 29.304000000000002, 9.927, 9.012, 27.348000000000003, 347.32099999999997, 35.353, 572.8240000000001, 3.377, 7.535, 0.882, 6.391, 2.287, 76.337, 15.905, 4.688, 0.0, 6.722, 1.455, 27.918000000000003, 175.726, 0.506, 0.575, 3.738, 14.8, 5.481, 20.383, 23.228, 7.8629999999999995, 169.274, 117.25399999999999, 0.0, 14.33, 5.797999999999999, 0.16, 0.11, 0.0, 0.789, 355.416, 4.562, 9.661, 2.7680000000000002, 2.513, 45.008, 25.653000000000002, 16.252, 116.113, 0.0, 1.8230000000000002, 243.99599999999998, 10.668, 35.829, 150.048, 52.083, 34.015, 78.596, 0.154, 1237.5510000000002, 54.754, 36.394, 5.0169999999999995, 38.356, 0.0, 6.895, 4.444, 349.79699999999997, 52.431000000000004, 32.542, 614.953, 0.514, 11.882, 13.637, 500.333, 194.11599999999999, 5.452000000000001, 0.35200000000000004, 0.831, 1.57, 5.716, 4.231, 58.692, 0.0, 22.910999999999998, 30.535, 627.994, 362.459, 7.197, 0.568, 0.0, 0.598, 0.40399999999999997], \"yaxis\": \"y\"}, {\"hovertemplate\": \"<b>OLS trendline</b><br>Total Deaths Per Million = 0.00317249 * GDP Per Capita + 6.46983<br>R<sup>2</sup>=0.156579<br><br>GDP Per Capita=%{x}<br>Total Deaths Per Million=%{y} <b>(trend)</b><extra></extra>\", \"legendgroup\": \"\", \"marker\": {\"color\": \"#636efa\", \"symbol\": \"circle\"}, \"mode\": \"lines\", \"name\": \"\", \"showlegend\": false, \"type\": \"scatter\", \"x\": [661.24, 702.225, 752.788, 926.0, 1095.042, 1136.103, 1390.3, 1416.44, 1429.8129999999999, 1510.4589999999998, 1548.675, 1653.1729999999998, 1697.707, 1703.102, 1729.9270000000001, 1768.1529999999998, 1803.987, 1854.211, 1899.775, 1998.9260000000002, 2014.306, 2064.236, 2442.804, 2470.58, 2683.304, 2705.406, 2851.153, 2896.913, 2993.028, 3052.7140000000004, 3364.926, 3523.9840000000004, 3597.633, 3601.006, 3645.07, 3689.2509999999997, 3823.1940000000004, 4227.63, 4466.5070000000005, 4541.795, 5034.708, 5189.972, 5321.444, 5338.454000000001, 5591.597, 5819.495, 6171.884, 6253.104, 6426.674, 6885.829000000001, 7292.4580000000005, 7423.808000000001, 7435.047, 7485.013000000001, 7599.188, 7824.361999999999, 7894.393, 8193.571, 8337.49, 8702.975, 8708.597, 8787.58, 8827.01, 9541.808, 9673.367, 9745.079, 10581.936000000002, 10849.296999999999, 11188.743999999999, 11669.077, 11713.895, 11803.431, 11840.846000000001, 12236.706, 12294.876, 13254.948999999999, 13367.565, 13593.877, 13767.118999999999, 13913.839, 14048.881000000001, 14103.452, 14600.861, 15183.616000000002, 15308.712, 15524.995, 15663.986, 15807.374, 15847.419, 16277.671, 16409.288, 16562.413, 16978.068, 17167.967, 17336.468999999997, 17881.509, 18563.307, 18933.907, 20292.745, 20551.409, 21490.943, 22267.037, 22604.873, 22669.797000000002, 22767.037, 23313.199, 24055.588, 24574.382, 25063.846, 25129.341, 26382.287, 26777.561, 26808.164, 27216.445, 27936.896, 28763.071, 29481.252, 29524.265, 31400.84, 32415.132, 32605.906000000003, 33132.32, 34272.36, 35044.67, 35220.084, 35973.781, 36085.843, 36327.232, 36513.323, 37960.709, 38605.671, 39002.223, 39753.244, 40585.721, 42658.575999999994, 43290.705, 44017.59099999999, 44648.71, 45229.245, 45436.685999999994, 46482.958, 46682.515, 46949.282999999996, 48472.545, 49045.41099999999, 49903.029, 50669.315, 54225.445999999996, 56861.47, 57410.166, 64800.057, 65530.537000000004, 67293.483, 67335.293, 85535.383, 94277.965, 116935.6], \"xaxis\": \"x\", \"y\": [8.567609349373805, 8.697634037290843, 8.858044877723907, 9.407558998584854, 9.943843817295889, 10.074109614796473, 10.880548204388937, 10.9634772111512, 11.005902980372001, 11.261751973461116, 11.382992024051273, 11.714511356440061, 11.855795227409864, 11.872910835347216, 11.958013000855928, 12.079284776391287, 12.192967945033939, 12.3523033098246, 12.496854850150376, 12.81141085433879, 12.860203820061958, 13.018606471463633, 14.219611377048041, 14.307730584845617, 14.982596309195106, 15.052714783084147, 15.51509634194335, 15.660269691195117, 15.965194002019711, 16.15454750996204, 17.145038369153305, 17.64964900257305, 17.883300051503188, 17.89400087552037, 18.033793674065603, 18.173957654469717, 18.598891088010568, 19.881962081847696, 20.63979805538822, 20.87864882283723, 22.442412614352435, 22.93498680356192, 23.352081003142956, 23.406045134934317, 24.209139915302316, 24.932145071503776, 26.05009724303963, 26.307767247983435, 26.858417121882667, 28.31508384337949, 29.605112117699775, 30.02181927294933, 30.057474938863677, 30.21599180006809, 30.57821136193042, 31.29257464305841, 31.514747606813884, 32.463888172426756, 32.92047041130274, 34.07996957107725, 34.09780533527072, 34.348378469972474, 34.47346992891035, 36.74116266707608, 37.158532873680386, 37.386038800724585, 40.04096304755119, 40.88916435500968, 41.96605810246301, 43.48991191291206, 43.63209677232565, 43.916149241700786, 44.03484812418013, 45.29071180501064, 45.47525581126009, 48.52108214290761, 48.87835578581271, 49.596329365704875, 50.14593866140142, 50.61140705742894, 51.03982706244768, 51.21295326091835, 52.7909805877971, 54.639767632010674, 55.03663400652987, 55.722790638877335, 56.16373882475697, 56.618636469042634, 56.745679012110536, 58.11065112448533, 58.52820533577182, 59.013993559202255, 60.33265676906333, 60.93511030598555, 61.46968197765558, 63.198818391033704, 65.3618188100275, 66.53754527927366, 70.84845138833333, 71.66906151094825, 74.64972797764206, 77.1118819399279, 78.18366479870892, 78.38963583294891, 78.69812920010891, 80.43082515233887, 82.7860501868159, 84.43192130901261, 85.98474316692707, 86.19252569553818, 90.16749001484769, 91.42149461388927, 91.5185824636959, 92.81385169896383, 95.09947854865317, 97.72051420901326, 99.99893949614136, 100.13539800294569, 106.08882190749405, 109.30665771954108, 109.91188718916864, 111.58193271961048, 115.19870337260399, 117.64885261562478, 118.20535256941956, 120.59645217193285, 120.95196825287366, 121.71777353264933, 122.308146210438, 126.89997036428672, 128.94610877512847, 130.20416782216705, 132.58677782934384, 135.22780655017124, 141.80392767917624, 143.80935346783818, 146.115395319766, 148.1176168889624, 149.95936099534077, 150.61746643113915, 153.9367586179474, 154.56985210694728, 155.41617212515519, 160.24871247323088, 162.06612671913257, 164.78691512469643, 167.21795326072657, 178.49975937191604, 186.86253106745883, 188.60326612080337, 212.04765482437597, 214.36509862161003, 219.95803514630413, 220.0906771422005, 277.830362937296, 305.5661564261116, 377.44737930797424], \"yaxis\": \"y\"}],\n",
       "                        {\"legend\": {\"tracegroupgap\": 0}, \"margin\": {\"t\": 60}, \"template\": {\"data\": {\"bar\": [{\"error_x\": {\"color\": \"#2a3f5f\"}, \"error_y\": {\"color\": \"#2a3f5f\"}, \"marker\": {\"line\": {\"color\": \"#E5ECF6\", \"width\": 0.5}}, \"type\": \"bar\"}], \"barpolar\": [{\"marker\": {\"line\": {\"color\": \"#E5ECF6\", \"width\": 0.5}}, \"type\": \"barpolar\"}], \"carpet\": [{\"aaxis\": {\"endlinecolor\": \"#2a3f5f\", \"gridcolor\": \"white\", \"linecolor\": \"white\", \"minorgridcolor\": \"white\", \"startlinecolor\": \"#2a3f5f\"}, \"baxis\": {\"endlinecolor\": \"#2a3f5f\", \"gridcolor\": \"white\", \"linecolor\": \"white\", \"minorgridcolor\": \"white\", \"startlinecolor\": \"#2a3f5f\"}, \"type\": \"carpet\"}], \"choropleth\": [{\"colorbar\": {\"outlinewidth\": 0, \"ticks\": \"\"}, \"type\": \"choropleth\"}], \"contour\": [{\"colorbar\": {\"outlinewidth\": 0, \"ticks\": \"\"}, \"colorscale\": [[0.0, \"#0d0887\"], [0.1111111111111111, \"#46039f\"], [0.2222222222222222, \"#7201a8\"], [0.3333333333333333, \"#9c179e\"], [0.4444444444444444, \"#bd3786\"], [0.5555555555555556, \"#d8576b\"], [0.6666666666666666, \"#ed7953\"], [0.7777777777777778, \"#fb9f3a\"], [0.8888888888888888, \"#fdca26\"], [1.0, \"#f0f921\"]], \"type\": \"contour\"}], \"contourcarpet\": [{\"colorbar\": {\"outlinewidth\": 0, \"ticks\": \"\"}, \"type\": \"contourcarpet\"}], \"heatmap\": [{\"colorbar\": {\"outlinewidth\": 0, \"ticks\": \"\"}, \"colorscale\": [[0.0, \"#0d0887\"], [0.1111111111111111, \"#46039f\"], [0.2222222222222222, \"#7201a8\"], [0.3333333333333333, \"#9c179e\"], [0.4444444444444444, \"#bd3786\"], [0.5555555555555556, \"#d8576b\"], [0.6666666666666666, \"#ed7953\"], [0.7777777777777778, \"#fb9f3a\"], [0.8888888888888888, \"#fdca26\"], [1.0, \"#f0f921\"]], \"type\": \"heatmap\"}], \"heatmapgl\": [{\"colorbar\": {\"outlinewidth\": 0, \"ticks\": \"\"}, \"colorscale\": [[0.0, \"#0d0887\"], [0.1111111111111111, \"#46039f\"], [0.2222222222222222, \"#7201a8\"], [0.3333333333333333, \"#9c179e\"], [0.4444444444444444, \"#bd3786\"], [0.5555555555555556, \"#d8576b\"], [0.6666666666666666, \"#ed7953\"], [0.7777777777777778, \"#fb9f3a\"], [0.8888888888888888, \"#fdca26\"], [1.0, \"#f0f921\"]], \"type\": \"heatmapgl\"}], \"histogram\": [{\"marker\": {\"colorbar\": {\"outlinewidth\": 0, \"ticks\": \"\"}}, \"type\": \"histogram\"}], \"histogram2d\": [{\"colorbar\": {\"outlinewidth\": 0, \"ticks\": \"\"}, \"colorscale\": [[0.0, \"#0d0887\"], [0.1111111111111111, \"#46039f\"], [0.2222222222222222, \"#7201a8\"], [0.3333333333333333, \"#9c179e\"], [0.4444444444444444, \"#bd3786\"], [0.5555555555555556, \"#d8576b\"], [0.6666666666666666, \"#ed7953\"], [0.7777777777777778, \"#fb9f3a\"], [0.8888888888888888, \"#fdca26\"], [1.0, \"#f0f921\"]], \"type\": \"histogram2d\"}], \"histogram2dcontour\": [{\"colorbar\": {\"outlinewidth\": 0, \"ticks\": \"\"}, \"colorscale\": [[0.0, \"#0d0887\"], [0.1111111111111111, \"#46039f\"], [0.2222222222222222, \"#7201a8\"], [0.3333333333333333, \"#9c179e\"], [0.4444444444444444, \"#bd3786\"], [0.5555555555555556, \"#d8576b\"], [0.6666666666666666, \"#ed7953\"], [0.7777777777777778, \"#fb9f3a\"], [0.8888888888888888, \"#fdca26\"], [1.0, \"#f0f921\"]], \"type\": \"histogram2dcontour\"}], \"mesh3d\": [{\"colorbar\": {\"outlinewidth\": 0, \"ticks\": \"\"}, \"type\": \"mesh3d\"}], \"parcoords\": [{\"line\": {\"colorbar\": {\"outlinewidth\": 0, \"ticks\": \"\"}}, \"type\": \"parcoords\"}], \"pie\": [{\"automargin\": true, \"type\": \"pie\"}], \"scatter\": [{\"marker\": {\"colorbar\": {\"outlinewidth\": 0, \"ticks\": \"\"}}, \"type\": \"scatter\"}], \"scatter3d\": [{\"line\": {\"colorbar\": {\"outlinewidth\": 0, \"ticks\": \"\"}}, \"marker\": {\"colorbar\": {\"outlinewidth\": 0, \"ticks\": \"\"}}, \"type\": \"scatter3d\"}], \"scattercarpet\": [{\"marker\": {\"colorbar\": {\"outlinewidth\": 0, \"ticks\": \"\"}}, \"type\": \"scattercarpet\"}], \"scattergeo\": [{\"marker\": {\"colorbar\": {\"outlinewidth\": 0, \"ticks\": \"\"}}, \"type\": \"scattergeo\"}], \"scattergl\": [{\"marker\": {\"colorbar\": {\"outlinewidth\": 0, \"ticks\": \"\"}}, \"type\": \"scattergl\"}], \"scattermapbox\": [{\"marker\": {\"colorbar\": {\"outlinewidth\": 0, \"ticks\": \"\"}}, \"type\": \"scattermapbox\"}], \"scatterpolar\": [{\"marker\": {\"colorbar\": {\"outlinewidth\": 0, \"ticks\": \"\"}}, \"type\": \"scatterpolar\"}], \"scatterpolargl\": [{\"marker\": {\"colorbar\": {\"outlinewidth\": 0, \"ticks\": \"\"}}, \"type\": \"scatterpolargl\"}], \"scatterternary\": [{\"marker\": {\"colorbar\": {\"outlinewidth\": 0, \"ticks\": \"\"}}, \"type\": \"scatterternary\"}], \"surface\": [{\"colorbar\": {\"outlinewidth\": 0, \"ticks\": \"\"}, \"colorscale\": [[0.0, \"#0d0887\"], [0.1111111111111111, \"#46039f\"], [0.2222222222222222, \"#7201a8\"], [0.3333333333333333, \"#9c179e\"], [0.4444444444444444, \"#bd3786\"], [0.5555555555555556, \"#d8576b\"], [0.6666666666666666, \"#ed7953\"], [0.7777777777777778, \"#fb9f3a\"], [0.8888888888888888, \"#fdca26\"], [1.0, \"#f0f921\"]], \"type\": \"surface\"}], \"table\": [{\"cells\": {\"fill\": {\"color\": \"#EBF0F8\"}, \"line\": {\"color\": \"white\"}}, \"header\": {\"fill\": {\"color\": \"#C8D4E3\"}, \"line\": {\"color\": \"white\"}}, \"type\": \"table\"}]}, \"layout\": {\"annotationdefaults\": {\"arrowcolor\": \"#2a3f5f\", \"arrowhead\": 0, \"arrowwidth\": 1}, \"coloraxis\": {\"colorbar\": {\"outlinewidth\": 0, \"ticks\": \"\"}}, \"colorscale\": {\"diverging\": [[0, \"#8e0152\"], [0.1, \"#c51b7d\"], [0.2, \"#de77ae\"], [0.3, \"#f1b6da\"], [0.4, \"#fde0ef\"], [0.5, \"#f7f7f7\"], [0.6, \"#e6f5d0\"], [0.7, \"#b8e186\"], [0.8, \"#7fbc41\"], [0.9, \"#4d9221\"], [1, \"#276419\"]], \"sequential\": [[0.0, \"#0d0887\"], [0.1111111111111111, \"#46039f\"], [0.2222222222222222, \"#7201a8\"], [0.3333333333333333, \"#9c179e\"], [0.4444444444444444, \"#bd3786\"], [0.5555555555555556, \"#d8576b\"], [0.6666666666666666, \"#ed7953\"], [0.7777777777777778, \"#fb9f3a\"], [0.8888888888888888, \"#fdca26\"], [1.0, \"#f0f921\"]], \"sequentialminus\": [[0.0, \"#0d0887\"], [0.1111111111111111, \"#46039f\"], [0.2222222222222222, \"#7201a8\"], [0.3333333333333333, \"#9c179e\"], [0.4444444444444444, \"#bd3786\"], [0.5555555555555556, \"#d8576b\"], [0.6666666666666666, \"#ed7953\"], [0.7777777777777778, \"#fb9f3a\"], [0.8888888888888888, \"#fdca26\"], [1.0, \"#f0f921\"]]}, \"colorway\": [\"#636efa\", \"#EF553B\", \"#00cc96\", \"#ab63fa\", \"#FFA15A\", \"#19d3f3\", \"#FF6692\", \"#B6E880\", \"#FF97FF\", \"#FECB52\"], \"font\": {\"color\": \"#2a3f5f\"}, \"geo\": {\"bgcolor\": \"white\", \"lakecolor\": \"white\", \"landcolor\": \"#E5ECF6\", \"showlakes\": true, \"showland\": true, \"subunitcolor\": \"white\"}, \"hoverlabel\": {\"align\": \"left\"}, \"hovermode\": \"closest\", \"mapbox\": {\"style\": \"light\"}, \"paper_bgcolor\": \"white\", \"plot_bgcolor\": \"#E5ECF6\", \"polar\": {\"angularaxis\": {\"gridcolor\": \"white\", \"linecolor\": \"white\", \"ticks\": \"\"}, \"bgcolor\": \"#E5ECF6\", \"radialaxis\": {\"gridcolor\": \"white\", \"linecolor\": \"white\", \"ticks\": \"\"}}, \"scene\": {\"xaxis\": {\"backgroundcolor\": \"#E5ECF6\", \"gridcolor\": \"white\", \"gridwidth\": 2, \"linecolor\": \"white\", \"showbackground\": true, \"ticks\": \"\", \"zerolinecolor\": \"white\"}, \"yaxis\": {\"backgroundcolor\": \"#E5ECF6\", \"gridcolor\": \"white\", \"gridwidth\": 2, \"linecolor\": \"white\", \"showbackground\": true, \"ticks\": \"\", \"zerolinecolor\": \"white\"}, \"zaxis\": {\"backgroundcolor\": \"#E5ECF6\", \"gridcolor\": \"white\", \"gridwidth\": 2, \"linecolor\": \"white\", \"showbackground\": true, \"ticks\": \"\", \"zerolinecolor\": \"white\"}}, \"shapedefaults\": {\"line\": {\"color\": \"#2a3f5f\"}}, \"ternary\": {\"aaxis\": {\"gridcolor\": \"white\", \"linecolor\": \"white\", \"ticks\": \"\"}, \"baxis\": {\"gridcolor\": \"white\", \"linecolor\": \"white\", \"ticks\": \"\"}, \"bgcolor\": \"#E5ECF6\", \"caxis\": {\"gridcolor\": \"white\", \"linecolor\": \"white\", \"ticks\": \"\"}}, \"title\": {\"x\": 0.05}, \"xaxis\": {\"automargin\": true, \"gridcolor\": \"white\", \"linecolor\": \"white\", \"ticks\": \"\", \"title\": {\"standoff\": 15}, \"zerolinecolor\": \"white\", \"zerolinewidth\": 2}, \"yaxis\": {\"automargin\": true, \"gridcolor\": \"white\", \"linecolor\": \"white\", \"ticks\": \"\", \"title\": {\"standoff\": 15}, \"zerolinecolor\": \"white\", \"zerolinewidth\": 2}}}, \"title\": {\"text\": \"GDP Per Capita vs. Total deaths per million\"}, \"width\": 1500, \"xaxis\": {\"anchor\": \"y\", \"domain\": [0.0, 1.0], \"range\": [-50, 120000], \"title\": {\"text\": \"GDP Per Capita\"}}, \"yaxis\": {\"anchor\": \"x\", \"domain\": [0.0, 1.0], \"title\": {\"text\": \"Total Deaths Per Million\"}}},\n",
       "                        {\"responsive\": true}\n",
       "                    ).then(function(){\n",
       "                            \n",
       "var gd = document.getElementById('246c12a7-f753-4be0-906b-8785407a47c8');\n",
       "var x = new MutationObserver(function (mutations, observer) {{\n",
       "        var display = window.getComputedStyle(gd).display;\n",
       "        if (!display || display === 'none') {{\n",
       "            console.log([gd, 'removed!']);\n",
       "            Plotly.purge(gd);\n",
       "            observer.disconnect();\n",
       "        }}\n",
       "}});\n",
       "\n",
       "// Listen for the removal of the full notebook cells\n",
       "var notebookContainer = gd.closest('#notebook-container');\n",
       "if (notebookContainer) {{\n",
       "    x.observe(notebookContainer, {childList: true});\n",
       "}}\n",
       "\n",
       "// Listen for the clearing of the current output cell\n",
       "var outputEl = gd.closest('.output');\n",
       "if (outputEl) {{\n",
       "    x.observe(outputEl, {childList: true});\n",
       "}}\n",
       "\n",
       "                        })\n",
       "                };\n",
       "                });\n",
       "            </script>\n",
       "        </div>"
      ]
     },
     "metadata": {},
     "output_type": "display_data"
    }
   ],
   "source": [
    "#Does GDP affect the spread of Covid-19?\n",
    "print(Correlationm)\n",
    "fig2 = px.scatter(max_combined_country_clean,x='GDP Per Capita',y='Total Deaths Per Million'\n",
    "                , hover_name= \"Country\", width = 1500, trendline= \"ols\")\n",
    "fig2.update_layout(title=\"GDP Per Capita vs. Total deaths per million\", )\n",
    "fig2.update_xaxes(range=[-50, 120000])\n",
    "\n",
    "\n"
   ]
  },
  {
   "cell_type": "code",
   "execution_count": 60,
   "metadata": {},
   "outputs": [
    {
     "data": {
      "application/vnd.plotly.v1+json": {
       "config": {
        "plotlyServerURL": "https://plot.ly"
       },
       "data": [
        {
         "alignmentgroup": "True",
         "hovertemplate": "<b>%{hovertext}</b><br><br>Continent=%{x}<br>Total Deaths Per Million=%{y}<extra></extra>",
         "hovertext": [
          "Afghanistan",
          "Armenia",
          "Azerbaijan",
          "Bahrain",
          "Bangladesh",
          "Bhutan",
          "Cambodia",
          "China",
          "Georgia",
          "India",
          "Indonesia",
          "Iraq",
          "Israel",
          "Japan",
          "Jordan",
          "Kazakhstan",
          "Kuwait",
          "Lebanon",
          "Malaysia",
          "Maldives",
          "Mongolia",
          "Myanmar",
          "Nepal",
          "Oman",
          "Pakistan",
          "Philippines",
          "Qatar",
          "Saudi Arabia",
          "Singapore",
          "Sri Lanka",
          "Tajikistan",
          "Thailand",
          "Turkey",
          "United Arab Emirates",
          "Uzbekistan",
          "Vietnam"
         ],
         "legendgroup": "Asia",
         "marker": {
          "color": "#636efa"
         },
         "name": "Asia",
         "notched": false,
         "offsetgroup": "Asia",
         "orientation": "v",
         "showlegend": true,
         "type": "box",
         "x": [
          "Asia",
          "Asia",
          "Asia",
          "Asia",
          "Asia",
          "Asia",
          "Asia",
          "Asia",
          "Asia",
          "Asia",
          "Asia",
          "Asia",
          "Asia",
          "Asia",
          "Asia",
          "Asia",
          "Asia",
          "Asia",
          "Asia",
          "Asia",
          "Asia",
          "Asia",
          "Asia",
          "Asia",
          "Asia",
          "Asia",
          "Asia",
          "Asia",
          "Asia",
          "Asia",
          "Asia",
          "Asia",
          "Asia",
          "Asia",
          "Asia",
          "Asia"
         ],
         "x0": " ",
         "xaxis": "x",
         "y": [
          14.925,
          121.48899999999999,
          15.189,
          37.024,
          8.889,
          0,
          0,
          3.2230000000000003,
          3.509,
          9.927,
          9.012,
          27.348000000000003,
          35.353,
          7.535,
          0.882,
          6.391,
          76.337,
          4.688,
          3.738,
          14.8,
          0,
          0.11,
          0.789,
          25.653000000000002,
          16.252,
          10.668,
          34.015,
          36.394,
          4.444,
          0.514,
          5.452000000000001,
          0.831,
          58.692,
          30.535,
          0.568,
          0
         ],
         "y0": " ",
         "yaxis": "y"
        },
        {
         "alignmentgroup": "True",
         "hovertemplate": "<b>%{hovertext}</b><br><br>Continent=%{x}<br>Total Deaths Per Million=%{y}<extra></extra>",
         "hovertext": [
          "Albania",
          "Austria",
          "Belarus",
          "Belgium",
          "Bosnia and Herzegovina",
          "Bulgaria",
          "Croatia",
          "Cyprus",
          "Czech Republic",
          "Denmark",
          "Estonia",
          "Finland",
          "France",
          "Germany",
          "Greece",
          "Hungary",
          "Iceland",
          "Ireland",
          "Italy",
          "Latvia",
          "Lithuania",
          "Luxembourg",
          "Malta",
          "Moldova",
          "Montenegro",
          "Netherlands",
          "Norway",
          "Poland",
          "Portugal",
          "Romania",
          "San Marino",
          "Serbia",
          "Slovenia",
          "Spain",
          "Sweden",
          "Switzerland",
          "Ukraine",
          "United Kingdom"
         ],
         "legendgroup": "Europe",
         "marker": {
          "color": "#EF553B"
         },
         "name": "Europe",
         "notched": false,
         "offsetgroup": "Europe",
         "orientation": "v",
         "showlegend": true,
         "type": "box",
         "x": [
          "Europe",
          "Europe",
          "Europe",
          "Europe",
          "Europe",
          "Europe",
          "Europe",
          "Europe",
          "Europe",
          "Europe",
          "Europe",
          "Europe",
          "Europe",
          "Europe",
          "Europe",
          "Europe",
          "Europe",
          "Europe",
          "Europe",
          "Europe",
          "Europe",
          "Europe",
          "Europe",
          "Europe",
          "Europe",
          "Europe",
          "Europe",
          "Europe",
          "Europe",
          "Europe",
          "Europe",
          "Europe",
          "Europe",
          "Europe",
          "Europe",
          "Europe",
          "Europe",
          "Europe"
         ],
         "x0": " ",
         "xaxis": "x",
         "y": [
          15.289000000000001,
          76.612,
          36.616,
          836.6110000000001,
          51.512,
          28.64,
          26.064,
          21.691999999999997,
          31.375999999999998,
          103.588,
          52.015,
          58.836999999999996,
          454.089,
          106.04700000000001,
          18.229,
          59.211000000000006,
          29.304000000000002,
          347.32099999999997,
          572.8240000000001,
          15.905,
          27.918000000000003,
          175.726,
          20.383,
          117.25399999999999,
          14.33,
          355.416,
          45.008,
          35.829,
          150.048,
          78.596,
          1237.5510000000002,
          38.356,
          52.431000000000004,
          614.953,
          500.333,
          194.11599999999999,
          22.910999999999998,
          627.994
         ],
         "y0": " ",
         "yaxis": "y"
        },
        {
         "alignmentgroup": "True",
         "hovertemplate": "<b>%{hovertext}</b><br><br>Continent=%{x}<br>Total Deaths Per Million=%{y}<extra></extra>",
         "hovertext": [
          "Algeria",
          "Angola",
          "Benin",
          "Botswana",
          "Burkina Faso",
          "Burundi",
          "Cameroon",
          "Central African Republic",
          "Chad",
          "Cote d'Ivoire",
          "Djibouti",
          "Equatorial Guinea",
          "Eritrea",
          "Ethiopia",
          "Gabon",
          "Ghana",
          "Guinea",
          "Guinea-Bissau",
          "Kenya",
          "Lesotho",
          "Liberia",
          "Libya",
          "Madagascar",
          "Malawi",
          "Mali",
          "Mauritania",
          "Mauritius",
          "Morocco",
          "Mozambique",
          "Namibia",
          "Niger",
          "Nigeria",
          "Rwanda",
          "Sao Tome and Principe",
          "Senegal",
          "Seychelles",
          "Sierra Leone",
          "South Africa",
          "Sudan",
          "Tanzania",
          "Togo",
          "Tunisia",
          "Uganda",
          "Zambia",
          "Zimbabwe"
         ],
         "legendgroup": "Africa",
         "marker": {
          "color": "#00cc96"
         },
         "name": "Africa",
         "notched": false,
         "offsetgroup": "Africa",
         "orientation": "v",
         "showlegend": true,
         "type": "box",
         "x": [
          "Africa",
          "Africa",
          "Africa",
          "Africa",
          "Africa",
          "Africa",
          "Africa",
          "Africa",
          "Africa",
          "Africa",
          "Africa",
          "Africa",
          "Africa",
          "Africa",
          "Africa",
          "Africa",
          "Africa",
          "Africa",
          "Africa",
          "Africa",
          "Africa",
          "Africa",
          "Africa",
          "Africa",
          "Africa",
          "Africa",
          "Africa",
          "Africa",
          "Africa",
          "Africa",
          "Africa",
          "Africa",
          "Africa",
          "Africa",
          "Africa",
          "Africa",
          "Africa",
          "Africa",
          "Africa",
          "Africa",
          "Africa",
          "Africa",
          "Africa",
          "Africa",
          "Africa"
         ],
         "x0": " ",
         "xaxis": "x",
         "y": [
          19.27,
          0.27399999999999997,
          1.072,
          0.425,
          2.535,
          0.084,
          11.339,
          4.762,
          4.505,
          1.933,
          45.54600000000001,
          22.809,
          0,
          0.644,
          15.276,
          2.735,
          2.056,
          8.638,
          2.287,
          0,
          6.722,
          1.455,
          0.506,
          0.575,
          5.481,
          23.228,
          7.8629999999999995,
          5.797999999999999,
          0.16,
          0,
          2.7680000000000002,
          2.513,
          0.154,
          54.754,
          5.0169999999999995,
          0,
          6.895,
          32.542,
          11.882,
          0.35200000000000004,
          1.57,
          4.231,
          0,
          0.598,
          0.40399999999999997
         ],
         "y0": " ",
         "yaxis": "y"
        },
        {
         "alignmentgroup": "True",
         "hovertemplate": "<b>%{hovertext}</b><br><br>Continent=%{x}<br>Total Deaths Per Million=%{y}<extra></extra>",
         "hovertext": [
          "Antigua and Barbuda",
          "Aruba",
          "Barbados",
          "Belize",
          "Bermuda",
          "Canada",
          "Cayman Islands",
          "Costa Rica",
          "Dominica",
          "Dominican Republic",
          "El Salvador",
          "Grenada",
          "Guatemala",
          "Haiti",
          "Honduras",
          "Jamaica",
          "Mexico",
          "Nicaragua",
          "Panama",
          "Puerto Rico",
          "Sint Maarten (Dutch part)",
          "Trinidad and Tobago",
          "United States"
         ],
         "legendgroup": "North America",
         "marker": {
          "color": "#ab63fa"
         },
         "name": "North America",
         "notched": false,
         "offsetgroup": "North America",
         "orientation": "v",
         "showlegend": true,
         "type": "box",
         "x": [
          "North America",
          "North America",
          "North America",
          "North America",
          "North America",
          "North America",
          "North America",
          "North America",
          "North America",
          "North America",
          "North America",
          "North America",
          "North America",
          "North America",
          "North America",
          "North America",
          "North America",
          "North America",
          "North America",
          "North America",
          "North America",
          "North America",
          "North America"
         ],
         "x0": " ",
         "xaxis": "x",
         "y": [
          30.635,
          28.099,
          24.359,
          5.03,
          144.525,
          223.358,
          15.216,
          2.356,
          0,
          61.026,
          16.497,
          0,
          29.639,
          7.718,
          36.65,
          3.377,
          169.274,
          9.661,
          116.113,
          52.083,
          349.79699999999997,
          5.716,
          362.459
         ],
         "y0": " ",
         "yaxis": "y"
        },
        {
         "alignmentgroup": "True",
         "hovertemplate": "<b>%{hovertext}</b><br><br>Continent=%{x}<br>Total Deaths Per Million=%{y}<extra></extra>",
         "hovertext": [
          "Argentina",
          "Bolivia",
          "Brazil",
          "Chile",
          "Colombia",
          "Ecuador",
          "Guyana",
          "Paraguay",
          "Peru",
          "Suriname",
          "Uruguay"
         ],
         "legendgroup": "South America",
         "marker": {
          "color": "#FFA15A"
         },
         "name": "South America",
         "notched": false,
         "offsetgroup": "South America",
         "orientation": "v",
         "showlegend": true,
         "type": "box",
         "x": [
          "South America",
          "South America",
          "South America",
          "South America",
          "South America",
          "South America",
          "South America",
          "South America",
          "South America",
          "South America",
          "South America"
         ],
         "x0": " ",
         "xaxis": "x",
         "y": [
          22.369,
          66.221,
          238.13099999999997,
          234.304,
          43.964,
          239.358,
          15.255999999999998,
          1.8230000000000002,
          243.99599999999998,
          13.637,
          7.197
         ],
         "y0": " ",
         "yaxis": "y"
        },
        {
         "alignmentgroup": "True",
         "hovertemplate": "<b>%{hovertext}</b><br><br>Continent=%{x}<br>Total Deaths Per Million=%{y}<extra></extra>",
         "hovertext": [
          "Australia",
          "Fiji",
          "New Zealand",
          "Papua New Guinea"
         ],
         "legendgroup": "Oceania",
         "marker": {
          "color": "#19d3f3"
         },
         "name": "Oceania",
         "notched": false,
         "offsetgroup": "Oceania",
         "orientation": "v",
         "showlegend": true,
         "type": "box",
         "x": [
          "Oceania",
          "Oceania",
          "Oceania",
          "Oceania"
         ],
         "x0": " ",
         "xaxis": "x",
         "y": [
          4,
          0,
          4.562,
          0
         ],
         "y0": " ",
         "yaxis": "y"
        }
       ],
       "layout": {
        "boxmode": "overlay",
        "legend": {
         "title": {
          "text": "Continent"
         },
         "tracegroupgap": 0
        },
        "margin": {
         "t": 60
        },
        "template": {
         "data": {
          "bar": [
           {
            "error_x": {
             "color": "#2a3f5f"
            },
            "error_y": {
             "color": "#2a3f5f"
            },
            "marker": {
             "line": {
              "color": "#E5ECF6",
              "width": 0.5
             }
            },
            "type": "bar"
           }
          ],
          "barpolar": [
           {
            "marker": {
             "line": {
              "color": "#E5ECF6",
              "width": 0.5
             }
            },
            "type": "barpolar"
           }
          ],
          "carpet": [
           {
            "aaxis": {
             "endlinecolor": "#2a3f5f",
             "gridcolor": "white",
             "linecolor": "white",
             "minorgridcolor": "white",
             "startlinecolor": "#2a3f5f"
            },
            "baxis": {
             "endlinecolor": "#2a3f5f",
             "gridcolor": "white",
             "linecolor": "white",
             "minorgridcolor": "white",
             "startlinecolor": "#2a3f5f"
            },
            "type": "carpet"
           }
          ],
          "choropleth": [
           {
            "colorbar": {
             "outlinewidth": 0,
             "ticks": ""
            },
            "type": "choropleth"
           }
          ],
          "contour": [
           {
            "colorbar": {
             "outlinewidth": 0,
             "ticks": ""
            },
            "colorscale": [
             [
              0,
              "#0d0887"
             ],
             [
              0.1111111111111111,
              "#46039f"
             ],
             [
              0.2222222222222222,
              "#7201a8"
             ],
             [
              0.3333333333333333,
              "#9c179e"
             ],
             [
              0.4444444444444444,
              "#bd3786"
             ],
             [
              0.5555555555555556,
              "#d8576b"
             ],
             [
              0.6666666666666666,
              "#ed7953"
             ],
             [
              0.7777777777777778,
              "#fb9f3a"
             ],
             [
              0.8888888888888888,
              "#fdca26"
             ],
             [
              1,
              "#f0f921"
             ]
            ],
            "type": "contour"
           }
          ],
          "contourcarpet": [
           {
            "colorbar": {
             "outlinewidth": 0,
             "ticks": ""
            },
            "type": "contourcarpet"
           }
          ],
          "heatmap": [
           {
            "colorbar": {
             "outlinewidth": 0,
             "ticks": ""
            },
            "colorscale": [
             [
              0,
              "#0d0887"
             ],
             [
              0.1111111111111111,
              "#46039f"
             ],
             [
              0.2222222222222222,
              "#7201a8"
             ],
             [
              0.3333333333333333,
              "#9c179e"
             ],
             [
              0.4444444444444444,
              "#bd3786"
             ],
             [
              0.5555555555555556,
              "#d8576b"
             ],
             [
              0.6666666666666666,
              "#ed7953"
             ],
             [
              0.7777777777777778,
              "#fb9f3a"
             ],
             [
              0.8888888888888888,
              "#fdca26"
             ],
             [
              1,
              "#f0f921"
             ]
            ],
            "type": "heatmap"
           }
          ],
          "heatmapgl": [
           {
            "colorbar": {
             "outlinewidth": 0,
             "ticks": ""
            },
            "colorscale": [
             [
              0,
              "#0d0887"
             ],
             [
              0.1111111111111111,
              "#46039f"
             ],
             [
              0.2222222222222222,
              "#7201a8"
             ],
             [
              0.3333333333333333,
              "#9c179e"
             ],
             [
              0.4444444444444444,
              "#bd3786"
             ],
             [
              0.5555555555555556,
              "#d8576b"
             ],
             [
              0.6666666666666666,
              "#ed7953"
             ],
             [
              0.7777777777777778,
              "#fb9f3a"
             ],
             [
              0.8888888888888888,
              "#fdca26"
             ],
             [
              1,
              "#f0f921"
             ]
            ],
            "type": "heatmapgl"
           }
          ],
          "histogram": [
           {
            "marker": {
             "colorbar": {
              "outlinewidth": 0,
              "ticks": ""
             }
            },
            "type": "histogram"
           }
          ],
          "histogram2d": [
           {
            "colorbar": {
             "outlinewidth": 0,
             "ticks": ""
            },
            "colorscale": [
             [
              0,
              "#0d0887"
             ],
             [
              0.1111111111111111,
              "#46039f"
             ],
             [
              0.2222222222222222,
              "#7201a8"
             ],
             [
              0.3333333333333333,
              "#9c179e"
             ],
             [
              0.4444444444444444,
              "#bd3786"
             ],
             [
              0.5555555555555556,
              "#d8576b"
             ],
             [
              0.6666666666666666,
              "#ed7953"
             ],
             [
              0.7777777777777778,
              "#fb9f3a"
             ],
             [
              0.8888888888888888,
              "#fdca26"
             ],
             [
              1,
              "#f0f921"
             ]
            ],
            "type": "histogram2d"
           }
          ],
          "histogram2dcontour": [
           {
            "colorbar": {
             "outlinewidth": 0,
             "ticks": ""
            },
            "colorscale": [
             [
              0,
              "#0d0887"
             ],
             [
              0.1111111111111111,
              "#46039f"
             ],
             [
              0.2222222222222222,
              "#7201a8"
             ],
             [
              0.3333333333333333,
              "#9c179e"
             ],
             [
              0.4444444444444444,
              "#bd3786"
             ],
             [
              0.5555555555555556,
              "#d8576b"
             ],
             [
              0.6666666666666666,
              "#ed7953"
             ],
             [
              0.7777777777777778,
              "#fb9f3a"
             ],
             [
              0.8888888888888888,
              "#fdca26"
             ],
             [
              1,
              "#f0f921"
             ]
            ],
            "type": "histogram2dcontour"
           }
          ],
          "mesh3d": [
           {
            "colorbar": {
             "outlinewidth": 0,
             "ticks": ""
            },
            "type": "mesh3d"
           }
          ],
          "parcoords": [
           {
            "line": {
             "colorbar": {
              "outlinewidth": 0,
              "ticks": ""
             }
            },
            "type": "parcoords"
           }
          ],
          "pie": [
           {
            "automargin": true,
            "type": "pie"
           }
          ],
          "scatter": [
           {
            "marker": {
             "colorbar": {
              "outlinewidth": 0,
              "ticks": ""
             }
            },
            "type": "scatter"
           }
          ],
          "scatter3d": [
           {
            "line": {
             "colorbar": {
              "outlinewidth": 0,
              "ticks": ""
             }
            },
            "marker": {
             "colorbar": {
              "outlinewidth": 0,
              "ticks": ""
             }
            },
            "type": "scatter3d"
           }
          ],
          "scattercarpet": [
           {
            "marker": {
             "colorbar": {
              "outlinewidth": 0,
              "ticks": ""
             }
            },
            "type": "scattercarpet"
           }
          ],
          "scattergeo": [
           {
            "marker": {
             "colorbar": {
              "outlinewidth": 0,
              "ticks": ""
             }
            },
            "type": "scattergeo"
           }
          ],
          "scattergl": [
           {
            "marker": {
             "colorbar": {
              "outlinewidth": 0,
              "ticks": ""
             }
            },
            "type": "scattergl"
           }
          ],
          "scattermapbox": [
           {
            "marker": {
             "colorbar": {
              "outlinewidth": 0,
              "ticks": ""
             }
            },
            "type": "scattermapbox"
           }
          ],
          "scatterpolar": [
           {
            "marker": {
             "colorbar": {
              "outlinewidth": 0,
              "ticks": ""
             }
            },
            "type": "scatterpolar"
           }
          ],
          "scatterpolargl": [
           {
            "marker": {
             "colorbar": {
              "outlinewidth": 0,
              "ticks": ""
             }
            },
            "type": "scatterpolargl"
           }
          ],
          "scatterternary": [
           {
            "marker": {
             "colorbar": {
              "outlinewidth": 0,
              "ticks": ""
             }
            },
            "type": "scatterternary"
           }
          ],
          "surface": [
           {
            "colorbar": {
             "outlinewidth": 0,
             "ticks": ""
            },
            "colorscale": [
             [
              0,
              "#0d0887"
             ],
             [
              0.1111111111111111,
              "#46039f"
             ],
             [
              0.2222222222222222,
              "#7201a8"
             ],
             [
              0.3333333333333333,
              "#9c179e"
             ],
             [
              0.4444444444444444,
              "#bd3786"
             ],
             [
              0.5555555555555556,
              "#d8576b"
             ],
             [
              0.6666666666666666,
              "#ed7953"
             ],
             [
              0.7777777777777778,
              "#fb9f3a"
             ],
             [
              0.8888888888888888,
              "#fdca26"
             ],
             [
              1,
              "#f0f921"
             ]
            ],
            "type": "surface"
           }
          ],
          "table": [
           {
            "cells": {
             "fill": {
              "color": "#EBF0F8"
             },
             "line": {
              "color": "white"
             }
            },
            "header": {
             "fill": {
              "color": "#C8D4E3"
             },
             "line": {
              "color": "white"
             }
            },
            "type": "table"
           }
          ]
         },
         "layout": {
          "annotationdefaults": {
           "arrowcolor": "#2a3f5f",
           "arrowhead": 0,
           "arrowwidth": 1
          },
          "coloraxis": {
           "colorbar": {
            "outlinewidth": 0,
            "ticks": ""
           }
          },
          "colorscale": {
           "diverging": [
            [
             0,
             "#8e0152"
            ],
            [
             0.1,
             "#c51b7d"
            ],
            [
             0.2,
             "#de77ae"
            ],
            [
             0.3,
             "#f1b6da"
            ],
            [
             0.4,
             "#fde0ef"
            ],
            [
             0.5,
             "#f7f7f7"
            ],
            [
             0.6,
             "#e6f5d0"
            ],
            [
             0.7,
             "#b8e186"
            ],
            [
             0.8,
             "#7fbc41"
            ],
            [
             0.9,
             "#4d9221"
            ],
            [
             1,
             "#276419"
            ]
           ],
           "sequential": [
            [
             0,
             "#0d0887"
            ],
            [
             0.1111111111111111,
             "#46039f"
            ],
            [
             0.2222222222222222,
             "#7201a8"
            ],
            [
             0.3333333333333333,
             "#9c179e"
            ],
            [
             0.4444444444444444,
             "#bd3786"
            ],
            [
             0.5555555555555556,
             "#d8576b"
            ],
            [
             0.6666666666666666,
             "#ed7953"
            ],
            [
             0.7777777777777778,
             "#fb9f3a"
            ],
            [
             0.8888888888888888,
             "#fdca26"
            ],
            [
             1,
             "#f0f921"
            ]
           ],
           "sequentialminus": [
            [
             0,
             "#0d0887"
            ],
            [
             0.1111111111111111,
             "#46039f"
            ],
            [
             0.2222222222222222,
             "#7201a8"
            ],
            [
             0.3333333333333333,
             "#9c179e"
            ],
            [
             0.4444444444444444,
             "#bd3786"
            ],
            [
             0.5555555555555556,
             "#d8576b"
            ],
            [
             0.6666666666666666,
             "#ed7953"
            ],
            [
             0.7777777777777778,
             "#fb9f3a"
            ],
            [
             0.8888888888888888,
             "#fdca26"
            ],
            [
             1,
             "#f0f921"
            ]
           ]
          },
          "colorway": [
           "#636efa",
           "#EF553B",
           "#00cc96",
           "#ab63fa",
           "#FFA15A",
           "#19d3f3",
           "#FF6692",
           "#B6E880",
           "#FF97FF",
           "#FECB52"
          ],
          "font": {
           "color": "#2a3f5f"
          },
          "geo": {
           "bgcolor": "white",
           "lakecolor": "white",
           "landcolor": "#E5ECF6",
           "showlakes": true,
           "showland": true,
           "subunitcolor": "white"
          },
          "hoverlabel": {
           "align": "left"
          },
          "hovermode": "closest",
          "mapbox": {
           "style": "light"
          },
          "paper_bgcolor": "white",
          "plot_bgcolor": "#E5ECF6",
          "polar": {
           "angularaxis": {
            "gridcolor": "white",
            "linecolor": "white",
            "ticks": ""
           },
           "bgcolor": "#E5ECF6",
           "radialaxis": {
            "gridcolor": "white",
            "linecolor": "white",
            "ticks": ""
           }
          },
          "scene": {
           "xaxis": {
            "backgroundcolor": "#E5ECF6",
            "gridcolor": "white",
            "gridwidth": 2,
            "linecolor": "white",
            "showbackground": true,
            "ticks": "",
            "zerolinecolor": "white"
           },
           "yaxis": {
            "backgroundcolor": "#E5ECF6",
            "gridcolor": "white",
            "gridwidth": 2,
            "linecolor": "white",
            "showbackground": true,
            "ticks": "",
            "zerolinecolor": "white"
           },
           "zaxis": {
            "backgroundcolor": "#E5ECF6",
            "gridcolor": "white",
            "gridwidth": 2,
            "linecolor": "white",
            "showbackground": true,
            "ticks": "",
            "zerolinecolor": "white"
           }
          },
          "shapedefaults": {
           "line": {
            "color": "#2a3f5f"
           }
          },
          "ternary": {
           "aaxis": {
            "gridcolor": "white",
            "linecolor": "white",
            "ticks": ""
           },
           "baxis": {
            "gridcolor": "white",
            "linecolor": "white",
            "ticks": ""
           },
           "bgcolor": "#E5ECF6",
           "caxis": {
            "gridcolor": "white",
            "linecolor": "white",
            "ticks": ""
           }
          },
          "title": {
           "x": 0.05
          },
          "xaxis": {
           "automargin": true,
           "gridcolor": "white",
           "linecolor": "white",
           "ticks": "",
           "title": {
            "standoff": 15
           },
           "zerolinecolor": "white",
           "zerolinewidth": 2
          },
          "yaxis": {
           "automargin": true,
           "gridcolor": "white",
           "linecolor": "white",
           "ticks": "",
           "title": {
            "standoff": 15
           },
           "zerolinecolor": "white",
           "zerolinewidth": 2
          }
         }
        },
        "xaxis": {
         "anchor": "y",
         "categoryarray": [
          "Asia",
          "Europe",
          "Africa",
          "North America",
          "South America",
          "Oceania"
         ],
         "categoryorder": "array",
         "domain": [
          0,
          1
         ],
         "title": {
          "text": "Continent"
         }
        },
        "yaxis": {
         "anchor": "x",
         "domain": [
          0,
          1
         ],
         "title": {
          "text": "Total Deaths Per Million"
         }
        }
       }
      },
      "text/html": [
       "<div>\n",
       "        \n",
       "        \n",
       "            <div id=\"818cccc5-1706-4187-a40c-3d5e06907d06\" class=\"plotly-graph-div\" style=\"height:525px; width:100%;\"></div>\n",
       "            <script type=\"text/javascript\">\n",
       "                require([\"plotly\"], function(Plotly) {\n",
       "                    window.PLOTLYENV=window.PLOTLYENV || {};\n",
       "                    \n",
       "                if (document.getElementById(\"818cccc5-1706-4187-a40c-3d5e06907d06\")) {\n",
       "                    Plotly.newPlot(\n",
       "                        '818cccc5-1706-4187-a40c-3d5e06907d06',\n",
       "                        [{\"alignmentgroup\": \"True\", \"hovertemplate\": \"<b>%{hovertext}</b><br><br>Continent=%{x}<br>Total Deaths Per Million=%{y}<extra></extra>\", \"hovertext\": [\"Afghanistan\", \"Armenia\", \"Azerbaijan\", \"Bahrain\", \"Bangladesh\", \"Bhutan\", \"Cambodia\", \"China\", \"Georgia\", \"India\", \"Indonesia\", \"Iraq\", \"Israel\", \"Japan\", \"Jordan\", \"Kazakhstan\", \"Kuwait\", \"Lebanon\", \"Malaysia\", \"Maldives\", \"Mongolia\", \"Myanmar\", \"Nepal\", \"Oman\", \"Pakistan\", \"Philippines\", \"Qatar\", \"Saudi Arabia\", \"Singapore\", \"Sri Lanka\", \"Tajikistan\", \"Thailand\", \"Turkey\", \"United Arab Emirates\", \"Uzbekistan\", \"Vietnam\"], \"legendgroup\": \"Asia\", \"marker\": {\"color\": \"#636efa\"}, \"name\": \"Asia\", \"notched\": false, \"offsetgroup\": \"Asia\", \"orientation\": \"v\", \"showlegend\": true, \"type\": \"box\", \"x\": [\"Asia\", \"Asia\", \"Asia\", \"Asia\", \"Asia\", \"Asia\", \"Asia\", \"Asia\", \"Asia\", \"Asia\", \"Asia\", \"Asia\", \"Asia\", \"Asia\", \"Asia\", \"Asia\", \"Asia\", \"Asia\", \"Asia\", \"Asia\", \"Asia\", \"Asia\", \"Asia\", \"Asia\", \"Asia\", \"Asia\", \"Asia\", \"Asia\", \"Asia\", \"Asia\", \"Asia\", \"Asia\", \"Asia\", \"Asia\", \"Asia\", \"Asia\"], \"x0\": \" \", \"xaxis\": \"x\", \"y\": [14.925, 121.48899999999999, 15.189, 37.024, 8.889, 0.0, 0.0, 3.2230000000000003, 3.509, 9.927, 9.012, 27.348000000000003, 35.353, 7.535, 0.882, 6.391, 76.337, 4.688, 3.738, 14.8, 0.0, 0.11, 0.789, 25.653000000000002, 16.252, 10.668, 34.015, 36.394, 4.444, 0.514, 5.452000000000001, 0.831, 58.692, 30.535, 0.568, 0.0], \"y0\": \" \", \"yaxis\": \"y\"}, {\"alignmentgroup\": \"True\", \"hovertemplate\": \"<b>%{hovertext}</b><br><br>Continent=%{x}<br>Total Deaths Per Million=%{y}<extra></extra>\", \"hovertext\": [\"Albania\", \"Austria\", \"Belarus\", \"Belgium\", \"Bosnia and Herzegovina\", \"Bulgaria\", \"Croatia\", \"Cyprus\", \"Czech Republic\", \"Denmark\", \"Estonia\", \"Finland\", \"France\", \"Germany\", \"Greece\", \"Hungary\", \"Iceland\", \"Ireland\", \"Italy\", \"Latvia\", \"Lithuania\", \"Luxembourg\", \"Malta\", \"Moldova\", \"Montenegro\", \"Netherlands\", \"Norway\", \"Poland\", \"Portugal\", \"Romania\", \"San Marino\", \"Serbia\", \"Slovenia\", \"Spain\", \"Sweden\", \"Switzerland\", \"Ukraine\", \"United Kingdom\"], \"legendgroup\": \"Europe\", \"marker\": {\"color\": \"#EF553B\"}, \"name\": \"Europe\", \"notched\": false, \"offsetgroup\": \"Europe\", \"orientation\": \"v\", \"showlegend\": true, \"type\": \"box\", \"x\": [\"Europe\", \"Europe\", \"Europe\", \"Europe\", \"Europe\", \"Europe\", \"Europe\", \"Europe\", \"Europe\", \"Europe\", \"Europe\", \"Europe\", \"Europe\", \"Europe\", \"Europe\", \"Europe\", \"Europe\", \"Europe\", \"Europe\", \"Europe\", \"Europe\", \"Europe\", \"Europe\", \"Europe\", \"Europe\", \"Europe\", \"Europe\", \"Europe\", \"Europe\", \"Europe\", \"Europe\", \"Europe\", \"Europe\", \"Europe\", \"Europe\", \"Europe\", \"Europe\", \"Europe\"], \"x0\": \" \", \"xaxis\": \"x\", \"y\": [15.289000000000001, 76.612, 36.616, 836.6110000000001, 51.512, 28.64, 26.064, 21.691999999999997, 31.375999999999998, 103.588, 52.015, 58.836999999999996, 454.089, 106.04700000000001, 18.229, 59.211000000000006, 29.304000000000002, 347.32099999999997, 572.8240000000001, 15.905, 27.918000000000003, 175.726, 20.383, 117.25399999999999, 14.33, 355.416, 45.008, 35.829, 150.048, 78.596, 1237.5510000000002, 38.356, 52.431000000000004, 614.953, 500.333, 194.11599999999999, 22.910999999999998, 627.994], \"y0\": \" \", \"yaxis\": \"y\"}, {\"alignmentgroup\": \"True\", \"hovertemplate\": \"<b>%{hovertext}</b><br><br>Continent=%{x}<br>Total Deaths Per Million=%{y}<extra></extra>\", \"hovertext\": [\"Algeria\", \"Angola\", \"Benin\", \"Botswana\", \"Burkina Faso\", \"Burundi\", \"Cameroon\", \"Central African Republic\", \"Chad\", \"Cote d'Ivoire\", \"Djibouti\", \"Equatorial Guinea\", \"Eritrea\", \"Ethiopia\", \"Gabon\", \"Ghana\", \"Guinea\", \"Guinea-Bissau\", \"Kenya\", \"Lesotho\", \"Liberia\", \"Libya\", \"Madagascar\", \"Malawi\", \"Mali\", \"Mauritania\", \"Mauritius\", \"Morocco\", \"Mozambique\", \"Namibia\", \"Niger\", \"Nigeria\", \"Rwanda\", \"Sao Tome and Principe\", \"Senegal\", \"Seychelles\", \"Sierra Leone\", \"South Africa\", \"Sudan\", \"Tanzania\", \"Togo\", \"Tunisia\", \"Uganda\", \"Zambia\", \"Zimbabwe\"], \"legendgroup\": \"Africa\", \"marker\": {\"color\": \"#00cc96\"}, \"name\": \"Africa\", \"notched\": false, \"offsetgroup\": \"Africa\", \"orientation\": \"v\", \"showlegend\": true, \"type\": \"box\", \"x\": [\"Africa\", \"Africa\", \"Africa\", \"Africa\", \"Africa\", \"Africa\", \"Africa\", \"Africa\", \"Africa\", \"Africa\", \"Africa\", \"Africa\", \"Africa\", \"Africa\", \"Africa\", \"Africa\", \"Africa\", \"Africa\", \"Africa\", \"Africa\", \"Africa\", \"Africa\", \"Africa\", \"Africa\", \"Africa\", \"Africa\", \"Africa\", \"Africa\", \"Africa\", \"Africa\", \"Africa\", \"Africa\", \"Africa\", \"Africa\", \"Africa\", \"Africa\", \"Africa\", \"Africa\", \"Africa\", \"Africa\", \"Africa\", \"Africa\", \"Africa\", \"Africa\", \"Africa\"], \"x0\": \" \", \"xaxis\": \"x\", \"y\": [19.27, 0.27399999999999997, 1.072, 0.425, 2.535, 0.084, 11.339, 4.762, 4.505, 1.933, 45.54600000000001, 22.809, 0.0, 0.644, 15.276, 2.735, 2.056, 8.638, 2.287, 0.0, 6.722, 1.455, 0.506, 0.575, 5.481, 23.228, 7.8629999999999995, 5.797999999999999, 0.16, 0.0, 2.7680000000000002, 2.513, 0.154, 54.754, 5.0169999999999995, 0.0, 6.895, 32.542, 11.882, 0.35200000000000004, 1.57, 4.231, 0.0, 0.598, 0.40399999999999997], \"y0\": \" \", \"yaxis\": \"y\"}, {\"alignmentgroup\": \"True\", \"hovertemplate\": \"<b>%{hovertext}</b><br><br>Continent=%{x}<br>Total Deaths Per Million=%{y}<extra></extra>\", \"hovertext\": [\"Antigua and Barbuda\", \"Aruba\", \"Barbados\", \"Belize\", \"Bermuda\", \"Canada\", \"Cayman Islands\", \"Costa Rica\", \"Dominica\", \"Dominican Republic\", \"El Salvador\", \"Grenada\", \"Guatemala\", \"Haiti\", \"Honduras\", \"Jamaica\", \"Mexico\", \"Nicaragua\", \"Panama\", \"Puerto Rico\", \"Sint Maarten (Dutch part)\", \"Trinidad and Tobago\", \"United States\"], \"legendgroup\": \"North America\", \"marker\": {\"color\": \"#ab63fa\"}, \"name\": \"North America\", \"notched\": false, \"offsetgroup\": \"North America\", \"orientation\": \"v\", \"showlegend\": true, \"type\": \"box\", \"x\": [\"North America\", \"North America\", \"North America\", \"North America\", \"North America\", \"North America\", \"North America\", \"North America\", \"North America\", \"North America\", \"North America\", \"North America\", \"North America\", \"North America\", \"North America\", \"North America\", \"North America\", \"North America\", \"North America\", \"North America\", \"North America\", \"North America\", \"North America\"], \"x0\": \" \", \"xaxis\": \"x\", \"y\": [30.635, 28.099, 24.359, 5.03, 144.525, 223.358, 15.216, 2.356, 0.0, 61.026, 16.497, 0.0, 29.639, 7.718, 36.65, 3.377, 169.274, 9.661, 116.113, 52.083, 349.79699999999997, 5.716, 362.459], \"y0\": \" \", \"yaxis\": \"y\"}, {\"alignmentgroup\": \"True\", \"hovertemplate\": \"<b>%{hovertext}</b><br><br>Continent=%{x}<br>Total Deaths Per Million=%{y}<extra></extra>\", \"hovertext\": [\"Argentina\", \"Bolivia\", \"Brazil\", \"Chile\", \"Colombia\", \"Ecuador\", \"Guyana\", \"Paraguay\", \"Peru\", \"Suriname\", \"Uruguay\"], \"legendgroup\": \"South America\", \"marker\": {\"color\": \"#FFA15A\"}, \"name\": \"South America\", \"notched\": false, \"offsetgroup\": \"South America\", \"orientation\": \"v\", \"showlegend\": true, \"type\": \"box\", \"x\": [\"South America\", \"South America\", \"South America\", \"South America\", \"South America\", \"South America\", \"South America\", \"South America\", \"South America\", \"South America\", \"South America\"], \"x0\": \" \", \"xaxis\": \"x\", \"y\": [22.369, 66.221, 238.13099999999997, 234.304, 43.964, 239.358, 15.255999999999998, 1.8230000000000002, 243.99599999999998, 13.637, 7.197], \"y0\": \" \", \"yaxis\": \"y\"}, {\"alignmentgroup\": \"True\", \"hovertemplate\": \"<b>%{hovertext}</b><br><br>Continent=%{x}<br>Total Deaths Per Million=%{y}<extra></extra>\", \"hovertext\": [\"Australia\", \"Fiji\", \"New Zealand\", \"Papua New Guinea\"], \"legendgroup\": \"Oceania\", \"marker\": {\"color\": \"#19d3f3\"}, \"name\": \"Oceania\", \"notched\": false, \"offsetgroup\": \"Oceania\", \"orientation\": \"v\", \"showlegend\": true, \"type\": \"box\", \"x\": [\"Oceania\", \"Oceania\", \"Oceania\", \"Oceania\"], \"x0\": \" \", \"xaxis\": \"x\", \"y\": [4.0, 0.0, 4.562, 0.0], \"y0\": \" \", \"yaxis\": \"y\"}],\n",
       "                        {\"boxmode\": \"overlay\", \"legend\": {\"title\": {\"text\": \"Continent\"}, \"tracegroupgap\": 0}, \"margin\": {\"t\": 60}, \"template\": {\"data\": {\"bar\": [{\"error_x\": {\"color\": \"#2a3f5f\"}, \"error_y\": {\"color\": \"#2a3f5f\"}, \"marker\": {\"line\": {\"color\": \"#E5ECF6\", \"width\": 0.5}}, \"type\": \"bar\"}], \"barpolar\": [{\"marker\": {\"line\": {\"color\": \"#E5ECF6\", \"width\": 0.5}}, \"type\": \"barpolar\"}], \"carpet\": [{\"aaxis\": {\"endlinecolor\": \"#2a3f5f\", \"gridcolor\": \"white\", \"linecolor\": \"white\", \"minorgridcolor\": \"white\", \"startlinecolor\": \"#2a3f5f\"}, \"baxis\": {\"endlinecolor\": \"#2a3f5f\", \"gridcolor\": \"white\", \"linecolor\": \"white\", \"minorgridcolor\": \"white\", \"startlinecolor\": \"#2a3f5f\"}, \"type\": \"carpet\"}], \"choropleth\": [{\"colorbar\": {\"outlinewidth\": 0, \"ticks\": \"\"}, \"type\": \"choropleth\"}], \"contour\": [{\"colorbar\": {\"outlinewidth\": 0, \"ticks\": \"\"}, \"colorscale\": [[0.0, \"#0d0887\"], [0.1111111111111111, \"#46039f\"], [0.2222222222222222, \"#7201a8\"], [0.3333333333333333, \"#9c179e\"], [0.4444444444444444, \"#bd3786\"], [0.5555555555555556, \"#d8576b\"], [0.6666666666666666, \"#ed7953\"], [0.7777777777777778, \"#fb9f3a\"], [0.8888888888888888, \"#fdca26\"], [1.0, \"#f0f921\"]], \"type\": \"contour\"}], \"contourcarpet\": [{\"colorbar\": {\"outlinewidth\": 0, \"ticks\": \"\"}, \"type\": \"contourcarpet\"}], \"heatmap\": [{\"colorbar\": {\"outlinewidth\": 0, \"ticks\": \"\"}, \"colorscale\": [[0.0, \"#0d0887\"], [0.1111111111111111, \"#46039f\"], [0.2222222222222222, \"#7201a8\"], [0.3333333333333333, \"#9c179e\"], [0.4444444444444444, \"#bd3786\"], [0.5555555555555556, \"#d8576b\"], [0.6666666666666666, \"#ed7953\"], [0.7777777777777778, \"#fb9f3a\"], [0.8888888888888888, \"#fdca26\"], [1.0, \"#f0f921\"]], \"type\": \"heatmap\"}], \"heatmapgl\": [{\"colorbar\": {\"outlinewidth\": 0, \"ticks\": \"\"}, \"colorscale\": [[0.0, \"#0d0887\"], [0.1111111111111111, \"#46039f\"], [0.2222222222222222, \"#7201a8\"], [0.3333333333333333, \"#9c179e\"], [0.4444444444444444, \"#bd3786\"], [0.5555555555555556, \"#d8576b\"], [0.6666666666666666, \"#ed7953\"], [0.7777777777777778, \"#fb9f3a\"], [0.8888888888888888, \"#fdca26\"], [1.0, \"#f0f921\"]], \"type\": \"heatmapgl\"}], \"histogram\": [{\"marker\": {\"colorbar\": {\"outlinewidth\": 0, \"ticks\": \"\"}}, \"type\": \"histogram\"}], \"histogram2d\": [{\"colorbar\": {\"outlinewidth\": 0, \"ticks\": \"\"}, \"colorscale\": [[0.0, \"#0d0887\"], [0.1111111111111111, \"#46039f\"], [0.2222222222222222, \"#7201a8\"], [0.3333333333333333, \"#9c179e\"], [0.4444444444444444, \"#bd3786\"], [0.5555555555555556, \"#d8576b\"], [0.6666666666666666, \"#ed7953\"], [0.7777777777777778, \"#fb9f3a\"], [0.8888888888888888, \"#fdca26\"], [1.0, \"#f0f921\"]], \"type\": \"histogram2d\"}], \"histogram2dcontour\": [{\"colorbar\": {\"outlinewidth\": 0, \"ticks\": \"\"}, \"colorscale\": [[0.0, \"#0d0887\"], [0.1111111111111111, \"#46039f\"], [0.2222222222222222, \"#7201a8\"], [0.3333333333333333, \"#9c179e\"], [0.4444444444444444, \"#bd3786\"], [0.5555555555555556, \"#d8576b\"], [0.6666666666666666, \"#ed7953\"], [0.7777777777777778, \"#fb9f3a\"], [0.8888888888888888, \"#fdca26\"], [1.0, \"#f0f921\"]], \"type\": \"histogram2dcontour\"}], \"mesh3d\": [{\"colorbar\": {\"outlinewidth\": 0, \"ticks\": \"\"}, \"type\": \"mesh3d\"}], \"parcoords\": [{\"line\": {\"colorbar\": {\"outlinewidth\": 0, \"ticks\": \"\"}}, \"type\": \"parcoords\"}], \"pie\": [{\"automargin\": true, \"type\": \"pie\"}], \"scatter\": [{\"marker\": {\"colorbar\": {\"outlinewidth\": 0, \"ticks\": \"\"}}, \"type\": \"scatter\"}], \"scatter3d\": [{\"line\": {\"colorbar\": {\"outlinewidth\": 0, \"ticks\": \"\"}}, \"marker\": {\"colorbar\": {\"outlinewidth\": 0, \"ticks\": \"\"}}, \"type\": \"scatter3d\"}], \"scattercarpet\": [{\"marker\": {\"colorbar\": {\"outlinewidth\": 0, \"ticks\": \"\"}}, \"type\": \"scattercarpet\"}], \"scattergeo\": [{\"marker\": {\"colorbar\": {\"outlinewidth\": 0, \"ticks\": \"\"}}, \"type\": \"scattergeo\"}], \"scattergl\": [{\"marker\": {\"colorbar\": {\"outlinewidth\": 0, \"ticks\": \"\"}}, \"type\": \"scattergl\"}], \"scattermapbox\": [{\"marker\": {\"colorbar\": {\"outlinewidth\": 0, \"ticks\": \"\"}}, \"type\": \"scattermapbox\"}], \"scatterpolar\": [{\"marker\": {\"colorbar\": {\"outlinewidth\": 0, \"ticks\": \"\"}}, \"type\": \"scatterpolar\"}], \"scatterpolargl\": [{\"marker\": {\"colorbar\": {\"outlinewidth\": 0, \"ticks\": \"\"}}, \"type\": \"scatterpolargl\"}], \"scatterternary\": [{\"marker\": {\"colorbar\": {\"outlinewidth\": 0, \"ticks\": \"\"}}, \"type\": \"scatterternary\"}], \"surface\": [{\"colorbar\": {\"outlinewidth\": 0, \"ticks\": \"\"}, \"colorscale\": [[0.0, \"#0d0887\"], [0.1111111111111111, \"#46039f\"], [0.2222222222222222, \"#7201a8\"], [0.3333333333333333, \"#9c179e\"], [0.4444444444444444, \"#bd3786\"], [0.5555555555555556, \"#d8576b\"], [0.6666666666666666, \"#ed7953\"], [0.7777777777777778, \"#fb9f3a\"], [0.8888888888888888, \"#fdca26\"], [1.0, \"#f0f921\"]], \"type\": \"surface\"}], \"table\": [{\"cells\": {\"fill\": {\"color\": \"#EBF0F8\"}, \"line\": {\"color\": \"white\"}}, \"header\": {\"fill\": {\"color\": \"#C8D4E3\"}, \"line\": {\"color\": \"white\"}}, \"type\": \"table\"}]}, \"layout\": {\"annotationdefaults\": {\"arrowcolor\": \"#2a3f5f\", \"arrowhead\": 0, \"arrowwidth\": 1}, \"coloraxis\": {\"colorbar\": {\"outlinewidth\": 0, \"ticks\": \"\"}}, \"colorscale\": {\"diverging\": [[0, \"#8e0152\"], [0.1, \"#c51b7d\"], [0.2, \"#de77ae\"], [0.3, \"#f1b6da\"], [0.4, \"#fde0ef\"], [0.5, \"#f7f7f7\"], [0.6, \"#e6f5d0\"], [0.7, \"#b8e186\"], [0.8, \"#7fbc41\"], [0.9, \"#4d9221\"], [1, \"#276419\"]], \"sequential\": [[0.0, \"#0d0887\"], [0.1111111111111111, \"#46039f\"], [0.2222222222222222, \"#7201a8\"], [0.3333333333333333, \"#9c179e\"], [0.4444444444444444, \"#bd3786\"], [0.5555555555555556, \"#d8576b\"], [0.6666666666666666, \"#ed7953\"], [0.7777777777777778, \"#fb9f3a\"], [0.8888888888888888, \"#fdca26\"], [1.0, \"#f0f921\"]], \"sequentialminus\": [[0.0, \"#0d0887\"], [0.1111111111111111, \"#46039f\"], [0.2222222222222222, \"#7201a8\"], [0.3333333333333333, \"#9c179e\"], [0.4444444444444444, \"#bd3786\"], [0.5555555555555556, \"#d8576b\"], [0.6666666666666666, \"#ed7953\"], [0.7777777777777778, \"#fb9f3a\"], [0.8888888888888888, \"#fdca26\"], [1.0, \"#f0f921\"]]}, \"colorway\": [\"#636efa\", \"#EF553B\", \"#00cc96\", \"#ab63fa\", \"#FFA15A\", \"#19d3f3\", \"#FF6692\", \"#B6E880\", \"#FF97FF\", \"#FECB52\"], \"font\": {\"color\": \"#2a3f5f\"}, \"geo\": {\"bgcolor\": \"white\", \"lakecolor\": \"white\", \"landcolor\": \"#E5ECF6\", \"showlakes\": true, \"showland\": true, \"subunitcolor\": \"white\"}, \"hoverlabel\": {\"align\": \"left\"}, \"hovermode\": \"closest\", \"mapbox\": {\"style\": \"light\"}, \"paper_bgcolor\": \"white\", \"plot_bgcolor\": \"#E5ECF6\", \"polar\": {\"angularaxis\": {\"gridcolor\": \"white\", \"linecolor\": \"white\", \"ticks\": \"\"}, \"bgcolor\": \"#E5ECF6\", \"radialaxis\": {\"gridcolor\": \"white\", \"linecolor\": \"white\", \"ticks\": \"\"}}, \"scene\": {\"xaxis\": {\"backgroundcolor\": \"#E5ECF6\", \"gridcolor\": \"white\", \"gridwidth\": 2, \"linecolor\": \"white\", \"showbackground\": true, \"ticks\": \"\", \"zerolinecolor\": \"white\"}, \"yaxis\": {\"backgroundcolor\": \"#E5ECF6\", \"gridcolor\": \"white\", \"gridwidth\": 2, \"linecolor\": \"white\", \"showbackground\": true, \"ticks\": \"\", \"zerolinecolor\": \"white\"}, \"zaxis\": {\"backgroundcolor\": \"#E5ECF6\", \"gridcolor\": \"white\", \"gridwidth\": 2, \"linecolor\": \"white\", \"showbackground\": true, \"ticks\": \"\", \"zerolinecolor\": \"white\"}}, \"shapedefaults\": {\"line\": {\"color\": \"#2a3f5f\"}}, \"ternary\": {\"aaxis\": {\"gridcolor\": \"white\", \"linecolor\": \"white\", \"ticks\": \"\"}, \"baxis\": {\"gridcolor\": \"white\", \"linecolor\": \"white\", \"ticks\": \"\"}, \"bgcolor\": \"#E5ECF6\", \"caxis\": {\"gridcolor\": \"white\", \"linecolor\": \"white\", \"ticks\": \"\"}}, \"title\": {\"x\": 0.05}, \"xaxis\": {\"automargin\": true, \"gridcolor\": \"white\", \"linecolor\": \"white\", \"ticks\": \"\", \"title\": {\"standoff\": 15}, \"zerolinecolor\": \"white\", \"zerolinewidth\": 2}, \"yaxis\": {\"automargin\": true, \"gridcolor\": \"white\", \"linecolor\": \"white\", \"ticks\": \"\", \"title\": {\"standoff\": 15}, \"zerolinecolor\": \"white\", \"zerolinewidth\": 2}}}, \"xaxis\": {\"anchor\": \"y\", \"categoryarray\": [\"Asia\", \"Europe\", \"Africa\", \"North America\", \"South America\", \"Oceania\"], \"categoryorder\": \"array\", \"domain\": [0.0, 1.0], \"title\": {\"text\": \"Continent\"}}, \"yaxis\": {\"anchor\": \"x\", \"domain\": [0.0, 1.0], \"title\": {\"text\": \"Total Deaths Per Million\"}}},\n",
       "                        {\"responsive\": true}\n",
       "                    ).then(function(){\n",
       "                            \n",
       "var gd = document.getElementById('818cccc5-1706-4187-a40c-3d5e06907d06');\n",
       "var x = new MutationObserver(function (mutations, observer) {{\n",
       "        var display = window.getComputedStyle(gd).display;\n",
       "        if (!display || display === 'none') {{\n",
       "            console.log([gd, 'removed!']);\n",
       "            Plotly.purge(gd);\n",
       "            observer.disconnect();\n",
       "        }}\n",
       "}});\n",
       "\n",
       "// Listen for the removal of the full notebook cells\n",
       "var notebookContainer = gd.closest('#notebook-container');\n",
       "if (notebookContainer) {{\n",
       "    x.observe(notebookContainer, {childList: true});\n",
       "}}\n",
       "\n",
       "// Listen for the clearing of the current output cell\n",
       "var outputEl = gd.closest('.output');\n",
       "if (outputEl) {{\n",
       "    x.observe(outputEl, {childList: true});\n",
       "}}\n",
       "\n",
       "                        })\n",
       "                };\n",
       "                });\n",
       "            </script>\n",
       "        </div>"
      ]
     },
     "metadata": {},
     "output_type": "display_data"
    }
   ],
   "source": [
    "df = max_combined_country_clean\n",
    "fig = px.box(df, x=\"Continent\", y=\"Total Deaths Per Million\", hover_name= \"Country\"\n",
    "             , color= \"Continent\"\n",
    "            )\n",
    "fig.show()\n",
    "quartilesm = max_combined_country_clean['Total Deaths Per Million'].quantile([.25,.5,.75])\n",
    "lowerqm = quartilesm[0.25]\n",
    "upperqm = quartilesm[0.75]\n",
    "iqrm = upperqm-lowerqm\n",
    "\n",
    "lower_boundm = lowerqm - (1.5*iqrm)\n",
    "upper_boundm = upperqm + (1.5*iqrm)\n",
    "\n",
    "quartilestm1 = max_combined_country_clean['Population Density'].quantile([.25,.5,.75])\n",
    "lowerqm1 = quartilestm1[0.25]\n",
    "upperqm1 = quartilestm1[0.75]\n",
    "iqrm1 = upperqm1-lowerqm1\n",
    "\n",
    "lower_boundmm1 = lowerqm1 - (1.5*iqrm1)\n",
    "upper_boundmm1 = upperqm1 + (1.5*iqrm1)"
   ]
  },
  {
   "cell_type": "code",
   "execution_count": null,
   "metadata": {},
   "outputs": [],
   "source": []
  }
 ],
 "metadata": {
  "kernelspec": {
   "display_name": "Python 3",
   "language": "python",
   "name": "python3"
  },
  "language_info": {
   "codemirror_mode": {
    "name": "ipython",
    "version": 3
   },
   "file_extension": ".py",
   "mimetype": "text/x-python",
   "name": "python",
   "nbconvert_exporter": "python",
   "pygments_lexer": "ipython3",
   "version": "3.7.6"
  }
 },
 "nbformat": 4,
 "nbformat_minor": 4
}
